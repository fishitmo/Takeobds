{
  "cells": [
    {
      "cell_type": "markdown",
      "metadata": {
        "id": "view-in-github",
        "colab_type": "text"
      },
      "source": [
        "<a href=\"https://colab.research.google.com/github/fishitmo/Takeobds/blob/main/TAkeo_pytthon_practice.ipynb\" target=\"_parent\"><img src=\"https://colab.research.google.com/assets/colab-badge.svg\" alt=\"Open In Colab\"/></a>"
      ]
    },
    {
      "cell_type": "code",
      "execution_count": null,
      "metadata": {
        "colab": {
          "base_uri": "https://localhost:8080/"
        },
        "id": "JLNAww7oF0_w",
        "outputId": "964e769e-a5ee-4cb3-af20-a763c19fc3b2"
      },
      "outputs": [
        {
          "output_type": "stream",
          "name": "stdout",
          "text": [
            "a<b\n"
          ]
        }
      ],
      "source": [
        "a = 20\n",
        "b= 45\n",
        "c= 5\n",
        "\n",
        "if a < b:\n",
        "  print(\"a<b\")\n",
        "elif b<c:\n",
        "  print(\"b<c\")\n",
        "elif a<c:\n",
        "  print(\"a<c\")\n",
        "else:\n",
        "  print('we are in else part')"
      ]
    },
    {
      "cell_type": "code",
      "source": [],
      "metadata": {
        "id": "iOCC-6edCmaY"
      },
      "execution_count": null,
      "outputs": []
    },
    {
      "cell_type": "code",
      "execution_count": null,
      "metadata": {
        "id": "V269H_oRNFZz"
      },
      "outputs": [],
      "source": []
    },
    {
      "cell_type": "code",
      "execution_count": null,
      "metadata": {
        "colab": {
          "base_uri": "https://localhost:8080/"
        },
        "id": "xHUMpTZVHuTL",
        "outputId": "bedf8872-4f54-4529-dc04-0ff522f8995b"
      },
      "outputs": [
        {
          "output_type": "stream",
          "name": "stdout",
          "text": [
            "a<100\n",
            "else a >85\n"
          ]
        }
      ],
      "source": [
        "a= 90\n",
        "\n",
        "if a< 100:\n",
        "  print('a<100')\n",
        "  if a < 85:\n",
        "    print('a,85')\n",
        "    if a < 70:\n",
        "      print('a<70')\n",
        "      if a<55:\n",
        "        print('a<55')\n",
        "      else:\n",
        "        print('else a>55')\n",
        "    else:\n",
        "       print('else a>70')\n",
        "  else:\n",
        "    print(\"else a >85\")\n",
        "else:\n",
        "  print(\"else a>100\")\n"
      ]
    },
    {
      "cell_type": "code",
      "execution_count": null,
      "metadata": {
        "colab": {
          "base_uri": "https://localhost:8080/"
        },
        "id": "hlLNENJNNHQy",
        "outputId": "3c3c11cf-70ab-48b7-9511-be2d4d13f574"
      },
      "outputs": [
        {
          "output_type": "stream",
          "name": "stdout",
          "text": [
            "5050\n"
          ]
        }
      ],
      "source": [
        "a=0\n",
        "for i in range(1,101,1):\n",
        "  a += i\n",
        "print(a)"
      ]
    },
    {
      "cell_type": "code",
      "execution_count": null,
      "metadata": {
        "colab": {
          "base_uri": "https://localhost:8080/"
        },
        "id": "rtAmHRaYN6m7",
        "outputId": "a1c2b9d4-5578-4945-a3b1-35e58bc9388b"
      },
      "outputs": [
        {
          "output_type": "stream",
          "name": "stdout",
          "text": [
            "5050\n"
          ]
        }
      ],
      "source": [
        "a =0\n",
        "i = 1\n",
        "while i <= 100:\n",
        "\n",
        "     a +=i\n",
        "     i += 1\n",
        "print(a)"
      ]
    },
    {
      "cell_type": "markdown",
      "metadata": {
        "id": "bSH1hkYO2zF4"
      },
      "source": [
        "# Built in Functions of Python List Data Type"
      ]
    },
    {
      "cell_type": "code",
      "execution_count": null,
      "metadata": {
        "id": "MaBwYPOA2XyG"
      },
      "outputs": [],
      "source": [
        "lst1 = [\"Apple\", 'Banana', 'Cherrys', 'Orange', 'Pynaple','Honey-Fruit']"
      ]
    },
    {
      "cell_type": "code",
      "execution_count": null,
      "metadata": {
        "colab": {
          "base_uri": "https://localhost:8080/"
        },
        "id": "4yvh-5WSCFWI",
        "outputId": "f2d369de-9359-4e57-c8de-385124a94794"
      },
      "outputs": [
        {
          "output_type": "stream",
          "name": "stdout",
          "text": [
            "['Apple', 'Banana', 'Cherrys', 'Orange', 'Pynaple', 'Honey-Fruit'] <class 'list'>\n"
          ]
        }
      ],
      "source": [
        "print(lst1, type(lst1))"
      ]
    },
    {
      "cell_type": "code",
      "execution_count": null,
      "metadata": {
        "colab": {
          "base_uri": "https://localhost:8080/"
        },
        "id": "rPyChjJ8CPJJ",
        "outputId": "94ff1f77-0387-4520-e31c-a90652d81b2b"
      },
      "outputs": [
        {
          "output_type": "stream",
          "name": "stdout",
          "text": [
            "['Apple', 'Banana', 'Cherrys', 'Orange', 'Pynaple', 'Honey-Fruit']\n",
            "['Apple', 'Banana', 'Cherrys', 'Orange', 'Pynaple', 'Honey-Fruit', 'Mango']\n"
          ]
        }
      ],
      "source": [
        "print(lst1)\n",
        "lst1.append('Mango')\n",
        "print(lst1)"
      ]
    },
    {
      "cell_type": "code",
      "execution_count": null,
      "metadata": {
        "colab": {
          "base_uri": "https://localhost:8080/"
        },
        "id": "eOp6F4hnCYZk",
        "outputId": "2ee4ca47-6b51-4e35-d720-7f775d14837a"
      },
      "outputs": [
        {
          "output_type": "stream",
          "name": "stdout",
          "text": [
            "['Apple', 'Banana', 'Cherrys', 'Orange', 'Pynaple', 'Honey-Fruit', 'Mango']\n",
            "[]\n"
          ]
        }
      ],
      "source": [
        "print(lst1)\n",
        "lst1.clear()\n",
        "print(lst1)"
      ]
    },
    {
      "cell_type": "code",
      "execution_count": null,
      "metadata": {
        "colab": {
          "base_uri": "https://localhost:8080/"
        },
        "id": "cfrN3BAECsIt",
        "outputId": "56b5f85e-a7ca-437c-d5dc-2f6202194f9b"
      },
      "outputs": [
        {
          "output_type": "stream",
          "name": "stdout",
          "text": [
            "[]\n"
          ]
        }
      ],
      "source": [
        "print(lst1)"
      ]
    },
    {
      "cell_type": "code",
      "execution_count": null,
      "metadata": {
        "id": "24McCv83OJnZ"
      },
      "outputs": [],
      "source": [
        "lst1= [\"Mendefera\", \"Dekemhare\", \"Asmara\",\"Teseney\",\"Massawa\",\"Assab\",\"Keren\",\"Barentu\",\"Adi-Keihe\",\"Adi-Kuala\"]"
      ]
    },
    {
      "cell_type": "code",
      "execution_count": null,
      "metadata": {
        "colab": {
          "base_uri": "https://localhost:8080/"
        },
        "id": "bgR3dZspOssb",
        "outputId": "4b3597e5-2484-4c84-aa18-4e408f5a748b"
      },
      "outputs": [
        {
          "output_type": "stream",
          "name": "stdout",
          "text": [
            "['Mendefera', 'Dekemhare', 'Asmara', 'Teseney', 'Massawa', 'Assab', 'Keren', 'Barentu', 'Adi-Keihe', 'Adi-Kuala']\n",
            "['Mendefera', 'Dekemhare', 'Asmara', 'Teseney', 'Massawa', 'Assab', 'Keren', 'Barentu', 'Adi-Keihe', 'Adi-Kuala'] ['Mendefera', 'Dekemhare', 'Asmara', 'Teseney', 'Massawa', 'Assab', 'Keren', 'Barentu', 'Adi-Keihe', 'Adi-Kuala']\n"
          ]
        }
      ],
      "source": [
        "print(lst1)\n",
        "lst2= lst1.copy()\n",
        "print(lst1, lst2)"
      ]
    },
    {
      "cell_type": "code",
      "execution_count": null,
      "metadata": {
        "colab": {
          "base_uri": "https://localhost:8080/"
        },
        "id": "p2cpJGGjO4Qt",
        "outputId": "1187cd0c-f8ac-4027-e401-0eed9abc7bf4"
      },
      "outputs": [
        {
          "output_type": "stream",
          "name": "stdout",
          "text": [
            "['Mendefera', 'Dekemhare', 'Asmara', 'Teseney', 'Massawa', 'Assab', 'Keren', 'Barentu', 'Adi-Keihe', 'Adi-Kuala']\n"
          ]
        },
        {
          "output_type": "execute_result",
          "data": {
            "text/plain": [
              "1"
            ]
          },
          "metadata": {},
          "execution_count": 25
        }
      ],
      "source": [
        "print(lst1)\n",
        "lst1.count(\"Asmara\")"
      ]
    },
    {
      "cell_type": "code",
      "execution_count": null,
      "metadata": {
        "colab": {
          "base_uri": "https://localhost:8080/"
        },
        "id": "hucDb0LX3Vlg",
        "outputId": "063cbffa-f2df-4f53-f582-7588251e2ce8"
      },
      "outputs": [
        {
          "output_type": "stream",
          "name": "stdout",
          "text": [
            "['Mendefera', 'Dekemhare', 'Asmara', 'Teseney', 'Massawa', 'Assab', 'Keren', 'Barentu', 'Adi-Keihe', 'Adi-Kuala']\n",
            "['Mendefera', 'Dekemhare', 'Asmara', 'Teseney', 'Massawa', 'Assab', 'Keren', 'Barentu', 'Adi-Keihe', 'Adi-Kuala', 'Ghinda', 'Akurdet', 'Eilabered', 'Tieo', 'Nakfa']\n"
          ]
        }
      ],
      "source": [
        "print(lst1)\n",
        "lst1.extend(['Ghinda', 'Akurdet', 'Eilabered', 'Tieo', 'Nakfa'])\n",
        "print(lst1)"
      ]
    },
    {
      "cell_type": "code",
      "execution_count": null,
      "metadata": {
        "colab": {
          "base_uri": "https://localhost:8080/"
        },
        "id": "aV7v6ZlN3_la",
        "outputId": "596b1527-3971-4ae1-a892-dd5fe8bef875"
      },
      "outputs": [
        {
          "output_type": "stream",
          "name": "stdout",
          "text": [
            "['Mendefera', 'Dekemhare', 'Asmara', 'Teseney', 'Massawa', 'Assab', 'Keren', 'Barentu', 'Adi-Keihe', 'Adi-Kuala', 'Ghinda', 'Akurdet', 'Eilabered', 'Tieo', 'Nakfa']\n"
          ]
        },
        {
          "output_type": "execute_result",
          "data": {
            "text/plain": [
              "2"
            ]
          },
          "metadata": {},
          "execution_count": 27
        }
      ],
      "source": [
        "print(lst1)\n",
        "lst1.index('Asmara')"
      ]
    },
    {
      "cell_type": "code",
      "execution_count": null,
      "metadata": {
        "colab": {
          "base_uri": "https://localhost:8080/"
        },
        "id": "N7osg-3xYYoh",
        "outputId": "94ac2a84-46a4-462e-c69d-2cb2ce88ee55"
      },
      "outputs": [
        {
          "output_type": "execute_result",
          "data": {
            "text/plain": [
              "4"
            ]
          },
          "metadata": {},
          "execution_count": 28
        }
      ],
      "source": [
        "lst1.index('Massawa',2,7 )"
      ]
    },
    {
      "cell_type": "code",
      "execution_count": null,
      "metadata": {
        "id": "BAjEZJ97Y506",
        "colab": {
          "base_uri": "https://localhost:8080/"
        },
        "outputId": "064ce1f6-7c88-410b-f1b1-1d0edeace7e6"
      },
      "outputs": [
        {
          "output_type": "stream",
          "name": "stdout",
          "text": [
            "['Mendefera', 'Dekemhare', 'Asmara', 'Teseney', 'Massawa', 'Assab', 'Keren', 'Barentu', 'Adi-Keihe', 'Adi-Kuala', 'Ghinda', 'Akurdet', 'Eilabered', 'Tieo', 'Nakfa']\n",
            "['Mendefera', 'Dekemhare', 'Debarwa', 'Asmara', 'Teseney', 'Massawa', 'Assab', 'Keren', 'Barentu', 'Adi-Keihe', 'Adi-Kuala', 'Ghinda', 'Akurdet', 'Eilabered', 'Tieo', 'Nakfa']\n"
          ]
        }
      ],
      "source": [
        "print(lst1)\n",
        "lst1.insert(2,'Debarwa')\n",
        "print(lst1)"
      ]
    },
    {
      "cell_type": "code",
      "execution_count": null,
      "metadata": {
        "colab": {
          "base_uri": "https://localhost:8080/"
        },
        "id": "94mqthJsVj-l",
        "outputId": "7cee349c-bb1e-4fb7-ec2f-134a2e436ab5"
      },
      "outputs": [
        {
          "output_type": "stream",
          "name": "stdout",
          "text": [
            "['Mendefera', 'Dekemhare', 'Debarwa', 'Asmara', 'Teseney', 'Massawa', 'Assab', 'Keren', 'Barentu', 'Adi-Keihe', 'Adi-Kuala', 'Ghinda', 'Akurdet', 'Eilabered', 'Tieo', 'Nakfa']\n",
            "['Mendefera', 'Dekemhare', 'Debarwa', 'Asmara', 'Teseney', 'Massawa', 'Assab', 'Keren', 'Barentu', 'Adi-Keihe', 'Adi-Kuala', 'Ghinda', 'Akurdet', 'Eilabered', 'Tieo']\n",
            "['Mendefera', 'Dekemhare', 'Debarwa', 'Asmara', 'Teseney', 'Massawa', 'Assab', 'Keren', 'Barentu', 'Adi-Keihe', 'Adi-Kuala', 'Ghinda', 'Akurdet', 'Eilabered']\n",
            "['Mendefera', 'Dekemhare', 'Debarwa', 'Asmara', 'Teseney', 'Massawa', 'Assab', 'Keren', 'Barentu', 'Adi-Keihe', 'Adi-Kuala', 'Ghinda', 'Akurdet']\n",
            "['Mendefera', 'Dekemhare', 'Debarwa', 'Asmara', 'Teseney', 'Massawa', 'Assab', 'Keren', 'Barentu', 'Adi-Keihe', 'Adi-Kuala', 'Ghinda']\n"
          ]
        }
      ],
      "source": [
        "print(lst1)\n",
        "lst1.pop()\n",
        "print(lst1)\n",
        "lst1.pop()\n",
        "print(lst1)\n",
        "lst1.pop()\n",
        "print(lst1)\n",
        "lst1.pop()\n",
        "print(lst1)"
      ]
    },
    {
      "cell_type": "code",
      "source": [
        "lst1= [\"Mendefera\", \"Dekemhare\", \"Asmara\",\"Teseney\",\"Massawa\",\"Assab\",\"Keren\",\"Barentu\",\"Adi-Keihe\",\"Adi-Kuala\"]"
      ],
      "metadata": {
        "id": "Zf5O8gPjH31B"
      },
      "execution_count": null,
      "outputs": []
    },
    {
      "cell_type": "code",
      "source": [
        "print(lst1)\n",
        "lst1.pop(1)\n",
        "print(lst1)"
      ],
      "metadata": {
        "colab": {
          "base_uri": "https://localhost:8080/"
        },
        "id": "ai1mDhJwICTe",
        "outputId": "5550dee8-84bb-4541-fbed-e77a34db241e"
      },
      "execution_count": null,
      "outputs": [
        {
          "output_type": "stream",
          "name": "stdout",
          "text": [
            "['Mendefera', 'Dekemhare', 'Asmara', 'Teseney', 'Massawa', 'Assab', 'Keren', 'Barentu', 'Adi-Keihe', 'Adi-Kuala']\n",
            "['Mendefera', 'Asmara', 'Teseney', 'Massawa', 'Assab', 'Keren', 'Barentu', 'Adi-Keihe', 'Adi-Kuala']\n"
          ]
        }
      ]
    },
    {
      "cell_type": "code",
      "source": [
        "print(lst1)\n",
        "lst1.remove('Massawa')\n",
        "print(lst1)"
      ],
      "metadata": {
        "colab": {
          "base_uri": "https://localhost:8080/"
        },
        "id": "RrQ1UPvkIXIe",
        "outputId": "bf4b6bec-dd7c-4ea7-8d3a-b56738ca6396"
      },
      "execution_count": null,
      "outputs": [
        {
          "output_type": "stream",
          "name": "stdout",
          "text": [
            "['Mendefera', 'Asmara', 'Teseney', 'Massawa', 'Assab', 'Keren', 'Barentu', 'Adi-Keihe', 'Adi-Kuala']\n",
            "['Mendefera', 'Asmara', 'Teseney', 'Assab', 'Keren', 'Barentu', 'Adi-Keihe', 'Adi-Kuala']\n"
          ]
        }
      ]
    },
    {
      "cell_type": "code",
      "source": [
        "print(lst1)\n",
        "lst1.reverse()\n",
        "print(lst1)"
      ],
      "metadata": {
        "colab": {
          "base_uri": "https://localhost:8080/"
        },
        "id": "jAFpAsIFIz5_",
        "outputId": "384debd7-5757-49cd-c988-8c0353d85421"
      },
      "execution_count": null,
      "outputs": [
        {
          "output_type": "stream",
          "name": "stdout",
          "text": [
            "['Mendefera', 'Asmara', 'Teseney', 'Assab', 'Keren', 'Barentu', 'Adi-Keihe', 'Adi-Kuala']\n",
            "['Adi-Kuala', 'Adi-Keihe', 'Barentu', 'Keren', 'Assab', 'Teseney', 'Asmara', 'Mendefera']\n"
          ]
        }
      ]
    },
    {
      "cell_type": "code",
      "source": [
        "lst1= [\"Mendefera\", \"Dekemhare\", \"Asmara\",\"Teseney\",\"Massawa\",\"Assab\",\"Keren\",\"Barentu\",\"Adi-Keihe\",\"Adi-Kuala\"]"
      ],
      "metadata": {
        "id": "1zXZnE76JvNL"
      },
      "execution_count": null,
      "outputs": []
    },
    {
      "cell_type": "code",
      "source": [
        "lst1[0], lst1[1], lst1[2]"
      ],
      "metadata": {
        "colab": {
          "base_uri": "https://localhost:8080/"
        },
        "id": "SpI-OrWWJCy6",
        "outputId": "e5f7d901-065e-4cbd-eb5b-59c347ef46a7"
      },
      "execution_count": null,
      "outputs": [
        {
          "output_type": "execute_result",
          "data": {
            "text/plain": [
              "('Mendefera', 'Dekemhare', 'Asmara')"
            ]
          },
          "metadata": {},
          "execution_count": 39
        }
      ]
    },
    {
      "cell_type": "code",
      "source": [
        "lst1[0:3:1]"
      ],
      "metadata": {
        "colab": {
          "base_uri": "https://localhost:8080/"
        },
        "id": "aEdy6GTWJmHl",
        "outputId": "cf77b14c-314c-4fd0-e97f-b0293cefff48"
      },
      "execution_count": null,
      "outputs": [
        {
          "output_type": "execute_result",
          "data": {
            "text/plain": [
              "['Mendefera', 'Dekemhare', 'Asmara']"
            ]
          },
          "metadata": {},
          "execution_count": 40
        }
      ]
    },
    {
      "cell_type": "code",
      "source": [
        "lst1[2:7:1]"
      ],
      "metadata": {
        "colab": {
          "base_uri": "https://localhost:8080/"
        },
        "id": "XOe0Zx12J6Qe",
        "outputId": "bc7f7d26-6a36-4ed4-b251-5d76e8c71cf3"
      },
      "execution_count": null,
      "outputs": [
        {
          "output_type": "execute_result",
          "data": {
            "text/plain": [
              "['Asmara', 'Teseney', 'Massawa', 'Assab', 'Keren']"
            ]
          },
          "metadata": {},
          "execution_count": 41
        }
      ]
    },
    {
      "cell_type": "code",
      "source": [
        "lst1[1::1]"
      ],
      "metadata": {
        "colab": {
          "base_uri": "https://localhost:8080/"
        },
        "id": "uZFuwXDLKGJH",
        "outputId": "4d83b6cb-5b8d-4c9a-9a72-cff3b9ed5e62"
      },
      "execution_count": null,
      "outputs": [
        {
          "output_type": "execute_result",
          "data": {
            "text/plain": [
              "['Dekemhare',\n",
              " 'Asmara',\n",
              " 'Teseney',\n",
              " 'Massawa',\n",
              " 'Assab',\n",
              " 'Keren',\n",
              " 'Barentu',\n",
              " 'Adi-Keihe',\n",
              " 'Adi-Kuala']"
            ]
          },
          "metadata": {},
          "execution_count": 42
        }
      ]
    },
    {
      "cell_type": "code",
      "source": [
        "lst1[::]"
      ],
      "metadata": {
        "colab": {
          "base_uri": "https://localhost:8080/"
        },
        "id": "mGbqUYNuKM-o",
        "outputId": "b4091f83-0dc7-42aa-d874-296864eccffe"
      },
      "execution_count": null,
      "outputs": [
        {
          "output_type": "execute_result",
          "data": {
            "text/plain": [
              "['Mendefera',\n",
              " 'Dekemhare',\n",
              " 'Asmara',\n",
              " 'Teseney',\n",
              " 'Massawa',\n",
              " 'Assab',\n",
              " 'Keren',\n",
              " 'Barentu',\n",
              " 'Adi-Keihe',\n",
              " 'Adi-Kuala']"
            ]
          },
          "metadata": {},
          "execution_count": 43
        }
      ]
    },
    {
      "cell_type": "code",
      "source": [
        "lst1[0:len(lst1):1]"
      ],
      "metadata": {
        "colab": {
          "base_uri": "https://localhost:8080/"
        },
        "id": "Ve1WVMaqKZvC",
        "outputId": "f12954bf-9c03-4c52-d3e2-ad19b6d2a730"
      },
      "execution_count": null,
      "outputs": [
        {
          "output_type": "execute_result",
          "data": {
            "text/plain": [
              "['Mendefera',\n",
              " 'Dekemhare',\n",
              " 'Asmara',\n",
              " 'Teseney',\n",
              " 'Massawa',\n",
              " 'Assab',\n",
              " 'Keren',\n",
              " 'Barentu',\n",
              " 'Adi-Keihe',\n",
              " 'Adi-Kuala']"
            ]
          },
          "metadata": {},
          "execution_count": 44
        }
      ]
    },
    {
      "cell_type": "code",
      "source": [
        "print(len(lst1))"
      ],
      "metadata": {
        "colab": {
          "base_uri": "https://localhost:8080/"
        },
        "id": "jZeq9oUQLq-i",
        "outputId": "4b25d345-904a-4f38-939e-367378340579"
      },
      "execution_count": null,
      "outputs": [
        {
          "output_type": "stream",
          "name": "stdout",
          "text": [
            "10\n"
          ]
        }
      ]
    },
    {
      "cell_type": "code",
      "source": [
        "lst1[0:len(lst1):2]"
      ],
      "metadata": {
        "colab": {
          "base_uri": "https://localhost:8080/"
        },
        "id": "HBC_DjnAL524",
        "outputId": "11ac5ff4-0f14-4c13-a2d0-261359fa7399"
      },
      "execution_count": null,
      "outputs": [
        {
          "output_type": "execute_result",
          "data": {
            "text/plain": [
              "['Mendefera', 'Asmara', 'Massawa', 'Keren', 'Adi-Keihe']"
            ]
          },
          "metadata": {},
          "execution_count": 46
        }
      ]
    },
    {
      "cell_type": "code",
      "source": [
        "lst1[::]"
      ],
      "metadata": {
        "colab": {
          "base_uri": "https://localhost:8080/"
        },
        "id": "a-ZnD5exMHU5",
        "outputId": "9dfb8117-64f3-4e5b-cc77-981053079383"
      },
      "execution_count": null,
      "outputs": [
        {
          "output_type": "execute_result",
          "data": {
            "text/plain": [
              "['Mendefera',\n",
              " 'Dekemhare',\n",
              " 'Asmara',\n",
              " 'Teseney',\n",
              " 'Massawa',\n",
              " 'Assab',\n",
              " 'Keren',\n",
              " 'Barentu',\n",
              " 'Adi-Keihe',\n",
              " 'Adi-Kuala']"
            ]
          },
          "metadata": {},
          "execution_count": 48
        }
      ]
    },
    {
      "cell_type": "code",
      "source": [
        "lst1[::-1]"
      ],
      "metadata": {
        "colab": {
          "base_uri": "https://localhost:8080/"
        },
        "id": "09cTJbRGMaIC",
        "outputId": "f9fc4c4f-b8ad-4323-d57b-469d827d2298"
      },
      "execution_count": null,
      "outputs": [
        {
          "output_type": "execute_result",
          "data": {
            "text/plain": [
              "['Adi-Kuala',\n",
              " 'Adi-Keihe',\n",
              " 'Barentu',\n",
              " 'Keren',\n",
              " 'Assab',\n",
              " 'Massawa',\n",
              " 'Teseney',\n",
              " 'Asmara',\n",
              " 'Dekemhare',\n",
              " 'Mendefera']"
            ]
          },
          "metadata": {},
          "execution_count": 49
        }
      ]
    },
    {
      "cell_type": "code",
      "source": [
        "lst1"
      ],
      "metadata": {
        "colab": {
          "base_uri": "https://localhost:8080/"
        },
        "id": "TpIW58pJN3ne",
        "outputId": "fadbc3f2-1659-4450-b9a2-c61703fab8fa"
      },
      "execution_count": null,
      "outputs": [
        {
          "output_type": "execute_result",
          "data": {
            "text/plain": [
              "['Mendefera',\n",
              " 'Dekemhare',\n",
              " 'Asmara',\n",
              " 'Teseney',\n",
              " 'Massawa',\n",
              " 'Assab',\n",
              " 'Keren',\n",
              " 'Barentu',\n",
              " 'Adi-Keihe',\n",
              " 'Adi-Kuala']"
            ]
          },
          "metadata": {},
          "execution_count": 50
        }
      ]
    },
    {
      "cell_type": "markdown",
      "source": [
        " **Wednesday December 06, 2023**"
      ],
      "metadata": {
        "id": "-iGG9sxyN__i"
      }
    },
    {
      "cell_type": "code",
      "source": [
        "lst1 = [12,23,34,43,53,67,73,82,91]"
      ],
      "metadata": {
        "id": "-AMPqYxCN9Gi"
      },
      "execution_count": null,
      "outputs": []
    },
    {
      "cell_type": "code",
      "source": [
        "lst1[::]"
      ],
      "metadata": {
        "colab": {
          "base_uri": "https://localhost:8080/"
        },
        "id": "2sudzwIlOyYw",
        "outputId": "4ef937d1-c8fa-4ecc-8a91-5e351aeb607e"
      },
      "execution_count": null,
      "outputs": [
        {
          "output_type": "execute_result",
          "data": {
            "text/plain": [
              "[12, 23, 34, 43, 53, 67, 73, 82, 91]"
            ]
          },
          "metadata": {},
          "execution_count": 52
        }
      ]
    },
    {
      "cell_type": "code",
      "source": [
        "lst1[0::]"
      ],
      "metadata": {
        "colab": {
          "base_uri": "https://localhost:8080/"
        },
        "id": "T67ih4B0O1mO",
        "outputId": "c93ba1dc-d836-49c5-e580-a1c0d476e93a"
      },
      "execution_count": null,
      "outputs": [
        {
          "output_type": "execute_result",
          "data": {
            "text/plain": [
              "[12, 23, 34, 43, 53, 67, 73, 82, 91]"
            ]
          },
          "metadata": {},
          "execution_count": 53
        }
      ]
    },
    {
      "cell_type": "code",
      "source": [
        "lst1[:len(lst1):]"
      ],
      "metadata": {
        "colab": {
          "base_uri": "https://localhost:8080/"
        },
        "id": "vGKAkcDsO5ZF",
        "outputId": "f9d6fd73-7008-467a-8291-35224fc9b757"
      },
      "execution_count": null,
      "outputs": [
        {
          "output_type": "execute_result",
          "data": {
            "text/plain": [
              "[12, 23, 34, 43, 53, 67, 73, 82, 91]"
            ]
          },
          "metadata": {},
          "execution_count": 54
        }
      ]
    },
    {
      "cell_type": "code",
      "source": [
        "lst1[::1]"
      ],
      "metadata": {
        "colab": {
          "base_uri": "https://localhost:8080/"
        },
        "id": "_y4-iFPOO_19",
        "outputId": "e1fa48c7-1645-44e6-e439-732816299499"
      },
      "execution_count": null,
      "outputs": [
        {
          "output_type": "execute_result",
          "data": {
            "text/plain": [
              "[12, 23, 34, 43, 53, 67, 73, 82, 91]"
            ]
          },
          "metadata": {},
          "execution_count": 55
        }
      ]
    },
    {
      "cell_type": "code",
      "source": [
        "lst1[:4:]"
      ],
      "metadata": {
        "colab": {
          "base_uri": "https://localhost:8080/"
        },
        "id": "RZ8rKvlRPFC2",
        "outputId": "7737d23e-dd6c-4a4a-d315-592b1b3360d4"
      },
      "execution_count": null,
      "outputs": [
        {
          "output_type": "execute_result",
          "data": {
            "text/plain": [
              "[12, 23, 34, 43]"
            ]
          },
          "metadata": {},
          "execution_count": 56
        }
      ]
    },
    {
      "cell_type": "code",
      "source": [
        "lst1[2:6:]"
      ],
      "metadata": {
        "colab": {
          "base_uri": "https://localhost:8080/"
        },
        "id": "Sq6ZsdLUPK1E",
        "outputId": "5b64f961-425e-4647-f5b0-a59286e845fa"
      },
      "execution_count": null,
      "outputs": [
        {
          "output_type": "execute_result",
          "data": {
            "text/plain": [
              "[34, 43, 53, 67]"
            ]
          },
          "metadata": {},
          "execution_count": 57
        }
      ]
    },
    {
      "cell_type": "markdown",
      "source": [
        "*** Right to left negative slicing ***"
      ],
      "metadata": {
        "id": "nm0P5gqSQG6t"
      }
    },
    {
      "cell_type": "code",
      "source": [
        "lst1"
      ],
      "metadata": {
        "colab": {
          "base_uri": "https://localhost:8080/"
        },
        "id": "QZJvTRzpPkZE",
        "outputId": "d04688a7-10ac-48e4-e961-7a3c38057471"
      },
      "execution_count": null,
      "outputs": [
        {
          "output_type": "execute_result",
          "data": {
            "text/plain": [
              "[12, 23, 34, 43, 53, 67, 73, 82, 91]"
            ]
          },
          "metadata": {},
          "execution_count": 58
        }
      ]
    },
    {
      "cell_type": "code",
      "source": [
        "lst1[-1:-(len(lst1)+1):-1]"
      ],
      "metadata": {
        "colab": {
          "base_uri": "https://localhost:8080/"
        },
        "id": "QDcgs92bQSDu",
        "outputId": "31b86e90-9a91-4ab3-ea21-6d79639cf71d"
      },
      "execution_count": null,
      "outputs": [
        {
          "output_type": "execute_result",
          "data": {
            "text/plain": [
              "[91, 82, 73, 67, 53, 43, 34, 23, 12]"
            ]
          },
          "metadata": {},
          "execution_count": 67
        }
      ]
    },
    {
      "cell_type": "code",
      "source": [
        "lst1[-6::-1]"
      ],
      "metadata": {
        "colab": {
          "base_uri": "https://localhost:8080/"
        },
        "id": "KL37VO-9QbC2",
        "outputId": "4fa5cdad-8114-4a04-dd0b-1498475d2b83"
      },
      "execution_count": null,
      "outputs": [
        {
          "output_type": "execute_result",
          "data": {
            "text/plain": [
              "[43, 34, 23, 12]"
            ]
          },
          "metadata": {},
          "execution_count": 68
        }
      ]
    },
    {
      "cell_type": "code",
      "source": [
        "lst1[-4:-8:-1]"
      ],
      "metadata": {
        "colab": {
          "base_uri": "https://localhost:8080/"
        },
        "id": "5nWy64S2Robf",
        "outputId": "6cb516ca-727d-4326-bbcf-e7174d552690"
      },
      "execution_count": null,
      "outputs": [
        {
          "output_type": "execute_result",
          "data": {
            "text/plain": [
              "[67, 53, 43, 34]"
            ]
          },
          "metadata": {},
          "execution_count": 69
        }
      ]
    },
    {
      "cell_type": "code",
      "source": [
        "lst1"
      ],
      "metadata": {
        "colab": {
          "base_uri": "https://localhost:8080/"
        },
        "id": "y31u7i05SWZn",
        "outputId": "3828506e-a335-4fca-8837-65ca8fe0d604"
      },
      "execution_count": null,
      "outputs": [
        {
          "output_type": "execute_result",
          "data": {
            "text/plain": [
              "[12, 23, 34, 43, 53, 67, 73, 82, 91]"
            ]
          },
          "metadata": {},
          "execution_count": 70
        }
      ]
    },
    {
      "cell_type": "markdown",
      "source": [
        "\n",
        "postive indexing and postive slicing\n",
        "\n",
        "\n",
        "---\n",
        "\n",
        "negative indexing and postive slicing\n",
        "\n",
        "\n",
        "---\n",
        "\n",
        "negative indexing and negative slicing\n",
        "\n",
        "\n",
        "---\n",
        "\n",
        "postive indexing and negative slicing\n"
      ],
      "metadata": {
        "id": "JMqqdEfNSf2j"
      }
    },
    {
      "cell_type": "code",
      "source": [
        "lst1[3::1] # postive indexing and positive slicing"
      ],
      "metadata": {
        "colab": {
          "base_uri": "https://localhost:8080/"
        },
        "id": "eZ_grzuNSecW",
        "outputId": "ec835231-4188-4c0e-9223-27cbe4ac5b61"
      },
      "execution_count": null,
      "outputs": [
        {
          "output_type": "execute_result",
          "data": {
            "text/plain": [
              "[43, 53, 67, 73, 82, 91]"
            ]
          },
          "metadata": {},
          "execution_count": 74
        }
      ]
    },
    {
      "cell_type": "code",
      "source": [
        "lst1[-6::1] # negative indexing and positive slicing"
      ],
      "metadata": {
        "colab": {
          "base_uri": "https://localhost:8080/"
        },
        "id": "hZyGbb9mSa8S",
        "outputId": "97ceadee-9773-453b-c877-814565ef612b"
      },
      "execution_count": null,
      "outputs": [
        {
          "output_type": "execute_result",
          "data": {
            "text/plain": [
              "[43, 53, 67, 73, 82, 91]"
            ]
          },
          "metadata": {},
          "execution_count": 75
        }
      ]
    },
    {
      "cell_type": "code",
      "source": [
        "lst1[-1:-7:-1] # negative indexing and negative slicing"
      ],
      "metadata": {
        "colab": {
          "base_uri": "https://localhost:8080/"
        },
        "id": "UvzreokttDuX",
        "outputId": "cebcfe44-fa71-480f-c369-1e8de36bbc6c"
      },
      "execution_count": null,
      "outputs": [
        {
          "output_type": "execute_result",
          "data": {
            "text/plain": [
              "[91, 82, 73, 67, 53, 43]"
            ]
          },
          "metadata": {},
          "execution_count": 79
        }
      ]
    },
    {
      "cell_type": "code",
      "source": [
        "lst1[:2:-1] # postive indexing and negative slicing"
      ],
      "metadata": {
        "colab": {
          "base_uri": "https://localhost:8080/"
        },
        "id": "hwstLoFytSjY",
        "outputId": "8fe484ed-dee4-4fc0-dea7-1456ecdf1cdc"
      },
      "execution_count": null,
      "outputs": [
        {
          "output_type": "execute_result",
          "data": {
            "text/plain": [
              "[91, 82, 73, 67, 53, 43]"
            ]
          },
          "metadata": {},
          "execution_count": 81
        }
      ]
    },
    {
      "cell_type": "code",
      "source": [
        "# python arthemetic operations\n",
        "\n",
        "a=10\n",
        "b=5\n",
        "\n",
        "print(a+b)\n",
        "print(a-b)\n",
        "print(a*b)\n",
        "print(a/b)\n",
        "\n",
        "\n",
        "a=13\n",
        "b=3\n",
        "\n",
        "print(a%b)  #Modules\n",
        "print(a//b)  # Floor division\n",
        "print(a**b)  # Exponentiation\n"
      ],
      "metadata": {
        "colab": {
          "base_uri": "https://localhost:8080/"
        },
        "id": "8YsRk6gU2llL",
        "outputId": "b19e65c0-a436-40b0-ff1b-312a4130e62f"
      },
      "execution_count": null,
      "outputs": [
        {
          "output_type": "stream",
          "name": "stdout",
          "text": [
            "15\n",
            "5\n",
            "50\n",
            "2.0\n",
            "1\n",
            "4\n",
            "2197\n"
          ]
        }
      ]
    },
    {
      "cell_type": "markdown",
      "source": [
        "```\n",
        "\n",
        "Python Assignment Operators\n",
        "\n",
        "=\tx = 5\tx = 5\n",
        "+=\tx += 3\tx = x + 3\n",
        "-=\tx -= 3\tx = x - 3\n",
        "*=\tx *= 3\tx = x * 3\n",
        "/=\tx /= 3\tx = x / 3\n",
        "%=\tx %= 3\tx = x % 3\n",
        "//=\tx //= 3\tx = x // 3\n",
        "**=\tx **= 3\tx = x ** 3\n",
        "&=\tx &= 3\tx = x & 3\n",
        "|=\tx |= 3\tx = x | 3\n",
        "^=\tx ^= 3\tx = x ^ 3\n",
        ">>=\tx >>= 3\tx = x >> 3\n",
        "<<=\tx <<= 3\tx = x << 3\n",
        "```"
      ],
      "metadata": {
        "id": "Qvw9bR_X-JRV"
      }
    },
    {
      "cell_type": "code",
      "source": [
        "a=10\n",
        "b=20\n",
        "\n",
        "a+=b\n",
        "\n",
        "print(a)\n",
        "\n",
        "a=10\n",
        "b=20\n",
        "\n",
        "a-=b\n",
        "print(a)\n",
        "\n",
        "a=10\n",
        "b=20\n",
        "\n",
        "a&=b\n",
        "\n",
        "print(a)\n",
        "\n",
        "a=10\n",
        "b=20\n",
        "\n",
        "a|=b\n",
        "\n",
        "print(a)\n",
        "\n",
        "\n",
        "\n",
        "a=10\n",
        "b=20\n",
        "\n"
      ],
      "metadata": {
        "colab": {
          "base_uri": "https://localhost:8080/"
        },
        "id": "D7VAea8C3t42",
        "outputId": "49f08a7d-7278-4b28-a13b-002899108fb3"
      },
      "execution_count": null,
      "outputs": [
        {
          "output_type": "stream",
          "name": "stdout",
          "text": [
            "30\n",
            "-10\n",
            "0\n",
            "30\n"
          ]
        }
      ]
    },
    {
      "cell_type": "markdown",
      "source": [
        "#### Friday Dec 08 - 2023"
      ],
      "metadata": {
        "id": "LfPP1pMMqGNY"
      }
    },
    {
      "cell_type": "code",
      "source": [
        "student_list1 = [99,84,74,63,51,49,33,20,17,5]\n",
        "for i in student_list1:\n",
        "  print(\"percentage Achived\",i)\n",
        "  if i>=85:\n",
        "    print('... pass with the first class distinction')\n",
        "  elif i >=60:\n",
        "    print(\".... Pass with the first class\")\n",
        "  elif i>=40:\n",
        "    print(\"... Pass with the second class\")\n",
        "  else:\n",
        "    print('....Better luck next time')\n"
      ],
      "metadata": {
        "id": "kYFNskM2497L",
        "colab": {
          "base_uri": "https://localhost:8080/"
        },
        "outputId": "badf0519-d91b-4656-951e-6cff17ba1859"
      },
      "execution_count": null,
      "outputs": [
        {
          "output_type": "stream",
          "name": "stdout",
          "text": [
            "percentage Achived 99\n",
            "... pass with the first class distinction\n",
            "percentage Achived 84\n",
            ".... Pass with the first class\n",
            "percentage Achived 74\n",
            ".... Pass with the first class\n",
            "percentage Achived 63\n",
            ".... Pass with the first class\n",
            "percentage Achived 51\n",
            "... Pass with the second class\n",
            "percentage Achived 49\n",
            "... Pass with the second class\n",
            "percentage Achived 33\n",
            "....Better luck next time\n",
            "percentage Achived 20\n",
            "....Better luck next time\n",
            "percentage Achived 17\n",
            "....Better luck next time\n",
            "percentage Achived 5\n",
            "....Better luck next time\n"
          ]
        }
      ]
    },
    {
      "cell_type": "code",
      "source": [
        "student_name = ['Biniam', 'Ermias', 'Fitsum',\"Abraham\", 'Haile']\n",
        "student_marks_1 = [93,84,69,53,47]\n",
        "\n",
        "for i in student_name:\n",
        "  sub_tot= 0\n",
        "  for j in student_marks_1:\n",
        "    sub_tot+=j\n",
        "  print(i , 'achived', sub_tot, 'marks.')\n",
        "\n",
        "\n"
      ],
      "metadata": {
        "colab": {
          "base_uri": "https://localhost:8080/"
        },
        "id": "7aq5AiJWqmID",
        "outputId": "7d5c679e-e977-4a1e-b472-2389e7409b34"
      },
      "execution_count": null,
      "outputs": [
        {
          "output_type": "stream",
          "name": "stdout",
          "text": [
            "Biniam achived 346 marks.\n",
            "Ermias achived 346 marks.\n",
            "Fitsum achived 346 marks.\n",
            "Abraham achived 346 marks.\n",
            "Haile achived 346 marks.\n"
          ]
        }
      ]
    },
    {
      "cell_type": "code",
      "source": [
        "for i in range(10):\n",
        "  for j in range(10):\n",
        "    print('*', end= ' ')\n",
        "  print('')"
      ],
      "metadata": {
        "colab": {
          "base_uri": "https://localhost:8080/"
        },
        "id": "2WENGtLdK4qQ",
        "outputId": "a78b60a3-0bb7-41eb-8dea-3ffa4dd36363"
      },
      "execution_count": null,
      "outputs": [
        {
          "output_type": "stream",
          "name": "stdout",
          "text": [
            "* * * * * * * * * * \n",
            "* * * * * * * * * * \n",
            "* * * * * * * * * * \n",
            "* * * * * * * * * * \n",
            "* * * * * * * * * * \n",
            "* * * * * * * * * * \n",
            "* * * * * * * * * * \n",
            "* * * * * * * * * * \n",
            "* * * * * * * * * * \n",
            "* * * * * * * * * * \n"
          ]
        }
      ]
    },
    {
      "cell_type": "code",
      "source": [
        "temp1 = 10\n",
        "\n",
        "while temp1>0:\n",
        "  #print(temp1)\n",
        "  temp2 =10\n",
        "  while temp2 >0:\n",
        "    print('*', end=' ')\n",
        "    temp2 -=1\n",
        "  temp1 -=1\n",
        "  print()\n",
        "\n"
      ],
      "metadata": {
        "colab": {
          "base_uri": "https://localhost:8080/"
        },
        "id": "Zk-4eLJ3MEt4",
        "outputId": "cb6aa6fd-f8c9-4c10-bfbd-d55cc138ffbc"
      },
      "execution_count": null,
      "outputs": [
        {
          "output_type": "stream",
          "name": "stdout",
          "text": [
            "* * * * * * * * * * \n",
            "* * * * * * * * * * \n",
            "* * * * * * * * * * \n",
            "* * * * * * * * * * \n",
            "* * * * * * * * * * \n",
            "* * * * * * * * * * \n",
            "* * * * * * * * * * \n",
            "* * * * * * * * * * \n",
            "* * * * * * * * * * \n",
            "* * * * * * * * * * \n"
          ]
        }
      ]
    },
    {
      "cell_type": "code",
      "source": [
        "for i in range(0,21,1):\n",
        "  for j in range(0,21,1):\n",
        "\n",
        "    print('[',i,'-',j,'] ' , end= ' ')\n",
        "  print()"
      ],
      "metadata": {
        "colab": {
          "base_uri": "https://localhost:8080/"
        },
        "id": "TpohPNS8OTvK",
        "outputId": "ae13135f-8236-4d0a-97b6-43d5d8ef1a9d"
      },
      "execution_count": null,
      "outputs": [
        {
          "output_type": "stream",
          "name": "stdout",
          "text": [
            "[ 0 - 0 ]  [ 0 - 1 ]  [ 0 - 2 ]  [ 0 - 3 ]  [ 0 - 4 ]  [ 0 - 5 ]  [ 0 - 6 ]  [ 0 - 7 ]  [ 0 - 8 ]  [ 0 - 9 ]  [ 0 - 10 ]  [ 0 - 11 ]  [ 0 - 12 ]  [ 0 - 13 ]  [ 0 - 14 ]  [ 0 - 15 ]  [ 0 - 16 ]  [ 0 - 17 ]  [ 0 - 18 ]  [ 0 - 19 ]  [ 0 - 20 ]  \n",
            "[ 1 - 0 ]  [ 1 - 1 ]  [ 1 - 2 ]  [ 1 - 3 ]  [ 1 - 4 ]  [ 1 - 5 ]  [ 1 - 6 ]  [ 1 - 7 ]  [ 1 - 8 ]  [ 1 - 9 ]  [ 1 - 10 ]  [ 1 - 11 ]  [ 1 - 12 ]  [ 1 - 13 ]  [ 1 - 14 ]  [ 1 - 15 ]  [ 1 - 16 ]  [ 1 - 17 ]  [ 1 - 18 ]  [ 1 - 19 ]  [ 1 - 20 ]  \n",
            "[ 2 - 0 ]  [ 2 - 1 ]  [ 2 - 2 ]  [ 2 - 3 ]  [ 2 - 4 ]  [ 2 - 5 ]  [ 2 - 6 ]  [ 2 - 7 ]  [ 2 - 8 ]  [ 2 - 9 ]  [ 2 - 10 ]  [ 2 - 11 ]  [ 2 - 12 ]  [ 2 - 13 ]  [ 2 - 14 ]  [ 2 - 15 ]  [ 2 - 16 ]  [ 2 - 17 ]  [ 2 - 18 ]  [ 2 - 19 ]  [ 2 - 20 ]  \n",
            "[ 3 - 0 ]  [ 3 - 1 ]  [ 3 - 2 ]  [ 3 - 3 ]  [ 3 - 4 ]  [ 3 - 5 ]  [ 3 - 6 ]  [ 3 - 7 ]  [ 3 - 8 ]  [ 3 - 9 ]  [ 3 - 10 ]  [ 3 - 11 ]  [ 3 - 12 ]  [ 3 - 13 ]  [ 3 - 14 ]  [ 3 - 15 ]  [ 3 - 16 ]  [ 3 - 17 ]  [ 3 - 18 ]  [ 3 - 19 ]  [ 3 - 20 ]  \n",
            "[ 4 - 0 ]  [ 4 - 1 ]  [ 4 - 2 ]  [ 4 - 3 ]  [ 4 - 4 ]  [ 4 - 5 ]  [ 4 - 6 ]  [ 4 - 7 ]  [ 4 - 8 ]  [ 4 - 9 ]  [ 4 - 10 ]  [ 4 - 11 ]  [ 4 - 12 ]  [ 4 - 13 ]  [ 4 - 14 ]  [ 4 - 15 ]  [ 4 - 16 ]  [ 4 - 17 ]  [ 4 - 18 ]  [ 4 - 19 ]  [ 4 - 20 ]  \n",
            "[ 5 - 0 ]  [ 5 - 1 ]  [ 5 - 2 ]  [ 5 - 3 ]  [ 5 - 4 ]  [ 5 - 5 ]  [ 5 - 6 ]  [ 5 - 7 ]  [ 5 - 8 ]  [ 5 - 9 ]  [ 5 - 10 ]  [ 5 - 11 ]  [ 5 - 12 ]  [ 5 - 13 ]  [ 5 - 14 ]  [ 5 - 15 ]  [ 5 - 16 ]  [ 5 - 17 ]  [ 5 - 18 ]  [ 5 - 19 ]  [ 5 - 20 ]  \n",
            "[ 6 - 0 ]  [ 6 - 1 ]  [ 6 - 2 ]  [ 6 - 3 ]  [ 6 - 4 ]  [ 6 - 5 ]  [ 6 - 6 ]  [ 6 - 7 ]  [ 6 - 8 ]  [ 6 - 9 ]  [ 6 - 10 ]  [ 6 - 11 ]  [ 6 - 12 ]  [ 6 - 13 ]  [ 6 - 14 ]  [ 6 - 15 ]  [ 6 - 16 ]  [ 6 - 17 ]  [ 6 - 18 ]  [ 6 - 19 ]  [ 6 - 20 ]  \n",
            "[ 7 - 0 ]  [ 7 - 1 ]  [ 7 - 2 ]  [ 7 - 3 ]  [ 7 - 4 ]  [ 7 - 5 ]  [ 7 - 6 ]  [ 7 - 7 ]  [ 7 - 8 ]  [ 7 - 9 ]  [ 7 - 10 ]  [ 7 - 11 ]  [ 7 - 12 ]  [ 7 - 13 ]  [ 7 - 14 ]  [ 7 - 15 ]  [ 7 - 16 ]  [ 7 - 17 ]  [ 7 - 18 ]  [ 7 - 19 ]  [ 7 - 20 ]  \n",
            "[ 8 - 0 ]  [ 8 - 1 ]  [ 8 - 2 ]  [ 8 - 3 ]  [ 8 - 4 ]  [ 8 - 5 ]  [ 8 - 6 ]  [ 8 - 7 ]  [ 8 - 8 ]  [ 8 - 9 ]  [ 8 - 10 ]  [ 8 - 11 ]  [ 8 - 12 ]  [ 8 - 13 ]  [ 8 - 14 ]  [ 8 - 15 ]  [ 8 - 16 ]  [ 8 - 17 ]  [ 8 - 18 ]  [ 8 - 19 ]  [ 8 - 20 ]  \n",
            "[ 9 - 0 ]  [ 9 - 1 ]  [ 9 - 2 ]  [ 9 - 3 ]  [ 9 - 4 ]  [ 9 - 5 ]  [ 9 - 6 ]  [ 9 - 7 ]  [ 9 - 8 ]  [ 9 - 9 ]  [ 9 - 10 ]  [ 9 - 11 ]  [ 9 - 12 ]  [ 9 - 13 ]  [ 9 - 14 ]  [ 9 - 15 ]  [ 9 - 16 ]  [ 9 - 17 ]  [ 9 - 18 ]  [ 9 - 19 ]  [ 9 - 20 ]  \n",
            "[ 10 - 0 ]  [ 10 - 1 ]  [ 10 - 2 ]  [ 10 - 3 ]  [ 10 - 4 ]  [ 10 - 5 ]  [ 10 - 6 ]  [ 10 - 7 ]  [ 10 - 8 ]  [ 10 - 9 ]  [ 10 - 10 ]  [ 10 - 11 ]  [ 10 - 12 ]  [ 10 - 13 ]  [ 10 - 14 ]  [ 10 - 15 ]  [ 10 - 16 ]  [ 10 - 17 ]  [ 10 - 18 ]  [ 10 - 19 ]  [ 10 - 20 ]  \n",
            "[ 11 - 0 ]  [ 11 - 1 ]  [ 11 - 2 ]  [ 11 - 3 ]  [ 11 - 4 ]  [ 11 - 5 ]  [ 11 - 6 ]  [ 11 - 7 ]  [ 11 - 8 ]  [ 11 - 9 ]  [ 11 - 10 ]  [ 11 - 11 ]  [ 11 - 12 ]  [ 11 - 13 ]  [ 11 - 14 ]  [ 11 - 15 ]  [ 11 - 16 ]  [ 11 - 17 ]  [ 11 - 18 ]  [ 11 - 19 ]  [ 11 - 20 ]  \n",
            "[ 12 - 0 ]  [ 12 - 1 ]  [ 12 - 2 ]  [ 12 - 3 ]  [ 12 - 4 ]  [ 12 - 5 ]  [ 12 - 6 ]  [ 12 - 7 ]  [ 12 - 8 ]  [ 12 - 9 ]  [ 12 - 10 ]  [ 12 - 11 ]  [ 12 - 12 ]  [ 12 - 13 ]  [ 12 - 14 ]  [ 12 - 15 ]  [ 12 - 16 ]  [ 12 - 17 ]  [ 12 - 18 ]  [ 12 - 19 ]  [ 12 - 20 ]  \n",
            "[ 13 - 0 ]  [ 13 - 1 ]  [ 13 - 2 ]  [ 13 - 3 ]  [ 13 - 4 ]  [ 13 - 5 ]  [ 13 - 6 ]  [ 13 - 7 ]  [ 13 - 8 ]  [ 13 - 9 ]  [ 13 - 10 ]  [ 13 - 11 ]  [ 13 - 12 ]  [ 13 - 13 ]  [ 13 - 14 ]  [ 13 - 15 ]  [ 13 - 16 ]  [ 13 - 17 ]  [ 13 - 18 ]  [ 13 - 19 ]  [ 13 - 20 ]  \n",
            "[ 14 - 0 ]  [ 14 - 1 ]  [ 14 - 2 ]  [ 14 - 3 ]  [ 14 - 4 ]  [ 14 - 5 ]  [ 14 - 6 ]  [ 14 - 7 ]  [ 14 - 8 ]  [ 14 - 9 ]  [ 14 - 10 ]  [ 14 - 11 ]  [ 14 - 12 ]  [ 14 - 13 ]  [ 14 - 14 ]  [ 14 - 15 ]  [ 14 - 16 ]  [ 14 - 17 ]  [ 14 - 18 ]  [ 14 - 19 ]  [ 14 - 20 ]  \n",
            "[ 15 - 0 ]  [ 15 - 1 ]  [ 15 - 2 ]  [ 15 - 3 ]  [ 15 - 4 ]  [ 15 - 5 ]  [ 15 - 6 ]  [ 15 - 7 ]  [ 15 - 8 ]  [ 15 - 9 ]  [ 15 - 10 ]  [ 15 - 11 ]  [ 15 - 12 ]  [ 15 - 13 ]  [ 15 - 14 ]  [ 15 - 15 ]  [ 15 - 16 ]  [ 15 - 17 ]  [ 15 - 18 ]  [ 15 - 19 ]  [ 15 - 20 ]  \n",
            "[ 16 - 0 ]  [ 16 - 1 ]  [ 16 - 2 ]  [ 16 - 3 ]  [ 16 - 4 ]  [ 16 - 5 ]  [ 16 - 6 ]  [ 16 - 7 ]  [ 16 - 8 ]  [ 16 - 9 ]  [ 16 - 10 ]  [ 16 - 11 ]  [ 16 - 12 ]  [ 16 - 13 ]  [ 16 - 14 ]  [ 16 - 15 ]  [ 16 - 16 ]  [ 16 - 17 ]  [ 16 - 18 ]  [ 16 - 19 ]  [ 16 - 20 ]  \n",
            "[ 17 - 0 ]  [ 17 - 1 ]  [ 17 - 2 ]  [ 17 - 3 ]  [ 17 - 4 ]  [ 17 - 5 ]  [ 17 - 6 ]  [ 17 - 7 ]  [ 17 - 8 ]  [ 17 - 9 ]  [ 17 - 10 ]  [ 17 - 11 ]  [ 17 - 12 ]  [ 17 - 13 ]  [ 17 - 14 ]  [ 17 - 15 ]  [ 17 - 16 ]  [ 17 - 17 ]  [ 17 - 18 ]  [ 17 - 19 ]  [ 17 - 20 ]  \n",
            "[ 18 - 0 ]  [ 18 - 1 ]  [ 18 - 2 ]  [ 18 - 3 ]  [ 18 - 4 ]  [ 18 - 5 ]  [ 18 - 6 ]  [ 18 - 7 ]  [ 18 - 8 ]  [ 18 - 9 ]  [ 18 - 10 ]  [ 18 - 11 ]  [ 18 - 12 ]  [ 18 - 13 ]  [ 18 - 14 ]  [ 18 - 15 ]  [ 18 - 16 ]  [ 18 - 17 ]  [ 18 - 18 ]  [ 18 - 19 ]  [ 18 - 20 ]  \n",
            "[ 19 - 0 ]  [ 19 - 1 ]  [ 19 - 2 ]  [ 19 - 3 ]  [ 19 - 4 ]  [ 19 - 5 ]  [ 19 - 6 ]  [ 19 - 7 ]  [ 19 - 8 ]  [ 19 - 9 ]  [ 19 - 10 ]  [ 19 - 11 ]  [ 19 - 12 ]  [ 19 - 13 ]  [ 19 - 14 ]  [ 19 - 15 ]  [ 19 - 16 ]  [ 19 - 17 ]  [ 19 - 18 ]  [ 19 - 19 ]  [ 19 - 20 ]  \n",
            "[ 20 - 0 ]  [ 20 - 1 ]  [ 20 - 2 ]  [ 20 - 3 ]  [ 20 - 4 ]  [ 20 - 5 ]  [ 20 - 6 ]  [ 20 - 7 ]  [ 20 - 8 ]  [ 20 - 9 ]  [ 20 - 10 ]  [ 20 - 11 ]  [ 20 - 12 ]  [ 20 - 13 ]  [ 20 - 14 ]  [ 20 - 15 ]  [ 20 - 16 ]  [ 20 - 17 ]  [ 20 - 18 ]  [ 20 - 19 ]  [ 20 - 20 ]  \n"
          ]
        }
      ]
    },
    {
      "cell_type": "code",
      "source": [
        "for i in range(10):\n",
        "  for j in range(i+1):\n",
        "    print('*', end = ' ')\n",
        "  print()"
      ],
      "metadata": {
        "colab": {
          "base_uri": "https://localhost:8080/"
        },
        "id": "E60fsdniPZn3",
        "outputId": "b404ffc2-71f7-4825-9c14-f84aa47f40cf"
      },
      "execution_count": null,
      "outputs": [
        {
          "output_type": "stream",
          "name": "stdout",
          "text": [
            "* \n",
            "* * \n",
            "* * * \n",
            "* * * * \n",
            "* * * * * \n",
            "* * * * * * \n",
            "* * * * * * * \n",
            "* * * * * * * * \n",
            "* * * * * * * * * \n",
            "* * * * * * * * * * \n"
          ]
        }
      ]
    },
    {
      "cell_type": "code",
      "source": [
        "temp1 = 10\n",
        "\n",
        "while temp1 >0:\n",
        "  temp2 =10\n",
        "  while temp2+1>temp1:\n",
        "    print('*',end= ' ')\n",
        "    temp2-=1\n",
        "  temp1-=1\n",
        "  print()"
      ],
      "metadata": {
        "colab": {
          "base_uri": "https://localhost:8080/"
        },
        "id": "oZupzRatP1lI",
        "outputId": "29637949-eb11-4561-b6ef-d4d08c03f223"
      },
      "execution_count": null,
      "outputs": [
        {
          "output_type": "stream",
          "name": "stdout",
          "text": [
            "* \n",
            "* * \n",
            "* * * \n",
            "* * * * \n",
            "* * * * * \n",
            "* * * * * * \n",
            "* * * * * * * \n",
            "* * * * * * * * \n",
            "* * * * * * * * * \n",
            "* * * * * * * * * * \n"
          ]
        }
      ]
    },
    {
      "cell_type": "code",
      "source": [
        "for i in range(10):\n",
        "  for j in range(10-i):\n",
        "    print('',end= ' ')\n",
        "  for k in range(i+1):\n",
        "    print('*', end= ' ')\n",
        "  print()"
      ],
      "metadata": {
        "colab": {
          "base_uri": "https://localhost:8080/"
        },
        "id": "NvOktYYkRpg_",
        "outputId": "c8c2c647-fdf0-4f3e-8547-0acbdc86ea8c"
      },
      "execution_count": null,
      "outputs": [
        {
          "output_type": "stream",
          "name": "stdout",
          "text": [
            "          * \n",
            "         * * \n",
            "        * * * \n",
            "       * * * * \n",
            "      * * * * * \n",
            "     * * * * * * \n",
            "    * * * * * * * \n",
            "   * * * * * * * * \n",
            "  * * * * * * * * * \n",
            " * * * * * * * * * * \n"
          ]
        }
      ]
    },
    {
      "cell_type": "code",
      "source": [
        "temp1 = 10\n",
        "while temp1 > 0:\n",
        "\n",
        "while temp2>0:\n",
        "\n",
        "while temp3>0:"
      ],
      "metadata": {
        "colab": {
          "base_uri": "https://localhost:8080/",
          "height": 141
        },
        "id": "BeyejkQ6SS9A",
        "outputId": "ba6de183-65e0-4c2d-8c05-b548f4e7250e"
      },
      "execution_count": null,
      "outputs": [
        {
          "output_type": "error",
          "ename": "IndentationError",
          "evalue": "ignored",
          "traceback": [
            "\u001b[0;36m  File \u001b[0;32m\"<ipython-input-127-5de7bfe0dbba>\"\u001b[0;36m, line \u001b[0;32m4\u001b[0m\n\u001b[0;31m    while temp2>0:\u001b[0m\n\u001b[0m    ^\u001b[0m\n\u001b[0;31mIndentationError\u001b[0m\u001b[0;31m:\u001b[0m expected an indented block after 'while' statement on line 2\n"
          ]
        }
      ]
    },
    {
      "cell_type": "code",
      "source": [
        "student_name = [\"Sham\", \"Biniam\", \"Haile\", \"Kahsay\"]\n",
        "\n",
        "student_mark_1 = [[94, 84, 78, 69, 58], [91,81,72,64,34], [70, 83,79,66,53], [90,80,77,61,53]]\n",
        "\n",
        "for i in student_name:\n",
        "  sub_tot = 0\n",
        "  counter = 0\n",
        "  for j in student_mark_1:\n",
        "    for k in j:\n",
        "\n",
        "       print(k)\n",
        "       sub_tot +=k\n",
        "\n",
        "    print(i, \"Achieved\",sub_tot, 'marks')\n",
        "  # need a to look letter"
      ],
      "metadata": {
        "id": "q-fHSgKFCt22",
        "colab": {
          "base_uri": "https://localhost:8080/"
        },
        "outputId": "e748e6d3-a1f2-475a-84b2-06659058055f"
      },
      "execution_count": null,
      "outputs": [
        {
          "output_type": "stream",
          "name": "stdout",
          "text": [
            "94\n",
            "84\n",
            "78\n",
            "69\n",
            "58\n",
            "Sham Achieved 383 marks\n",
            "91\n",
            "81\n",
            "72\n",
            "64\n",
            "34\n",
            "Sham Achieved 725 marks\n",
            "70\n",
            "83\n",
            "79\n",
            "66\n",
            "53\n",
            "Sham Achieved 1076 marks\n",
            "90\n",
            "80\n",
            "77\n",
            "61\n",
            "53\n",
            "Sham Achieved 1437 marks\n",
            "94\n",
            "84\n",
            "78\n",
            "69\n",
            "58\n",
            "Biniam Achieved 383 marks\n",
            "91\n",
            "81\n",
            "72\n",
            "64\n",
            "34\n",
            "Biniam Achieved 725 marks\n",
            "70\n",
            "83\n",
            "79\n",
            "66\n",
            "53\n",
            "Biniam Achieved 1076 marks\n",
            "90\n",
            "80\n",
            "77\n",
            "61\n",
            "53\n",
            "Biniam Achieved 1437 marks\n",
            "94\n",
            "84\n",
            "78\n",
            "69\n",
            "58\n",
            "Haile Achieved 383 marks\n",
            "91\n",
            "81\n",
            "72\n",
            "64\n",
            "34\n",
            "Haile Achieved 725 marks\n",
            "70\n",
            "83\n",
            "79\n",
            "66\n",
            "53\n",
            "Haile Achieved 1076 marks\n",
            "90\n",
            "80\n",
            "77\n",
            "61\n",
            "53\n",
            "Haile Achieved 1437 marks\n",
            "94\n",
            "84\n",
            "78\n",
            "69\n",
            "58\n",
            "Kahsay Achieved 383 marks\n",
            "91\n",
            "81\n",
            "72\n",
            "64\n",
            "34\n",
            "Kahsay Achieved 725 marks\n",
            "70\n",
            "83\n",
            "79\n",
            "66\n",
            "53\n",
            "Kahsay Achieved 1076 marks\n",
            "90\n",
            "80\n",
            "77\n",
            "61\n",
            "53\n",
            "Kahsay Achieved 1437 marks\n"
          ]
        }
      ]
    },
    {
      "cell_type": "markdown",
      "source": [
        "### Monday Dec 11, 2023"
      ],
      "metadata": {
        "id": "pyTTIC4TRG44"
      }
    },
    {
      "cell_type": "markdown",
      "source": [
        "```\n",
        "Python Functions\n",
        "\n",
        "1. Build in functions\n",
        "2. User Define Functions\n",
        "3. Lambda Functions\n",
        "````"
      ],
      "metadata": {
        "id": "xztWIt1-RbIa"
      }
    },
    {
      "cell_type": "code",
      "source": [
        "a = input('please enter your name')\n",
        "print(a)"
      ],
      "metadata": {
        "id": "gYRcbpvNTZMf",
        "colab": {
          "base_uri": "https://localhost:8080/"
        },
        "outputId": "3f81f45a-54f8-417d-e3c4-ce47d8122c77"
      },
      "execution_count": 4,
      "outputs": [
        {
          "output_type": "stream",
          "name": "stdout",
          "text": [
            "please enter your nameFish\n",
            "Fish\n"
          ]
        }
      ]
    },
    {
      "cell_type": "code",
      "source": [
        "# Default data type of 'input' function is string"
      ],
      "metadata": {
        "id": "wnQnXtrDR79v"
      },
      "execution_count": 5,
      "outputs": []
    },
    {
      "cell_type": "code",
      "source": [
        "a = input('Marks in Mathemattics:')\n",
        "b= input('Marks in Geography')\n",
        "c = input('Marks in Socila Science')\n",
        "\n",
        "print(type(a))\n",
        "print(type(b))\n",
        "print(type(c))\n",
        "\n",
        "total = a+b+c\n",
        "\n",
        "print(total)\n",
        "print(type(total))"
      ],
      "metadata": {
        "colab": {
          "base_uri": "https://localhost:8080/"
        },
        "id": "2NUSgdjTSHU3",
        "outputId": "04e43fb8-af62-4e0b-e988-d418c19ff5d0"
      },
      "execution_count": 7,
      "outputs": [
        {
          "output_type": "stream",
          "name": "stdout",
          "text": [
            "Marks in Mathemattics:97\n",
            "Marks in Geography99\n",
            "Marks in Socila Science89\n",
            "<class 'str'>\n",
            "<class 'str'>\n",
            "<class 'str'>\n",
            "979989\n",
            "<class 'str'>\n"
          ]
        }
      ]
    },
    {
      "cell_type": "code",
      "source": [
        "a = int(input('Marks in Mathemattics:'))\n",
        "b= int(input('Marks in Geography'))\n",
        "c = int(input('Marks in Socila Science'))\n",
        "\n",
        "print(type(a))\n",
        "print(type(b))\n",
        "print(type(c))\n",
        "\n",
        "total = a+b+c\n",
        "\n",
        "print(total)\n",
        "print(type(total))"
      ],
      "metadata": {
        "colab": {
          "base_uri": "https://localhost:8080/"
        },
        "id": "mKeJWC3NS6S2",
        "outputId": "6d4beb96-2a88-45aa-f90c-ad1dfd2d31bd"
      },
      "execution_count": 8,
      "outputs": [
        {
          "output_type": "stream",
          "name": "stdout",
          "text": [
            "Marks in Mathemattics:98\n",
            "Marks in Geography99\n",
            "Marks in Socila Science96\n",
            "<class 'int'>\n",
            "<class 'int'>\n",
            "<class 'int'>\n",
            "293\n",
            "<class 'int'>\n"
          ]
        }
      ]
    },
    {
      "cell_type": "markdown",
      "source": [
        "```\n",
        "\n",
        "Python type casting functions\n",
        "\n",
        "1. int\n",
        "2. float\n",
        "3. complex\n",
        "4. boolean\n",
        "5. string\n",
        "6. list\n",
        "7. tuple\n",
        "8. set\n",
        "9. dictionary\n",
        "\n",
        "```"
      ],
      "metadata": {
        "id": "SFGi0A0sTOr_"
      }
    },
    {
      "cell_type": "code",
      "source": [
        "a = float(input('marks in mathematics: '))\n",
        "b = float(input('marks in science: '))\n",
        "c = float(input('marks in social science: '))\n",
        "\n",
        "print(type(a))\n",
        "print(type(b))\n",
        "print(type(c))\n",
        "\n",
        "total = a+ b+ c\n",
        "print(total)\n",
        "\n",
        "print(type(total))"
      ],
      "metadata": {
        "colab": {
          "base_uri": "https://localhost:8080/"
        },
        "id": "HAfq-ZIuTLmo",
        "outputId": "142e32ae-1ffa-435f-f02d-c21c2aaa539b"
      },
      "execution_count": 9,
      "outputs": [
        {
          "output_type": "stream",
          "name": "stdout",
          "text": [
            "marks in mathematics: 45\n",
            "marks in science: 67\n",
            "marks in social science: 78.2\n",
            "<class 'float'>\n",
            "<class 'float'>\n",
            "<class 'float'>\n",
            "190.2\n",
            "<class 'float'>\n"
          ]
        }
      ]
    },
    {
      "cell_type": "code",
      "source": [
        "a = complex(input('input 1 : '))\n",
        "b = complex(input('input 2: '))\n",
        "c = complex(input('input 3: '))\n",
        "\n",
        "print(type(a))\n",
        "print(type(b))\n",
        "print(type(c))\n",
        "\n",
        "total = a+ b+ c\n",
        "print(total)\n",
        "\n",
        "print(type(total))"
      ],
      "metadata": {
        "colab": {
          "base_uri": "https://localhost:8080/"
        },
        "id": "5bMuY57ZT4Ny",
        "outputId": "cedbc5ef-5088-444d-b4a3-fb9ff4d5a48a"
      },
      "execution_count": 10,
      "outputs": [
        {
          "output_type": "stream",
          "name": "stdout",
          "text": [
            "input 1 : 99\n",
            "input 2: 98\n",
            "input 3: 100\n",
            "<class 'complex'>\n",
            "<class 'complex'>\n",
            "<class 'complex'>\n",
            "(297+0j)\n",
            "<class 'complex'>\n"
          ]
        }
      ]
    },
    {
      "cell_type": "code",
      "source": [
        "var_str1 = 'python programming'\n",
        "\n",
        "print(list(var_str1))"
      ],
      "metadata": {
        "colab": {
          "base_uri": "https://localhost:8080/"
        },
        "id": "vKqampYrT9CX",
        "outputId": "5511d22d-fa02-400f-fefc-351f0a2e0ff5"
      },
      "execution_count": 11,
      "outputs": [
        {
          "output_type": "stream",
          "name": "stdout",
          "text": [
            "['p', 'y', 't', 'h', 'o', 'n', ' ', 'p', 'r', 'o', 'g', 'r', 'a', 'm', 'm', 'i', 'n', 'g']\n"
          ]
        }
      ]
    },
    {
      "cell_type": "code",
      "source": [
        "print(tuple(var_str1))"
      ],
      "metadata": {
        "colab": {
          "base_uri": "https://localhost:8080/"
        },
        "id": "818NV25RUKoL",
        "outputId": "38d1ba7d-f102-4078-f9e9-ba5dbe77b87a"
      },
      "execution_count": 12,
      "outputs": [
        {
          "output_type": "stream",
          "name": "stdout",
          "text": [
            "('p', 'y', 't', 'h', 'o', 'n', ' ', 'p', 'r', 'o', 'g', 'r', 'a', 'm', 'm', 'i', 'n', 'g')\n"
          ]
        }
      ]
    },
    {
      "cell_type": "code",
      "source": [
        "print(set(var_str1))"
      ],
      "metadata": {
        "colab": {
          "base_uri": "https://localhost:8080/"
        },
        "id": "cyjpcnItUS9g",
        "outputId": "0cf0218e-217a-4784-c714-6923b2c1ed7a"
      },
      "execution_count": 14,
      "outputs": [
        {
          "output_type": "stream",
          "name": "stdout",
          "text": [
            "{'y', 'n', 'r', 'g', 'i', 'p', 'o', 't', 'a', 'm', ' ', 'h'}\n"
          ]
        }
      ]
    },
    {
      "cell_type": "code",
      "source": [
        "lst1 = [(1,'a'), (2,'b'), (3,'c')]\n",
        "print(dict(lst1))"
      ],
      "metadata": {
        "colab": {
          "base_uri": "https://localhost:8080/"
        },
        "id": "dcM-hfH7Udwv",
        "outputId": "c0c21d03-27a4-4921-cc9d-7ab7c95bd951"
      },
      "execution_count": 16,
      "outputs": [
        {
          "output_type": "stream",
          "name": "stdout",
          "text": [
            "{1: 'a', 2: 'b', 3: 'c'}\n"
          ]
        }
      ]
    },
    {
      "cell_type": "code",
      "source": [
        "lst2 = [['what',3], [2,4], [6,\"asdhfg\"]]\n",
        "print(dict(lst2))"
      ],
      "metadata": {
        "colab": {
          "base_uri": "https://localhost:8080/"
        },
        "id": "temu_ocEU4om",
        "outputId": "32c9aacc-69fe-494b-a3ec-13193ba2b16e"
      },
      "execution_count": 22,
      "outputs": [
        {
          "output_type": "stream",
          "name": "stdout",
          "text": [
            "{'what': 3, 2: 4, 6: 'asdhfg'}\n"
          ]
        }
      ]
    },
    {
      "cell_type": "code",
      "source": [
        "for i in range(0,100,1):\n",
        "  print('Decimal:',i)\n",
        "  print('Bianry:',bin(i))\n",
        "  print('Ocat decimal:', oct(i))\n",
        "  print('Hexa Decimal:', hex(i))"
      ],
      "metadata": {
        "colab": {
          "base_uri": "https://localhost:8080/"
        },
        "id": "nzkE9j5fVjbX",
        "outputId": "a35328ef-3b9b-455b-f21d-64b8c4f724c2"
      },
      "execution_count": 23,
      "outputs": [
        {
          "output_type": "stream",
          "name": "stdout",
          "text": [
            "Decimal: 0\n",
            "Bianry: 0b0\n",
            "Ocat decimal: 0o0\n",
            "Hexa Decimal: 0x0\n",
            "Decimal: 1\n",
            "Bianry: 0b1\n",
            "Ocat decimal: 0o1\n",
            "Hexa Decimal: 0x1\n",
            "Decimal: 2\n",
            "Bianry: 0b10\n",
            "Ocat decimal: 0o2\n",
            "Hexa Decimal: 0x2\n",
            "Decimal: 3\n",
            "Bianry: 0b11\n",
            "Ocat decimal: 0o3\n",
            "Hexa Decimal: 0x3\n",
            "Decimal: 4\n",
            "Bianry: 0b100\n",
            "Ocat decimal: 0o4\n",
            "Hexa Decimal: 0x4\n",
            "Decimal: 5\n",
            "Bianry: 0b101\n",
            "Ocat decimal: 0o5\n",
            "Hexa Decimal: 0x5\n",
            "Decimal: 6\n",
            "Bianry: 0b110\n",
            "Ocat decimal: 0o6\n",
            "Hexa Decimal: 0x6\n",
            "Decimal: 7\n",
            "Bianry: 0b111\n",
            "Ocat decimal: 0o7\n",
            "Hexa Decimal: 0x7\n",
            "Decimal: 8\n",
            "Bianry: 0b1000\n",
            "Ocat decimal: 0o10\n",
            "Hexa Decimal: 0x8\n",
            "Decimal: 9\n",
            "Bianry: 0b1001\n",
            "Ocat decimal: 0o11\n",
            "Hexa Decimal: 0x9\n",
            "Decimal: 10\n",
            "Bianry: 0b1010\n",
            "Ocat decimal: 0o12\n",
            "Hexa Decimal: 0xa\n",
            "Decimal: 11\n",
            "Bianry: 0b1011\n",
            "Ocat decimal: 0o13\n",
            "Hexa Decimal: 0xb\n",
            "Decimal: 12\n",
            "Bianry: 0b1100\n",
            "Ocat decimal: 0o14\n",
            "Hexa Decimal: 0xc\n",
            "Decimal: 13\n",
            "Bianry: 0b1101\n",
            "Ocat decimal: 0o15\n",
            "Hexa Decimal: 0xd\n",
            "Decimal: 14\n",
            "Bianry: 0b1110\n",
            "Ocat decimal: 0o16\n",
            "Hexa Decimal: 0xe\n",
            "Decimal: 15\n",
            "Bianry: 0b1111\n",
            "Ocat decimal: 0o17\n",
            "Hexa Decimal: 0xf\n",
            "Decimal: 16\n",
            "Bianry: 0b10000\n",
            "Ocat decimal: 0o20\n",
            "Hexa Decimal: 0x10\n",
            "Decimal: 17\n",
            "Bianry: 0b10001\n",
            "Ocat decimal: 0o21\n",
            "Hexa Decimal: 0x11\n",
            "Decimal: 18\n",
            "Bianry: 0b10010\n",
            "Ocat decimal: 0o22\n",
            "Hexa Decimal: 0x12\n",
            "Decimal: 19\n",
            "Bianry: 0b10011\n",
            "Ocat decimal: 0o23\n",
            "Hexa Decimal: 0x13\n",
            "Decimal: 20\n",
            "Bianry: 0b10100\n",
            "Ocat decimal: 0o24\n",
            "Hexa Decimal: 0x14\n",
            "Decimal: 21\n",
            "Bianry: 0b10101\n",
            "Ocat decimal: 0o25\n",
            "Hexa Decimal: 0x15\n",
            "Decimal: 22\n",
            "Bianry: 0b10110\n",
            "Ocat decimal: 0o26\n",
            "Hexa Decimal: 0x16\n",
            "Decimal: 23\n",
            "Bianry: 0b10111\n",
            "Ocat decimal: 0o27\n",
            "Hexa Decimal: 0x17\n",
            "Decimal: 24\n",
            "Bianry: 0b11000\n",
            "Ocat decimal: 0o30\n",
            "Hexa Decimal: 0x18\n",
            "Decimal: 25\n",
            "Bianry: 0b11001\n",
            "Ocat decimal: 0o31\n",
            "Hexa Decimal: 0x19\n",
            "Decimal: 26\n",
            "Bianry: 0b11010\n",
            "Ocat decimal: 0o32\n",
            "Hexa Decimal: 0x1a\n",
            "Decimal: 27\n",
            "Bianry: 0b11011\n",
            "Ocat decimal: 0o33\n",
            "Hexa Decimal: 0x1b\n",
            "Decimal: 28\n",
            "Bianry: 0b11100\n",
            "Ocat decimal: 0o34\n",
            "Hexa Decimal: 0x1c\n",
            "Decimal: 29\n",
            "Bianry: 0b11101\n",
            "Ocat decimal: 0o35\n",
            "Hexa Decimal: 0x1d\n",
            "Decimal: 30\n",
            "Bianry: 0b11110\n",
            "Ocat decimal: 0o36\n",
            "Hexa Decimal: 0x1e\n",
            "Decimal: 31\n",
            "Bianry: 0b11111\n",
            "Ocat decimal: 0o37\n",
            "Hexa Decimal: 0x1f\n",
            "Decimal: 32\n",
            "Bianry: 0b100000\n",
            "Ocat decimal: 0o40\n",
            "Hexa Decimal: 0x20\n",
            "Decimal: 33\n",
            "Bianry: 0b100001\n",
            "Ocat decimal: 0o41\n",
            "Hexa Decimal: 0x21\n",
            "Decimal: 34\n",
            "Bianry: 0b100010\n",
            "Ocat decimal: 0o42\n",
            "Hexa Decimal: 0x22\n",
            "Decimal: 35\n",
            "Bianry: 0b100011\n",
            "Ocat decimal: 0o43\n",
            "Hexa Decimal: 0x23\n",
            "Decimal: 36\n",
            "Bianry: 0b100100\n",
            "Ocat decimal: 0o44\n",
            "Hexa Decimal: 0x24\n",
            "Decimal: 37\n",
            "Bianry: 0b100101\n",
            "Ocat decimal: 0o45\n",
            "Hexa Decimal: 0x25\n",
            "Decimal: 38\n",
            "Bianry: 0b100110\n",
            "Ocat decimal: 0o46\n",
            "Hexa Decimal: 0x26\n",
            "Decimal: 39\n",
            "Bianry: 0b100111\n",
            "Ocat decimal: 0o47\n",
            "Hexa Decimal: 0x27\n",
            "Decimal: 40\n",
            "Bianry: 0b101000\n",
            "Ocat decimal: 0o50\n",
            "Hexa Decimal: 0x28\n",
            "Decimal: 41\n",
            "Bianry: 0b101001\n",
            "Ocat decimal: 0o51\n",
            "Hexa Decimal: 0x29\n",
            "Decimal: 42\n",
            "Bianry: 0b101010\n",
            "Ocat decimal: 0o52\n",
            "Hexa Decimal: 0x2a\n",
            "Decimal: 43\n",
            "Bianry: 0b101011\n",
            "Ocat decimal: 0o53\n",
            "Hexa Decimal: 0x2b\n",
            "Decimal: 44\n",
            "Bianry: 0b101100\n",
            "Ocat decimal: 0o54\n",
            "Hexa Decimal: 0x2c\n",
            "Decimal: 45\n",
            "Bianry: 0b101101\n",
            "Ocat decimal: 0o55\n",
            "Hexa Decimal: 0x2d\n",
            "Decimal: 46\n",
            "Bianry: 0b101110\n",
            "Ocat decimal: 0o56\n",
            "Hexa Decimal: 0x2e\n",
            "Decimal: 47\n",
            "Bianry: 0b101111\n",
            "Ocat decimal: 0o57\n",
            "Hexa Decimal: 0x2f\n",
            "Decimal: 48\n",
            "Bianry: 0b110000\n",
            "Ocat decimal: 0o60\n",
            "Hexa Decimal: 0x30\n",
            "Decimal: 49\n",
            "Bianry: 0b110001\n",
            "Ocat decimal: 0o61\n",
            "Hexa Decimal: 0x31\n",
            "Decimal: 50\n",
            "Bianry: 0b110010\n",
            "Ocat decimal: 0o62\n",
            "Hexa Decimal: 0x32\n",
            "Decimal: 51\n",
            "Bianry: 0b110011\n",
            "Ocat decimal: 0o63\n",
            "Hexa Decimal: 0x33\n",
            "Decimal: 52\n",
            "Bianry: 0b110100\n",
            "Ocat decimal: 0o64\n",
            "Hexa Decimal: 0x34\n",
            "Decimal: 53\n",
            "Bianry: 0b110101\n",
            "Ocat decimal: 0o65\n",
            "Hexa Decimal: 0x35\n",
            "Decimal: 54\n",
            "Bianry: 0b110110\n",
            "Ocat decimal: 0o66\n",
            "Hexa Decimal: 0x36\n",
            "Decimal: 55\n",
            "Bianry: 0b110111\n",
            "Ocat decimal: 0o67\n",
            "Hexa Decimal: 0x37\n",
            "Decimal: 56\n",
            "Bianry: 0b111000\n",
            "Ocat decimal: 0o70\n",
            "Hexa Decimal: 0x38\n",
            "Decimal: 57\n",
            "Bianry: 0b111001\n",
            "Ocat decimal: 0o71\n",
            "Hexa Decimal: 0x39\n",
            "Decimal: 58\n",
            "Bianry: 0b111010\n",
            "Ocat decimal: 0o72\n",
            "Hexa Decimal: 0x3a\n",
            "Decimal: 59\n",
            "Bianry: 0b111011\n",
            "Ocat decimal: 0o73\n",
            "Hexa Decimal: 0x3b\n",
            "Decimal: 60\n",
            "Bianry: 0b111100\n",
            "Ocat decimal: 0o74\n",
            "Hexa Decimal: 0x3c\n",
            "Decimal: 61\n",
            "Bianry: 0b111101\n",
            "Ocat decimal: 0o75\n",
            "Hexa Decimal: 0x3d\n",
            "Decimal: 62\n",
            "Bianry: 0b111110\n",
            "Ocat decimal: 0o76\n",
            "Hexa Decimal: 0x3e\n",
            "Decimal: 63\n",
            "Bianry: 0b111111\n",
            "Ocat decimal: 0o77\n",
            "Hexa Decimal: 0x3f\n",
            "Decimal: 64\n",
            "Bianry: 0b1000000\n",
            "Ocat decimal: 0o100\n",
            "Hexa Decimal: 0x40\n",
            "Decimal: 65\n",
            "Bianry: 0b1000001\n",
            "Ocat decimal: 0o101\n",
            "Hexa Decimal: 0x41\n",
            "Decimal: 66\n",
            "Bianry: 0b1000010\n",
            "Ocat decimal: 0o102\n",
            "Hexa Decimal: 0x42\n",
            "Decimal: 67\n",
            "Bianry: 0b1000011\n",
            "Ocat decimal: 0o103\n",
            "Hexa Decimal: 0x43\n",
            "Decimal: 68\n",
            "Bianry: 0b1000100\n",
            "Ocat decimal: 0o104\n",
            "Hexa Decimal: 0x44\n",
            "Decimal: 69\n",
            "Bianry: 0b1000101\n",
            "Ocat decimal: 0o105\n",
            "Hexa Decimal: 0x45\n",
            "Decimal: 70\n",
            "Bianry: 0b1000110\n",
            "Ocat decimal: 0o106\n",
            "Hexa Decimal: 0x46\n",
            "Decimal: 71\n",
            "Bianry: 0b1000111\n",
            "Ocat decimal: 0o107\n",
            "Hexa Decimal: 0x47\n",
            "Decimal: 72\n",
            "Bianry: 0b1001000\n",
            "Ocat decimal: 0o110\n",
            "Hexa Decimal: 0x48\n",
            "Decimal: 73\n",
            "Bianry: 0b1001001\n",
            "Ocat decimal: 0o111\n",
            "Hexa Decimal: 0x49\n",
            "Decimal: 74\n",
            "Bianry: 0b1001010\n",
            "Ocat decimal: 0o112\n",
            "Hexa Decimal: 0x4a\n",
            "Decimal: 75\n",
            "Bianry: 0b1001011\n",
            "Ocat decimal: 0o113\n",
            "Hexa Decimal: 0x4b\n",
            "Decimal: 76\n",
            "Bianry: 0b1001100\n",
            "Ocat decimal: 0o114\n",
            "Hexa Decimal: 0x4c\n",
            "Decimal: 77\n",
            "Bianry: 0b1001101\n",
            "Ocat decimal: 0o115\n",
            "Hexa Decimal: 0x4d\n",
            "Decimal: 78\n",
            "Bianry: 0b1001110\n",
            "Ocat decimal: 0o116\n",
            "Hexa Decimal: 0x4e\n",
            "Decimal: 79\n",
            "Bianry: 0b1001111\n",
            "Ocat decimal: 0o117\n",
            "Hexa Decimal: 0x4f\n",
            "Decimal: 80\n",
            "Bianry: 0b1010000\n",
            "Ocat decimal: 0o120\n",
            "Hexa Decimal: 0x50\n",
            "Decimal: 81\n",
            "Bianry: 0b1010001\n",
            "Ocat decimal: 0o121\n",
            "Hexa Decimal: 0x51\n",
            "Decimal: 82\n",
            "Bianry: 0b1010010\n",
            "Ocat decimal: 0o122\n",
            "Hexa Decimal: 0x52\n",
            "Decimal: 83\n",
            "Bianry: 0b1010011\n",
            "Ocat decimal: 0o123\n",
            "Hexa Decimal: 0x53\n",
            "Decimal: 84\n",
            "Bianry: 0b1010100\n",
            "Ocat decimal: 0o124\n",
            "Hexa Decimal: 0x54\n",
            "Decimal: 85\n",
            "Bianry: 0b1010101\n",
            "Ocat decimal: 0o125\n",
            "Hexa Decimal: 0x55\n",
            "Decimal: 86\n",
            "Bianry: 0b1010110\n",
            "Ocat decimal: 0o126\n",
            "Hexa Decimal: 0x56\n",
            "Decimal: 87\n",
            "Bianry: 0b1010111\n",
            "Ocat decimal: 0o127\n",
            "Hexa Decimal: 0x57\n",
            "Decimal: 88\n",
            "Bianry: 0b1011000\n",
            "Ocat decimal: 0o130\n",
            "Hexa Decimal: 0x58\n",
            "Decimal: 89\n",
            "Bianry: 0b1011001\n",
            "Ocat decimal: 0o131\n",
            "Hexa Decimal: 0x59\n",
            "Decimal: 90\n",
            "Bianry: 0b1011010\n",
            "Ocat decimal: 0o132\n",
            "Hexa Decimal: 0x5a\n",
            "Decimal: 91\n",
            "Bianry: 0b1011011\n",
            "Ocat decimal: 0o133\n",
            "Hexa Decimal: 0x5b\n",
            "Decimal: 92\n",
            "Bianry: 0b1011100\n",
            "Ocat decimal: 0o134\n",
            "Hexa Decimal: 0x5c\n",
            "Decimal: 93\n",
            "Bianry: 0b1011101\n",
            "Ocat decimal: 0o135\n",
            "Hexa Decimal: 0x5d\n",
            "Decimal: 94\n",
            "Bianry: 0b1011110\n",
            "Ocat decimal: 0o136\n",
            "Hexa Decimal: 0x5e\n",
            "Decimal: 95\n",
            "Bianry: 0b1011111\n",
            "Ocat decimal: 0o137\n",
            "Hexa Decimal: 0x5f\n",
            "Decimal: 96\n",
            "Bianry: 0b1100000\n",
            "Ocat decimal: 0o140\n",
            "Hexa Decimal: 0x60\n",
            "Decimal: 97\n",
            "Bianry: 0b1100001\n",
            "Ocat decimal: 0o141\n",
            "Hexa Decimal: 0x61\n",
            "Decimal: 98\n",
            "Bianry: 0b1100010\n",
            "Ocat decimal: 0o142\n",
            "Hexa Decimal: 0x62\n",
            "Decimal: 99\n",
            "Bianry: 0b1100011\n",
            "Ocat decimal: 0o143\n",
            "Hexa Decimal: 0x63\n"
          ]
        }
      ]
    },
    {
      "cell_type": "code",
      "source": [
        "help(bin)"
      ],
      "metadata": {
        "colab": {
          "base_uri": "https://localhost:8080/"
        },
        "id": "bPmDhWO1WGu4",
        "outputId": "524ae378-becf-4934-90d7-43d52efc9323"
      },
      "execution_count": 24,
      "outputs": [
        {
          "output_type": "stream",
          "name": "stdout",
          "text": [
            "Help on built-in function bin in module builtins:\n",
            "\n",
            "bin(number, /)\n",
            "    Return the binary representation of an integer.\n",
            "    \n",
            "    >>> bin(2796202)\n",
            "    '0b1010101010101010101010'\n",
            "\n"
          ]
        }
      ]
    },
    {
      "cell_type": "code",
      "source": [
        "help(hex)"
      ],
      "metadata": {
        "colab": {
          "base_uri": "https://localhost:8080/"
        },
        "id": "JRipDXgFWUCB",
        "outputId": "c0e6d7fa-7bd9-4145-eb80-6dd9ba08882d"
      },
      "execution_count": 25,
      "outputs": [
        {
          "output_type": "stream",
          "name": "stdout",
          "text": [
            "Help on built-in function hex in module builtins:\n",
            "\n",
            "hex(number, /)\n",
            "    Return the hexadecimal representation of an integer.\n",
            "    \n",
            "    >>> hex(12648430)\n",
            "    '0xc0ffee'\n",
            "\n"
          ]
        }
      ]
    },
    {
      "cell_type": "code",
      "source": [
        "lst1=['apple','banana','cherries','dates','eggfruit','fig','grapes']\n",
        "\n",
        "x = iter(lst1)\n",
        "\n",
        "print(next(x))\n",
        "print(next(x))\n",
        "print(next(x))\n",
        "print(next(x))\n",
        "print(next(x))\n",
        "print(next(x))\n",
        "print(next(x))"
      ],
      "metadata": {
        "colab": {
          "base_uri": "https://localhost:8080/"
        },
        "id": "JvJ4Z4JPWXZG",
        "outputId": "addd6261-f784-4566-f1d4-4545dc273204"
      },
      "execution_count": 31,
      "outputs": [
        {
          "output_type": "stream",
          "name": "stdout",
          "text": [
            "apple\n",
            "banana\n",
            "cherries\n",
            "dates\n",
            "eggfruit\n",
            "fig\n",
            "grapes\n"
          ]
        }
      ]
    },
    {
      "cell_type": "code",
      "source": [
        "tup1=('apple','banana','cherries','dates','eggfruit','fig','grapes')\n",
        "\n",
        "x = iter(tup1)\n",
        "\n",
        "print(next(x))\n",
        "print(next(x))\n",
        "print(next(x))\n",
        "print(next(x))\n",
        "print(next(x))\n",
        "print(next(x))\n",
        "print(next(x))\n",
        "print(next(x))"
      ],
      "metadata": {
        "colab": {
          "base_uri": "https://localhost:8080/",
          "height": 331
        },
        "id": "Laqlr6SeWjjY",
        "outputId": "ccefbbc7-3a37-4ac1-93d0-7df889f499f1"
      },
      "execution_count": 32,
      "outputs": [
        {
          "output_type": "stream",
          "name": "stdout",
          "text": [
            "apple\n",
            "banana\n",
            "cherries\n",
            "dates\n",
            "eggfruit\n",
            "fig\n",
            "grapes\n"
          ]
        },
        {
          "output_type": "error",
          "ename": "StopIteration",
          "evalue": "ignored",
          "traceback": [
            "\u001b[0;31m---------------------------------------------------------------------------\u001b[0m",
            "\u001b[0;31mStopIteration\u001b[0m                             Traceback (most recent call last)",
            "\u001b[0;32m<ipython-input-32-3217ccbe0348>\u001b[0m in \u001b[0;36m<cell line: 12>\u001b[0;34m()\u001b[0m\n\u001b[1;32m     10\u001b[0m \u001b[0mprint\u001b[0m\u001b[0;34m(\u001b[0m\u001b[0mnext\u001b[0m\u001b[0;34m(\u001b[0m\u001b[0mx\u001b[0m\u001b[0;34m)\u001b[0m\u001b[0;34m)\u001b[0m\u001b[0;34m\u001b[0m\u001b[0;34m\u001b[0m\u001b[0m\n\u001b[1;32m     11\u001b[0m \u001b[0mprint\u001b[0m\u001b[0;34m(\u001b[0m\u001b[0mnext\u001b[0m\u001b[0;34m(\u001b[0m\u001b[0mx\u001b[0m\u001b[0;34m)\u001b[0m\u001b[0;34m)\u001b[0m\u001b[0;34m\u001b[0m\u001b[0;34m\u001b[0m\u001b[0m\n\u001b[0;32m---> 12\u001b[0;31m \u001b[0mprint\u001b[0m\u001b[0;34m(\u001b[0m\u001b[0mnext\u001b[0m\u001b[0;34m(\u001b[0m\u001b[0mx\u001b[0m\u001b[0;34m)\u001b[0m\u001b[0;34m)\u001b[0m\u001b[0;34m\u001b[0m\u001b[0;34m\u001b[0m\u001b[0m\n\u001b[0m",
            "\u001b[0;31mStopIteration\u001b[0m: "
          ]
        }
      ]
    },
    {
      "cell_type": "code",
      "source": [
        "set1={'apple','banana','cherries','dates','eggfruit','fig','grapes','banana','cherries','dates','eggfruit','fig'}\n",
        "\n",
        "x = iter(set1)\n",
        "\n",
        "print(next(x))\n",
        "print(next(x))\n",
        "print(next(x))\n",
        "print(next(x))\n",
        "print(next(x))\n",
        "print(next(x))\n",
        "print(next(x))\n",
        "print(next(x))"
      ],
      "metadata": {
        "colab": {
          "base_uri": "https://localhost:8080/",
          "height": 331
        },
        "id": "EZri5TL7WxeV",
        "outputId": "dcabac21-40db-4b2e-ec9f-53f3ad9d72a5"
      },
      "execution_count": 33,
      "outputs": [
        {
          "output_type": "stream",
          "name": "stdout",
          "text": [
            "grapes\n",
            "eggfruit\n",
            "dates\n",
            "apple\n",
            "banana\n",
            "fig\n",
            "cherries\n"
          ]
        },
        {
          "output_type": "error",
          "ename": "StopIteration",
          "evalue": "ignored",
          "traceback": [
            "\u001b[0;31m---------------------------------------------------------------------------\u001b[0m",
            "\u001b[0;31mStopIteration\u001b[0m                             Traceback (most recent call last)",
            "\u001b[0;32m<ipython-input-33-1c665f83ab47>\u001b[0m in \u001b[0;36m<cell line: 12>\u001b[0;34m()\u001b[0m\n\u001b[1;32m     10\u001b[0m \u001b[0mprint\u001b[0m\u001b[0;34m(\u001b[0m\u001b[0mnext\u001b[0m\u001b[0;34m(\u001b[0m\u001b[0mx\u001b[0m\u001b[0;34m)\u001b[0m\u001b[0;34m)\u001b[0m\u001b[0;34m\u001b[0m\u001b[0;34m\u001b[0m\u001b[0m\n\u001b[1;32m     11\u001b[0m \u001b[0mprint\u001b[0m\u001b[0;34m(\u001b[0m\u001b[0mnext\u001b[0m\u001b[0;34m(\u001b[0m\u001b[0mx\u001b[0m\u001b[0;34m)\u001b[0m\u001b[0;34m)\u001b[0m\u001b[0;34m\u001b[0m\u001b[0;34m\u001b[0m\u001b[0m\n\u001b[0;32m---> 12\u001b[0;31m \u001b[0mprint\u001b[0m\u001b[0;34m(\u001b[0m\u001b[0mnext\u001b[0m\u001b[0;34m(\u001b[0m\u001b[0mx\u001b[0m\u001b[0;34m)\u001b[0m\u001b[0;34m)\u001b[0m\u001b[0;34m\u001b[0m\u001b[0;34m\u001b[0m\u001b[0m\n\u001b[0m",
            "\u001b[0;31mStopIteration\u001b[0m: "
          ]
        }
      ]
    },
    {
      "cell_type": "code",
      "source": [
        "Dic2 = {'Hagas': 200300, \"barentu\": 500000, 'Mendefera': 250000}\n",
        "\n",
        "y=iter(Dic2)\n",
        "\n",
        "print(next(y))\n",
        "print(next(y))"
      ],
      "metadata": {
        "colab": {
          "base_uri": "https://localhost:8080/"
        },
        "id": "4050SHS5W3wj",
        "outputId": "9c237712-7ca0-44c6-b05d-e70c1e4fd8d2"
      },
      "execution_count": 41,
      "outputs": [
        {
          "output_type": "stream",
          "name": "stdout",
          "text": [
            "Hagas\n",
            "barentu\n"
          ]
        }
      ]
    },
    {
      "cell_type": "code",
      "source": [
        "str1 = 'Python Programming'\n",
        "len(str1)"
      ],
      "metadata": {
        "colab": {
          "base_uri": "https://localhost:8080/"
        },
        "id": "LuDdJfF6XtTZ",
        "outputId": "54635231-e97e-41ae-fc93-33f4910d21f7"
      },
      "execution_count": 42,
      "outputs": [
        {
          "output_type": "execute_result",
          "data": {
            "text/plain": [
              "18"
            ]
          },
          "metadata": {},
          "execution_count": 42
        }
      ]
    },
    {
      "cell_type": "code",
      "source": [
        "lst1 = ['happle','banana','cherries','dates','eggfruit','fig','grapes']\n",
        "len(lst1)"
      ],
      "metadata": {
        "colab": {
          "base_uri": "https://localhost:8080/"
        },
        "id": "R1rEHlDhXx90",
        "outputId": "216432ce-da78-487d-97c2-703d4f745b11"
      },
      "execution_count": 43,
      "outputs": [
        {
          "output_type": "execute_result",
          "data": {
            "text/plain": [
              "7"
            ]
          },
          "metadata": {},
          "execution_count": 43
        }
      ]
    },
    {
      "cell_type": "code",
      "source": [
        "min(lst1)"
      ],
      "metadata": {
        "colab": {
          "base_uri": "https://localhost:8080/",
          "height": 36
        },
        "id": "zhVmRnhPX1TV",
        "outputId": "a4813a39-8994-4444-f490-de6515c29f24"
      },
      "execution_count": 45,
      "outputs": [
        {
          "output_type": "execute_result",
          "data": {
            "text/plain": [
              "'banana'"
            ],
            "application/vnd.google.colaboratory.intrinsic+json": {
              "type": "string"
            }
          },
          "metadata": {},
          "execution_count": 45
        }
      ]
    },
    {
      "cell_type": "code",
      "source": [
        "max(lst1)"
      ],
      "metadata": {
        "colab": {
          "base_uri": "https://localhost:8080/",
          "height": 36
        },
        "id": "ReMIRZFyX336",
        "outputId": "9d7a6bdb-78bb-4e90-ec2c-fa81bcfe334b"
      },
      "execution_count": 46,
      "outputs": [
        {
          "output_type": "execute_result",
          "data": {
            "text/plain": [
              "'happle'"
            ],
            "application/vnd.google.colaboratory.intrinsic+json": {
              "type": "string"
            }
          },
          "metadata": {},
          "execution_count": 46
        }
      ]
    },
    {
      "cell_type": "code",
      "source": [
        "flt1 = 4.567989\n",
        "print(round(flt1,4))"
      ],
      "metadata": {
        "colab": {
          "base_uri": "https://localhost:8080/"
        },
        "id": "1M_2NZcuX7GV",
        "outputId": "efc071f5-64e8-4ffb-f222-29b08d5e2bc5"
      },
      "execution_count": 48,
      "outputs": [
        {
          "output_type": "stream",
          "name": "stdout",
          "text": [
            "4.568\n"
          ]
        }
      ]
    },
    {
      "cell_type": "code",
      "source": [
        "lst1 = [1,1.307,1.2,1.09,1.5,1.11,1.306,1.305,1.6,1.1]\n",
        "#sorted(lst1)\n",
        "lst1.sort()\n",
        "lst1"
      ],
      "metadata": {
        "colab": {
          "base_uri": "https://localhost:8080/"
        },
        "id": "rqHqTFtAYFZD",
        "outputId": "15664182-2b7a-4616-dd04-2108a551f4e8"
      },
      "execution_count": 49,
      "outputs": [
        {
          "output_type": "execute_result",
          "data": {
            "text/plain": [
              "[1, 1.09, 1.1, 1.11, 1.2, 1.305, 1.306, 1.307, 1.5, 1.6]"
            ]
          },
          "metadata": {},
          "execution_count": 49
        }
      ]
    },
    {
      "cell_type": "code",
      "source": [
        "lst1 = [\"Biinaiam\", 'Berhe', \"Hagas\" , \"Barentu\", \"Assab\"]\n",
        "\n",
        "lst1.sort()\n",
        "lst1"
      ],
      "metadata": {
        "colab": {
          "base_uri": "https://localhost:8080/"
        },
        "id": "JxF0RoHKYVog",
        "outputId": "46a6cac8-fd73-4302-ef0f-e52ed2e1b0c1"
      },
      "execution_count": 50,
      "outputs": [
        {
          "output_type": "execute_result",
          "data": {
            "text/plain": [
              "['Assab', 'Barentu', 'Berhe', 'Biinaiam', 'Hagas']"
            ]
          },
          "metadata": {},
          "execution_count": 50
        }
      ]
    },
    {
      "cell_type": "markdown",
      "source": [
        "## Tuesday Dec 12, 2023"
      ],
      "metadata": {
        "id": "cB3OALT4acqO"
      }
    },
    {
      "cell_type": "markdown",
      "source": [
        "```\n",
        "python user define function\n",
        "\n",
        "```"
      ],
      "metadata": {
        "id": "I8t14qnraju_"
      }
    },
    {
      "cell_type": "code",
      "source": [
        "def welcom_world():\n",
        "  print('Welcome to the BootCamp 2023')"
      ],
      "metadata": {
        "id": "yr89TsYpYiYj"
      },
      "execution_count": 51,
      "outputs": []
    },
    {
      "cell_type": "code",
      "source": [
        "welcom_world()"
      ],
      "metadata": {
        "colab": {
          "base_uri": "https://localhost:8080/"
        },
        "id": "EawGG0hNa3R_",
        "outputId": "5468e811-44d1-4fdf-c0b6-0fff322117d3"
      },
      "execution_count": 54,
      "outputs": [
        {
          "output_type": "stream",
          "name": "stdout",
          "text": [
            "Welcome to the BootCamp 2023\n"
          ]
        }
      ]
    },
    {
      "cell_type": "code",
      "source": [
        "def add_3(a,b,c):\n",
        "  return(a+b+c)"
      ],
      "metadata": {
        "id": "VU1RKPisa_QB"
      },
      "execution_count": 55,
      "outputs": []
    },
    {
      "cell_type": "code",
      "source": [
        "add_3(3,4,5)"
      ],
      "metadata": {
        "colab": {
          "base_uri": "https://localhost:8080/"
        },
        "id": "JXDtIjehbI4k",
        "outputId": "975c97ab-8f77-47b5-b079-8ab11eeb557c"
      },
      "execution_count": 57,
      "outputs": [
        {
          "output_type": "execute_result",
          "data": {
            "text/plain": [
              "12"
            ]
          },
          "metadata": {},
          "execution_count": 57
        }
      ]
    },
    {
      "cell_type": "code",
      "source": [],
      "metadata": {
        "id": "BcorG5NbbPHc"
      },
      "execution_count": null,
      "outputs": []
    }
  ],
  "metadata": {
    "colab": {
      "provenance": [],
      "authorship_tag": "ABX9TyPMj0prhAfufjROlWXuHKU6",
      "include_colab_link": true
    },
    "kernelspec": {
      "display_name": "Python 3",
      "name": "python3"
    },
    "language_info": {
      "name": "python"
    }
  },
  "nbformat": 4,
  "nbformat_minor": 0
}