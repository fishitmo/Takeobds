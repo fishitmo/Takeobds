{
  "cells": [
    {
      "cell_type": "markdown",
      "metadata": {
        "id": "view-in-github",
        "colab_type": "text"
      },
      "source": [
        "<a href=\"https://colab.research.google.com/github/fishitmo/Takeobds/blob/main/TAkeo_pytthon_practice.ipynb\" target=\"_parent\"><img src=\"https://colab.research.google.com/assets/colab-badge.svg\" alt=\"Open In Colab\"/></a>"
      ]
    },
    {
      "cell_type": "code",
      "execution_count": 1,
      "metadata": {
        "colab": {
          "base_uri": "https://localhost:8080/"
        },
        "id": "JLNAww7oF0_w",
        "outputId": "964e769e-a5ee-4cb3-af20-a763c19fc3b2"
      },
      "outputs": [
        {
          "output_type": "stream",
          "name": "stdout",
          "text": [
            "a<b\n"
          ]
        }
      ],
      "source": [
        "a = 20\n",
        "b= 45\n",
        "c= 5\n",
        "\n",
        "if a < b:\n",
        "  print(\"a<b\")\n",
        "elif b<c:\n",
        "  print(\"b<c\")\n",
        "elif a<c:\n",
        "  print(\"a<c\")\n",
        "else:\n",
        "  print('we are in else part')"
      ]
    },
    {
      "cell_type": "code",
      "execution_count": 1,
      "metadata": {
        "id": "V269H_oRNFZz"
      },
      "outputs": [],
      "source": []
    },
    {
      "cell_type": "code",
      "execution_count": 2,
      "metadata": {
        "colab": {
          "base_uri": "https://localhost:8080/"
        },
        "id": "xHUMpTZVHuTL",
        "outputId": "bedf8872-4f54-4529-dc04-0ff522f8995b"
      },
      "outputs": [
        {
          "output_type": "stream",
          "name": "stdout",
          "text": [
            "a<100\n",
            "else a >85\n"
          ]
        }
      ],
      "source": [
        "a= 90\n",
        "\n",
        "if a< 100:\n",
        "  print('a<100')\n",
        "  if a < 85:\n",
        "    print('a,85')\n",
        "    if a < 70:\n",
        "      print('a<70')\n",
        "      if a<55:\n",
        "        print('a<55')\n",
        "      else:\n",
        "        print('else a>55')\n",
        "    else:\n",
        "       print('else a>70')\n",
        "  else:\n",
        "    print(\"else a >85\")\n",
        "else:\n",
        "  print(\"else a>100\")\n"
      ]
    },
    {
      "cell_type": "code",
      "execution_count": 3,
      "metadata": {
        "colab": {
          "base_uri": "https://localhost:8080/"
        },
        "id": "hlLNENJNNHQy",
        "outputId": "3c3c11cf-70ab-48b7-9511-be2d4d13f574"
      },
      "outputs": [
        {
          "output_type": "stream",
          "name": "stdout",
          "text": [
            "5050\n"
          ]
        }
      ],
      "source": [
        "a=0\n",
        "for i in range(1,101,1):\n",
        "  a += i\n",
        "print(a)"
      ]
    },
    {
      "cell_type": "code",
      "execution_count": 4,
      "metadata": {
        "colab": {
          "base_uri": "https://localhost:8080/"
        },
        "id": "rtAmHRaYN6m7",
        "outputId": "a1c2b9d4-5578-4945-a3b1-35e58bc9388b"
      },
      "outputs": [
        {
          "output_type": "stream",
          "name": "stdout",
          "text": [
            "5050\n"
          ]
        }
      ],
      "source": [
        "a =0\n",
        "i = 1\n",
        "while i <= 100:\n",
        "\n",
        "     a +=i\n",
        "     i += 1\n",
        "print(a)"
      ]
    },
    {
      "cell_type": "markdown",
      "metadata": {
        "id": "bSH1hkYO2zF4"
      },
      "source": [
        "# Built in Functions of Python List Data Type"
      ]
    },
    {
      "cell_type": "code",
      "execution_count": 5,
      "metadata": {
        "id": "MaBwYPOA2XyG"
      },
      "outputs": [],
      "source": [
        "lst1 = [\"Apple\", 'Banana', 'Cherrys', 'Orange', 'Pynaple','Honey-Fruit']"
      ]
    },
    {
      "cell_type": "code",
      "execution_count": 6,
      "metadata": {
        "colab": {
          "base_uri": "https://localhost:8080/"
        },
        "id": "4yvh-5WSCFWI",
        "outputId": "f2d369de-9359-4e57-c8de-385124a94794"
      },
      "outputs": [
        {
          "output_type": "stream",
          "name": "stdout",
          "text": [
            "['Apple', 'Banana', 'Cherrys', 'Orange', 'Pynaple', 'Honey-Fruit'] <class 'list'>\n"
          ]
        }
      ],
      "source": [
        "print(lst1, type(lst1))"
      ]
    },
    {
      "cell_type": "code",
      "execution_count": 7,
      "metadata": {
        "colab": {
          "base_uri": "https://localhost:8080/"
        },
        "id": "rPyChjJ8CPJJ",
        "outputId": "94ff1f77-0387-4520-e31c-a90652d81b2b"
      },
      "outputs": [
        {
          "output_type": "stream",
          "name": "stdout",
          "text": [
            "['Apple', 'Banana', 'Cherrys', 'Orange', 'Pynaple', 'Honey-Fruit']\n",
            "['Apple', 'Banana', 'Cherrys', 'Orange', 'Pynaple', 'Honey-Fruit', 'Mango']\n"
          ]
        }
      ],
      "source": [
        "print(lst1)\n",
        "lst1.append('Mango')\n",
        "print(lst1)"
      ]
    },
    {
      "cell_type": "code",
      "execution_count": 8,
      "metadata": {
        "colab": {
          "base_uri": "https://localhost:8080/"
        },
        "id": "eOp6F4hnCYZk",
        "outputId": "2ee4ca47-6b51-4e35-d720-7f775d14837a"
      },
      "outputs": [
        {
          "output_type": "stream",
          "name": "stdout",
          "text": [
            "['Apple', 'Banana', 'Cherrys', 'Orange', 'Pynaple', 'Honey-Fruit', 'Mango']\n",
            "[]\n"
          ]
        }
      ],
      "source": [
        "print(lst1)\n",
        "lst1.clear()\n",
        "print(lst1)"
      ]
    },
    {
      "cell_type": "code",
      "execution_count": 9,
      "metadata": {
        "colab": {
          "base_uri": "https://localhost:8080/"
        },
        "id": "cfrN3BAECsIt",
        "outputId": "56b5f85e-a7ca-437c-d5dc-2f6202194f9b"
      },
      "outputs": [
        {
          "output_type": "stream",
          "name": "stdout",
          "text": [
            "[]\n"
          ]
        }
      ],
      "source": [
        "print(lst1)"
      ]
    },
    {
      "cell_type": "code",
      "execution_count": 23,
      "metadata": {
        "id": "24McCv83OJnZ"
      },
      "outputs": [],
      "source": [
        "lst1= [\"Mendefera\", \"Dekemhare\", \"Asmara\",\"Teseney\",\"Massawa\",\"Assab\",\"Keren\",\"Barentu\",\"Adi-Keihe\",\"Adi-Kuala\"]"
      ]
    },
    {
      "cell_type": "code",
      "execution_count": 24,
      "metadata": {
        "colab": {
          "base_uri": "https://localhost:8080/"
        },
        "id": "bgR3dZspOssb",
        "outputId": "4b3597e5-2484-4c84-aa18-4e408f5a748b"
      },
      "outputs": [
        {
          "output_type": "stream",
          "name": "stdout",
          "text": [
            "['Mendefera', 'Dekemhare', 'Asmara', 'Teseney', 'Massawa', 'Assab', 'Keren', 'Barentu', 'Adi-Keihe', 'Adi-Kuala']\n",
            "['Mendefera', 'Dekemhare', 'Asmara', 'Teseney', 'Massawa', 'Assab', 'Keren', 'Barentu', 'Adi-Keihe', 'Adi-Kuala'] ['Mendefera', 'Dekemhare', 'Asmara', 'Teseney', 'Massawa', 'Assab', 'Keren', 'Barentu', 'Adi-Keihe', 'Adi-Kuala']\n"
          ]
        }
      ],
      "source": [
        "print(lst1)\n",
        "lst2= lst1.copy()\n",
        "print(lst1, lst2)"
      ]
    },
    {
      "cell_type": "code",
      "execution_count": 25,
      "metadata": {
        "colab": {
          "base_uri": "https://localhost:8080/"
        },
        "id": "p2cpJGGjO4Qt",
        "outputId": "1187cd0c-f8ac-4027-e401-0eed9abc7bf4"
      },
      "outputs": [
        {
          "output_type": "stream",
          "name": "stdout",
          "text": [
            "['Mendefera', 'Dekemhare', 'Asmara', 'Teseney', 'Massawa', 'Assab', 'Keren', 'Barentu', 'Adi-Keihe', 'Adi-Kuala']\n"
          ]
        },
        {
          "output_type": "execute_result",
          "data": {
            "text/plain": [
              "1"
            ]
          },
          "metadata": {},
          "execution_count": 25
        }
      ],
      "source": [
        "print(lst1)\n",
        "lst1.count(\"Asmara\")"
      ]
    },
    {
      "cell_type": "code",
      "execution_count": 26,
      "metadata": {
        "colab": {
          "base_uri": "https://localhost:8080/"
        },
        "id": "hucDb0LX3Vlg",
        "outputId": "063cbffa-f2df-4f53-f582-7588251e2ce8"
      },
      "outputs": [
        {
          "output_type": "stream",
          "name": "stdout",
          "text": [
            "['Mendefera', 'Dekemhare', 'Asmara', 'Teseney', 'Massawa', 'Assab', 'Keren', 'Barentu', 'Adi-Keihe', 'Adi-Kuala']\n",
            "['Mendefera', 'Dekemhare', 'Asmara', 'Teseney', 'Massawa', 'Assab', 'Keren', 'Barentu', 'Adi-Keihe', 'Adi-Kuala', 'Ghinda', 'Akurdet', 'Eilabered', 'Tieo', 'Nakfa']\n"
          ]
        }
      ],
      "source": [
        "print(lst1)\n",
        "lst1.extend(['Ghinda', 'Akurdet', 'Eilabered', 'Tieo', 'Nakfa'])\n",
        "print(lst1)"
      ]
    },
    {
      "cell_type": "code",
      "execution_count": 27,
      "metadata": {
        "colab": {
          "base_uri": "https://localhost:8080/"
        },
        "id": "aV7v6ZlN3_la",
        "outputId": "596b1527-3971-4ae1-a892-dd5fe8bef875"
      },
      "outputs": [
        {
          "output_type": "stream",
          "name": "stdout",
          "text": [
            "['Mendefera', 'Dekemhare', 'Asmara', 'Teseney', 'Massawa', 'Assab', 'Keren', 'Barentu', 'Adi-Keihe', 'Adi-Kuala', 'Ghinda', 'Akurdet', 'Eilabered', 'Tieo', 'Nakfa']\n"
          ]
        },
        {
          "output_type": "execute_result",
          "data": {
            "text/plain": [
              "2"
            ]
          },
          "metadata": {},
          "execution_count": 27
        }
      ],
      "source": [
        "print(lst1)\n",
        "lst1.index('Asmara')"
      ]
    },
    {
      "cell_type": "code",
      "execution_count": 28,
      "metadata": {
        "colab": {
          "base_uri": "https://localhost:8080/"
        },
        "id": "N7osg-3xYYoh",
        "outputId": "94ac2a84-46a4-462e-c69d-2cb2ce88ee55"
      },
      "outputs": [
        {
          "output_type": "execute_result",
          "data": {
            "text/plain": [
              "4"
            ]
          },
          "metadata": {},
          "execution_count": 28
        }
      ],
      "source": [
        "lst1.index('Massawa',2,7 )"
      ]
    },
    {
      "cell_type": "code",
      "execution_count": 29,
      "metadata": {
        "id": "BAjEZJ97Y506",
        "colab": {
          "base_uri": "https://localhost:8080/"
        },
        "outputId": "064ce1f6-7c88-410b-f1b1-1d0edeace7e6"
      },
      "outputs": [
        {
          "output_type": "stream",
          "name": "stdout",
          "text": [
            "['Mendefera', 'Dekemhare', 'Asmara', 'Teseney', 'Massawa', 'Assab', 'Keren', 'Barentu', 'Adi-Keihe', 'Adi-Kuala', 'Ghinda', 'Akurdet', 'Eilabered', 'Tieo', 'Nakfa']\n",
            "['Mendefera', 'Dekemhare', 'Debarwa', 'Asmara', 'Teseney', 'Massawa', 'Assab', 'Keren', 'Barentu', 'Adi-Keihe', 'Adi-Kuala', 'Ghinda', 'Akurdet', 'Eilabered', 'Tieo', 'Nakfa']\n"
          ]
        }
      ],
      "source": [
        "print(lst1)\n",
        "lst1.insert(2,'Debarwa')\n",
        "print(lst1)"
      ]
    },
    {
      "cell_type": "code",
      "execution_count": 30,
      "metadata": {
        "colab": {
          "base_uri": "https://localhost:8080/"
        },
        "id": "94mqthJsVj-l",
        "outputId": "7cee349c-bb1e-4fb7-ec2f-134a2e436ab5"
      },
      "outputs": [
        {
          "output_type": "stream",
          "name": "stdout",
          "text": [
            "['Mendefera', 'Dekemhare', 'Debarwa', 'Asmara', 'Teseney', 'Massawa', 'Assab', 'Keren', 'Barentu', 'Adi-Keihe', 'Adi-Kuala', 'Ghinda', 'Akurdet', 'Eilabered', 'Tieo', 'Nakfa']\n",
            "['Mendefera', 'Dekemhare', 'Debarwa', 'Asmara', 'Teseney', 'Massawa', 'Assab', 'Keren', 'Barentu', 'Adi-Keihe', 'Adi-Kuala', 'Ghinda', 'Akurdet', 'Eilabered', 'Tieo']\n",
            "['Mendefera', 'Dekemhare', 'Debarwa', 'Asmara', 'Teseney', 'Massawa', 'Assab', 'Keren', 'Barentu', 'Adi-Keihe', 'Adi-Kuala', 'Ghinda', 'Akurdet', 'Eilabered']\n",
            "['Mendefera', 'Dekemhare', 'Debarwa', 'Asmara', 'Teseney', 'Massawa', 'Assab', 'Keren', 'Barentu', 'Adi-Keihe', 'Adi-Kuala', 'Ghinda', 'Akurdet']\n",
            "['Mendefera', 'Dekemhare', 'Debarwa', 'Asmara', 'Teseney', 'Massawa', 'Assab', 'Keren', 'Barentu', 'Adi-Keihe', 'Adi-Kuala', 'Ghinda']\n"
          ]
        }
      ],
      "source": [
        "print(lst1)\n",
        "lst1.pop()\n",
        "print(lst1)\n",
        "lst1.pop()\n",
        "print(lst1)\n",
        "lst1.pop()\n",
        "print(lst1)\n",
        "lst1.pop()\n",
        "print(lst1)"
      ]
    },
    {
      "cell_type": "code",
      "source": [
        "lst1= [\"Mendefera\", \"Dekemhare\", \"Asmara\",\"Teseney\",\"Massawa\",\"Assab\",\"Keren\",\"Barentu\",\"Adi-Keihe\",\"Adi-Kuala\"]"
      ],
      "metadata": {
        "id": "Zf5O8gPjH31B"
      },
      "execution_count": 31,
      "outputs": []
    },
    {
      "cell_type": "code",
      "source": [
        "print(lst1)\n",
        "lst1.pop(1)\n",
        "print(lst1)"
      ],
      "metadata": {
        "colab": {
          "base_uri": "https://localhost:8080/"
        },
        "id": "ai1mDhJwICTe",
        "outputId": "5550dee8-84bb-4541-fbed-e77a34db241e"
      },
      "execution_count": 32,
      "outputs": [
        {
          "output_type": "stream",
          "name": "stdout",
          "text": [
            "['Mendefera', 'Dekemhare', 'Asmara', 'Teseney', 'Massawa', 'Assab', 'Keren', 'Barentu', 'Adi-Keihe', 'Adi-Kuala']\n",
            "['Mendefera', 'Asmara', 'Teseney', 'Massawa', 'Assab', 'Keren', 'Barentu', 'Adi-Keihe', 'Adi-Kuala']\n"
          ]
        }
      ]
    },
    {
      "cell_type": "code",
      "source": [
        "print(lst1)\n",
        "lst1.remove('Massawa')\n",
        "print(lst1)"
      ],
      "metadata": {
        "colab": {
          "base_uri": "https://localhost:8080/"
        },
        "id": "RrQ1UPvkIXIe",
        "outputId": "bf4b6bec-dd7c-4ea7-8d3a-b56738ca6396"
      },
      "execution_count": 33,
      "outputs": [
        {
          "output_type": "stream",
          "name": "stdout",
          "text": [
            "['Mendefera', 'Asmara', 'Teseney', 'Massawa', 'Assab', 'Keren', 'Barentu', 'Adi-Keihe', 'Adi-Kuala']\n",
            "['Mendefera', 'Asmara', 'Teseney', 'Assab', 'Keren', 'Barentu', 'Adi-Keihe', 'Adi-Kuala']\n"
          ]
        }
      ]
    },
    {
      "cell_type": "code",
      "source": [
        "print(lst1)\n",
        "lst1.reverse()\n",
        "print(lst1)"
      ],
      "metadata": {
        "colab": {
          "base_uri": "https://localhost:8080/"
        },
        "id": "jAFpAsIFIz5_",
        "outputId": "384debd7-5757-49cd-c988-8c0353d85421"
      },
      "execution_count": 34,
      "outputs": [
        {
          "output_type": "stream",
          "name": "stdout",
          "text": [
            "['Mendefera', 'Asmara', 'Teseney', 'Assab', 'Keren', 'Barentu', 'Adi-Keihe', 'Adi-Kuala']\n",
            "['Adi-Kuala', 'Adi-Keihe', 'Barentu', 'Keren', 'Assab', 'Teseney', 'Asmara', 'Mendefera']\n"
          ]
        }
      ]
    },
    {
      "cell_type": "code",
      "source": [
        "lst1= [\"Mendefera\", \"Dekemhare\", \"Asmara\",\"Teseney\",\"Massawa\",\"Assab\",\"Keren\",\"Barentu\",\"Adi-Keihe\",\"Adi-Kuala\"]"
      ],
      "metadata": {
        "id": "1zXZnE76JvNL"
      },
      "execution_count": 38,
      "outputs": []
    },
    {
      "cell_type": "code",
      "source": [
        "lst1[0], lst1[1], lst1[2]"
      ],
      "metadata": {
        "colab": {
          "base_uri": "https://localhost:8080/"
        },
        "id": "SpI-OrWWJCy6",
        "outputId": "e5f7d901-065e-4cbd-eb5b-59c347ef46a7"
      },
      "execution_count": 39,
      "outputs": [
        {
          "output_type": "execute_result",
          "data": {
            "text/plain": [
              "('Mendefera', 'Dekemhare', 'Asmara')"
            ]
          },
          "metadata": {},
          "execution_count": 39
        }
      ]
    },
    {
      "cell_type": "code",
      "source": [
        "lst1[0:3:1]"
      ],
      "metadata": {
        "colab": {
          "base_uri": "https://localhost:8080/"
        },
        "id": "aEdy6GTWJmHl",
        "outputId": "cf77b14c-314c-4fd0-e97f-b0293cefff48"
      },
      "execution_count": 40,
      "outputs": [
        {
          "output_type": "execute_result",
          "data": {
            "text/plain": [
              "['Mendefera', 'Dekemhare', 'Asmara']"
            ]
          },
          "metadata": {},
          "execution_count": 40
        }
      ]
    },
    {
      "cell_type": "code",
      "source": [
        "lst1[2:7:1]"
      ],
      "metadata": {
        "colab": {
          "base_uri": "https://localhost:8080/"
        },
        "id": "XOe0Zx12J6Qe",
        "outputId": "bc7f7d26-6a36-4ed4-b251-5d76e8c71cf3"
      },
      "execution_count": 41,
      "outputs": [
        {
          "output_type": "execute_result",
          "data": {
            "text/plain": [
              "['Asmara', 'Teseney', 'Massawa', 'Assab', 'Keren']"
            ]
          },
          "metadata": {},
          "execution_count": 41
        }
      ]
    },
    {
      "cell_type": "code",
      "source": [
        "lst1[1::1]"
      ],
      "metadata": {
        "colab": {
          "base_uri": "https://localhost:8080/"
        },
        "id": "uZFuwXDLKGJH",
        "outputId": "4d83b6cb-5b8d-4c9a-9a72-cff3b9ed5e62"
      },
      "execution_count": 42,
      "outputs": [
        {
          "output_type": "execute_result",
          "data": {
            "text/plain": [
              "['Dekemhare',\n",
              " 'Asmara',\n",
              " 'Teseney',\n",
              " 'Massawa',\n",
              " 'Assab',\n",
              " 'Keren',\n",
              " 'Barentu',\n",
              " 'Adi-Keihe',\n",
              " 'Adi-Kuala']"
            ]
          },
          "metadata": {},
          "execution_count": 42
        }
      ]
    },
    {
      "cell_type": "code",
      "source": [
        "lst1[::]"
      ],
      "metadata": {
        "colab": {
          "base_uri": "https://localhost:8080/"
        },
        "id": "mGbqUYNuKM-o",
        "outputId": "b4091f83-0dc7-42aa-d874-296864eccffe"
      },
      "execution_count": 43,
      "outputs": [
        {
          "output_type": "execute_result",
          "data": {
            "text/plain": [
              "['Mendefera',\n",
              " 'Dekemhare',\n",
              " 'Asmara',\n",
              " 'Teseney',\n",
              " 'Massawa',\n",
              " 'Assab',\n",
              " 'Keren',\n",
              " 'Barentu',\n",
              " 'Adi-Keihe',\n",
              " 'Adi-Kuala']"
            ]
          },
          "metadata": {},
          "execution_count": 43
        }
      ]
    },
    {
      "cell_type": "code",
      "source": [
        "lst1[0:len(lst1):1]"
      ],
      "metadata": {
        "colab": {
          "base_uri": "https://localhost:8080/"
        },
        "id": "Ve1WVMaqKZvC",
        "outputId": "f12954bf-9c03-4c52-d3e2-ad19b6d2a730"
      },
      "execution_count": 44,
      "outputs": [
        {
          "output_type": "execute_result",
          "data": {
            "text/plain": [
              "['Mendefera',\n",
              " 'Dekemhare',\n",
              " 'Asmara',\n",
              " 'Teseney',\n",
              " 'Massawa',\n",
              " 'Assab',\n",
              " 'Keren',\n",
              " 'Barentu',\n",
              " 'Adi-Keihe',\n",
              " 'Adi-Kuala']"
            ]
          },
          "metadata": {},
          "execution_count": 44
        }
      ]
    },
    {
      "cell_type": "code",
      "source": [
        "print(len(lst1))"
      ],
      "metadata": {
        "colab": {
          "base_uri": "https://localhost:8080/"
        },
        "id": "jZeq9oUQLq-i",
        "outputId": "4b25d345-904a-4f38-939e-367378340579"
      },
      "execution_count": 45,
      "outputs": [
        {
          "output_type": "stream",
          "name": "stdout",
          "text": [
            "10\n"
          ]
        }
      ]
    },
    {
      "cell_type": "code",
      "source": [
        "lst1[0:len(lst1):2]"
      ],
      "metadata": {
        "colab": {
          "base_uri": "https://localhost:8080/"
        },
        "id": "HBC_DjnAL524",
        "outputId": "11ac5ff4-0f14-4c13-a2d0-261359fa7399"
      },
      "execution_count": 46,
      "outputs": [
        {
          "output_type": "execute_result",
          "data": {
            "text/plain": [
              "['Mendefera', 'Asmara', 'Massawa', 'Keren', 'Adi-Keihe']"
            ]
          },
          "metadata": {},
          "execution_count": 46
        }
      ]
    },
    {
      "cell_type": "code",
      "source": [
        "lst1[::]"
      ],
      "metadata": {
        "colab": {
          "base_uri": "https://localhost:8080/"
        },
        "id": "a-ZnD5exMHU5",
        "outputId": "9dfb8117-64f3-4e5b-cc77-981053079383"
      },
      "execution_count": 48,
      "outputs": [
        {
          "output_type": "execute_result",
          "data": {
            "text/plain": [
              "['Mendefera',\n",
              " 'Dekemhare',\n",
              " 'Asmara',\n",
              " 'Teseney',\n",
              " 'Massawa',\n",
              " 'Assab',\n",
              " 'Keren',\n",
              " 'Barentu',\n",
              " 'Adi-Keihe',\n",
              " 'Adi-Kuala']"
            ]
          },
          "metadata": {},
          "execution_count": 48
        }
      ]
    },
    {
      "cell_type": "code",
      "source": [
        "lst1[::-1]"
      ],
      "metadata": {
        "colab": {
          "base_uri": "https://localhost:8080/"
        },
        "id": "09cTJbRGMaIC",
        "outputId": "f9fc4c4f-b8ad-4323-d57b-469d827d2298"
      },
      "execution_count": 49,
      "outputs": [
        {
          "output_type": "execute_result",
          "data": {
            "text/plain": [
              "['Adi-Kuala',\n",
              " 'Adi-Keihe',\n",
              " 'Barentu',\n",
              " 'Keren',\n",
              " 'Assab',\n",
              " 'Massawa',\n",
              " 'Teseney',\n",
              " 'Asmara',\n",
              " 'Dekemhare',\n",
              " 'Mendefera']"
            ]
          },
          "metadata": {},
          "execution_count": 49
        }
      ]
    },
    {
      "cell_type": "code",
      "source": [
        "lst1"
      ],
      "metadata": {
        "colab": {
          "base_uri": "https://localhost:8080/"
        },
        "id": "TpIW58pJN3ne",
        "outputId": "fadbc3f2-1659-4450-b9a2-c61703fab8fa"
      },
      "execution_count": 50,
      "outputs": [
        {
          "output_type": "execute_result",
          "data": {
            "text/plain": [
              "['Mendefera',\n",
              " 'Dekemhare',\n",
              " 'Asmara',\n",
              " 'Teseney',\n",
              " 'Massawa',\n",
              " 'Assab',\n",
              " 'Keren',\n",
              " 'Barentu',\n",
              " 'Adi-Keihe',\n",
              " 'Adi-Kuala']"
            ]
          },
          "metadata": {},
          "execution_count": 50
        }
      ]
    },
    {
      "cell_type": "markdown",
      "source": [
        " **Wednesday December 06, 2023**"
      ],
      "metadata": {
        "id": "-iGG9sxyN__i"
      }
    },
    {
      "cell_type": "code",
      "source": [
        "lst1 = [12,23,34,43,53,67,73,82,91]"
      ],
      "metadata": {
        "id": "-AMPqYxCN9Gi"
      },
      "execution_count": 51,
      "outputs": []
    },
    {
      "cell_type": "code",
      "source": [
        "lst1[::]"
      ],
      "metadata": {
        "colab": {
          "base_uri": "https://localhost:8080/"
        },
        "id": "2sudzwIlOyYw",
        "outputId": "4ef937d1-c8fa-4ecc-8a91-5e351aeb607e"
      },
      "execution_count": 52,
      "outputs": [
        {
          "output_type": "execute_result",
          "data": {
            "text/plain": [
              "[12, 23, 34, 43, 53, 67, 73, 82, 91]"
            ]
          },
          "metadata": {},
          "execution_count": 52
        }
      ]
    },
    {
      "cell_type": "code",
      "source": [
        "lst1[0::]"
      ],
      "metadata": {
        "colab": {
          "base_uri": "https://localhost:8080/"
        },
        "id": "T67ih4B0O1mO",
        "outputId": "c93ba1dc-d836-49c5-e580-a1c0d476e93a"
      },
      "execution_count": 53,
      "outputs": [
        {
          "output_type": "execute_result",
          "data": {
            "text/plain": [
              "[12, 23, 34, 43, 53, 67, 73, 82, 91]"
            ]
          },
          "metadata": {},
          "execution_count": 53
        }
      ]
    },
    {
      "cell_type": "code",
      "source": [
        "lst1[:len(lst1):]"
      ],
      "metadata": {
        "colab": {
          "base_uri": "https://localhost:8080/"
        },
        "id": "vGKAkcDsO5ZF",
        "outputId": "f9d6fd73-7008-467a-8291-35224fc9b757"
      },
      "execution_count": 54,
      "outputs": [
        {
          "output_type": "execute_result",
          "data": {
            "text/plain": [
              "[12, 23, 34, 43, 53, 67, 73, 82, 91]"
            ]
          },
          "metadata": {},
          "execution_count": 54
        }
      ]
    },
    {
      "cell_type": "code",
      "source": [
        "lst1[::1]"
      ],
      "metadata": {
        "colab": {
          "base_uri": "https://localhost:8080/"
        },
        "id": "_y4-iFPOO_19",
        "outputId": "e1fa48c7-1645-44e6-e439-732816299499"
      },
      "execution_count": 55,
      "outputs": [
        {
          "output_type": "execute_result",
          "data": {
            "text/plain": [
              "[12, 23, 34, 43, 53, 67, 73, 82, 91]"
            ]
          },
          "metadata": {},
          "execution_count": 55
        }
      ]
    },
    {
      "cell_type": "code",
      "source": [
        "lst1[:4:]"
      ],
      "metadata": {
        "colab": {
          "base_uri": "https://localhost:8080/"
        },
        "id": "RZ8rKvlRPFC2",
        "outputId": "7737d23e-dd6c-4a4a-d315-592b1b3360d4"
      },
      "execution_count": 56,
      "outputs": [
        {
          "output_type": "execute_result",
          "data": {
            "text/plain": [
              "[12, 23, 34, 43]"
            ]
          },
          "metadata": {},
          "execution_count": 56
        }
      ]
    },
    {
      "cell_type": "code",
      "source": [
        "lst1[2:6:]"
      ],
      "metadata": {
        "colab": {
          "base_uri": "https://localhost:8080/"
        },
        "id": "Sq6ZsdLUPK1E",
        "outputId": "5b64f961-425e-4647-f5b0-a59286e845fa"
      },
      "execution_count": 57,
      "outputs": [
        {
          "output_type": "execute_result",
          "data": {
            "text/plain": [
              "[34, 43, 53, 67]"
            ]
          },
          "metadata": {},
          "execution_count": 57
        }
      ]
    },
    {
      "cell_type": "markdown",
      "source": [
        "*** Right to left negative slicing ***"
      ],
      "metadata": {
        "id": "nm0P5gqSQG6t"
      }
    },
    {
      "cell_type": "code",
      "source": [
        "lst1"
      ],
      "metadata": {
        "colab": {
          "base_uri": "https://localhost:8080/"
        },
        "id": "QZJvTRzpPkZE",
        "outputId": "d04688a7-10ac-48e4-e961-7a3c38057471"
      },
      "execution_count": 58,
      "outputs": [
        {
          "output_type": "execute_result",
          "data": {
            "text/plain": [
              "[12, 23, 34, 43, 53, 67, 73, 82, 91]"
            ]
          },
          "metadata": {},
          "execution_count": 58
        }
      ]
    },
    {
      "cell_type": "code",
      "source": [
        "lst1[-1:-(len(lst1)+1):-1]"
      ],
      "metadata": {
        "colab": {
          "base_uri": "https://localhost:8080/"
        },
        "id": "QDcgs92bQSDu",
        "outputId": "31b86e90-9a91-4ab3-ea21-6d79639cf71d"
      },
      "execution_count": 67,
      "outputs": [
        {
          "output_type": "execute_result",
          "data": {
            "text/plain": [
              "[91, 82, 73, 67, 53, 43, 34, 23, 12]"
            ]
          },
          "metadata": {},
          "execution_count": 67
        }
      ]
    },
    {
      "cell_type": "code",
      "source": [
        "lst1[-6::-1]"
      ],
      "metadata": {
        "colab": {
          "base_uri": "https://localhost:8080/"
        },
        "id": "KL37VO-9QbC2",
        "outputId": "4fa5cdad-8114-4a04-dd0b-1498475d2b83"
      },
      "execution_count": 68,
      "outputs": [
        {
          "output_type": "execute_result",
          "data": {
            "text/plain": [
              "[43, 34, 23, 12]"
            ]
          },
          "metadata": {},
          "execution_count": 68
        }
      ]
    },
    {
      "cell_type": "code",
      "source": [
        "lst1[-4:-8:-1]"
      ],
      "metadata": {
        "colab": {
          "base_uri": "https://localhost:8080/"
        },
        "id": "5nWy64S2Robf",
        "outputId": "6cb516ca-727d-4326-bbcf-e7174d552690"
      },
      "execution_count": 69,
      "outputs": [
        {
          "output_type": "execute_result",
          "data": {
            "text/plain": [
              "[67, 53, 43, 34]"
            ]
          },
          "metadata": {},
          "execution_count": 69
        }
      ]
    },
    {
      "cell_type": "code",
      "source": [
        "lst1"
      ],
      "metadata": {
        "colab": {
          "base_uri": "https://localhost:8080/"
        },
        "id": "y31u7i05SWZn",
        "outputId": "3828506e-a335-4fca-8837-65ca8fe0d604"
      },
      "execution_count": 70,
      "outputs": [
        {
          "output_type": "execute_result",
          "data": {
            "text/plain": [
              "[12, 23, 34, 43, 53, 67, 73, 82, 91]"
            ]
          },
          "metadata": {},
          "execution_count": 70
        }
      ]
    },
    {
      "cell_type": "markdown",
      "source": [
        "\n",
        "postive indexing and postive slicing\n",
        "\n",
        "\n",
        "---\n",
        "\n",
        "negative indexing and postive slicing\n",
        "\n",
        "\n",
        "---\n",
        "\n",
        "negative indexing and negative slicing\n",
        "\n",
        "\n",
        "---\n",
        "\n",
        "postive indexing and negative slicing\n"
      ],
      "metadata": {
        "id": "JMqqdEfNSf2j"
      }
    },
    {
      "cell_type": "code",
      "source": [
        "lst1[3::1] # postive indexing and psotive slicing"
      ],
      "metadata": {
        "colab": {
          "base_uri": "https://localhost:8080/"
        },
        "id": "eZ_grzuNSecW",
        "outputId": "20aebdea-745a-43d5-e633-f9ab68184462"
      },
      "execution_count": 72,
      "outputs": [
        {
          "output_type": "execute_result",
          "data": {
            "text/plain": [
              "[43, 53, 67, 73, 82, 91]"
            ]
          },
          "metadata": {},
          "execution_count": 72
        }
      ]
    },
    {
      "cell_type": "code",
      "source": [],
      "metadata": {
        "id": "hZyGbb9mSa8S"
      },
      "execution_count": null,
      "outputs": []
    }
  ],
  "metadata": {
    "colab": {
      "provenance": [],
      "authorship_tag": "ABX9TyP5+ml1GkGOWoTGo34RIiFD",
      "include_colab_link": true
    },
    "kernelspec": {
      "display_name": "Python 3",
      "name": "python3"
    },
    "language_info": {
      "name": "python"
    }
  },
  "nbformat": 4,
  "nbformat_minor": 0
}