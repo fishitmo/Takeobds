{
  "cells": [
    {
      "cell_type": "markdown",
      "metadata": {
        "id": "view-in-github",
        "colab_type": "text"
      },
      "source": [
        "<a href=\"https://colab.research.google.com/github/fishitmo/Takeobds/blob/main/TAkeo_pytthon_practice.ipynb\" target=\"_parent\"><img src=\"https://colab.research.google.com/assets/colab-badge.svg\" alt=\"Open In Colab\"/></a>"
      ]
    },
    {
      "cell_type": "code",
      "execution_count": null,
      "metadata": {
        "colab": {
          "base_uri": "https://localhost:8080/"
        },
        "id": "JLNAww7oF0_w",
        "outputId": "964e769e-a5ee-4cb3-af20-a763c19fc3b2"
      },
      "outputs": [
        {
          "output_type": "stream",
          "name": "stdout",
          "text": [
            "a<b\n"
          ]
        }
      ],
      "source": [
        "a = 20\n",
        "b= 45\n",
        "c= 5\n",
        "\n",
        "if a < b:\n",
        "  print(\"a<b\")\n",
        "elif b<c:\n",
        "  print(\"b<c\")\n",
        "elif a<c:\n",
        "  print(\"a<c\")\n",
        "else:\n",
        "  print('we are in else part')"
      ]
    },
    {
      "cell_type": "code",
      "source": [],
      "metadata": {
        "id": "iOCC-6edCmaY"
      },
      "execution_count": null,
      "outputs": []
    },
    {
      "cell_type": "code",
      "execution_count": null,
      "metadata": {
        "id": "V269H_oRNFZz"
      },
      "outputs": [],
      "source": []
    },
    {
      "cell_type": "code",
      "execution_count": null,
      "metadata": {
        "colab": {
          "base_uri": "https://localhost:8080/"
        },
        "id": "xHUMpTZVHuTL",
        "outputId": "bedf8872-4f54-4529-dc04-0ff522f8995b"
      },
      "outputs": [
        {
          "output_type": "stream",
          "name": "stdout",
          "text": [
            "a<100\n",
            "else a >85\n"
          ]
        }
      ],
      "source": [
        "a= 90\n",
        "\n",
        "if a< 100:\n",
        "  print('a<100')\n",
        "  if a < 85:\n",
        "    print('a,85')\n",
        "    if a < 70:\n",
        "      print('a<70')\n",
        "      if a<55:\n",
        "        print('a<55')\n",
        "      else:\n",
        "        print('else a>55')\n",
        "    else:\n",
        "       print('else a>70')\n",
        "  else:\n",
        "    print(\"else a >85\")\n",
        "else:\n",
        "  print(\"else a>100\")\n"
      ]
    },
    {
      "cell_type": "code",
      "execution_count": null,
      "metadata": {
        "colab": {
          "base_uri": "https://localhost:8080/"
        },
        "id": "hlLNENJNNHQy",
        "outputId": "3c3c11cf-70ab-48b7-9511-be2d4d13f574"
      },
      "outputs": [
        {
          "output_type": "stream",
          "name": "stdout",
          "text": [
            "5050\n"
          ]
        }
      ],
      "source": [
        "a=0\n",
        "for i in range(1,101,1):\n",
        "  a += i\n",
        "print(a)"
      ]
    },
    {
      "cell_type": "code",
      "execution_count": null,
      "metadata": {
        "colab": {
          "base_uri": "https://localhost:8080/"
        },
        "id": "rtAmHRaYN6m7",
        "outputId": "a1c2b9d4-5578-4945-a3b1-35e58bc9388b"
      },
      "outputs": [
        {
          "output_type": "stream",
          "name": "stdout",
          "text": [
            "5050\n"
          ]
        }
      ],
      "source": [
        "a =0\n",
        "i = 1\n",
        "while i <= 100:\n",
        "\n",
        "     a +=i\n",
        "     i += 1\n",
        "print(a)"
      ]
    },
    {
      "cell_type": "markdown",
      "metadata": {
        "id": "bSH1hkYO2zF4"
      },
      "source": [
        "# Built in Functions of Python List Data Type"
      ]
    },
    {
      "cell_type": "code",
      "execution_count": null,
      "metadata": {
        "id": "MaBwYPOA2XyG"
      },
      "outputs": [],
      "source": [
        "lst1 = [\"Apple\", 'Banana', 'Cherrys', 'Orange', 'Pynaple','Honey-Fruit']"
      ]
    },
    {
      "cell_type": "code",
      "execution_count": null,
      "metadata": {
        "colab": {
          "base_uri": "https://localhost:8080/"
        },
        "id": "4yvh-5WSCFWI",
        "outputId": "f2d369de-9359-4e57-c8de-385124a94794"
      },
      "outputs": [
        {
          "output_type": "stream",
          "name": "stdout",
          "text": [
            "['Apple', 'Banana', 'Cherrys', 'Orange', 'Pynaple', 'Honey-Fruit'] <class 'list'>\n"
          ]
        }
      ],
      "source": [
        "print(lst1, type(lst1))"
      ]
    },
    {
      "cell_type": "code",
      "execution_count": null,
      "metadata": {
        "colab": {
          "base_uri": "https://localhost:8080/"
        },
        "id": "rPyChjJ8CPJJ",
        "outputId": "94ff1f77-0387-4520-e31c-a90652d81b2b"
      },
      "outputs": [
        {
          "output_type": "stream",
          "name": "stdout",
          "text": [
            "['Apple', 'Banana', 'Cherrys', 'Orange', 'Pynaple', 'Honey-Fruit']\n",
            "['Apple', 'Banana', 'Cherrys', 'Orange', 'Pynaple', 'Honey-Fruit', 'Mango']\n"
          ]
        }
      ],
      "source": [
        "print(lst1)\n",
        "lst1.append('Mango')\n",
        "print(lst1)"
      ]
    },
    {
      "cell_type": "code",
      "execution_count": null,
      "metadata": {
        "colab": {
          "base_uri": "https://localhost:8080/"
        },
        "id": "eOp6F4hnCYZk",
        "outputId": "2ee4ca47-6b51-4e35-d720-7f775d14837a"
      },
      "outputs": [
        {
          "output_type": "stream",
          "name": "stdout",
          "text": [
            "['Apple', 'Banana', 'Cherrys', 'Orange', 'Pynaple', 'Honey-Fruit', 'Mango']\n",
            "[]\n"
          ]
        }
      ],
      "source": [
        "print(lst1)\n",
        "lst1.clear()\n",
        "print(lst1)"
      ]
    },
    {
      "cell_type": "code",
      "execution_count": null,
      "metadata": {
        "colab": {
          "base_uri": "https://localhost:8080/"
        },
        "id": "cfrN3BAECsIt",
        "outputId": "56b5f85e-a7ca-437c-d5dc-2f6202194f9b"
      },
      "outputs": [
        {
          "output_type": "stream",
          "name": "stdout",
          "text": [
            "[]\n"
          ]
        }
      ],
      "source": [
        "print(lst1)"
      ]
    },
    {
      "cell_type": "code",
      "execution_count": null,
      "metadata": {
        "id": "24McCv83OJnZ"
      },
      "outputs": [],
      "source": [
        "lst1= [\"Mendefera\", \"Dekemhare\", \"Asmara\",\"Teseney\",\"Massawa\",\"Assab\",\"Keren\",\"Barentu\",\"Adi-Keihe\",\"Adi-Kuala\"]"
      ]
    },
    {
      "cell_type": "code",
      "execution_count": null,
      "metadata": {
        "colab": {
          "base_uri": "https://localhost:8080/"
        },
        "id": "bgR3dZspOssb",
        "outputId": "4b3597e5-2484-4c84-aa18-4e408f5a748b"
      },
      "outputs": [
        {
          "output_type": "stream",
          "name": "stdout",
          "text": [
            "['Mendefera', 'Dekemhare', 'Asmara', 'Teseney', 'Massawa', 'Assab', 'Keren', 'Barentu', 'Adi-Keihe', 'Adi-Kuala']\n",
            "['Mendefera', 'Dekemhare', 'Asmara', 'Teseney', 'Massawa', 'Assab', 'Keren', 'Barentu', 'Adi-Keihe', 'Adi-Kuala'] ['Mendefera', 'Dekemhare', 'Asmara', 'Teseney', 'Massawa', 'Assab', 'Keren', 'Barentu', 'Adi-Keihe', 'Adi-Kuala']\n"
          ]
        }
      ],
      "source": [
        "print(lst1)\n",
        "lst2= lst1.copy()\n",
        "print(lst1, lst2)"
      ]
    },
    {
      "cell_type": "code",
      "execution_count": null,
      "metadata": {
        "colab": {
          "base_uri": "https://localhost:8080/"
        },
        "id": "p2cpJGGjO4Qt",
        "outputId": "1187cd0c-f8ac-4027-e401-0eed9abc7bf4"
      },
      "outputs": [
        {
          "output_type": "stream",
          "name": "stdout",
          "text": [
            "['Mendefera', 'Dekemhare', 'Asmara', 'Teseney', 'Massawa', 'Assab', 'Keren', 'Barentu', 'Adi-Keihe', 'Adi-Kuala']\n"
          ]
        },
        {
          "output_type": "execute_result",
          "data": {
            "text/plain": [
              "1"
            ]
          },
          "metadata": {},
          "execution_count": 25
        }
      ],
      "source": [
        "print(lst1)\n",
        "lst1.count(\"Asmara\")"
      ]
    },
    {
      "cell_type": "code",
      "execution_count": null,
      "metadata": {
        "colab": {
          "base_uri": "https://localhost:8080/"
        },
        "id": "hucDb0LX3Vlg",
        "outputId": "063cbffa-f2df-4f53-f582-7588251e2ce8"
      },
      "outputs": [
        {
          "output_type": "stream",
          "name": "stdout",
          "text": [
            "['Mendefera', 'Dekemhare', 'Asmara', 'Teseney', 'Massawa', 'Assab', 'Keren', 'Barentu', 'Adi-Keihe', 'Adi-Kuala']\n",
            "['Mendefera', 'Dekemhare', 'Asmara', 'Teseney', 'Massawa', 'Assab', 'Keren', 'Barentu', 'Adi-Keihe', 'Adi-Kuala', 'Ghinda', 'Akurdet', 'Eilabered', 'Tieo', 'Nakfa']\n"
          ]
        }
      ],
      "source": [
        "print(lst1)\n",
        "lst1.extend(['Ghinda', 'Akurdet', 'Eilabered', 'Tieo', 'Nakfa'])\n",
        "print(lst1)"
      ]
    },
    {
      "cell_type": "code",
      "execution_count": null,
      "metadata": {
        "colab": {
          "base_uri": "https://localhost:8080/"
        },
        "id": "aV7v6ZlN3_la",
        "outputId": "596b1527-3971-4ae1-a892-dd5fe8bef875"
      },
      "outputs": [
        {
          "output_type": "stream",
          "name": "stdout",
          "text": [
            "['Mendefera', 'Dekemhare', 'Asmara', 'Teseney', 'Massawa', 'Assab', 'Keren', 'Barentu', 'Adi-Keihe', 'Adi-Kuala', 'Ghinda', 'Akurdet', 'Eilabered', 'Tieo', 'Nakfa']\n"
          ]
        },
        {
          "output_type": "execute_result",
          "data": {
            "text/plain": [
              "2"
            ]
          },
          "metadata": {},
          "execution_count": 27
        }
      ],
      "source": [
        "print(lst1)\n",
        "lst1.index('Asmara')"
      ]
    },
    {
      "cell_type": "code",
      "execution_count": null,
      "metadata": {
        "colab": {
          "base_uri": "https://localhost:8080/"
        },
        "id": "N7osg-3xYYoh",
        "outputId": "94ac2a84-46a4-462e-c69d-2cb2ce88ee55"
      },
      "outputs": [
        {
          "output_type": "execute_result",
          "data": {
            "text/plain": [
              "4"
            ]
          },
          "metadata": {},
          "execution_count": 28
        }
      ],
      "source": [
        "lst1.index('Massawa',2,7 )"
      ]
    },
    {
      "cell_type": "code",
      "execution_count": null,
      "metadata": {
        "id": "BAjEZJ97Y506",
        "colab": {
          "base_uri": "https://localhost:8080/"
        },
        "outputId": "064ce1f6-7c88-410b-f1b1-1d0edeace7e6"
      },
      "outputs": [
        {
          "output_type": "stream",
          "name": "stdout",
          "text": [
            "['Mendefera', 'Dekemhare', 'Asmara', 'Teseney', 'Massawa', 'Assab', 'Keren', 'Barentu', 'Adi-Keihe', 'Adi-Kuala', 'Ghinda', 'Akurdet', 'Eilabered', 'Tieo', 'Nakfa']\n",
            "['Mendefera', 'Dekemhare', 'Debarwa', 'Asmara', 'Teseney', 'Massawa', 'Assab', 'Keren', 'Barentu', 'Adi-Keihe', 'Adi-Kuala', 'Ghinda', 'Akurdet', 'Eilabered', 'Tieo', 'Nakfa']\n"
          ]
        }
      ],
      "source": [
        "print(lst1)\n",
        "lst1.insert(2,'Debarwa')\n",
        "print(lst1)"
      ]
    },
    {
      "cell_type": "code",
      "execution_count": null,
      "metadata": {
        "colab": {
          "base_uri": "https://localhost:8080/"
        },
        "id": "94mqthJsVj-l",
        "outputId": "7cee349c-bb1e-4fb7-ec2f-134a2e436ab5"
      },
      "outputs": [
        {
          "output_type": "stream",
          "name": "stdout",
          "text": [
            "['Mendefera', 'Dekemhare', 'Debarwa', 'Asmara', 'Teseney', 'Massawa', 'Assab', 'Keren', 'Barentu', 'Adi-Keihe', 'Adi-Kuala', 'Ghinda', 'Akurdet', 'Eilabered', 'Tieo', 'Nakfa']\n",
            "['Mendefera', 'Dekemhare', 'Debarwa', 'Asmara', 'Teseney', 'Massawa', 'Assab', 'Keren', 'Barentu', 'Adi-Keihe', 'Adi-Kuala', 'Ghinda', 'Akurdet', 'Eilabered', 'Tieo']\n",
            "['Mendefera', 'Dekemhare', 'Debarwa', 'Asmara', 'Teseney', 'Massawa', 'Assab', 'Keren', 'Barentu', 'Adi-Keihe', 'Adi-Kuala', 'Ghinda', 'Akurdet', 'Eilabered']\n",
            "['Mendefera', 'Dekemhare', 'Debarwa', 'Asmara', 'Teseney', 'Massawa', 'Assab', 'Keren', 'Barentu', 'Adi-Keihe', 'Adi-Kuala', 'Ghinda', 'Akurdet']\n",
            "['Mendefera', 'Dekemhare', 'Debarwa', 'Asmara', 'Teseney', 'Massawa', 'Assab', 'Keren', 'Barentu', 'Adi-Keihe', 'Adi-Kuala', 'Ghinda']\n"
          ]
        }
      ],
      "source": [
        "print(lst1)\n",
        "lst1.pop()\n",
        "print(lst1)\n",
        "lst1.pop()\n",
        "print(lst1)\n",
        "lst1.pop()\n",
        "print(lst1)\n",
        "lst1.pop()\n",
        "print(lst1)"
      ]
    },
    {
      "cell_type": "code",
      "source": [
        "lst1= [\"Mendefera\", \"Dekemhare\", \"Asmara\",\"Teseney\",\"Massawa\",\"Assab\",\"Keren\",\"Barentu\",\"Adi-Keihe\",\"Adi-Kuala\"]"
      ],
      "metadata": {
        "id": "Zf5O8gPjH31B"
      },
      "execution_count": null,
      "outputs": []
    },
    {
      "cell_type": "code",
      "source": [
        "print(lst1)\n",
        "lst1.pop(1)\n",
        "print(lst1)"
      ],
      "metadata": {
        "colab": {
          "base_uri": "https://localhost:8080/"
        },
        "id": "ai1mDhJwICTe",
        "outputId": "5550dee8-84bb-4541-fbed-e77a34db241e"
      },
      "execution_count": null,
      "outputs": [
        {
          "output_type": "stream",
          "name": "stdout",
          "text": [
            "['Mendefera', 'Dekemhare', 'Asmara', 'Teseney', 'Massawa', 'Assab', 'Keren', 'Barentu', 'Adi-Keihe', 'Adi-Kuala']\n",
            "['Mendefera', 'Asmara', 'Teseney', 'Massawa', 'Assab', 'Keren', 'Barentu', 'Adi-Keihe', 'Adi-Kuala']\n"
          ]
        }
      ]
    },
    {
      "cell_type": "code",
      "source": [
        "print(lst1)\n",
        "lst1.remove('Massawa')\n",
        "print(lst1)"
      ],
      "metadata": {
        "colab": {
          "base_uri": "https://localhost:8080/"
        },
        "id": "RrQ1UPvkIXIe",
        "outputId": "bf4b6bec-dd7c-4ea7-8d3a-b56738ca6396"
      },
      "execution_count": null,
      "outputs": [
        {
          "output_type": "stream",
          "name": "stdout",
          "text": [
            "['Mendefera', 'Asmara', 'Teseney', 'Massawa', 'Assab', 'Keren', 'Barentu', 'Adi-Keihe', 'Adi-Kuala']\n",
            "['Mendefera', 'Asmara', 'Teseney', 'Assab', 'Keren', 'Barentu', 'Adi-Keihe', 'Adi-Kuala']\n"
          ]
        }
      ]
    },
    {
      "cell_type": "code",
      "source": [
        "print(lst1)\n",
        "lst1.reverse()\n",
        "print(lst1)"
      ],
      "metadata": {
        "colab": {
          "base_uri": "https://localhost:8080/"
        },
        "id": "jAFpAsIFIz5_",
        "outputId": "384debd7-5757-49cd-c988-8c0353d85421"
      },
      "execution_count": null,
      "outputs": [
        {
          "output_type": "stream",
          "name": "stdout",
          "text": [
            "['Mendefera', 'Asmara', 'Teseney', 'Assab', 'Keren', 'Barentu', 'Adi-Keihe', 'Adi-Kuala']\n",
            "['Adi-Kuala', 'Adi-Keihe', 'Barentu', 'Keren', 'Assab', 'Teseney', 'Asmara', 'Mendefera']\n"
          ]
        }
      ]
    },
    {
      "cell_type": "code",
      "source": [
        "lst1= [\"Mendefera\", \"Dekemhare\", \"Asmara\",\"Teseney\",\"Massawa\",\"Assab\",\"Keren\",\"Barentu\",\"Adi-Keihe\",\"Adi-Kuala\"]"
      ],
      "metadata": {
        "id": "1zXZnE76JvNL"
      },
      "execution_count": null,
      "outputs": []
    },
    {
      "cell_type": "code",
      "source": [
        "lst1[0], lst1[1], lst1[2]"
      ],
      "metadata": {
        "colab": {
          "base_uri": "https://localhost:8080/"
        },
        "id": "SpI-OrWWJCy6",
        "outputId": "e5f7d901-065e-4cbd-eb5b-59c347ef46a7"
      },
      "execution_count": null,
      "outputs": [
        {
          "output_type": "execute_result",
          "data": {
            "text/plain": [
              "('Mendefera', 'Dekemhare', 'Asmara')"
            ]
          },
          "metadata": {},
          "execution_count": 39
        }
      ]
    },
    {
      "cell_type": "code",
      "source": [
        "lst1[0:3:1]"
      ],
      "metadata": {
        "colab": {
          "base_uri": "https://localhost:8080/"
        },
        "id": "aEdy6GTWJmHl",
        "outputId": "cf77b14c-314c-4fd0-e97f-b0293cefff48"
      },
      "execution_count": null,
      "outputs": [
        {
          "output_type": "execute_result",
          "data": {
            "text/plain": [
              "['Mendefera', 'Dekemhare', 'Asmara']"
            ]
          },
          "metadata": {},
          "execution_count": 40
        }
      ]
    },
    {
      "cell_type": "code",
      "source": [
        "lst1[2:7:1]"
      ],
      "metadata": {
        "colab": {
          "base_uri": "https://localhost:8080/"
        },
        "id": "XOe0Zx12J6Qe",
        "outputId": "bc7f7d26-6a36-4ed4-b251-5d76e8c71cf3"
      },
      "execution_count": null,
      "outputs": [
        {
          "output_type": "execute_result",
          "data": {
            "text/plain": [
              "['Asmara', 'Teseney', 'Massawa', 'Assab', 'Keren']"
            ]
          },
          "metadata": {},
          "execution_count": 41
        }
      ]
    },
    {
      "cell_type": "code",
      "source": [
        "lst1[1::1]"
      ],
      "metadata": {
        "colab": {
          "base_uri": "https://localhost:8080/"
        },
        "id": "uZFuwXDLKGJH",
        "outputId": "4d83b6cb-5b8d-4c9a-9a72-cff3b9ed5e62"
      },
      "execution_count": null,
      "outputs": [
        {
          "output_type": "execute_result",
          "data": {
            "text/plain": [
              "['Dekemhare',\n",
              " 'Asmara',\n",
              " 'Teseney',\n",
              " 'Massawa',\n",
              " 'Assab',\n",
              " 'Keren',\n",
              " 'Barentu',\n",
              " 'Adi-Keihe',\n",
              " 'Adi-Kuala']"
            ]
          },
          "metadata": {},
          "execution_count": 42
        }
      ]
    },
    {
      "cell_type": "code",
      "source": [
        "lst1[::]"
      ],
      "metadata": {
        "colab": {
          "base_uri": "https://localhost:8080/"
        },
        "id": "mGbqUYNuKM-o",
        "outputId": "b4091f83-0dc7-42aa-d874-296864eccffe"
      },
      "execution_count": null,
      "outputs": [
        {
          "output_type": "execute_result",
          "data": {
            "text/plain": [
              "['Mendefera',\n",
              " 'Dekemhare',\n",
              " 'Asmara',\n",
              " 'Teseney',\n",
              " 'Massawa',\n",
              " 'Assab',\n",
              " 'Keren',\n",
              " 'Barentu',\n",
              " 'Adi-Keihe',\n",
              " 'Adi-Kuala']"
            ]
          },
          "metadata": {},
          "execution_count": 43
        }
      ]
    },
    {
      "cell_type": "code",
      "source": [
        "lst1[0:len(lst1):1]"
      ],
      "metadata": {
        "colab": {
          "base_uri": "https://localhost:8080/"
        },
        "id": "Ve1WVMaqKZvC",
        "outputId": "f12954bf-9c03-4c52-d3e2-ad19b6d2a730"
      },
      "execution_count": null,
      "outputs": [
        {
          "output_type": "execute_result",
          "data": {
            "text/plain": [
              "['Mendefera',\n",
              " 'Dekemhare',\n",
              " 'Asmara',\n",
              " 'Teseney',\n",
              " 'Massawa',\n",
              " 'Assab',\n",
              " 'Keren',\n",
              " 'Barentu',\n",
              " 'Adi-Keihe',\n",
              " 'Adi-Kuala']"
            ]
          },
          "metadata": {},
          "execution_count": 44
        }
      ]
    },
    {
      "cell_type": "code",
      "source": [
        "print(len(lst1))"
      ],
      "metadata": {
        "colab": {
          "base_uri": "https://localhost:8080/"
        },
        "id": "jZeq9oUQLq-i",
        "outputId": "4b25d345-904a-4f38-939e-367378340579"
      },
      "execution_count": null,
      "outputs": [
        {
          "output_type": "stream",
          "name": "stdout",
          "text": [
            "10\n"
          ]
        }
      ]
    },
    {
      "cell_type": "code",
      "source": [
        "lst1[0:len(lst1):2]"
      ],
      "metadata": {
        "colab": {
          "base_uri": "https://localhost:8080/"
        },
        "id": "HBC_DjnAL524",
        "outputId": "11ac5ff4-0f14-4c13-a2d0-261359fa7399"
      },
      "execution_count": null,
      "outputs": [
        {
          "output_type": "execute_result",
          "data": {
            "text/plain": [
              "['Mendefera', 'Asmara', 'Massawa', 'Keren', 'Adi-Keihe']"
            ]
          },
          "metadata": {},
          "execution_count": 46
        }
      ]
    },
    {
      "cell_type": "code",
      "source": [
        "lst1[::]"
      ],
      "metadata": {
        "colab": {
          "base_uri": "https://localhost:8080/"
        },
        "id": "a-ZnD5exMHU5",
        "outputId": "9dfb8117-64f3-4e5b-cc77-981053079383"
      },
      "execution_count": null,
      "outputs": [
        {
          "output_type": "execute_result",
          "data": {
            "text/plain": [
              "['Mendefera',\n",
              " 'Dekemhare',\n",
              " 'Asmara',\n",
              " 'Teseney',\n",
              " 'Massawa',\n",
              " 'Assab',\n",
              " 'Keren',\n",
              " 'Barentu',\n",
              " 'Adi-Keihe',\n",
              " 'Adi-Kuala']"
            ]
          },
          "metadata": {},
          "execution_count": 48
        }
      ]
    },
    {
      "cell_type": "code",
      "source": [
        "lst1[::-1]"
      ],
      "metadata": {
        "colab": {
          "base_uri": "https://localhost:8080/"
        },
        "id": "09cTJbRGMaIC",
        "outputId": "f9fc4c4f-b8ad-4323-d57b-469d827d2298"
      },
      "execution_count": null,
      "outputs": [
        {
          "output_type": "execute_result",
          "data": {
            "text/plain": [
              "['Adi-Kuala',\n",
              " 'Adi-Keihe',\n",
              " 'Barentu',\n",
              " 'Keren',\n",
              " 'Assab',\n",
              " 'Massawa',\n",
              " 'Teseney',\n",
              " 'Asmara',\n",
              " 'Dekemhare',\n",
              " 'Mendefera']"
            ]
          },
          "metadata": {},
          "execution_count": 49
        }
      ]
    },
    {
      "cell_type": "code",
      "source": [
        "lst1"
      ],
      "metadata": {
        "colab": {
          "base_uri": "https://localhost:8080/"
        },
        "id": "TpIW58pJN3ne",
        "outputId": "fadbc3f2-1659-4450-b9a2-c61703fab8fa"
      },
      "execution_count": null,
      "outputs": [
        {
          "output_type": "execute_result",
          "data": {
            "text/plain": [
              "['Mendefera',\n",
              " 'Dekemhare',\n",
              " 'Asmara',\n",
              " 'Teseney',\n",
              " 'Massawa',\n",
              " 'Assab',\n",
              " 'Keren',\n",
              " 'Barentu',\n",
              " 'Adi-Keihe',\n",
              " 'Adi-Kuala']"
            ]
          },
          "metadata": {},
          "execution_count": 50
        }
      ]
    },
    {
      "cell_type": "markdown",
      "source": [
        " **Wednesday December 06, 2023**"
      ],
      "metadata": {
        "id": "-iGG9sxyN__i"
      }
    },
    {
      "cell_type": "code",
      "source": [
        "lst1 = [12,23,34,43,53,67,73,82,91]"
      ],
      "metadata": {
        "id": "-AMPqYxCN9Gi"
      },
      "execution_count": null,
      "outputs": []
    },
    {
      "cell_type": "code",
      "source": [
        "lst1[::]"
      ],
      "metadata": {
        "colab": {
          "base_uri": "https://localhost:8080/"
        },
        "id": "2sudzwIlOyYw",
        "outputId": "4ef937d1-c8fa-4ecc-8a91-5e351aeb607e"
      },
      "execution_count": null,
      "outputs": [
        {
          "output_type": "execute_result",
          "data": {
            "text/plain": [
              "[12, 23, 34, 43, 53, 67, 73, 82, 91]"
            ]
          },
          "metadata": {},
          "execution_count": 52
        }
      ]
    },
    {
      "cell_type": "code",
      "source": [
        "lst1[0::]"
      ],
      "metadata": {
        "colab": {
          "base_uri": "https://localhost:8080/"
        },
        "id": "T67ih4B0O1mO",
        "outputId": "c93ba1dc-d836-49c5-e580-a1c0d476e93a"
      },
      "execution_count": null,
      "outputs": [
        {
          "output_type": "execute_result",
          "data": {
            "text/plain": [
              "[12, 23, 34, 43, 53, 67, 73, 82, 91]"
            ]
          },
          "metadata": {},
          "execution_count": 53
        }
      ]
    },
    {
      "cell_type": "code",
      "source": [
        "lst1[:len(lst1):]"
      ],
      "metadata": {
        "colab": {
          "base_uri": "https://localhost:8080/"
        },
        "id": "vGKAkcDsO5ZF",
        "outputId": "f9d6fd73-7008-467a-8291-35224fc9b757"
      },
      "execution_count": null,
      "outputs": [
        {
          "output_type": "execute_result",
          "data": {
            "text/plain": [
              "[12, 23, 34, 43, 53, 67, 73, 82, 91]"
            ]
          },
          "metadata": {},
          "execution_count": 54
        }
      ]
    },
    {
      "cell_type": "code",
      "source": [
        "lst1[::1]"
      ],
      "metadata": {
        "colab": {
          "base_uri": "https://localhost:8080/"
        },
        "id": "_y4-iFPOO_19",
        "outputId": "e1fa48c7-1645-44e6-e439-732816299499"
      },
      "execution_count": null,
      "outputs": [
        {
          "output_type": "execute_result",
          "data": {
            "text/plain": [
              "[12, 23, 34, 43, 53, 67, 73, 82, 91]"
            ]
          },
          "metadata": {},
          "execution_count": 55
        }
      ]
    },
    {
      "cell_type": "code",
      "source": [
        "lst1[:4:]"
      ],
      "metadata": {
        "colab": {
          "base_uri": "https://localhost:8080/"
        },
        "id": "RZ8rKvlRPFC2",
        "outputId": "7737d23e-dd6c-4a4a-d315-592b1b3360d4"
      },
      "execution_count": null,
      "outputs": [
        {
          "output_type": "execute_result",
          "data": {
            "text/plain": [
              "[12, 23, 34, 43]"
            ]
          },
          "metadata": {},
          "execution_count": 56
        }
      ]
    },
    {
      "cell_type": "code",
      "source": [
        "lst1[2:6:]"
      ],
      "metadata": {
        "colab": {
          "base_uri": "https://localhost:8080/"
        },
        "id": "Sq6ZsdLUPK1E",
        "outputId": "5b64f961-425e-4647-f5b0-a59286e845fa"
      },
      "execution_count": null,
      "outputs": [
        {
          "output_type": "execute_result",
          "data": {
            "text/plain": [
              "[34, 43, 53, 67]"
            ]
          },
          "metadata": {},
          "execution_count": 57
        }
      ]
    },
    {
      "cell_type": "markdown",
      "source": [
        "*** Right to left negative slicing ***"
      ],
      "metadata": {
        "id": "nm0P5gqSQG6t"
      }
    },
    {
      "cell_type": "code",
      "source": [
        "lst1"
      ],
      "metadata": {
        "colab": {
          "base_uri": "https://localhost:8080/"
        },
        "id": "QZJvTRzpPkZE",
        "outputId": "d04688a7-10ac-48e4-e961-7a3c38057471"
      },
      "execution_count": null,
      "outputs": [
        {
          "output_type": "execute_result",
          "data": {
            "text/plain": [
              "[12, 23, 34, 43, 53, 67, 73, 82, 91]"
            ]
          },
          "metadata": {},
          "execution_count": 58
        }
      ]
    },
    {
      "cell_type": "code",
      "source": [
        "lst1[-1:-(len(lst1)+1):-1]"
      ],
      "metadata": {
        "colab": {
          "base_uri": "https://localhost:8080/"
        },
        "id": "QDcgs92bQSDu",
        "outputId": "31b86e90-9a91-4ab3-ea21-6d79639cf71d"
      },
      "execution_count": null,
      "outputs": [
        {
          "output_type": "execute_result",
          "data": {
            "text/plain": [
              "[91, 82, 73, 67, 53, 43, 34, 23, 12]"
            ]
          },
          "metadata": {},
          "execution_count": 67
        }
      ]
    },
    {
      "cell_type": "code",
      "source": [
        "lst1[-6::-1]"
      ],
      "metadata": {
        "colab": {
          "base_uri": "https://localhost:8080/"
        },
        "id": "KL37VO-9QbC2",
        "outputId": "4fa5cdad-8114-4a04-dd0b-1498475d2b83"
      },
      "execution_count": null,
      "outputs": [
        {
          "output_type": "execute_result",
          "data": {
            "text/plain": [
              "[43, 34, 23, 12]"
            ]
          },
          "metadata": {},
          "execution_count": 68
        }
      ]
    },
    {
      "cell_type": "code",
      "source": [
        "lst1[-4:-8:-1]"
      ],
      "metadata": {
        "colab": {
          "base_uri": "https://localhost:8080/"
        },
        "id": "5nWy64S2Robf",
        "outputId": "6cb516ca-727d-4326-bbcf-e7174d552690"
      },
      "execution_count": null,
      "outputs": [
        {
          "output_type": "execute_result",
          "data": {
            "text/plain": [
              "[67, 53, 43, 34]"
            ]
          },
          "metadata": {},
          "execution_count": 69
        }
      ]
    },
    {
      "cell_type": "code",
      "source": [
        "lst1"
      ],
      "metadata": {
        "colab": {
          "base_uri": "https://localhost:8080/"
        },
        "id": "y31u7i05SWZn",
        "outputId": "3828506e-a335-4fca-8837-65ca8fe0d604"
      },
      "execution_count": null,
      "outputs": [
        {
          "output_type": "execute_result",
          "data": {
            "text/plain": [
              "[12, 23, 34, 43, 53, 67, 73, 82, 91]"
            ]
          },
          "metadata": {},
          "execution_count": 70
        }
      ]
    },
    {
      "cell_type": "markdown",
      "source": [
        "\n",
        "postive indexing and postive slicing\n",
        "\n",
        "\n",
        "---\n",
        "\n",
        "negative indexing and postive slicing\n",
        "\n",
        "\n",
        "---\n",
        "\n",
        "negative indexing and negative slicing\n",
        "\n",
        "\n",
        "---\n",
        "\n",
        "postive indexing and negative slicing\n"
      ],
      "metadata": {
        "id": "JMqqdEfNSf2j"
      }
    },
    {
      "cell_type": "code",
      "source": [
        "lst1[3::1] # postive indexing and positive slicing"
      ],
      "metadata": {
        "colab": {
          "base_uri": "https://localhost:8080/"
        },
        "id": "eZ_grzuNSecW",
        "outputId": "ec835231-4188-4c0e-9223-27cbe4ac5b61"
      },
      "execution_count": null,
      "outputs": [
        {
          "output_type": "execute_result",
          "data": {
            "text/plain": [
              "[43, 53, 67, 73, 82, 91]"
            ]
          },
          "metadata": {},
          "execution_count": 74
        }
      ]
    },
    {
      "cell_type": "code",
      "source": [
        "lst1[-6::1] # negative indexing and positive slicing"
      ],
      "metadata": {
        "colab": {
          "base_uri": "https://localhost:8080/"
        },
        "id": "hZyGbb9mSa8S",
        "outputId": "97ceadee-9773-453b-c877-814565ef612b"
      },
      "execution_count": null,
      "outputs": [
        {
          "output_type": "execute_result",
          "data": {
            "text/plain": [
              "[43, 53, 67, 73, 82, 91]"
            ]
          },
          "metadata": {},
          "execution_count": 75
        }
      ]
    },
    {
      "cell_type": "code",
      "source": [
        "lst1[-1:-7:-1] # negative indexing and negative slicing"
      ],
      "metadata": {
        "colab": {
          "base_uri": "https://localhost:8080/"
        },
        "id": "UvzreokttDuX",
        "outputId": "cebcfe44-fa71-480f-c369-1e8de36bbc6c"
      },
      "execution_count": null,
      "outputs": [
        {
          "output_type": "execute_result",
          "data": {
            "text/plain": [
              "[91, 82, 73, 67, 53, 43]"
            ]
          },
          "metadata": {},
          "execution_count": 79
        }
      ]
    },
    {
      "cell_type": "code",
      "source": [
        "lst1[:2:-1] # postive indexing and negative slicing"
      ],
      "metadata": {
        "colab": {
          "base_uri": "https://localhost:8080/"
        },
        "id": "hwstLoFytSjY",
        "outputId": "8fe484ed-dee4-4fc0-dea7-1456ecdf1cdc"
      },
      "execution_count": null,
      "outputs": [
        {
          "output_type": "execute_result",
          "data": {
            "text/plain": [
              "[91, 82, 73, 67, 53, 43]"
            ]
          },
          "metadata": {},
          "execution_count": 81
        }
      ]
    },
    {
      "cell_type": "code",
      "source": [
        "# python arthemetic operations\n",
        "\n",
        "a=10\n",
        "b=5\n",
        "\n",
        "print(a+b)\n",
        "print(a-b)\n",
        "print(a*b)\n",
        "print(a/b)\n",
        "\n",
        "\n",
        "a=13\n",
        "b=3\n",
        "\n",
        "print(a%b)  #Modules\n",
        "print(a//b)  # Floor division\n",
        "print(a**b)  # Exponentiation\n"
      ],
      "metadata": {
        "colab": {
          "base_uri": "https://localhost:8080/"
        },
        "id": "8YsRk6gU2llL",
        "outputId": "b19e65c0-a436-40b0-ff1b-312a4130e62f"
      },
      "execution_count": null,
      "outputs": [
        {
          "output_type": "stream",
          "name": "stdout",
          "text": [
            "15\n",
            "5\n",
            "50\n",
            "2.0\n",
            "1\n",
            "4\n",
            "2197\n"
          ]
        }
      ]
    },
    {
      "cell_type": "markdown",
      "source": [
        "```\n",
        "\n",
        "Python Assignment Operators\n",
        "\n",
        "=\tx = 5\tx = 5\n",
        "+=\tx += 3\tx = x + 3\n",
        "-=\tx -= 3\tx = x - 3\n",
        "*=\tx *= 3\tx = x * 3\n",
        "/=\tx /= 3\tx = x / 3\n",
        "%=\tx %= 3\tx = x % 3\n",
        "//=\tx //= 3\tx = x // 3\n",
        "**=\tx **= 3\tx = x ** 3\n",
        "&=\tx &= 3\tx = x & 3\n",
        "|=\tx |= 3\tx = x | 3\n",
        "^=\tx ^= 3\tx = x ^ 3\n",
        ">>=\tx >>= 3\tx = x >> 3\n",
        "<<=\tx <<= 3\tx = x << 3\n",
        "```"
      ],
      "metadata": {
        "id": "Qvw9bR_X-JRV"
      }
    },
    {
      "cell_type": "code",
      "source": [
        "a=10\n",
        "b=20\n",
        "\n",
        "a+=b\n",
        "\n",
        "print(a)\n",
        "\n",
        "a=10\n",
        "b=20\n",
        "\n",
        "a-=b\n",
        "print(a)\n",
        "\n",
        "a=10\n",
        "b=20\n",
        "\n",
        "a&=b\n",
        "\n",
        "print(a)\n",
        "\n",
        "a=10\n",
        "b=20\n",
        "\n",
        "a|=b\n",
        "\n",
        "print(a)\n",
        "\n",
        "\n",
        "\n",
        "a=10\n",
        "b=20\n",
        "\n"
      ],
      "metadata": {
        "colab": {
          "base_uri": "https://localhost:8080/"
        },
        "id": "D7VAea8C3t42",
        "outputId": "49f08a7d-7278-4b28-a13b-002899108fb3"
      },
      "execution_count": null,
      "outputs": [
        {
          "output_type": "stream",
          "name": "stdout",
          "text": [
            "30\n",
            "-10\n",
            "0\n",
            "30\n"
          ]
        }
      ]
    },
    {
      "cell_type": "markdown",
      "source": [
        "#### Friday Dec 08 - 2023"
      ],
      "metadata": {
        "id": "LfPP1pMMqGNY"
      }
    },
    {
      "cell_type": "code",
      "source": [
        "student_list1 = [99,84,74,63,51,49,33,20,17,5]\n",
        "for i in student_list1:\n",
        "  print(\"percentage Achived\",i)\n",
        "  if i>=85:\n",
        "    print('... pass with the first class distinction')\n",
        "  elif i >=60:\n",
        "    print(\".... Pass with the first class\")\n",
        "  elif i>=40:\n",
        "    print(\"... Pass with the second class\")\n",
        "  else:\n",
        "    print('....Better luck next time')\n"
      ],
      "metadata": {
        "id": "kYFNskM2497L",
        "colab": {
          "base_uri": "https://localhost:8080/"
        },
        "outputId": "badf0519-d91b-4656-951e-6cff17ba1859"
      },
      "execution_count": null,
      "outputs": [
        {
          "output_type": "stream",
          "name": "stdout",
          "text": [
            "percentage Achived 99\n",
            "... pass with the first class distinction\n",
            "percentage Achived 84\n",
            ".... Pass with the first class\n",
            "percentage Achived 74\n",
            ".... Pass with the first class\n",
            "percentage Achived 63\n",
            ".... Pass with the first class\n",
            "percentage Achived 51\n",
            "... Pass with the second class\n",
            "percentage Achived 49\n",
            "... Pass with the second class\n",
            "percentage Achived 33\n",
            "....Better luck next time\n",
            "percentage Achived 20\n",
            "....Better luck next time\n",
            "percentage Achived 17\n",
            "....Better luck next time\n",
            "percentage Achived 5\n",
            "....Better luck next time\n"
          ]
        }
      ]
    },
    {
      "cell_type": "code",
      "source": [
        "student_name = ['Biniam', 'Ermias', 'Fitsum',\"Abraham\", 'Haile']\n",
        "student_marks_1 = [93,84,69,53,47]\n",
        "\n",
        "for i in student_name:\n",
        "  sub_tot= 0\n",
        "  for j in student_marks_1:\n",
        "    sub_tot+=j\n",
        "  print(i , 'achived', sub_tot, 'marks.')\n",
        "\n",
        "\n"
      ],
      "metadata": {
        "colab": {
          "base_uri": "https://localhost:8080/"
        },
        "id": "7aq5AiJWqmID",
        "outputId": "7d5c679e-e977-4a1e-b472-2389e7409b34"
      },
      "execution_count": null,
      "outputs": [
        {
          "output_type": "stream",
          "name": "stdout",
          "text": [
            "Biniam achived 346 marks.\n",
            "Ermias achived 346 marks.\n",
            "Fitsum achived 346 marks.\n",
            "Abraham achived 346 marks.\n",
            "Haile achived 346 marks.\n"
          ]
        }
      ]
    },
    {
      "cell_type": "code",
      "source": [
        "for i in range(10):\n",
        "  for j in range(10):\n",
        "    print('*', end= ' ')\n",
        "  print('')"
      ],
      "metadata": {
        "colab": {
          "base_uri": "https://localhost:8080/"
        },
        "id": "2WENGtLdK4qQ",
        "outputId": "a78b60a3-0bb7-41eb-8dea-3ffa4dd36363"
      },
      "execution_count": null,
      "outputs": [
        {
          "output_type": "stream",
          "name": "stdout",
          "text": [
            "* * * * * * * * * * \n",
            "* * * * * * * * * * \n",
            "* * * * * * * * * * \n",
            "* * * * * * * * * * \n",
            "* * * * * * * * * * \n",
            "* * * * * * * * * * \n",
            "* * * * * * * * * * \n",
            "* * * * * * * * * * \n",
            "* * * * * * * * * * \n",
            "* * * * * * * * * * \n"
          ]
        }
      ]
    },
    {
      "cell_type": "code",
      "source": [
        "temp1 = 10\n",
        "\n",
        "while temp1>0:\n",
        "  #print(temp1)\n",
        "  temp2 =10\n",
        "  while temp2 >0:\n",
        "    print('*', end=' ')\n",
        "    temp2 -=1\n",
        "  temp1 -=1\n",
        "  print()\n",
        "\n"
      ],
      "metadata": {
        "colab": {
          "base_uri": "https://localhost:8080/"
        },
        "id": "Zk-4eLJ3MEt4",
        "outputId": "cb6aa6fd-f8c9-4c10-bfbd-d55cc138ffbc"
      },
      "execution_count": null,
      "outputs": [
        {
          "output_type": "stream",
          "name": "stdout",
          "text": [
            "* * * * * * * * * * \n",
            "* * * * * * * * * * \n",
            "* * * * * * * * * * \n",
            "* * * * * * * * * * \n",
            "* * * * * * * * * * \n",
            "* * * * * * * * * * \n",
            "* * * * * * * * * * \n",
            "* * * * * * * * * * \n",
            "* * * * * * * * * * \n",
            "* * * * * * * * * * \n"
          ]
        }
      ]
    },
    {
      "cell_type": "code",
      "source": [
        "for i in range(0,21,1):\n",
        "  for j in range(0,21,1):\n",
        "\n",
        "    print('[',i,'-',j,'] ' , end= ' ')\n",
        "  print()"
      ],
      "metadata": {
        "colab": {
          "base_uri": "https://localhost:8080/"
        },
        "id": "TpohPNS8OTvK",
        "outputId": "ae13135f-8236-4d0a-97b6-43d5d8ef1a9d"
      },
      "execution_count": null,
      "outputs": [
        {
          "output_type": "stream",
          "name": "stdout",
          "text": [
            "[ 0 - 0 ]  [ 0 - 1 ]  [ 0 - 2 ]  [ 0 - 3 ]  [ 0 - 4 ]  [ 0 - 5 ]  [ 0 - 6 ]  [ 0 - 7 ]  [ 0 - 8 ]  [ 0 - 9 ]  [ 0 - 10 ]  [ 0 - 11 ]  [ 0 - 12 ]  [ 0 - 13 ]  [ 0 - 14 ]  [ 0 - 15 ]  [ 0 - 16 ]  [ 0 - 17 ]  [ 0 - 18 ]  [ 0 - 19 ]  [ 0 - 20 ]  \n",
            "[ 1 - 0 ]  [ 1 - 1 ]  [ 1 - 2 ]  [ 1 - 3 ]  [ 1 - 4 ]  [ 1 - 5 ]  [ 1 - 6 ]  [ 1 - 7 ]  [ 1 - 8 ]  [ 1 - 9 ]  [ 1 - 10 ]  [ 1 - 11 ]  [ 1 - 12 ]  [ 1 - 13 ]  [ 1 - 14 ]  [ 1 - 15 ]  [ 1 - 16 ]  [ 1 - 17 ]  [ 1 - 18 ]  [ 1 - 19 ]  [ 1 - 20 ]  \n",
            "[ 2 - 0 ]  [ 2 - 1 ]  [ 2 - 2 ]  [ 2 - 3 ]  [ 2 - 4 ]  [ 2 - 5 ]  [ 2 - 6 ]  [ 2 - 7 ]  [ 2 - 8 ]  [ 2 - 9 ]  [ 2 - 10 ]  [ 2 - 11 ]  [ 2 - 12 ]  [ 2 - 13 ]  [ 2 - 14 ]  [ 2 - 15 ]  [ 2 - 16 ]  [ 2 - 17 ]  [ 2 - 18 ]  [ 2 - 19 ]  [ 2 - 20 ]  \n",
            "[ 3 - 0 ]  [ 3 - 1 ]  [ 3 - 2 ]  [ 3 - 3 ]  [ 3 - 4 ]  [ 3 - 5 ]  [ 3 - 6 ]  [ 3 - 7 ]  [ 3 - 8 ]  [ 3 - 9 ]  [ 3 - 10 ]  [ 3 - 11 ]  [ 3 - 12 ]  [ 3 - 13 ]  [ 3 - 14 ]  [ 3 - 15 ]  [ 3 - 16 ]  [ 3 - 17 ]  [ 3 - 18 ]  [ 3 - 19 ]  [ 3 - 20 ]  \n",
            "[ 4 - 0 ]  [ 4 - 1 ]  [ 4 - 2 ]  [ 4 - 3 ]  [ 4 - 4 ]  [ 4 - 5 ]  [ 4 - 6 ]  [ 4 - 7 ]  [ 4 - 8 ]  [ 4 - 9 ]  [ 4 - 10 ]  [ 4 - 11 ]  [ 4 - 12 ]  [ 4 - 13 ]  [ 4 - 14 ]  [ 4 - 15 ]  [ 4 - 16 ]  [ 4 - 17 ]  [ 4 - 18 ]  [ 4 - 19 ]  [ 4 - 20 ]  \n",
            "[ 5 - 0 ]  [ 5 - 1 ]  [ 5 - 2 ]  [ 5 - 3 ]  [ 5 - 4 ]  [ 5 - 5 ]  [ 5 - 6 ]  [ 5 - 7 ]  [ 5 - 8 ]  [ 5 - 9 ]  [ 5 - 10 ]  [ 5 - 11 ]  [ 5 - 12 ]  [ 5 - 13 ]  [ 5 - 14 ]  [ 5 - 15 ]  [ 5 - 16 ]  [ 5 - 17 ]  [ 5 - 18 ]  [ 5 - 19 ]  [ 5 - 20 ]  \n",
            "[ 6 - 0 ]  [ 6 - 1 ]  [ 6 - 2 ]  [ 6 - 3 ]  [ 6 - 4 ]  [ 6 - 5 ]  [ 6 - 6 ]  [ 6 - 7 ]  [ 6 - 8 ]  [ 6 - 9 ]  [ 6 - 10 ]  [ 6 - 11 ]  [ 6 - 12 ]  [ 6 - 13 ]  [ 6 - 14 ]  [ 6 - 15 ]  [ 6 - 16 ]  [ 6 - 17 ]  [ 6 - 18 ]  [ 6 - 19 ]  [ 6 - 20 ]  \n",
            "[ 7 - 0 ]  [ 7 - 1 ]  [ 7 - 2 ]  [ 7 - 3 ]  [ 7 - 4 ]  [ 7 - 5 ]  [ 7 - 6 ]  [ 7 - 7 ]  [ 7 - 8 ]  [ 7 - 9 ]  [ 7 - 10 ]  [ 7 - 11 ]  [ 7 - 12 ]  [ 7 - 13 ]  [ 7 - 14 ]  [ 7 - 15 ]  [ 7 - 16 ]  [ 7 - 17 ]  [ 7 - 18 ]  [ 7 - 19 ]  [ 7 - 20 ]  \n",
            "[ 8 - 0 ]  [ 8 - 1 ]  [ 8 - 2 ]  [ 8 - 3 ]  [ 8 - 4 ]  [ 8 - 5 ]  [ 8 - 6 ]  [ 8 - 7 ]  [ 8 - 8 ]  [ 8 - 9 ]  [ 8 - 10 ]  [ 8 - 11 ]  [ 8 - 12 ]  [ 8 - 13 ]  [ 8 - 14 ]  [ 8 - 15 ]  [ 8 - 16 ]  [ 8 - 17 ]  [ 8 - 18 ]  [ 8 - 19 ]  [ 8 - 20 ]  \n",
            "[ 9 - 0 ]  [ 9 - 1 ]  [ 9 - 2 ]  [ 9 - 3 ]  [ 9 - 4 ]  [ 9 - 5 ]  [ 9 - 6 ]  [ 9 - 7 ]  [ 9 - 8 ]  [ 9 - 9 ]  [ 9 - 10 ]  [ 9 - 11 ]  [ 9 - 12 ]  [ 9 - 13 ]  [ 9 - 14 ]  [ 9 - 15 ]  [ 9 - 16 ]  [ 9 - 17 ]  [ 9 - 18 ]  [ 9 - 19 ]  [ 9 - 20 ]  \n",
            "[ 10 - 0 ]  [ 10 - 1 ]  [ 10 - 2 ]  [ 10 - 3 ]  [ 10 - 4 ]  [ 10 - 5 ]  [ 10 - 6 ]  [ 10 - 7 ]  [ 10 - 8 ]  [ 10 - 9 ]  [ 10 - 10 ]  [ 10 - 11 ]  [ 10 - 12 ]  [ 10 - 13 ]  [ 10 - 14 ]  [ 10 - 15 ]  [ 10 - 16 ]  [ 10 - 17 ]  [ 10 - 18 ]  [ 10 - 19 ]  [ 10 - 20 ]  \n",
            "[ 11 - 0 ]  [ 11 - 1 ]  [ 11 - 2 ]  [ 11 - 3 ]  [ 11 - 4 ]  [ 11 - 5 ]  [ 11 - 6 ]  [ 11 - 7 ]  [ 11 - 8 ]  [ 11 - 9 ]  [ 11 - 10 ]  [ 11 - 11 ]  [ 11 - 12 ]  [ 11 - 13 ]  [ 11 - 14 ]  [ 11 - 15 ]  [ 11 - 16 ]  [ 11 - 17 ]  [ 11 - 18 ]  [ 11 - 19 ]  [ 11 - 20 ]  \n",
            "[ 12 - 0 ]  [ 12 - 1 ]  [ 12 - 2 ]  [ 12 - 3 ]  [ 12 - 4 ]  [ 12 - 5 ]  [ 12 - 6 ]  [ 12 - 7 ]  [ 12 - 8 ]  [ 12 - 9 ]  [ 12 - 10 ]  [ 12 - 11 ]  [ 12 - 12 ]  [ 12 - 13 ]  [ 12 - 14 ]  [ 12 - 15 ]  [ 12 - 16 ]  [ 12 - 17 ]  [ 12 - 18 ]  [ 12 - 19 ]  [ 12 - 20 ]  \n",
            "[ 13 - 0 ]  [ 13 - 1 ]  [ 13 - 2 ]  [ 13 - 3 ]  [ 13 - 4 ]  [ 13 - 5 ]  [ 13 - 6 ]  [ 13 - 7 ]  [ 13 - 8 ]  [ 13 - 9 ]  [ 13 - 10 ]  [ 13 - 11 ]  [ 13 - 12 ]  [ 13 - 13 ]  [ 13 - 14 ]  [ 13 - 15 ]  [ 13 - 16 ]  [ 13 - 17 ]  [ 13 - 18 ]  [ 13 - 19 ]  [ 13 - 20 ]  \n",
            "[ 14 - 0 ]  [ 14 - 1 ]  [ 14 - 2 ]  [ 14 - 3 ]  [ 14 - 4 ]  [ 14 - 5 ]  [ 14 - 6 ]  [ 14 - 7 ]  [ 14 - 8 ]  [ 14 - 9 ]  [ 14 - 10 ]  [ 14 - 11 ]  [ 14 - 12 ]  [ 14 - 13 ]  [ 14 - 14 ]  [ 14 - 15 ]  [ 14 - 16 ]  [ 14 - 17 ]  [ 14 - 18 ]  [ 14 - 19 ]  [ 14 - 20 ]  \n",
            "[ 15 - 0 ]  [ 15 - 1 ]  [ 15 - 2 ]  [ 15 - 3 ]  [ 15 - 4 ]  [ 15 - 5 ]  [ 15 - 6 ]  [ 15 - 7 ]  [ 15 - 8 ]  [ 15 - 9 ]  [ 15 - 10 ]  [ 15 - 11 ]  [ 15 - 12 ]  [ 15 - 13 ]  [ 15 - 14 ]  [ 15 - 15 ]  [ 15 - 16 ]  [ 15 - 17 ]  [ 15 - 18 ]  [ 15 - 19 ]  [ 15 - 20 ]  \n",
            "[ 16 - 0 ]  [ 16 - 1 ]  [ 16 - 2 ]  [ 16 - 3 ]  [ 16 - 4 ]  [ 16 - 5 ]  [ 16 - 6 ]  [ 16 - 7 ]  [ 16 - 8 ]  [ 16 - 9 ]  [ 16 - 10 ]  [ 16 - 11 ]  [ 16 - 12 ]  [ 16 - 13 ]  [ 16 - 14 ]  [ 16 - 15 ]  [ 16 - 16 ]  [ 16 - 17 ]  [ 16 - 18 ]  [ 16 - 19 ]  [ 16 - 20 ]  \n",
            "[ 17 - 0 ]  [ 17 - 1 ]  [ 17 - 2 ]  [ 17 - 3 ]  [ 17 - 4 ]  [ 17 - 5 ]  [ 17 - 6 ]  [ 17 - 7 ]  [ 17 - 8 ]  [ 17 - 9 ]  [ 17 - 10 ]  [ 17 - 11 ]  [ 17 - 12 ]  [ 17 - 13 ]  [ 17 - 14 ]  [ 17 - 15 ]  [ 17 - 16 ]  [ 17 - 17 ]  [ 17 - 18 ]  [ 17 - 19 ]  [ 17 - 20 ]  \n",
            "[ 18 - 0 ]  [ 18 - 1 ]  [ 18 - 2 ]  [ 18 - 3 ]  [ 18 - 4 ]  [ 18 - 5 ]  [ 18 - 6 ]  [ 18 - 7 ]  [ 18 - 8 ]  [ 18 - 9 ]  [ 18 - 10 ]  [ 18 - 11 ]  [ 18 - 12 ]  [ 18 - 13 ]  [ 18 - 14 ]  [ 18 - 15 ]  [ 18 - 16 ]  [ 18 - 17 ]  [ 18 - 18 ]  [ 18 - 19 ]  [ 18 - 20 ]  \n",
            "[ 19 - 0 ]  [ 19 - 1 ]  [ 19 - 2 ]  [ 19 - 3 ]  [ 19 - 4 ]  [ 19 - 5 ]  [ 19 - 6 ]  [ 19 - 7 ]  [ 19 - 8 ]  [ 19 - 9 ]  [ 19 - 10 ]  [ 19 - 11 ]  [ 19 - 12 ]  [ 19 - 13 ]  [ 19 - 14 ]  [ 19 - 15 ]  [ 19 - 16 ]  [ 19 - 17 ]  [ 19 - 18 ]  [ 19 - 19 ]  [ 19 - 20 ]  \n",
            "[ 20 - 0 ]  [ 20 - 1 ]  [ 20 - 2 ]  [ 20 - 3 ]  [ 20 - 4 ]  [ 20 - 5 ]  [ 20 - 6 ]  [ 20 - 7 ]  [ 20 - 8 ]  [ 20 - 9 ]  [ 20 - 10 ]  [ 20 - 11 ]  [ 20 - 12 ]  [ 20 - 13 ]  [ 20 - 14 ]  [ 20 - 15 ]  [ 20 - 16 ]  [ 20 - 17 ]  [ 20 - 18 ]  [ 20 - 19 ]  [ 20 - 20 ]  \n"
          ]
        }
      ]
    },
    {
      "cell_type": "code",
      "source": [
        "for i in range(10):\n",
        "  for j in range(i+1):\n",
        "    print('*', end = ' ')\n",
        "  print()"
      ],
      "metadata": {
        "colab": {
          "base_uri": "https://localhost:8080/"
        },
        "id": "E60fsdniPZn3",
        "outputId": "b404ffc2-71f7-4825-9c14-f84aa47f40cf"
      },
      "execution_count": null,
      "outputs": [
        {
          "output_type": "stream",
          "name": "stdout",
          "text": [
            "* \n",
            "* * \n",
            "* * * \n",
            "* * * * \n",
            "* * * * * \n",
            "* * * * * * \n",
            "* * * * * * * \n",
            "* * * * * * * * \n",
            "* * * * * * * * * \n",
            "* * * * * * * * * * \n"
          ]
        }
      ]
    },
    {
      "cell_type": "code",
      "source": [
        "temp1 = 10\n",
        "\n",
        "while temp1 >0:\n",
        "  temp2 =10\n",
        "  while temp2+1>temp1:\n",
        "    print('*',end= ' ')\n",
        "    temp2-=1\n",
        "  temp1-=1\n",
        "  print()"
      ],
      "metadata": {
        "colab": {
          "base_uri": "https://localhost:8080/"
        },
        "id": "oZupzRatP1lI",
        "outputId": "29637949-eb11-4561-b6ef-d4d08c03f223"
      },
      "execution_count": null,
      "outputs": [
        {
          "output_type": "stream",
          "name": "stdout",
          "text": [
            "* \n",
            "* * \n",
            "* * * \n",
            "* * * * \n",
            "* * * * * \n",
            "* * * * * * \n",
            "* * * * * * * \n",
            "* * * * * * * * \n",
            "* * * * * * * * * \n",
            "* * * * * * * * * * \n"
          ]
        }
      ]
    },
    {
      "cell_type": "code",
      "source": [
        "for i in range(10):\n",
        "  for j in range(10-i):\n",
        "    print('',end= ' ')\n",
        "  for k in range(i+1):\n",
        "    print('*', end= ' ')\n",
        "  print()"
      ],
      "metadata": {
        "colab": {
          "base_uri": "https://localhost:8080/"
        },
        "id": "NvOktYYkRpg_",
        "outputId": "c8c2c647-fdf0-4f3e-8547-0acbdc86ea8c"
      },
      "execution_count": null,
      "outputs": [
        {
          "output_type": "stream",
          "name": "stdout",
          "text": [
            "          * \n",
            "         * * \n",
            "        * * * \n",
            "       * * * * \n",
            "      * * * * * \n",
            "     * * * * * * \n",
            "    * * * * * * * \n",
            "   * * * * * * * * \n",
            "  * * * * * * * * * \n",
            " * * * * * * * * * * \n"
          ]
        }
      ]
    },
    {
      "cell_type": "code",
      "source": [
        "temp1 = 10\n",
        "while temp1 > 0:\n",
        "\n",
        "while temp2>0:\n",
        "\n",
        "while temp3>0:"
      ],
      "metadata": {
        "colab": {
          "base_uri": "https://localhost:8080/",
          "height": 141
        },
        "id": "BeyejkQ6SS9A",
        "outputId": "ba6de183-65e0-4c2d-8c05-b548f4e7250e"
      },
      "execution_count": null,
      "outputs": [
        {
          "output_type": "error",
          "ename": "IndentationError",
          "evalue": "ignored",
          "traceback": [
            "\u001b[0;36m  File \u001b[0;32m\"<ipython-input-127-5de7bfe0dbba>\"\u001b[0;36m, line \u001b[0;32m4\u001b[0m\n\u001b[0;31m    while temp2>0:\u001b[0m\n\u001b[0m    ^\u001b[0m\n\u001b[0;31mIndentationError\u001b[0m\u001b[0;31m:\u001b[0m expected an indented block after 'while' statement on line 2\n"
          ]
        }
      ]
    },
    {
      "cell_type": "code",
      "source": [
        "student_name = [\"Sham\", \"Biniam\", \"Haile\", \"Kahsay\"]\n",
        "\n",
        "student_mark_1 = [[94, 84, 78, 69, 58], [91,81,72,64,34], [70, 83,79,66,53], [90,80,77,61,53]]\n",
        "\n",
        "for i in student_name:\n",
        "  sub_tot = 0\n",
        "  counter = 0\n",
        "  for j in student_mark_1:\n",
        "    for k in j:\n",
        "\n",
        "       print(k)\n",
        "       sub_tot +=k\n",
        "\n",
        "  print(i, \"Achieved\",sub_tot, 'marks')\n",
        "  # need a to look letter"
      ],
      "metadata": {
        "id": "q-fHSgKFCt22",
        "colab": {
          "base_uri": "https://localhost:8080/"
        },
        "outputId": "7ade3f3d-6181-42c4-d3e7-79b5913ca607"
      },
      "execution_count": 2,
      "outputs": [
        {
          "output_type": "stream",
          "name": "stdout",
          "text": [
            "94\n",
            "84\n",
            "78\n",
            "69\n",
            "58\n",
            "91\n",
            "81\n",
            "72\n",
            "64\n",
            "34\n",
            "70\n",
            "83\n",
            "79\n",
            "66\n",
            "53\n",
            "90\n",
            "80\n",
            "77\n",
            "61\n",
            "53\n",
            "Sham Achieved 1437 marks\n",
            "94\n",
            "84\n",
            "78\n",
            "69\n",
            "58\n",
            "91\n",
            "81\n",
            "72\n",
            "64\n",
            "34\n",
            "70\n",
            "83\n",
            "79\n",
            "66\n",
            "53\n",
            "90\n",
            "80\n",
            "77\n",
            "61\n",
            "53\n",
            "Biniam Achieved 1437 marks\n",
            "94\n",
            "84\n",
            "78\n",
            "69\n",
            "58\n",
            "91\n",
            "81\n",
            "72\n",
            "64\n",
            "34\n",
            "70\n",
            "83\n",
            "79\n",
            "66\n",
            "53\n",
            "90\n",
            "80\n",
            "77\n",
            "61\n",
            "53\n",
            "Haile Achieved 1437 marks\n",
            "94\n",
            "84\n",
            "78\n",
            "69\n",
            "58\n",
            "91\n",
            "81\n",
            "72\n",
            "64\n",
            "34\n",
            "70\n",
            "83\n",
            "79\n",
            "66\n",
            "53\n",
            "90\n",
            "80\n",
            "77\n",
            "61\n",
            "53\n",
            "Kahsay Achieved 1437 marks\n"
          ]
        }
      ]
    },
    {
      "cell_type": "code",
      "source": [],
      "metadata": {
        "id": "gYRcbpvNTZMf"
      },
      "execution_count": null,
      "outputs": []
    }
  ],
  "metadata": {
    "colab": {
      "provenance": [],
      "authorship_tag": "ABX9TyPpg1nXwZFWuNTQceVBr0ow",
      "include_colab_link": true
    },
    "kernelspec": {
      "display_name": "Python 3",
      "name": "python3"
    },
    "language_info": {
      "name": "python"
    }
  },
  "nbformat": 4,
  "nbformat_minor": 0
}