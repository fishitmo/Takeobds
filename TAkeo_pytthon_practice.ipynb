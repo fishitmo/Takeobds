{
  "cells": [
    {
      "cell_type": "markdown",
      "metadata": {
        "id": "view-in-github",
        "colab_type": "text"
      },
      "source": [
        "<a href=\"https://colab.research.google.com/github/fishitmo/Takeobds/blob/main/TAkeo_pytthon_practice.ipynb\" target=\"_parent\"><img src=\"https://colab.research.google.com/assets/colab-badge.svg\" alt=\"Open In Colab\"/></a>"
      ]
    },
    {
      "cell_type": "code",
      "execution_count": null,
      "metadata": {
        "colab": {
          "base_uri": "https://localhost:8080/"
        },
        "id": "JLNAww7oF0_w",
        "outputId": "964e769e-a5ee-4cb3-af20-a763c19fc3b2"
      },
      "outputs": [
        {
          "output_type": "stream",
          "name": "stdout",
          "text": [
            "a<b\n"
          ]
        }
      ],
      "source": [
        "a = 20\n",
        "b= 45\n",
        "c= 5\n",
        "\n",
        "if a < b:\n",
        "  print(\"a<b\")\n",
        "elif b<c:\n",
        "  print(\"b<c\")\n",
        "elif a<c:\n",
        "  print(\"a<c\")\n",
        "else:\n",
        "  print('we are in else part')"
      ]
    },
    {
      "cell_type": "code",
      "source": [],
      "metadata": {
        "id": "iOCC-6edCmaY"
      },
      "execution_count": null,
      "outputs": []
    },
    {
      "cell_type": "code",
      "execution_count": null,
      "metadata": {
        "id": "V269H_oRNFZz"
      },
      "outputs": [],
      "source": []
    },
    {
      "cell_type": "code",
      "execution_count": null,
      "metadata": {
        "colab": {
          "base_uri": "https://localhost:8080/"
        },
        "id": "xHUMpTZVHuTL",
        "outputId": "bedf8872-4f54-4529-dc04-0ff522f8995b"
      },
      "outputs": [
        {
          "output_type": "stream",
          "name": "stdout",
          "text": [
            "a<100\n",
            "else a >85\n"
          ]
        }
      ],
      "source": [
        "a= 90\n",
        "\n",
        "if a< 100:\n",
        "  print('a<100')\n",
        "  if a < 85:\n",
        "    print('a,85')\n",
        "    if a < 70:\n",
        "      print('a<70')\n",
        "      if a<55:\n",
        "        print('a<55')\n",
        "      else:\n",
        "        print('else a>55')\n",
        "    else:\n",
        "       print('else a>70')\n",
        "  else:\n",
        "    print(\"else a >85\")\n",
        "else:\n",
        "  print(\"else a>100\")\n"
      ]
    },
    {
      "cell_type": "code",
      "execution_count": null,
      "metadata": {
        "colab": {
          "base_uri": "https://localhost:8080/"
        },
        "id": "hlLNENJNNHQy",
        "outputId": "3c3c11cf-70ab-48b7-9511-be2d4d13f574"
      },
      "outputs": [
        {
          "output_type": "stream",
          "name": "stdout",
          "text": [
            "5050\n"
          ]
        }
      ],
      "source": [
        "a=0\n",
        "for i in range(1,101,1):\n",
        "  a += i\n",
        "print(a)"
      ]
    },
    {
      "cell_type": "code",
      "execution_count": null,
      "metadata": {
        "colab": {
          "base_uri": "https://localhost:8080/"
        },
        "id": "rtAmHRaYN6m7",
        "outputId": "a1c2b9d4-5578-4945-a3b1-35e58bc9388b"
      },
      "outputs": [
        {
          "output_type": "stream",
          "name": "stdout",
          "text": [
            "5050\n"
          ]
        }
      ],
      "source": [
        "a =0\n",
        "i = 1\n",
        "while i <= 100:\n",
        "\n",
        "     a +=i\n",
        "     i += 1\n",
        "print(a)"
      ]
    },
    {
      "cell_type": "markdown",
      "metadata": {
        "id": "bSH1hkYO2zF4"
      },
      "source": [
        "# Built in Functions of Python List Data Type"
      ]
    },
    {
      "cell_type": "code",
      "execution_count": null,
      "metadata": {
        "id": "MaBwYPOA2XyG"
      },
      "outputs": [],
      "source": [
        "lst1 = [\"Apple\", 'Banana', 'Cherrys', 'Orange', 'Pynaple','Honey-Fruit']"
      ]
    },
    {
      "cell_type": "code",
      "execution_count": null,
      "metadata": {
        "colab": {
          "base_uri": "https://localhost:8080/"
        },
        "id": "4yvh-5WSCFWI",
        "outputId": "f2d369de-9359-4e57-c8de-385124a94794"
      },
      "outputs": [
        {
          "output_type": "stream",
          "name": "stdout",
          "text": [
            "['Apple', 'Banana', 'Cherrys', 'Orange', 'Pynaple', 'Honey-Fruit'] <class 'list'>\n"
          ]
        }
      ],
      "source": [
        "print(lst1, type(lst1))"
      ]
    },
    {
      "cell_type": "code",
      "execution_count": null,
      "metadata": {
        "colab": {
          "base_uri": "https://localhost:8080/"
        },
        "id": "rPyChjJ8CPJJ",
        "outputId": "94ff1f77-0387-4520-e31c-a90652d81b2b"
      },
      "outputs": [
        {
          "output_type": "stream",
          "name": "stdout",
          "text": [
            "['Apple', 'Banana', 'Cherrys', 'Orange', 'Pynaple', 'Honey-Fruit']\n",
            "['Apple', 'Banana', 'Cherrys', 'Orange', 'Pynaple', 'Honey-Fruit', 'Mango']\n"
          ]
        }
      ],
      "source": [
        "print(lst1)\n",
        "lst1.append('Mango')\n",
        "print(lst1)"
      ]
    },
    {
      "cell_type": "code",
      "execution_count": null,
      "metadata": {
        "colab": {
          "base_uri": "https://localhost:8080/"
        },
        "id": "eOp6F4hnCYZk",
        "outputId": "2ee4ca47-6b51-4e35-d720-7f775d14837a"
      },
      "outputs": [
        {
          "output_type": "stream",
          "name": "stdout",
          "text": [
            "['Apple', 'Banana', 'Cherrys', 'Orange', 'Pynaple', 'Honey-Fruit', 'Mango']\n",
            "[]\n"
          ]
        }
      ],
      "source": [
        "print(lst1)\n",
        "lst1.clear()\n",
        "print(lst1)"
      ]
    },
    {
      "cell_type": "code",
      "execution_count": null,
      "metadata": {
        "colab": {
          "base_uri": "https://localhost:8080/"
        },
        "id": "cfrN3BAECsIt",
        "outputId": "56b5f85e-a7ca-437c-d5dc-2f6202194f9b"
      },
      "outputs": [
        {
          "output_type": "stream",
          "name": "stdout",
          "text": [
            "[]\n"
          ]
        }
      ],
      "source": [
        "print(lst1)"
      ]
    },
    {
      "cell_type": "code",
      "execution_count": null,
      "metadata": {
        "id": "24McCv83OJnZ"
      },
      "outputs": [],
      "source": [
        "lst1= [\"Mendefera\", \"Dekemhare\", \"Asmara\",\"Teseney\",\"Massawa\",\"Assab\",\"Keren\",\"Barentu\",\"Adi-Keihe\",\"Adi-Kuala\"]"
      ]
    },
    {
      "cell_type": "code",
      "execution_count": null,
      "metadata": {
        "colab": {
          "base_uri": "https://localhost:8080/"
        },
        "id": "bgR3dZspOssb",
        "outputId": "4b3597e5-2484-4c84-aa18-4e408f5a748b"
      },
      "outputs": [
        {
          "output_type": "stream",
          "name": "stdout",
          "text": [
            "['Mendefera', 'Dekemhare', 'Asmara', 'Teseney', 'Massawa', 'Assab', 'Keren', 'Barentu', 'Adi-Keihe', 'Adi-Kuala']\n",
            "['Mendefera', 'Dekemhare', 'Asmara', 'Teseney', 'Massawa', 'Assab', 'Keren', 'Barentu', 'Adi-Keihe', 'Adi-Kuala'] ['Mendefera', 'Dekemhare', 'Asmara', 'Teseney', 'Massawa', 'Assab', 'Keren', 'Barentu', 'Adi-Keihe', 'Adi-Kuala']\n"
          ]
        }
      ],
      "source": [
        "print(lst1)\n",
        "lst2= lst1.copy()\n",
        "print(lst1, lst2)"
      ]
    },
    {
      "cell_type": "code",
      "execution_count": null,
      "metadata": {
        "colab": {
          "base_uri": "https://localhost:8080/"
        },
        "id": "p2cpJGGjO4Qt",
        "outputId": "1187cd0c-f8ac-4027-e401-0eed9abc7bf4"
      },
      "outputs": [
        {
          "output_type": "stream",
          "name": "stdout",
          "text": [
            "['Mendefera', 'Dekemhare', 'Asmara', 'Teseney', 'Massawa', 'Assab', 'Keren', 'Barentu', 'Adi-Keihe', 'Adi-Kuala']\n"
          ]
        },
        {
          "output_type": "execute_result",
          "data": {
            "text/plain": [
              "1"
            ]
          },
          "metadata": {},
          "execution_count": 25
        }
      ],
      "source": [
        "print(lst1)\n",
        "lst1.count(\"Asmara\")"
      ]
    },
    {
      "cell_type": "code",
      "execution_count": null,
      "metadata": {
        "colab": {
          "base_uri": "https://localhost:8080/"
        },
        "id": "hucDb0LX3Vlg",
        "outputId": "063cbffa-f2df-4f53-f582-7588251e2ce8"
      },
      "outputs": [
        {
          "output_type": "stream",
          "name": "stdout",
          "text": [
            "['Mendefera', 'Dekemhare', 'Asmara', 'Teseney', 'Massawa', 'Assab', 'Keren', 'Barentu', 'Adi-Keihe', 'Adi-Kuala']\n",
            "['Mendefera', 'Dekemhare', 'Asmara', 'Teseney', 'Massawa', 'Assab', 'Keren', 'Barentu', 'Adi-Keihe', 'Adi-Kuala', 'Ghinda', 'Akurdet', 'Eilabered', 'Tieo', 'Nakfa']\n"
          ]
        }
      ],
      "source": [
        "print(lst1)\n",
        "lst1.extend(['Ghinda', 'Akurdet', 'Eilabered', 'Tieo', 'Nakfa'])\n",
        "print(lst1)"
      ]
    },
    {
      "cell_type": "code",
      "execution_count": null,
      "metadata": {
        "colab": {
          "base_uri": "https://localhost:8080/"
        },
        "id": "aV7v6ZlN3_la",
        "outputId": "596b1527-3971-4ae1-a892-dd5fe8bef875"
      },
      "outputs": [
        {
          "output_type": "stream",
          "name": "stdout",
          "text": [
            "['Mendefera', 'Dekemhare', 'Asmara', 'Teseney', 'Massawa', 'Assab', 'Keren', 'Barentu', 'Adi-Keihe', 'Adi-Kuala', 'Ghinda', 'Akurdet', 'Eilabered', 'Tieo', 'Nakfa']\n"
          ]
        },
        {
          "output_type": "execute_result",
          "data": {
            "text/plain": [
              "2"
            ]
          },
          "metadata": {},
          "execution_count": 27
        }
      ],
      "source": [
        "print(lst1)\n",
        "lst1.index('Asmara')"
      ]
    },
    {
      "cell_type": "code",
      "execution_count": null,
      "metadata": {
        "colab": {
          "base_uri": "https://localhost:8080/"
        },
        "id": "N7osg-3xYYoh",
        "outputId": "94ac2a84-46a4-462e-c69d-2cb2ce88ee55"
      },
      "outputs": [
        {
          "output_type": "execute_result",
          "data": {
            "text/plain": [
              "4"
            ]
          },
          "metadata": {},
          "execution_count": 28
        }
      ],
      "source": [
        "lst1.index('Massawa',2,7 )"
      ]
    },
    {
      "cell_type": "code",
      "execution_count": null,
      "metadata": {
        "id": "BAjEZJ97Y506",
        "colab": {
          "base_uri": "https://localhost:8080/"
        },
        "outputId": "064ce1f6-7c88-410b-f1b1-1d0edeace7e6"
      },
      "outputs": [
        {
          "output_type": "stream",
          "name": "stdout",
          "text": [
            "['Mendefera', 'Dekemhare', 'Asmara', 'Teseney', 'Massawa', 'Assab', 'Keren', 'Barentu', 'Adi-Keihe', 'Adi-Kuala', 'Ghinda', 'Akurdet', 'Eilabered', 'Tieo', 'Nakfa']\n",
            "['Mendefera', 'Dekemhare', 'Debarwa', 'Asmara', 'Teseney', 'Massawa', 'Assab', 'Keren', 'Barentu', 'Adi-Keihe', 'Adi-Kuala', 'Ghinda', 'Akurdet', 'Eilabered', 'Tieo', 'Nakfa']\n"
          ]
        }
      ],
      "source": [
        "print(lst1)\n",
        "lst1.insert(2,'Debarwa')\n",
        "print(lst1)"
      ]
    },
    {
      "cell_type": "code",
      "execution_count": null,
      "metadata": {
        "colab": {
          "base_uri": "https://localhost:8080/"
        },
        "id": "94mqthJsVj-l",
        "outputId": "7cee349c-bb1e-4fb7-ec2f-134a2e436ab5"
      },
      "outputs": [
        {
          "output_type": "stream",
          "name": "stdout",
          "text": [
            "['Mendefera', 'Dekemhare', 'Debarwa', 'Asmara', 'Teseney', 'Massawa', 'Assab', 'Keren', 'Barentu', 'Adi-Keihe', 'Adi-Kuala', 'Ghinda', 'Akurdet', 'Eilabered', 'Tieo', 'Nakfa']\n",
            "['Mendefera', 'Dekemhare', 'Debarwa', 'Asmara', 'Teseney', 'Massawa', 'Assab', 'Keren', 'Barentu', 'Adi-Keihe', 'Adi-Kuala', 'Ghinda', 'Akurdet', 'Eilabered', 'Tieo']\n",
            "['Mendefera', 'Dekemhare', 'Debarwa', 'Asmara', 'Teseney', 'Massawa', 'Assab', 'Keren', 'Barentu', 'Adi-Keihe', 'Adi-Kuala', 'Ghinda', 'Akurdet', 'Eilabered']\n",
            "['Mendefera', 'Dekemhare', 'Debarwa', 'Asmara', 'Teseney', 'Massawa', 'Assab', 'Keren', 'Barentu', 'Adi-Keihe', 'Adi-Kuala', 'Ghinda', 'Akurdet']\n",
            "['Mendefera', 'Dekemhare', 'Debarwa', 'Asmara', 'Teseney', 'Massawa', 'Assab', 'Keren', 'Barentu', 'Adi-Keihe', 'Adi-Kuala', 'Ghinda']\n"
          ]
        }
      ],
      "source": [
        "print(lst1)\n",
        "lst1.pop()\n",
        "print(lst1)\n",
        "lst1.pop()\n",
        "print(lst1)\n",
        "lst1.pop()\n",
        "print(lst1)\n",
        "lst1.pop()\n",
        "print(lst1)"
      ]
    },
    {
      "cell_type": "code",
      "source": [
        "lst1= [\"Mendefera\", \"Dekemhare\", \"Asmara\",\"Teseney\",\"Massawa\",\"Assab\",\"Keren\",\"Barentu\",\"Adi-Keihe\",\"Adi-Kuala\"]"
      ],
      "metadata": {
        "id": "Zf5O8gPjH31B"
      },
      "execution_count": null,
      "outputs": []
    },
    {
      "cell_type": "code",
      "source": [
        "print(lst1)\n",
        "lst1.pop(1)\n",
        "print(lst1)"
      ],
      "metadata": {
        "colab": {
          "base_uri": "https://localhost:8080/"
        },
        "id": "ai1mDhJwICTe",
        "outputId": "5550dee8-84bb-4541-fbed-e77a34db241e"
      },
      "execution_count": null,
      "outputs": [
        {
          "output_type": "stream",
          "name": "stdout",
          "text": [
            "['Mendefera', 'Dekemhare', 'Asmara', 'Teseney', 'Massawa', 'Assab', 'Keren', 'Barentu', 'Adi-Keihe', 'Adi-Kuala']\n",
            "['Mendefera', 'Asmara', 'Teseney', 'Massawa', 'Assab', 'Keren', 'Barentu', 'Adi-Keihe', 'Adi-Kuala']\n"
          ]
        }
      ]
    },
    {
      "cell_type": "code",
      "source": [
        "print(lst1)\n",
        "lst1.remove('Massawa')\n",
        "print(lst1)"
      ],
      "metadata": {
        "colab": {
          "base_uri": "https://localhost:8080/"
        },
        "id": "RrQ1UPvkIXIe",
        "outputId": "bf4b6bec-dd7c-4ea7-8d3a-b56738ca6396"
      },
      "execution_count": null,
      "outputs": [
        {
          "output_type": "stream",
          "name": "stdout",
          "text": [
            "['Mendefera', 'Asmara', 'Teseney', 'Massawa', 'Assab', 'Keren', 'Barentu', 'Adi-Keihe', 'Adi-Kuala']\n",
            "['Mendefera', 'Asmara', 'Teseney', 'Assab', 'Keren', 'Barentu', 'Adi-Keihe', 'Adi-Kuala']\n"
          ]
        }
      ]
    },
    {
      "cell_type": "code",
      "source": [
        "print(lst1)\n",
        "lst1.reverse()\n",
        "print(lst1)"
      ],
      "metadata": {
        "colab": {
          "base_uri": "https://localhost:8080/"
        },
        "id": "jAFpAsIFIz5_",
        "outputId": "384debd7-5757-49cd-c988-8c0353d85421"
      },
      "execution_count": null,
      "outputs": [
        {
          "output_type": "stream",
          "name": "stdout",
          "text": [
            "['Mendefera', 'Asmara', 'Teseney', 'Assab', 'Keren', 'Barentu', 'Adi-Keihe', 'Adi-Kuala']\n",
            "['Adi-Kuala', 'Adi-Keihe', 'Barentu', 'Keren', 'Assab', 'Teseney', 'Asmara', 'Mendefera']\n"
          ]
        }
      ]
    },
    {
      "cell_type": "code",
      "source": [
        "lst1= [\"Mendefera\", \"Dekemhare\", \"Asmara\",\"Teseney\",\"Massawa\",\"Assab\",\"Keren\",\"Barentu\",\"Adi-Keihe\",\"Adi-Kuala\"]"
      ],
      "metadata": {
        "id": "1zXZnE76JvNL"
      },
      "execution_count": null,
      "outputs": []
    },
    {
      "cell_type": "code",
      "source": [
        "lst1[0], lst1[1], lst1[2]"
      ],
      "metadata": {
        "colab": {
          "base_uri": "https://localhost:8080/"
        },
        "id": "SpI-OrWWJCy6",
        "outputId": "e5f7d901-065e-4cbd-eb5b-59c347ef46a7"
      },
      "execution_count": null,
      "outputs": [
        {
          "output_type": "execute_result",
          "data": {
            "text/plain": [
              "('Mendefera', 'Dekemhare', 'Asmara')"
            ]
          },
          "metadata": {},
          "execution_count": 39
        }
      ]
    },
    {
      "cell_type": "code",
      "source": [
        "lst1[0:3:1]"
      ],
      "metadata": {
        "colab": {
          "base_uri": "https://localhost:8080/"
        },
        "id": "aEdy6GTWJmHl",
        "outputId": "cf77b14c-314c-4fd0-e97f-b0293cefff48"
      },
      "execution_count": null,
      "outputs": [
        {
          "output_type": "execute_result",
          "data": {
            "text/plain": [
              "['Mendefera', 'Dekemhare', 'Asmara']"
            ]
          },
          "metadata": {},
          "execution_count": 40
        }
      ]
    },
    {
      "cell_type": "code",
      "source": [
        "lst1[2:7:1]"
      ],
      "metadata": {
        "colab": {
          "base_uri": "https://localhost:8080/"
        },
        "id": "XOe0Zx12J6Qe",
        "outputId": "bc7f7d26-6a36-4ed4-b251-5d76e8c71cf3"
      },
      "execution_count": null,
      "outputs": [
        {
          "output_type": "execute_result",
          "data": {
            "text/plain": [
              "['Asmara', 'Teseney', 'Massawa', 'Assab', 'Keren']"
            ]
          },
          "metadata": {},
          "execution_count": 41
        }
      ]
    },
    {
      "cell_type": "code",
      "source": [
        "lst1[1::1]"
      ],
      "metadata": {
        "colab": {
          "base_uri": "https://localhost:8080/"
        },
        "id": "uZFuwXDLKGJH",
        "outputId": "4d83b6cb-5b8d-4c9a-9a72-cff3b9ed5e62"
      },
      "execution_count": null,
      "outputs": [
        {
          "output_type": "execute_result",
          "data": {
            "text/plain": [
              "['Dekemhare',\n",
              " 'Asmara',\n",
              " 'Teseney',\n",
              " 'Massawa',\n",
              " 'Assab',\n",
              " 'Keren',\n",
              " 'Barentu',\n",
              " 'Adi-Keihe',\n",
              " 'Adi-Kuala']"
            ]
          },
          "metadata": {},
          "execution_count": 42
        }
      ]
    },
    {
      "cell_type": "code",
      "source": [
        "lst1[::]"
      ],
      "metadata": {
        "colab": {
          "base_uri": "https://localhost:8080/"
        },
        "id": "mGbqUYNuKM-o",
        "outputId": "b4091f83-0dc7-42aa-d874-296864eccffe"
      },
      "execution_count": null,
      "outputs": [
        {
          "output_type": "execute_result",
          "data": {
            "text/plain": [
              "['Mendefera',\n",
              " 'Dekemhare',\n",
              " 'Asmara',\n",
              " 'Teseney',\n",
              " 'Massawa',\n",
              " 'Assab',\n",
              " 'Keren',\n",
              " 'Barentu',\n",
              " 'Adi-Keihe',\n",
              " 'Adi-Kuala']"
            ]
          },
          "metadata": {},
          "execution_count": 43
        }
      ]
    },
    {
      "cell_type": "code",
      "source": [
        "lst1[0:len(lst1):1]"
      ],
      "metadata": {
        "colab": {
          "base_uri": "https://localhost:8080/"
        },
        "id": "Ve1WVMaqKZvC",
        "outputId": "f12954bf-9c03-4c52-d3e2-ad19b6d2a730"
      },
      "execution_count": null,
      "outputs": [
        {
          "output_type": "execute_result",
          "data": {
            "text/plain": [
              "['Mendefera',\n",
              " 'Dekemhare',\n",
              " 'Asmara',\n",
              " 'Teseney',\n",
              " 'Massawa',\n",
              " 'Assab',\n",
              " 'Keren',\n",
              " 'Barentu',\n",
              " 'Adi-Keihe',\n",
              " 'Adi-Kuala']"
            ]
          },
          "metadata": {},
          "execution_count": 44
        }
      ]
    },
    {
      "cell_type": "code",
      "source": [
        "print(len(lst1))"
      ],
      "metadata": {
        "colab": {
          "base_uri": "https://localhost:8080/"
        },
        "id": "jZeq9oUQLq-i",
        "outputId": "4b25d345-904a-4f38-939e-367378340579"
      },
      "execution_count": null,
      "outputs": [
        {
          "output_type": "stream",
          "name": "stdout",
          "text": [
            "10\n"
          ]
        }
      ]
    },
    {
      "cell_type": "code",
      "source": [
        "lst1[0:len(lst1):2]"
      ],
      "metadata": {
        "colab": {
          "base_uri": "https://localhost:8080/"
        },
        "id": "HBC_DjnAL524",
        "outputId": "11ac5ff4-0f14-4c13-a2d0-261359fa7399"
      },
      "execution_count": null,
      "outputs": [
        {
          "output_type": "execute_result",
          "data": {
            "text/plain": [
              "['Mendefera', 'Asmara', 'Massawa', 'Keren', 'Adi-Keihe']"
            ]
          },
          "metadata": {},
          "execution_count": 46
        }
      ]
    },
    {
      "cell_type": "code",
      "source": [
        "lst1[::]"
      ],
      "metadata": {
        "colab": {
          "base_uri": "https://localhost:8080/"
        },
        "id": "a-ZnD5exMHU5",
        "outputId": "9dfb8117-64f3-4e5b-cc77-981053079383"
      },
      "execution_count": null,
      "outputs": [
        {
          "output_type": "execute_result",
          "data": {
            "text/plain": [
              "['Mendefera',\n",
              " 'Dekemhare',\n",
              " 'Asmara',\n",
              " 'Teseney',\n",
              " 'Massawa',\n",
              " 'Assab',\n",
              " 'Keren',\n",
              " 'Barentu',\n",
              " 'Adi-Keihe',\n",
              " 'Adi-Kuala']"
            ]
          },
          "metadata": {},
          "execution_count": 48
        }
      ]
    },
    {
      "cell_type": "code",
      "source": [
        "lst1[::-1]"
      ],
      "metadata": {
        "colab": {
          "base_uri": "https://localhost:8080/"
        },
        "id": "09cTJbRGMaIC",
        "outputId": "f9fc4c4f-b8ad-4323-d57b-469d827d2298"
      },
      "execution_count": null,
      "outputs": [
        {
          "output_type": "execute_result",
          "data": {
            "text/plain": [
              "['Adi-Kuala',\n",
              " 'Adi-Keihe',\n",
              " 'Barentu',\n",
              " 'Keren',\n",
              " 'Assab',\n",
              " 'Massawa',\n",
              " 'Teseney',\n",
              " 'Asmara',\n",
              " 'Dekemhare',\n",
              " 'Mendefera']"
            ]
          },
          "metadata": {},
          "execution_count": 49
        }
      ]
    },
    {
      "cell_type": "code",
      "source": [
        "lst1"
      ],
      "metadata": {
        "colab": {
          "base_uri": "https://localhost:8080/"
        },
        "id": "TpIW58pJN3ne",
        "outputId": "fadbc3f2-1659-4450-b9a2-c61703fab8fa"
      },
      "execution_count": null,
      "outputs": [
        {
          "output_type": "execute_result",
          "data": {
            "text/plain": [
              "['Mendefera',\n",
              " 'Dekemhare',\n",
              " 'Asmara',\n",
              " 'Teseney',\n",
              " 'Massawa',\n",
              " 'Assab',\n",
              " 'Keren',\n",
              " 'Barentu',\n",
              " 'Adi-Keihe',\n",
              " 'Adi-Kuala']"
            ]
          },
          "metadata": {},
          "execution_count": 50
        }
      ]
    },
    {
      "cell_type": "markdown",
      "source": [
        " **Wednesday December 06, 2023**"
      ],
      "metadata": {
        "id": "-iGG9sxyN__i"
      }
    },
    {
      "cell_type": "code",
      "source": [
        "lst1 = [12,23,34,43,53,67,73,82,91]"
      ],
      "metadata": {
        "id": "-AMPqYxCN9Gi"
      },
      "execution_count": null,
      "outputs": []
    },
    {
      "cell_type": "code",
      "source": [
        "lst1[::]"
      ],
      "metadata": {
        "colab": {
          "base_uri": "https://localhost:8080/"
        },
        "id": "2sudzwIlOyYw",
        "outputId": "4ef937d1-c8fa-4ecc-8a91-5e351aeb607e"
      },
      "execution_count": null,
      "outputs": [
        {
          "output_type": "execute_result",
          "data": {
            "text/plain": [
              "[12, 23, 34, 43, 53, 67, 73, 82, 91]"
            ]
          },
          "metadata": {},
          "execution_count": 52
        }
      ]
    },
    {
      "cell_type": "code",
      "source": [
        "lst1[0::]"
      ],
      "metadata": {
        "colab": {
          "base_uri": "https://localhost:8080/"
        },
        "id": "T67ih4B0O1mO",
        "outputId": "c93ba1dc-d836-49c5-e580-a1c0d476e93a"
      },
      "execution_count": null,
      "outputs": [
        {
          "output_type": "execute_result",
          "data": {
            "text/plain": [
              "[12, 23, 34, 43, 53, 67, 73, 82, 91]"
            ]
          },
          "metadata": {},
          "execution_count": 53
        }
      ]
    },
    {
      "cell_type": "code",
      "source": [
        "lst1[:len(lst1):]"
      ],
      "metadata": {
        "colab": {
          "base_uri": "https://localhost:8080/"
        },
        "id": "vGKAkcDsO5ZF",
        "outputId": "f9d6fd73-7008-467a-8291-35224fc9b757"
      },
      "execution_count": null,
      "outputs": [
        {
          "output_type": "execute_result",
          "data": {
            "text/plain": [
              "[12, 23, 34, 43, 53, 67, 73, 82, 91]"
            ]
          },
          "metadata": {},
          "execution_count": 54
        }
      ]
    },
    {
      "cell_type": "code",
      "source": [
        "lst1[::1]"
      ],
      "metadata": {
        "colab": {
          "base_uri": "https://localhost:8080/"
        },
        "id": "_y4-iFPOO_19",
        "outputId": "e1fa48c7-1645-44e6-e439-732816299499"
      },
      "execution_count": null,
      "outputs": [
        {
          "output_type": "execute_result",
          "data": {
            "text/plain": [
              "[12, 23, 34, 43, 53, 67, 73, 82, 91]"
            ]
          },
          "metadata": {},
          "execution_count": 55
        }
      ]
    },
    {
      "cell_type": "code",
      "source": [
        "lst1[:4:]"
      ],
      "metadata": {
        "colab": {
          "base_uri": "https://localhost:8080/"
        },
        "id": "RZ8rKvlRPFC2",
        "outputId": "7737d23e-dd6c-4a4a-d315-592b1b3360d4"
      },
      "execution_count": null,
      "outputs": [
        {
          "output_type": "execute_result",
          "data": {
            "text/plain": [
              "[12, 23, 34, 43]"
            ]
          },
          "metadata": {},
          "execution_count": 56
        }
      ]
    },
    {
      "cell_type": "code",
      "source": [
        "lst1[2:6:]"
      ],
      "metadata": {
        "colab": {
          "base_uri": "https://localhost:8080/"
        },
        "id": "Sq6ZsdLUPK1E",
        "outputId": "5b64f961-425e-4647-f5b0-a59286e845fa"
      },
      "execution_count": null,
      "outputs": [
        {
          "output_type": "execute_result",
          "data": {
            "text/plain": [
              "[34, 43, 53, 67]"
            ]
          },
          "metadata": {},
          "execution_count": 57
        }
      ]
    },
    {
      "cell_type": "markdown",
      "source": [
        "*** Right to left negative slicing ***"
      ],
      "metadata": {
        "id": "nm0P5gqSQG6t"
      }
    },
    {
      "cell_type": "code",
      "source": [
        "lst1"
      ],
      "metadata": {
        "colab": {
          "base_uri": "https://localhost:8080/"
        },
        "id": "QZJvTRzpPkZE",
        "outputId": "d04688a7-10ac-48e4-e961-7a3c38057471"
      },
      "execution_count": null,
      "outputs": [
        {
          "output_type": "execute_result",
          "data": {
            "text/plain": [
              "[12, 23, 34, 43, 53, 67, 73, 82, 91]"
            ]
          },
          "metadata": {},
          "execution_count": 58
        }
      ]
    },
    {
      "cell_type": "code",
      "source": [
        "lst1[-1:-(len(lst1)+1):-1]"
      ],
      "metadata": {
        "colab": {
          "base_uri": "https://localhost:8080/"
        },
        "id": "QDcgs92bQSDu",
        "outputId": "31b86e90-9a91-4ab3-ea21-6d79639cf71d"
      },
      "execution_count": null,
      "outputs": [
        {
          "output_type": "execute_result",
          "data": {
            "text/plain": [
              "[91, 82, 73, 67, 53, 43, 34, 23, 12]"
            ]
          },
          "metadata": {},
          "execution_count": 67
        }
      ]
    },
    {
      "cell_type": "code",
      "source": [
        "lst1[-6::-1]"
      ],
      "metadata": {
        "colab": {
          "base_uri": "https://localhost:8080/"
        },
        "id": "KL37VO-9QbC2",
        "outputId": "4fa5cdad-8114-4a04-dd0b-1498475d2b83"
      },
      "execution_count": null,
      "outputs": [
        {
          "output_type": "execute_result",
          "data": {
            "text/plain": [
              "[43, 34, 23, 12]"
            ]
          },
          "metadata": {},
          "execution_count": 68
        }
      ]
    },
    {
      "cell_type": "code",
      "source": [
        "lst1[-4:-8:-1]"
      ],
      "metadata": {
        "colab": {
          "base_uri": "https://localhost:8080/"
        },
        "id": "5nWy64S2Robf",
        "outputId": "6cb516ca-727d-4326-bbcf-e7174d552690"
      },
      "execution_count": null,
      "outputs": [
        {
          "output_type": "execute_result",
          "data": {
            "text/plain": [
              "[67, 53, 43, 34]"
            ]
          },
          "metadata": {},
          "execution_count": 69
        }
      ]
    },
    {
      "cell_type": "code",
      "source": [
        "lst1"
      ],
      "metadata": {
        "colab": {
          "base_uri": "https://localhost:8080/"
        },
        "id": "y31u7i05SWZn",
        "outputId": "3828506e-a335-4fca-8837-65ca8fe0d604"
      },
      "execution_count": null,
      "outputs": [
        {
          "output_type": "execute_result",
          "data": {
            "text/plain": [
              "[12, 23, 34, 43, 53, 67, 73, 82, 91]"
            ]
          },
          "metadata": {},
          "execution_count": 70
        }
      ]
    },
    {
      "cell_type": "markdown",
      "source": [
        "\n",
        "postive indexing and postive slicing\n",
        "\n",
        "\n",
        "---\n",
        "\n",
        "negative indexing and postive slicing\n",
        "\n",
        "\n",
        "---\n",
        "\n",
        "negative indexing and negative slicing\n",
        "\n",
        "\n",
        "---\n",
        "\n",
        "postive indexing and negative slicing\n"
      ],
      "metadata": {
        "id": "JMqqdEfNSf2j"
      }
    },
    {
      "cell_type": "code",
      "source": [
        "lst1[3::1] # postive indexing and positive slicing"
      ],
      "metadata": {
        "colab": {
          "base_uri": "https://localhost:8080/"
        },
        "id": "eZ_grzuNSecW",
        "outputId": "ec835231-4188-4c0e-9223-27cbe4ac5b61"
      },
      "execution_count": null,
      "outputs": [
        {
          "output_type": "execute_result",
          "data": {
            "text/plain": [
              "[43, 53, 67, 73, 82, 91]"
            ]
          },
          "metadata": {},
          "execution_count": 74
        }
      ]
    },
    {
      "cell_type": "code",
      "source": [
        "lst1[-6::1] # negative indexing and positive slicing"
      ],
      "metadata": {
        "colab": {
          "base_uri": "https://localhost:8080/"
        },
        "id": "hZyGbb9mSa8S",
        "outputId": "97ceadee-9773-453b-c877-814565ef612b"
      },
      "execution_count": null,
      "outputs": [
        {
          "output_type": "execute_result",
          "data": {
            "text/plain": [
              "[43, 53, 67, 73, 82, 91]"
            ]
          },
          "metadata": {},
          "execution_count": 75
        }
      ]
    },
    {
      "cell_type": "code",
      "source": [
        "lst1[-1:-7:-1] # negative indexing and negative slicing"
      ],
      "metadata": {
        "colab": {
          "base_uri": "https://localhost:8080/"
        },
        "id": "UvzreokttDuX",
        "outputId": "cebcfe44-fa71-480f-c369-1e8de36bbc6c"
      },
      "execution_count": null,
      "outputs": [
        {
          "output_type": "execute_result",
          "data": {
            "text/plain": [
              "[91, 82, 73, 67, 53, 43]"
            ]
          },
          "metadata": {},
          "execution_count": 79
        }
      ]
    },
    {
      "cell_type": "code",
      "source": [
        "lst1[:2:-1] # postive indexing and negative slicing"
      ],
      "metadata": {
        "colab": {
          "base_uri": "https://localhost:8080/"
        },
        "id": "hwstLoFytSjY",
        "outputId": "8fe484ed-dee4-4fc0-dea7-1456ecdf1cdc"
      },
      "execution_count": null,
      "outputs": [
        {
          "output_type": "execute_result",
          "data": {
            "text/plain": [
              "[91, 82, 73, 67, 53, 43]"
            ]
          },
          "metadata": {},
          "execution_count": 81
        }
      ]
    },
    {
      "cell_type": "code",
      "source": [
        "# python arthemetic operations\n",
        "\n",
        "a=10\n",
        "b=5\n",
        "\n",
        "print(a+b)\n",
        "print(a-b)\n",
        "print(a*b)\n",
        "print(a/b)\n",
        "\n",
        "\n",
        "a=13\n",
        "b=3\n",
        "\n",
        "print(a%b)  #Modules\n",
        "print(a//b)  # Floor division\n",
        "print(a**b)  # Exponentiation\n"
      ],
      "metadata": {
        "colab": {
          "base_uri": "https://localhost:8080/"
        },
        "id": "8YsRk6gU2llL",
        "outputId": "b19e65c0-a436-40b0-ff1b-312a4130e62f"
      },
      "execution_count": null,
      "outputs": [
        {
          "output_type": "stream",
          "name": "stdout",
          "text": [
            "15\n",
            "5\n",
            "50\n",
            "2.0\n",
            "1\n",
            "4\n",
            "2197\n"
          ]
        }
      ]
    },
    {
      "cell_type": "markdown",
      "source": [
        "```\n",
        "\n",
        "Python Assignment Operators\n",
        "\n",
        "=\tx = 5\tx = 5\n",
        "+=\tx += 3\tx = x + 3\n",
        "-=\tx -= 3\tx = x - 3\n",
        "*=\tx *= 3\tx = x * 3\n",
        "/=\tx /= 3\tx = x / 3\n",
        "%=\tx %= 3\tx = x % 3\n",
        "//=\tx //= 3\tx = x // 3\n",
        "**=\tx **= 3\tx = x ** 3\n",
        "&=\tx &= 3\tx = x & 3\n",
        "|=\tx |= 3\tx = x | 3\n",
        "^=\tx ^= 3\tx = x ^ 3\n",
        ">>=\tx >>= 3\tx = x >> 3\n",
        "<<=\tx <<= 3\tx = x << 3\n",
        "```"
      ],
      "metadata": {
        "id": "Qvw9bR_X-JRV"
      }
    },
    {
      "cell_type": "code",
      "source": [
        "a=10\n",
        "b=20\n",
        "\n",
        "a+=b\n",
        "\n",
        "print(a)\n",
        "\n",
        "a=10\n",
        "b=20\n",
        "\n",
        "a-=b\n",
        "print(a)\n",
        "\n",
        "a=10\n",
        "b=20\n",
        "\n",
        "a&=b\n",
        "\n",
        "print(a)\n",
        "\n",
        "a=10\n",
        "b=20\n",
        "\n",
        "a|=b\n",
        "\n",
        "print(a)\n",
        "\n",
        "\n",
        "\n",
        "a=10\n",
        "b=20\n",
        "\n"
      ],
      "metadata": {
        "colab": {
          "base_uri": "https://localhost:8080/"
        },
        "id": "D7VAea8C3t42",
        "outputId": "49f08a7d-7278-4b28-a13b-002899108fb3"
      },
      "execution_count": null,
      "outputs": [
        {
          "output_type": "stream",
          "name": "stdout",
          "text": [
            "30\n",
            "-10\n",
            "0\n",
            "30\n"
          ]
        }
      ]
    },
    {
      "cell_type": "markdown",
      "source": [
        "#### Friday Dec 08 - 2023"
      ],
      "metadata": {
        "id": "LfPP1pMMqGNY"
      }
    },
    {
      "cell_type": "code",
      "source": [
        "student_list1 = [99,84,74,63,51,49,33,20,17,5]\n",
        "for i in student_list1:\n",
        "  print(\"percentage Achived\",i)\n",
        "  if i>=85:\n",
        "    print('... pass with the first class distinction')\n",
        "  elif i >=60:\n",
        "    print(\".... Pass with the first class\")\n",
        "  elif i>=40:\n",
        "    print(\"... Pass with the second class\")\n",
        "  else:\n",
        "    print('....Better luck next time')\n"
      ],
      "metadata": {
        "id": "kYFNskM2497L",
        "colab": {
          "base_uri": "https://localhost:8080/"
        },
        "outputId": "badf0519-d91b-4656-951e-6cff17ba1859"
      },
      "execution_count": null,
      "outputs": [
        {
          "output_type": "stream",
          "name": "stdout",
          "text": [
            "percentage Achived 99\n",
            "... pass with the first class distinction\n",
            "percentage Achived 84\n",
            ".... Pass with the first class\n",
            "percentage Achived 74\n",
            ".... Pass with the first class\n",
            "percentage Achived 63\n",
            ".... Pass with the first class\n",
            "percentage Achived 51\n",
            "... Pass with the second class\n",
            "percentage Achived 49\n",
            "... Pass with the second class\n",
            "percentage Achived 33\n",
            "....Better luck next time\n",
            "percentage Achived 20\n",
            "....Better luck next time\n",
            "percentage Achived 17\n",
            "....Better luck next time\n",
            "percentage Achived 5\n",
            "....Better luck next time\n"
          ]
        }
      ]
    },
    {
      "cell_type": "code",
      "source": [
        "student_name = ['Biniam', 'Ermias', 'Fitsum',\"Abraham\", 'Haile']\n",
        "student_marks_1 = [93,84,69,53,47]\n",
        "\n",
        "for i in student_name:\n",
        "  sub_tot= 0\n",
        "  for j in student_marks_1:\n",
        "    sub_tot+=j\n",
        "  print(i , 'achived', sub_tot, 'marks.')\n",
        "\n",
        "\n"
      ],
      "metadata": {
        "colab": {
          "base_uri": "https://localhost:8080/"
        },
        "id": "7aq5AiJWqmID",
        "outputId": "7d5c679e-e977-4a1e-b472-2389e7409b34"
      },
      "execution_count": null,
      "outputs": [
        {
          "output_type": "stream",
          "name": "stdout",
          "text": [
            "Biniam achived 346 marks.\n",
            "Ermias achived 346 marks.\n",
            "Fitsum achived 346 marks.\n",
            "Abraham achived 346 marks.\n",
            "Haile achived 346 marks.\n"
          ]
        }
      ]
    },
    {
      "cell_type": "code",
      "source": [
        "for i in range(10):\n",
        "  for j in range(10):\n",
        "    print('*', end= ' ')\n",
        "  print('')"
      ],
      "metadata": {
        "colab": {
          "base_uri": "https://localhost:8080/"
        },
        "id": "2WENGtLdK4qQ",
        "outputId": "a78b60a3-0bb7-41eb-8dea-3ffa4dd36363"
      },
      "execution_count": null,
      "outputs": [
        {
          "output_type": "stream",
          "name": "stdout",
          "text": [
            "* * * * * * * * * * \n",
            "* * * * * * * * * * \n",
            "* * * * * * * * * * \n",
            "* * * * * * * * * * \n",
            "* * * * * * * * * * \n",
            "* * * * * * * * * * \n",
            "* * * * * * * * * * \n",
            "* * * * * * * * * * \n",
            "* * * * * * * * * * \n",
            "* * * * * * * * * * \n"
          ]
        }
      ]
    },
    {
      "cell_type": "code",
      "source": [
        "temp1 = 10\n",
        "\n",
        "while temp1>0:\n",
        "  #print(temp1)\n",
        "  temp2 =10\n",
        "  while temp2 >0:\n",
        "    print('*', end=' ')\n",
        "    temp2 -=1\n",
        "  temp1 -=1\n",
        "  print()\n",
        "\n"
      ],
      "metadata": {
        "colab": {
          "base_uri": "https://localhost:8080/"
        },
        "id": "Zk-4eLJ3MEt4",
        "outputId": "cb6aa6fd-f8c9-4c10-bfbd-d55cc138ffbc"
      },
      "execution_count": null,
      "outputs": [
        {
          "output_type": "stream",
          "name": "stdout",
          "text": [
            "* * * * * * * * * * \n",
            "* * * * * * * * * * \n",
            "* * * * * * * * * * \n",
            "* * * * * * * * * * \n",
            "* * * * * * * * * * \n",
            "* * * * * * * * * * \n",
            "* * * * * * * * * * \n",
            "* * * * * * * * * * \n",
            "* * * * * * * * * * \n",
            "* * * * * * * * * * \n"
          ]
        }
      ]
    },
    {
      "cell_type": "code",
      "source": [
        "for i in range(0,21,1):\n",
        "  for j in range(0,21,1):\n",
        "\n",
        "    print('[',i,'-',j,'] ' , end= ' ')\n",
        "  print()"
      ],
      "metadata": {
        "colab": {
          "base_uri": "https://localhost:8080/"
        },
        "id": "TpohPNS8OTvK",
        "outputId": "ae13135f-8236-4d0a-97b6-43d5d8ef1a9d"
      },
      "execution_count": null,
      "outputs": [
        {
          "output_type": "stream",
          "name": "stdout",
          "text": [
            "[ 0 - 0 ]  [ 0 - 1 ]  [ 0 - 2 ]  [ 0 - 3 ]  [ 0 - 4 ]  [ 0 - 5 ]  [ 0 - 6 ]  [ 0 - 7 ]  [ 0 - 8 ]  [ 0 - 9 ]  [ 0 - 10 ]  [ 0 - 11 ]  [ 0 - 12 ]  [ 0 - 13 ]  [ 0 - 14 ]  [ 0 - 15 ]  [ 0 - 16 ]  [ 0 - 17 ]  [ 0 - 18 ]  [ 0 - 19 ]  [ 0 - 20 ]  \n",
            "[ 1 - 0 ]  [ 1 - 1 ]  [ 1 - 2 ]  [ 1 - 3 ]  [ 1 - 4 ]  [ 1 - 5 ]  [ 1 - 6 ]  [ 1 - 7 ]  [ 1 - 8 ]  [ 1 - 9 ]  [ 1 - 10 ]  [ 1 - 11 ]  [ 1 - 12 ]  [ 1 - 13 ]  [ 1 - 14 ]  [ 1 - 15 ]  [ 1 - 16 ]  [ 1 - 17 ]  [ 1 - 18 ]  [ 1 - 19 ]  [ 1 - 20 ]  \n",
            "[ 2 - 0 ]  [ 2 - 1 ]  [ 2 - 2 ]  [ 2 - 3 ]  [ 2 - 4 ]  [ 2 - 5 ]  [ 2 - 6 ]  [ 2 - 7 ]  [ 2 - 8 ]  [ 2 - 9 ]  [ 2 - 10 ]  [ 2 - 11 ]  [ 2 - 12 ]  [ 2 - 13 ]  [ 2 - 14 ]  [ 2 - 15 ]  [ 2 - 16 ]  [ 2 - 17 ]  [ 2 - 18 ]  [ 2 - 19 ]  [ 2 - 20 ]  \n",
            "[ 3 - 0 ]  [ 3 - 1 ]  [ 3 - 2 ]  [ 3 - 3 ]  [ 3 - 4 ]  [ 3 - 5 ]  [ 3 - 6 ]  [ 3 - 7 ]  [ 3 - 8 ]  [ 3 - 9 ]  [ 3 - 10 ]  [ 3 - 11 ]  [ 3 - 12 ]  [ 3 - 13 ]  [ 3 - 14 ]  [ 3 - 15 ]  [ 3 - 16 ]  [ 3 - 17 ]  [ 3 - 18 ]  [ 3 - 19 ]  [ 3 - 20 ]  \n",
            "[ 4 - 0 ]  [ 4 - 1 ]  [ 4 - 2 ]  [ 4 - 3 ]  [ 4 - 4 ]  [ 4 - 5 ]  [ 4 - 6 ]  [ 4 - 7 ]  [ 4 - 8 ]  [ 4 - 9 ]  [ 4 - 10 ]  [ 4 - 11 ]  [ 4 - 12 ]  [ 4 - 13 ]  [ 4 - 14 ]  [ 4 - 15 ]  [ 4 - 16 ]  [ 4 - 17 ]  [ 4 - 18 ]  [ 4 - 19 ]  [ 4 - 20 ]  \n",
            "[ 5 - 0 ]  [ 5 - 1 ]  [ 5 - 2 ]  [ 5 - 3 ]  [ 5 - 4 ]  [ 5 - 5 ]  [ 5 - 6 ]  [ 5 - 7 ]  [ 5 - 8 ]  [ 5 - 9 ]  [ 5 - 10 ]  [ 5 - 11 ]  [ 5 - 12 ]  [ 5 - 13 ]  [ 5 - 14 ]  [ 5 - 15 ]  [ 5 - 16 ]  [ 5 - 17 ]  [ 5 - 18 ]  [ 5 - 19 ]  [ 5 - 20 ]  \n",
            "[ 6 - 0 ]  [ 6 - 1 ]  [ 6 - 2 ]  [ 6 - 3 ]  [ 6 - 4 ]  [ 6 - 5 ]  [ 6 - 6 ]  [ 6 - 7 ]  [ 6 - 8 ]  [ 6 - 9 ]  [ 6 - 10 ]  [ 6 - 11 ]  [ 6 - 12 ]  [ 6 - 13 ]  [ 6 - 14 ]  [ 6 - 15 ]  [ 6 - 16 ]  [ 6 - 17 ]  [ 6 - 18 ]  [ 6 - 19 ]  [ 6 - 20 ]  \n",
            "[ 7 - 0 ]  [ 7 - 1 ]  [ 7 - 2 ]  [ 7 - 3 ]  [ 7 - 4 ]  [ 7 - 5 ]  [ 7 - 6 ]  [ 7 - 7 ]  [ 7 - 8 ]  [ 7 - 9 ]  [ 7 - 10 ]  [ 7 - 11 ]  [ 7 - 12 ]  [ 7 - 13 ]  [ 7 - 14 ]  [ 7 - 15 ]  [ 7 - 16 ]  [ 7 - 17 ]  [ 7 - 18 ]  [ 7 - 19 ]  [ 7 - 20 ]  \n",
            "[ 8 - 0 ]  [ 8 - 1 ]  [ 8 - 2 ]  [ 8 - 3 ]  [ 8 - 4 ]  [ 8 - 5 ]  [ 8 - 6 ]  [ 8 - 7 ]  [ 8 - 8 ]  [ 8 - 9 ]  [ 8 - 10 ]  [ 8 - 11 ]  [ 8 - 12 ]  [ 8 - 13 ]  [ 8 - 14 ]  [ 8 - 15 ]  [ 8 - 16 ]  [ 8 - 17 ]  [ 8 - 18 ]  [ 8 - 19 ]  [ 8 - 20 ]  \n",
            "[ 9 - 0 ]  [ 9 - 1 ]  [ 9 - 2 ]  [ 9 - 3 ]  [ 9 - 4 ]  [ 9 - 5 ]  [ 9 - 6 ]  [ 9 - 7 ]  [ 9 - 8 ]  [ 9 - 9 ]  [ 9 - 10 ]  [ 9 - 11 ]  [ 9 - 12 ]  [ 9 - 13 ]  [ 9 - 14 ]  [ 9 - 15 ]  [ 9 - 16 ]  [ 9 - 17 ]  [ 9 - 18 ]  [ 9 - 19 ]  [ 9 - 20 ]  \n",
            "[ 10 - 0 ]  [ 10 - 1 ]  [ 10 - 2 ]  [ 10 - 3 ]  [ 10 - 4 ]  [ 10 - 5 ]  [ 10 - 6 ]  [ 10 - 7 ]  [ 10 - 8 ]  [ 10 - 9 ]  [ 10 - 10 ]  [ 10 - 11 ]  [ 10 - 12 ]  [ 10 - 13 ]  [ 10 - 14 ]  [ 10 - 15 ]  [ 10 - 16 ]  [ 10 - 17 ]  [ 10 - 18 ]  [ 10 - 19 ]  [ 10 - 20 ]  \n",
            "[ 11 - 0 ]  [ 11 - 1 ]  [ 11 - 2 ]  [ 11 - 3 ]  [ 11 - 4 ]  [ 11 - 5 ]  [ 11 - 6 ]  [ 11 - 7 ]  [ 11 - 8 ]  [ 11 - 9 ]  [ 11 - 10 ]  [ 11 - 11 ]  [ 11 - 12 ]  [ 11 - 13 ]  [ 11 - 14 ]  [ 11 - 15 ]  [ 11 - 16 ]  [ 11 - 17 ]  [ 11 - 18 ]  [ 11 - 19 ]  [ 11 - 20 ]  \n",
            "[ 12 - 0 ]  [ 12 - 1 ]  [ 12 - 2 ]  [ 12 - 3 ]  [ 12 - 4 ]  [ 12 - 5 ]  [ 12 - 6 ]  [ 12 - 7 ]  [ 12 - 8 ]  [ 12 - 9 ]  [ 12 - 10 ]  [ 12 - 11 ]  [ 12 - 12 ]  [ 12 - 13 ]  [ 12 - 14 ]  [ 12 - 15 ]  [ 12 - 16 ]  [ 12 - 17 ]  [ 12 - 18 ]  [ 12 - 19 ]  [ 12 - 20 ]  \n",
            "[ 13 - 0 ]  [ 13 - 1 ]  [ 13 - 2 ]  [ 13 - 3 ]  [ 13 - 4 ]  [ 13 - 5 ]  [ 13 - 6 ]  [ 13 - 7 ]  [ 13 - 8 ]  [ 13 - 9 ]  [ 13 - 10 ]  [ 13 - 11 ]  [ 13 - 12 ]  [ 13 - 13 ]  [ 13 - 14 ]  [ 13 - 15 ]  [ 13 - 16 ]  [ 13 - 17 ]  [ 13 - 18 ]  [ 13 - 19 ]  [ 13 - 20 ]  \n",
            "[ 14 - 0 ]  [ 14 - 1 ]  [ 14 - 2 ]  [ 14 - 3 ]  [ 14 - 4 ]  [ 14 - 5 ]  [ 14 - 6 ]  [ 14 - 7 ]  [ 14 - 8 ]  [ 14 - 9 ]  [ 14 - 10 ]  [ 14 - 11 ]  [ 14 - 12 ]  [ 14 - 13 ]  [ 14 - 14 ]  [ 14 - 15 ]  [ 14 - 16 ]  [ 14 - 17 ]  [ 14 - 18 ]  [ 14 - 19 ]  [ 14 - 20 ]  \n",
            "[ 15 - 0 ]  [ 15 - 1 ]  [ 15 - 2 ]  [ 15 - 3 ]  [ 15 - 4 ]  [ 15 - 5 ]  [ 15 - 6 ]  [ 15 - 7 ]  [ 15 - 8 ]  [ 15 - 9 ]  [ 15 - 10 ]  [ 15 - 11 ]  [ 15 - 12 ]  [ 15 - 13 ]  [ 15 - 14 ]  [ 15 - 15 ]  [ 15 - 16 ]  [ 15 - 17 ]  [ 15 - 18 ]  [ 15 - 19 ]  [ 15 - 20 ]  \n",
            "[ 16 - 0 ]  [ 16 - 1 ]  [ 16 - 2 ]  [ 16 - 3 ]  [ 16 - 4 ]  [ 16 - 5 ]  [ 16 - 6 ]  [ 16 - 7 ]  [ 16 - 8 ]  [ 16 - 9 ]  [ 16 - 10 ]  [ 16 - 11 ]  [ 16 - 12 ]  [ 16 - 13 ]  [ 16 - 14 ]  [ 16 - 15 ]  [ 16 - 16 ]  [ 16 - 17 ]  [ 16 - 18 ]  [ 16 - 19 ]  [ 16 - 20 ]  \n",
            "[ 17 - 0 ]  [ 17 - 1 ]  [ 17 - 2 ]  [ 17 - 3 ]  [ 17 - 4 ]  [ 17 - 5 ]  [ 17 - 6 ]  [ 17 - 7 ]  [ 17 - 8 ]  [ 17 - 9 ]  [ 17 - 10 ]  [ 17 - 11 ]  [ 17 - 12 ]  [ 17 - 13 ]  [ 17 - 14 ]  [ 17 - 15 ]  [ 17 - 16 ]  [ 17 - 17 ]  [ 17 - 18 ]  [ 17 - 19 ]  [ 17 - 20 ]  \n",
            "[ 18 - 0 ]  [ 18 - 1 ]  [ 18 - 2 ]  [ 18 - 3 ]  [ 18 - 4 ]  [ 18 - 5 ]  [ 18 - 6 ]  [ 18 - 7 ]  [ 18 - 8 ]  [ 18 - 9 ]  [ 18 - 10 ]  [ 18 - 11 ]  [ 18 - 12 ]  [ 18 - 13 ]  [ 18 - 14 ]  [ 18 - 15 ]  [ 18 - 16 ]  [ 18 - 17 ]  [ 18 - 18 ]  [ 18 - 19 ]  [ 18 - 20 ]  \n",
            "[ 19 - 0 ]  [ 19 - 1 ]  [ 19 - 2 ]  [ 19 - 3 ]  [ 19 - 4 ]  [ 19 - 5 ]  [ 19 - 6 ]  [ 19 - 7 ]  [ 19 - 8 ]  [ 19 - 9 ]  [ 19 - 10 ]  [ 19 - 11 ]  [ 19 - 12 ]  [ 19 - 13 ]  [ 19 - 14 ]  [ 19 - 15 ]  [ 19 - 16 ]  [ 19 - 17 ]  [ 19 - 18 ]  [ 19 - 19 ]  [ 19 - 20 ]  \n",
            "[ 20 - 0 ]  [ 20 - 1 ]  [ 20 - 2 ]  [ 20 - 3 ]  [ 20 - 4 ]  [ 20 - 5 ]  [ 20 - 6 ]  [ 20 - 7 ]  [ 20 - 8 ]  [ 20 - 9 ]  [ 20 - 10 ]  [ 20 - 11 ]  [ 20 - 12 ]  [ 20 - 13 ]  [ 20 - 14 ]  [ 20 - 15 ]  [ 20 - 16 ]  [ 20 - 17 ]  [ 20 - 18 ]  [ 20 - 19 ]  [ 20 - 20 ]  \n"
          ]
        }
      ]
    },
    {
      "cell_type": "code",
      "source": [
        "for i in range(10):\n",
        "  for j in range(i+1):\n",
        "    print('*', end = ' ')\n",
        "  print()"
      ],
      "metadata": {
        "colab": {
          "base_uri": "https://localhost:8080/"
        },
        "id": "E60fsdniPZn3",
        "outputId": "b404ffc2-71f7-4825-9c14-f84aa47f40cf"
      },
      "execution_count": null,
      "outputs": [
        {
          "output_type": "stream",
          "name": "stdout",
          "text": [
            "* \n",
            "* * \n",
            "* * * \n",
            "* * * * \n",
            "* * * * * \n",
            "* * * * * * \n",
            "* * * * * * * \n",
            "* * * * * * * * \n",
            "* * * * * * * * * \n",
            "* * * * * * * * * * \n"
          ]
        }
      ]
    },
    {
      "cell_type": "code",
      "source": [
        "temp1 = 10\n",
        "\n",
        "while temp1 >0:\n",
        "  temp2 =10\n",
        "  while temp2+1>temp1:\n",
        "    print('*',end= ' ')\n",
        "    temp2-=1\n",
        "  temp1-=1\n",
        "  print()"
      ],
      "metadata": {
        "colab": {
          "base_uri": "https://localhost:8080/"
        },
        "id": "oZupzRatP1lI",
        "outputId": "29637949-eb11-4561-b6ef-d4d08c03f223"
      },
      "execution_count": null,
      "outputs": [
        {
          "output_type": "stream",
          "name": "stdout",
          "text": [
            "* \n",
            "* * \n",
            "* * * \n",
            "* * * * \n",
            "* * * * * \n",
            "* * * * * * \n",
            "* * * * * * * \n",
            "* * * * * * * * \n",
            "* * * * * * * * * \n",
            "* * * * * * * * * * \n"
          ]
        }
      ]
    },
    {
      "cell_type": "code",
      "source": [
        "for i in range(10):\n",
        "  for j in range(10-i):\n",
        "    print('',end= ' ')\n",
        "  for k in range(i+1):\n",
        "    print('*', end= ' ')\n",
        "  print()"
      ],
      "metadata": {
        "colab": {
          "base_uri": "https://localhost:8080/"
        },
        "id": "NvOktYYkRpg_",
        "outputId": "c8c2c647-fdf0-4f3e-8547-0acbdc86ea8c"
      },
      "execution_count": null,
      "outputs": [
        {
          "output_type": "stream",
          "name": "stdout",
          "text": [
            "          * \n",
            "         * * \n",
            "        * * * \n",
            "       * * * * \n",
            "      * * * * * \n",
            "     * * * * * * \n",
            "    * * * * * * * \n",
            "   * * * * * * * * \n",
            "  * * * * * * * * * \n",
            " * * * * * * * * * * \n"
          ]
        }
      ]
    },
    {
      "cell_type": "code",
      "source": [
        "temp1 = 10\n",
        "while temp1 > 0:\n",
        "\n",
        "while temp2>0:\n",
        "\n",
        "while temp3>0:"
      ],
      "metadata": {
        "colab": {
          "base_uri": "https://localhost:8080/",
          "height": 141
        },
        "id": "BeyejkQ6SS9A",
        "outputId": "ba6de183-65e0-4c2d-8c05-b548f4e7250e"
      },
      "execution_count": null,
      "outputs": [
        {
          "output_type": "error",
          "ename": "IndentationError",
          "evalue": "ignored",
          "traceback": [
            "\u001b[0;36m  File \u001b[0;32m\"<ipython-input-127-5de7bfe0dbba>\"\u001b[0;36m, line \u001b[0;32m4\u001b[0m\n\u001b[0;31m    while temp2>0:\u001b[0m\n\u001b[0m    ^\u001b[0m\n\u001b[0;31mIndentationError\u001b[0m\u001b[0;31m:\u001b[0m expected an indented block after 'while' statement on line 2\n"
          ]
        }
      ]
    },
    {
      "cell_type": "code",
      "source": [
        "student_name = [\"Sham\", \"Biniam\", \"Haile\", \"Kahsay\"]\n",
        "\n",
        "student_mark_1 = [[94, 84, 78, 69, 58], [91,81,72,64,34], [70, 83,79,66,53], [90,80,77,61,53]]\n",
        "\n",
        "for i in student_name:\n",
        "  sub_tot = 0\n",
        "  counter = 0\n",
        "  for j in student_mark_1:\n",
        "    for k in j:\n",
        "\n",
        "       print(k)\n",
        "       sub_tot +=k\n",
        "\n",
        "    print(i, \"Achieved\",sub_tot, 'marks')\n",
        "  # need a to look letter"
      ],
      "metadata": {
        "id": "q-fHSgKFCt22",
        "colab": {
          "base_uri": "https://localhost:8080/"
        },
        "outputId": "e748e6d3-a1f2-475a-84b2-06659058055f"
      },
      "execution_count": null,
      "outputs": [
        {
          "output_type": "stream",
          "name": "stdout",
          "text": [
            "94\n",
            "84\n",
            "78\n",
            "69\n",
            "58\n",
            "Sham Achieved 383 marks\n",
            "91\n",
            "81\n",
            "72\n",
            "64\n",
            "34\n",
            "Sham Achieved 725 marks\n",
            "70\n",
            "83\n",
            "79\n",
            "66\n",
            "53\n",
            "Sham Achieved 1076 marks\n",
            "90\n",
            "80\n",
            "77\n",
            "61\n",
            "53\n",
            "Sham Achieved 1437 marks\n",
            "94\n",
            "84\n",
            "78\n",
            "69\n",
            "58\n",
            "Biniam Achieved 383 marks\n",
            "91\n",
            "81\n",
            "72\n",
            "64\n",
            "34\n",
            "Biniam Achieved 725 marks\n",
            "70\n",
            "83\n",
            "79\n",
            "66\n",
            "53\n",
            "Biniam Achieved 1076 marks\n",
            "90\n",
            "80\n",
            "77\n",
            "61\n",
            "53\n",
            "Biniam Achieved 1437 marks\n",
            "94\n",
            "84\n",
            "78\n",
            "69\n",
            "58\n",
            "Haile Achieved 383 marks\n",
            "91\n",
            "81\n",
            "72\n",
            "64\n",
            "34\n",
            "Haile Achieved 725 marks\n",
            "70\n",
            "83\n",
            "79\n",
            "66\n",
            "53\n",
            "Haile Achieved 1076 marks\n",
            "90\n",
            "80\n",
            "77\n",
            "61\n",
            "53\n",
            "Haile Achieved 1437 marks\n",
            "94\n",
            "84\n",
            "78\n",
            "69\n",
            "58\n",
            "Kahsay Achieved 383 marks\n",
            "91\n",
            "81\n",
            "72\n",
            "64\n",
            "34\n",
            "Kahsay Achieved 725 marks\n",
            "70\n",
            "83\n",
            "79\n",
            "66\n",
            "53\n",
            "Kahsay Achieved 1076 marks\n",
            "90\n",
            "80\n",
            "77\n",
            "61\n",
            "53\n",
            "Kahsay Achieved 1437 marks\n"
          ]
        }
      ]
    },
    {
      "cell_type": "markdown",
      "source": [
        "### Monday Dec 11, 2023"
      ],
      "metadata": {
        "id": "pyTTIC4TRG44"
      }
    },
    {
      "cell_type": "markdown",
      "source": [
        "```\n",
        "Python Functions\n",
        "\n",
        "1. Build in functions\n",
        "2. User Define Functions\n",
        "3. Lambda Functions\n",
        "````"
      ],
      "metadata": {
        "id": "xztWIt1-RbIa"
      }
    },
    {
      "cell_type": "code",
      "source": [
        "a = input('please enter your name')\n",
        "print(a)"
      ],
      "metadata": {
        "id": "gYRcbpvNTZMf",
        "colab": {
          "base_uri": "https://localhost:8080/"
        },
        "outputId": "3f81f45a-54f8-417d-e3c4-ce47d8122c77"
      },
      "execution_count": null,
      "outputs": [
        {
          "output_type": "stream",
          "name": "stdout",
          "text": [
            "please enter your nameFish\n",
            "Fish\n"
          ]
        }
      ]
    },
    {
      "cell_type": "code",
      "source": [
        "# Default data type of 'input' function is string"
      ],
      "metadata": {
        "id": "wnQnXtrDR79v"
      },
      "execution_count": null,
      "outputs": []
    },
    {
      "cell_type": "code",
      "source": [
        "a = input('Marks in Mathemattics:')\n",
        "b= input('Marks in Geography')\n",
        "c = input('Marks in Socila Science')\n",
        "\n",
        "print(type(a))\n",
        "print(type(b))\n",
        "print(type(c))\n",
        "\n",
        "total = a+b+c\n",
        "\n",
        "print(total)\n",
        "print(type(total))"
      ],
      "metadata": {
        "colab": {
          "base_uri": "https://localhost:8080/"
        },
        "id": "2NUSgdjTSHU3",
        "outputId": "04e43fb8-af62-4e0b-e988-d418c19ff5d0"
      },
      "execution_count": null,
      "outputs": [
        {
          "output_type": "stream",
          "name": "stdout",
          "text": [
            "Marks in Mathemattics:97\n",
            "Marks in Geography99\n",
            "Marks in Socila Science89\n",
            "<class 'str'>\n",
            "<class 'str'>\n",
            "<class 'str'>\n",
            "979989\n",
            "<class 'str'>\n"
          ]
        }
      ]
    },
    {
      "cell_type": "code",
      "source": [
        "a = int(input('Marks in Mathemattics:'))\n",
        "b= int(input('Marks in Geography'))\n",
        "c = int(input('Marks in Socila Science'))\n",
        "\n",
        "print(type(a))\n",
        "print(type(b))\n",
        "print(type(c))\n",
        "\n",
        "total = a+b+c\n",
        "\n",
        "print(total)\n",
        "print(type(total))"
      ],
      "metadata": {
        "colab": {
          "base_uri": "https://localhost:8080/"
        },
        "id": "mKeJWC3NS6S2",
        "outputId": "6d4beb96-2a88-45aa-f90c-ad1dfd2d31bd"
      },
      "execution_count": null,
      "outputs": [
        {
          "output_type": "stream",
          "name": "stdout",
          "text": [
            "Marks in Mathemattics:98\n",
            "Marks in Geography99\n",
            "Marks in Socila Science96\n",
            "<class 'int'>\n",
            "<class 'int'>\n",
            "<class 'int'>\n",
            "293\n",
            "<class 'int'>\n"
          ]
        }
      ]
    },
    {
      "cell_type": "markdown",
      "source": [
        "```\n",
        "\n",
        "Python type casting functions\n",
        "\n",
        "1. int\n",
        "2. float\n",
        "3. complex\n",
        "4. boolean\n",
        "5. string\n",
        "6. list\n",
        "7. tuple\n",
        "8. set\n",
        "9. dictionary\n",
        "\n",
        "```"
      ],
      "metadata": {
        "id": "SFGi0A0sTOr_"
      }
    },
    {
      "cell_type": "code",
      "source": [
        "a = float(input('marks in mathematics: '))\n",
        "b = float(input('marks in science: '))\n",
        "c = float(input('marks in social science: '))\n",
        "\n",
        "print(type(a))\n",
        "print(type(b))\n",
        "print(type(c))\n",
        "\n",
        "total = a+ b+ c\n",
        "print(total)\n",
        "\n",
        "print(type(total))"
      ],
      "metadata": {
        "colab": {
          "base_uri": "https://localhost:8080/"
        },
        "id": "HAfq-ZIuTLmo",
        "outputId": "142e32ae-1ffa-435f-f02d-c21c2aaa539b"
      },
      "execution_count": null,
      "outputs": [
        {
          "output_type": "stream",
          "name": "stdout",
          "text": [
            "marks in mathematics: 45\n",
            "marks in science: 67\n",
            "marks in social science: 78.2\n",
            "<class 'float'>\n",
            "<class 'float'>\n",
            "<class 'float'>\n",
            "190.2\n",
            "<class 'float'>\n"
          ]
        }
      ]
    },
    {
      "cell_type": "code",
      "source": [
        "a = complex(input('input 1 : '))\n",
        "b = complex(input('input 2: '))\n",
        "c = complex(input('input 3: '))\n",
        "\n",
        "print(type(a))\n",
        "print(type(b))\n",
        "print(type(c))\n",
        "\n",
        "total = a+ b+ c\n",
        "print(total)\n",
        "\n",
        "print(type(total))"
      ],
      "metadata": {
        "colab": {
          "base_uri": "https://localhost:8080/"
        },
        "id": "5bMuY57ZT4Ny",
        "outputId": "cedbc5ef-5088-444d-b4a3-fb9ff4d5a48a"
      },
      "execution_count": null,
      "outputs": [
        {
          "output_type": "stream",
          "name": "stdout",
          "text": [
            "input 1 : 99\n",
            "input 2: 98\n",
            "input 3: 100\n",
            "<class 'complex'>\n",
            "<class 'complex'>\n",
            "<class 'complex'>\n",
            "(297+0j)\n",
            "<class 'complex'>\n"
          ]
        }
      ]
    },
    {
      "cell_type": "code",
      "source": [
        "var_str1 = 'python programming'\n",
        "\n",
        "print(list(var_str1))"
      ],
      "metadata": {
        "colab": {
          "base_uri": "https://localhost:8080/"
        },
        "id": "vKqampYrT9CX",
        "outputId": "5511d22d-fa02-400f-fefc-351f0a2e0ff5"
      },
      "execution_count": null,
      "outputs": [
        {
          "output_type": "stream",
          "name": "stdout",
          "text": [
            "['p', 'y', 't', 'h', 'o', 'n', ' ', 'p', 'r', 'o', 'g', 'r', 'a', 'm', 'm', 'i', 'n', 'g']\n"
          ]
        }
      ]
    },
    {
      "cell_type": "code",
      "source": [
        "print(tuple(var_str1))"
      ],
      "metadata": {
        "colab": {
          "base_uri": "https://localhost:8080/"
        },
        "id": "818NV25RUKoL",
        "outputId": "38d1ba7d-f102-4078-f9e9-ba5dbe77b87a"
      },
      "execution_count": null,
      "outputs": [
        {
          "output_type": "stream",
          "name": "stdout",
          "text": [
            "('p', 'y', 't', 'h', 'o', 'n', ' ', 'p', 'r', 'o', 'g', 'r', 'a', 'm', 'm', 'i', 'n', 'g')\n"
          ]
        }
      ]
    },
    {
      "cell_type": "code",
      "source": [
        "print(set(var_str1))"
      ],
      "metadata": {
        "colab": {
          "base_uri": "https://localhost:8080/"
        },
        "id": "cyjpcnItUS9g",
        "outputId": "0cf0218e-217a-4784-c714-6923b2c1ed7a"
      },
      "execution_count": null,
      "outputs": [
        {
          "output_type": "stream",
          "name": "stdout",
          "text": [
            "{'y', 'n', 'r', 'g', 'i', 'p', 'o', 't', 'a', 'm', ' ', 'h'}\n"
          ]
        }
      ]
    },
    {
      "cell_type": "code",
      "source": [
        "lst1 = [(1,'a'), (2,'b'), (3,'c')]\n",
        "print(dict(lst1))"
      ],
      "metadata": {
        "colab": {
          "base_uri": "https://localhost:8080/"
        },
        "id": "dcM-hfH7Udwv",
        "outputId": "c0c21d03-27a4-4921-cc9d-7ab7c95bd951"
      },
      "execution_count": null,
      "outputs": [
        {
          "output_type": "stream",
          "name": "stdout",
          "text": [
            "{1: 'a', 2: 'b', 3: 'c'}\n"
          ]
        }
      ]
    },
    {
      "cell_type": "code",
      "source": [
        "lst2 = [['what',3], [2,4], [6,\"asdhfg\"]]\n",
        "print(dict(lst2))"
      ],
      "metadata": {
        "colab": {
          "base_uri": "https://localhost:8080/"
        },
        "id": "temu_ocEU4om",
        "outputId": "32c9aacc-69fe-494b-a3ec-13193ba2b16e"
      },
      "execution_count": null,
      "outputs": [
        {
          "output_type": "stream",
          "name": "stdout",
          "text": [
            "{'what': 3, 2: 4, 6: 'asdhfg'}\n"
          ]
        }
      ]
    },
    {
      "cell_type": "code",
      "source": [
        "for i in range(0,100,1):\n",
        "  print('Decimal:',i)\n",
        "  print('Bianry:',bin(i))\n",
        "  print('Ocat decimal:', oct(i))\n",
        "  print('Hexa Decimal:', hex(i))"
      ],
      "metadata": {
        "colab": {
          "base_uri": "https://localhost:8080/"
        },
        "id": "nzkE9j5fVjbX",
        "outputId": "a35328ef-3b9b-455b-f21d-64b8c4f724c2"
      },
      "execution_count": null,
      "outputs": [
        {
          "output_type": "stream",
          "name": "stdout",
          "text": [
            "Decimal: 0\n",
            "Bianry: 0b0\n",
            "Ocat decimal: 0o0\n",
            "Hexa Decimal: 0x0\n",
            "Decimal: 1\n",
            "Bianry: 0b1\n",
            "Ocat decimal: 0o1\n",
            "Hexa Decimal: 0x1\n",
            "Decimal: 2\n",
            "Bianry: 0b10\n",
            "Ocat decimal: 0o2\n",
            "Hexa Decimal: 0x2\n",
            "Decimal: 3\n",
            "Bianry: 0b11\n",
            "Ocat decimal: 0o3\n",
            "Hexa Decimal: 0x3\n",
            "Decimal: 4\n",
            "Bianry: 0b100\n",
            "Ocat decimal: 0o4\n",
            "Hexa Decimal: 0x4\n",
            "Decimal: 5\n",
            "Bianry: 0b101\n",
            "Ocat decimal: 0o5\n",
            "Hexa Decimal: 0x5\n",
            "Decimal: 6\n",
            "Bianry: 0b110\n",
            "Ocat decimal: 0o6\n",
            "Hexa Decimal: 0x6\n",
            "Decimal: 7\n",
            "Bianry: 0b111\n",
            "Ocat decimal: 0o7\n",
            "Hexa Decimal: 0x7\n",
            "Decimal: 8\n",
            "Bianry: 0b1000\n",
            "Ocat decimal: 0o10\n",
            "Hexa Decimal: 0x8\n",
            "Decimal: 9\n",
            "Bianry: 0b1001\n",
            "Ocat decimal: 0o11\n",
            "Hexa Decimal: 0x9\n",
            "Decimal: 10\n",
            "Bianry: 0b1010\n",
            "Ocat decimal: 0o12\n",
            "Hexa Decimal: 0xa\n",
            "Decimal: 11\n",
            "Bianry: 0b1011\n",
            "Ocat decimal: 0o13\n",
            "Hexa Decimal: 0xb\n",
            "Decimal: 12\n",
            "Bianry: 0b1100\n",
            "Ocat decimal: 0o14\n",
            "Hexa Decimal: 0xc\n",
            "Decimal: 13\n",
            "Bianry: 0b1101\n",
            "Ocat decimal: 0o15\n",
            "Hexa Decimal: 0xd\n",
            "Decimal: 14\n",
            "Bianry: 0b1110\n",
            "Ocat decimal: 0o16\n",
            "Hexa Decimal: 0xe\n",
            "Decimal: 15\n",
            "Bianry: 0b1111\n",
            "Ocat decimal: 0o17\n",
            "Hexa Decimal: 0xf\n",
            "Decimal: 16\n",
            "Bianry: 0b10000\n",
            "Ocat decimal: 0o20\n",
            "Hexa Decimal: 0x10\n",
            "Decimal: 17\n",
            "Bianry: 0b10001\n",
            "Ocat decimal: 0o21\n",
            "Hexa Decimal: 0x11\n",
            "Decimal: 18\n",
            "Bianry: 0b10010\n",
            "Ocat decimal: 0o22\n",
            "Hexa Decimal: 0x12\n",
            "Decimal: 19\n",
            "Bianry: 0b10011\n",
            "Ocat decimal: 0o23\n",
            "Hexa Decimal: 0x13\n",
            "Decimal: 20\n",
            "Bianry: 0b10100\n",
            "Ocat decimal: 0o24\n",
            "Hexa Decimal: 0x14\n",
            "Decimal: 21\n",
            "Bianry: 0b10101\n",
            "Ocat decimal: 0o25\n",
            "Hexa Decimal: 0x15\n",
            "Decimal: 22\n",
            "Bianry: 0b10110\n",
            "Ocat decimal: 0o26\n",
            "Hexa Decimal: 0x16\n",
            "Decimal: 23\n",
            "Bianry: 0b10111\n",
            "Ocat decimal: 0o27\n",
            "Hexa Decimal: 0x17\n",
            "Decimal: 24\n",
            "Bianry: 0b11000\n",
            "Ocat decimal: 0o30\n",
            "Hexa Decimal: 0x18\n",
            "Decimal: 25\n",
            "Bianry: 0b11001\n",
            "Ocat decimal: 0o31\n",
            "Hexa Decimal: 0x19\n",
            "Decimal: 26\n",
            "Bianry: 0b11010\n",
            "Ocat decimal: 0o32\n",
            "Hexa Decimal: 0x1a\n",
            "Decimal: 27\n",
            "Bianry: 0b11011\n",
            "Ocat decimal: 0o33\n",
            "Hexa Decimal: 0x1b\n",
            "Decimal: 28\n",
            "Bianry: 0b11100\n",
            "Ocat decimal: 0o34\n",
            "Hexa Decimal: 0x1c\n",
            "Decimal: 29\n",
            "Bianry: 0b11101\n",
            "Ocat decimal: 0o35\n",
            "Hexa Decimal: 0x1d\n",
            "Decimal: 30\n",
            "Bianry: 0b11110\n",
            "Ocat decimal: 0o36\n",
            "Hexa Decimal: 0x1e\n",
            "Decimal: 31\n",
            "Bianry: 0b11111\n",
            "Ocat decimal: 0o37\n",
            "Hexa Decimal: 0x1f\n",
            "Decimal: 32\n",
            "Bianry: 0b100000\n",
            "Ocat decimal: 0o40\n",
            "Hexa Decimal: 0x20\n",
            "Decimal: 33\n",
            "Bianry: 0b100001\n",
            "Ocat decimal: 0o41\n",
            "Hexa Decimal: 0x21\n",
            "Decimal: 34\n",
            "Bianry: 0b100010\n",
            "Ocat decimal: 0o42\n",
            "Hexa Decimal: 0x22\n",
            "Decimal: 35\n",
            "Bianry: 0b100011\n",
            "Ocat decimal: 0o43\n",
            "Hexa Decimal: 0x23\n",
            "Decimal: 36\n",
            "Bianry: 0b100100\n",
            "Ocat decimal: 0o44\n",
            "Hexa Decimal: 0x24\n",
            "Decimal: 37\n",
            "Bianry: 0b100101\n",
            "Ocat decimal: 0o45\n",
            "Hexa Decimal: 0x25\n",
            "Decimal: 38\n",
            "Bianry: 0b100110\n",
            "Ocat decimal: 0o46\n",
            "Hexa Decimal: 0x26\n",
            "Decimal: 39\n",
            "Bianry: 0b100111\n",
            "Ocat decimal: 0o47\n",
            "Hexa Decimal: 0x27\n",
            "Decimal: 40\n",
            "Bianry: 0b101000\n",
            "Ocat decimal: 0o50\n",
            "Hexa Decimal: 0x28\n",
            "Decimal: 41\n",
            "Bianry: 0b101001\n",
            "Ocat decimal: 0o51\n",
            "Hexa Decimal: 0x29\n",
            "Decimal: 42\n",
            "Bianry: 0b101010\n",
            "Ocat decimal: 0o52\n",
            "Hexa Decimal: 0x2a\n",
            "Decimal: 43\n",
            "Bianry: 0b101011\n",
            "Ocat decimal: 0o53\n",
            "Hexa Decimal: 0x2b\n",
            "Decimal: 44\n",
            "Bianry: 0b101100\n",
            "Ocat decimal: 0o54\n",
            "Hexa Decimal: 0x2c\n",
            "Decimal: 45\n",
            "Bianry: 0b101101\n",
            "Ocat decimal: 0o55\n",
            "Hexa Decimal: 0x2d\n",
            "Decimal: 46\n",
            "Bianry: 0b101110\n",
            "Ocat decimal: 0o56\n",
            "Hexa Decimal: 0x2e\n",
            "Decimal: 47\n",
            "Bianry: 0b101111\n",
            "Ocat decimal: 0o57\n",
            "Hexa Decimal: 0x2f\n",
            "Decimal: 48\n",
            "Bianry: 0b110000\n",
            "Ocat decimal: 0o60\n",
            "Hexa Decimal: 0x30\n",
            "Decimal: 49\n",
            "Bianry: 0b110001\n",
            "Ocat decimal: 0o61\n",
            "Hexa Decimal: 0x31\n",
            "Decimal: 50\n",
            "Bianry: 0b110010\n",
            "Ocat decimal: 0o62\n",
            "Hexa Decimal: 0x32\n",
            "Decimal: 51\n",
            "Bianry: 0b110011\n",
            "Ocat decimal: 0o63\n",
            "Hexa Decimal: 0x33\n",
            "Decimal: 52\n",
            "Bianry: 0b110100\n",
            "Ocat decimal: 0o64\n",
            "Hexa Decimal: 0x34\n",
            "Decimal: 53\n",
            "Bianry: 0b110101\n",
            "Ocat decimal: 0o65\n",
            "Hexa Decimal: 0x35\n",
            "Decimal: 54\n",
            "Bianry: 0b110110\n",
            "Ocat decimal: 0o66\n",
            "Hexa Decimal: 0x36\n",
            "Decimal: 55\n",
            "Bianry: 0b110111\n",
            "Ocat decimal: 0o67\n",
            "Hexa Decimal: 0x37\n",
            "Decimal: 56\n",
            "Bianry: 0b111000\n",
            "Ocat decimal: 0o70\n",
            "Hexa Decimal: 0x38\n",
            "Decimal: 57\n",
            "Bianry: 0b111001\n",
            "Ocat decimal: 0o71\n",
            "Hexa Decimal: 0x39\n",
            "Decimal: 58\n",
            "Bianry: 0b111010\n",
            "Ocat decimal: 0o72\n",
            "Hexa Decimal: 0x3a\n",
            "Decimal: 59\n",
            "Bianry: 0b111011\n",
            "Ocat decimal: 0o73\n",
            "Hexa Decimal: 0x3b\n",
            "Decimal: 60\n",
            "Bianry: 0b111100\n",
            "Ocat decimal: 0o74\n",
            "Hexa Decimal: 0x3c\n",
            "Decimal: 61\n",
            "Bianry: 0b111101\n",
            "Ocat decimal: 0o75\n",
            "Hexa Decimal: 0x3d\n",
            "Decimal: 62\n",
            "Bianry: 0b111110\n",
            "Ocat decimal: 0o76\n",
            "Hexa Decimal: 0x3e\n",
            "Decimal: 63\n",
            "Bianry: 0b111111\n",
            "Ocat decimal: 0o77\n",
            "Hexa Decimal: 0x3f\n",
            "Decimal: 64\n",
            "Bianry: 0b1000000\n",
            "Ocat decimal: 0o100\n",
            "Hexa Decimal: 0x40\n",
            "Decimal: 65\n",
            "Bianry: 0b1000001\n",
            "Ocat decimal: 0o101\n",
            "Hexa Decimal: 0x41\n",
            "Decimal: 66\n",
            "Bianry: 0b1000010\n",
            "Ocat decimal: 0o102\n",
            "Hexa Decimal: 0x42\n",
            "Decimal: 67\n",
            "Bianry: 0b1000011\n",
            "Ocat decimal: 0o103\n",
            "Hexa Decimal: 0x43\n",
            "Decimal: 68\n",
            "Bianry: 0b1000100\n",
            "Ocat decimal: 0o104\n",
            "Hexa Decimal: 0x44\n",
            "Decimal: 69\n",
            "Bianry: 0b1000101\n",
            "Ocat decimal: 0o105\n",
            "Hexa Decimal: 0x45\n",
            "Decimal: 70\n",
            "Bianry: 0b1000110\n",
            "Ocat decimal: 0o106\n",
            "Hexa Decimal: 0x46\n",
            "Decimal: 71\n",
            "Bianry: 0b1000111\n",
            "Ocat decimal: 0o107\n",
            "Hexa Decimal: 0x47\n",
            "Decimal: 72\n",
            "Bianry: 0b1001000\n",
            "Ocat decimal: 0o110\n",
            "Hexa Decimal: 0x48\n",
            "Decimal: 73\n",
            "Bianry: 0b1001001\n",
            "Ocat decimal: 0o111\n",
            "Hexa Decimal: 0x49\n",
            "Decimal: 74\n",
            "Bianry: 0b1001010\n",
            "Ocat decimal: 0o112\n",
            "Hexa Decimal: 0x4a\n",
            "Decimal: 75\n",
            "Bianry: 0b1001011\n",
            "Ocat decimal: 0o113\n",
            "Hexa Decimal: 0x4b\n",
            "Decimal: 76\n",
            "Bianry: 0b1001100\n",
            "Ocat decimal: 0o114\n",
            "Hexa Decimal: 0x4c\n",
            "Decimal: 77\n",
            "Bianry: 0b1001101\n",
            "Ocat decimal: 0o115\n",
            "Hexa Decimal: 0x4d\n",
            "Decimal: 78\n",
            "Bianry: 0b1001110\n",
            "Ocat decimal: 0o116\n",
            "Hexa Decimal: 0x4e\n",
            "Decimal: 79\n",
            "Bianry: 0b1001111\n",
            "Ocat decimal: 0o117\n",
            "Hexa Decimal: 0x4f\n",
            "Decimal: 80\n",
            "Bianry: 0b1010000\n",
            "Ocat decimal: 0o120\n",
            "Hexa Decimal: 0x50\n",
            "Decimal: 81\n",
            "Bianry: 0b1010001\n",
            "Ocat decimal: 0o121\n",
            "Hexa Decimal: 0x51\n",
            "Decimal: 82\n",
            "Bianry: 0b1010010\n",
            "Ocat decimal: 0o122\n",
            "Hexa Decimal: 0x52\n",
            "Decimal: 83\n",
            "Bianry: 0b1010011\n",
            "Ocat decimal: 0o123\n",
            "Hexa Decimal: 0x53\n",
            "Decimal: 84\n",
            "Bianry: 0b1010100\n",
            "Ocat decimal: 0o124\n",
            "Hexa Decimal: 0x54\n",
            "Decimal: 85\n",
            "Bianry: 0b1010101\n",
            "Ocat decimal: 0o125\n",
            "Hexa Decimal: 0x55\n",
            "Decimal: 86\n",
            "Bianry: 0b1010110\n",
            "Ocat decimal: 0o126\n",
            "Hexa Decimal: 0x56\n",
            "Decimal: 87\n",
            "Bianry: 0b1010111\n",
            "Ocat decimal: 0o127\n",
            "Hexa Decimal: 0x57\n",
            "Decimal: 88\n",
            "Bianry: 0b1011000\n",
            "Ocat decimal: 0o130\n",
            "Hexa Decimal: 0x58\n",
            "Decimal: 89\n",
            "Bianry: 0b1011001\n",
            "Ocat decimal: 0o131\n",
            "Hexa Decimal: 0x59\n",
            "Decimal: 90\n",
            "Bianry: 0b1011010\n",
            "Ocat decimal: 0o132\n",
            "Hexa Decimal: 0x5a\n",
            "Decimal: 91\n",
            "Bianry: 0b1011011\n",
            "Ocat decimal: 0o133\n",
            "Hexa Decimal: 0x5b\n",
            "Decimal: 92\n",
            "Bianry: 0b1011100\n",
            "Ocat decimal: 0o134\n",
            "Hexa Decimal: 0x5c\n",
            "Decimal: 93\n",
            "Bianry: 0b1011101\n",
            "Ocat decimal: 0o135\n",
            "Hexa Decimal: 0x5d\n",
            "Decimal: 94\n",
            "Bianry: 0b1011110\n",
            "Ocat decimal: 0o136\n",
            "Hexa Decimal: 0x5e\n",
            "Decimal: 95\n",
            "Bianry: 0b1011111\n",
            "Ocat decimal: 0o137\n",
            "Hexa Decimal: 0x5f\n",
            "Decimal: 96\n",
            "Bianry: 0b1100000\n",
            "Ocat decimal: 0o140\n",
            "Hexa Decimal: 0x60\n",
            "Decimal: 97\n",
            "Bianry: 0b1100001\n",
            "Ocat decimal: 0o141\n",
            "Hexa Decimal: 0x61\n",
            "Decimal: 98\n",
            "Bianry: 0b1100010\n",
            "Ocat decimal: 0o142\n",
            "Hexa Decimal: 0x62\n",
            "Decimal: 99\n",
            "Bianry: 0b1100011\n",
            "Ocat decimal: 0o143\n",
            "Hexa Decimal: 0x63\n"
          ]
        }
      ]
    },
    {
      "cell_type": "code",
      "source": [
        "help(bin)"
      ],
      "metadata": {
        "colab": {
          "base_uri": "https://localhost:8080/"
        },
        "id": "bPmDhWO1WGu4",
        "outputId": "524ae378-becf-4934-90d7-43d52efc9323"
      },
      "execution_count": null,
      "outputs": [
        {
          "output_type": "stream",
          "name": "stdout",
          "text": [
            "Help on built-in function bin in module builtins:\n",
            "\n",
            "bin(number, /)\n",
            "    Return the binary representation of an integer.\n",
            "    \n",
            "    >>> bin(2796202)\n",
            "    '0b1010101010101010101010'\n",
            "\n"
          ]
        }
      ]
    },
    {
      "cell_type": "code",
      "source": [
        "help(hex)"
      ],
      "metadata": {
        "colab": {
          "base_uri": "https://localhost:8080/"
        },
        "id": "JRipDXgFWUCB",
        "outputId": "c0e6d7fa-7bd9-4145-eb80-6dd9ba08882d"
      },
      "execution_count": null,
      "outputs": [
        {
          "output_type": "stream",
          "name": "stdout",
          "text": [
            "Help on built-in function hex in module builtins:\n",
            "\n",
            "hex(number, /)\n",
            "    Return the hexadecimal representation of an integer.\n",
            "    \n",
            "    >>> hex(12648430)\n",
            "    '0xc0ffee'\n",
            "\n"
          ]
        }
      ]
    },
    {
      "cell_type": "code",
      "source": [
        "lst1=['apple','banana','cherries','dates','eggfruit','fig','grapes']\n",
        "\n",
        "x = iter(lst1)\n",
        "\n",
        "print(next(x))\n",
        "print(next(x))\n",
        "print(next(x))\n",
        "print(next(x))\n",
        "print(next(x))\n",
        "print(next(x))\n",
        "print(next(x))"
      ],
      "metadata": {
        "colab": {
          "base_uri": "https://localhost:8080/"
        },
        "id": "JvJ4Z4JPWXZG",
        "outputId": "addd6261-f784-4566-f1d4-4545dc273204"
      },
      "execution_count": null,
      "outputs": [
        {
          "output_type": "stream",
          "name": "stdout",
          "text": [
            "apple\n",
            "banana\n",
            "cherries\n",
            "dates\n",
            "eggfruit\n",
            "fig\n",
            "grapes\n"
          ]
        }
      ]
    },
    {
      "cell_type": "code",
      "source": [
        "tup1=('apple','banana','cherries','dates','eggfruit','fig','grapes')\n",
        "\n",
        "x = iter(tup1)\n",
        "\n",
        "print(next(x))\n",
        "print(next(x))\n",
        "print(next(x))\n",
        "print(next(x))\n",
        "print(next(x))\n",
        "print(next(x))\n",
        "print(next(x))\n",
        "print(next(x))"
      ],
      "metadata": {
        "colab": {
          "base_uri": "https://localhost:8080/",
          "height": 343
        },
        "id": "Laqlr6SeWjjY",
        "outputId": "ccefbbc7-3a37-4ac1-93d0-7df889f499f1"
      },
      "execution_count": null,
      "outputs": [
        {
          "output_type": "stream",
          "name": "stdout",
          "text": [
            "apple\n",
            "banana\n",
            "cherries\n",
            "dates\n",
            "eggfruit\n",
            "fig\n",
            "grapes\n"
          ]
        },
        {
          "output_type": "error",
          "ename": "StopIteration",
          "evalue": "ignored",
          "traceback": [
            "\u001b[0;31m---------------------------------------------------------------------------\u001b[0m",
            "\u001b[0;31mStopIteration\u001b[0m                             Traceback (most recent call last)",
            "\u001b[0;32m<ipython-input-32-3217ccbe0348>\u001b[0m in \u001b[0;36m<cell line: 12>\u001b[0;34m()\u001b[0m\n\u001b[1;32m     10\u001b[0m \u001b[0mprint\u001b[0m\u001b[0;34m(\u001b[0m\u001b[0mnext\u001b[0m\u001b[0;34m(\u001b[0m\u001b[0mx\u001b[0m\u001b[0;34m)\u001b[0m\u001b[0;34m)\u001b[0m\u001b[0;34m\u001b[0m\u001b[0;34m\u001b[0m\u001b[0m\n\u001b[1;32m     11\u001b[0m \u001b[0mprint\u001b[0m\u001b[0;34m(\u001b[0m\u001b[0mnext\u001b[0m\u001b[0;34m(\u001b[0m\u001b[0mx\u001b[0m\u001b[0;34m)\u001b[0m\u001b[0;34m)\u001b[0m\u001b[0;34m\u001b[0m\u001b[0;34m\u001b[0m\u001b[0m\n\u001b[0;32m---> 12\u001b[0;31m \u001b[0mprint\u001b[0m\u001b[0;34m(\u001b[0m\u001b[0mnext\u001b[0m\u001b[0;34m(\u001b[0m\u001b[0mx\u001b[0m\u001b[0;34m)\u001b[0m\u001b[0;34m)\u001b[0m\u001b[0;34m\u001b[0m\u001b[0;34m\u001b[0m\u001b[0m\n\u001b[0m",
            "\u001b[0;31mStopIteration\u001b[0m: "
          ]
        }
      ]
    },
    {
      "cell_type": "code",
      "source": [
        "set1={'apple','banana','cherries','dates','eggfruit','fig','grapes','banana','cherries','dates','eggfruit','fig'}\n",
        "\n",
        "x = iter(set1)\n",
        "\n",
        "print(next(x))\n",
        "print(next(x))\n",
        "print(next(x))\n",
        "print(next(x))\n",
        "print(next(x))\n",
        "print(next(x))\n",
        "print(next(x))\n",
        "print(next(x))"
      ],
      "metadata": {
        "colab": {
          "base_uri": "https://localhost:8080/",
          "height": 343
        },
        "id": "EZri5TL7WxeV",
        "outputId": "dcabac21-40db-4b2e-ec9f-53f3ad9d72a5"
      },
      "execution_count": null,
      "outputs": [
        {
          "output_type": "stream",
          "name": "stdout",
          "text": [
            "grapes\n",
            "eggfruit\n",
            "dates\n",
            "apple\n",
            "banana\n",
            "fig\n",
            "cherries\n"
          ]
        },
        {
          "output_type": "error",
          "ename": "StopIteration",
          "evalue": "ignored",
          "traceback": [
            "\u001b[0;31m---------------------------------------------------------------------------\u001b[0m",
            "\u001b[0;31mStopIteration\u001b[0m                             Traceback (most recent call last)",
            "\u001b[0;32m<ipython-input-33-1c665f83ab47>\u001b[0m in \u001b[0;36m<cell line: 12>\u001b[0;34m()\u001b[0m\n\u001b[1;32m     10\u001b[0m \u001b[0mprint\u001b[0m\u001b[0;34m(\u001b[0m\u001b[0mnext\u001b[0m\u001b[0;34m(\u001b[0m\u001b[0mx\u001b[0m\u001b[0;34m)\u001b[0m\u001b[0;34m)\u001b[0m\u001b[0;34m\u001b[0m\u001b[0;34m\u001b[0m\u001b[0m\n\u001b[1;32m     11\u001b[0m \u001b[0mprint\u001b[0m\u001b[0;34m(\u001b[0m\u001b[0mnext\u001b[0m\u001b[0;34m(\u001b[0m\u001b[0mx\u001b[0m\u001b[0;34m)\u001b[0m\u001b[0;34m)\u001b[0m\u001b[0;34m\u001b[0m\u001b[0;34m\u001b[0m\u001b[0m\n\u001b[0;32m---> 12\u001b[0;31m \u001b[0mprint\u001b[0m\u001b[0;34m(\u001b[0m\u001b[0mnext\u001b[0m\u001b[0;34m(\u001b[0m\u001b[0mx\u001b[0m\u001b[0;34m)\u001b[0m\u001b[0;34m)\u001b[0m\u001b[0;34m\u001b[0m\u001b[0;34m\u001b[0m\u001b[0m\n\u001b[0m",
            "\u001b[0;31mStopIteration\u001b[0m: "
          ]
        }
      ]
    },
    {
      "cell_type": "code",
      "source": [
        "Dic2 = {'Hagas': 200300, \"barentu\": 500000, 'Mendefera': 250000}\n",
        "\n",
        "y=iter(Dic2)\n",
        "\n",
        "print(next(y))\n",
        "print(next(y))"
      ],
      "metadata": {
        "colab": {
          "base_uri": "https://localhost:8080/"
        },
        "id": "4050SHS5W3wj",
        "outputId": "9c237712-7ca0-44c6-b05d-e70c1e4fd8d2"
      },
      "execution_count": null,
      "outputs": [
        {
          "output_type": "stream",
          "name": "stdout",
          "text": [
            "Hagas\n",
            "barentu\n"
          ]
        }
      ]
    },
    {
      "cell_type": "code",
      "source": [
        "str1 = 'Python Programming'\n",
        "len(str1)"
      ],
      "metadata": {
        "colab": {
          "base_uri": "https://localhost:8080/"
        },
        "id": "LuDdJfF6XtTZ",
        "outputId": "54635231-e97e-41ae-fc93-33f4910d21f7"
      },
      "execution_count": null,
      "outputs": [
        {
          "output_type": "execute_result",
          "data": {
            "text/plain": [
              "18"
            ]
          },
          "metadata": {},
          "execution_count": 42
        }
      ]
    },
    {
      "cell_type": "code",
      "source": [
        "lst1 = ['happle','banana','cherries','dates','eggfruit','fig','grapes']\n",
        "len(lst1)"
      ],
      "metadata": {
        "colab": {
          "base_uri": "https://localhost:8080/"
        },
        "id": "R1rEHlDhXx90",
        "outputId": "216432ce-da78-487d-97c2-703d4f745b11"
      },
      "execution_count": null,
      "outputs": [
        {
          "output_type": "execute_result",
          "data": {
            "text/plain": [
              "7"
            ]
          },
          "metadata": {},
          "execution_count": 43
        }
      ]
    },
    {
      "cell_type": "code",
      "source": [
        "min(lst1)"
      ],
      "metadata": {
        "colab": {
          "base_uri": "https://localhost:8080/",
          "height": 36
        },
        "id": "zhVmRnhPX1TV",
        "outputId": "a4813a39-8994-4444-f490-de6515c29f24"
      },
      "execution_count": null,
      "outputs": [
        {
          "output_type": "execute_result",
          "data": {
            "text/plain": [
              "'banana'"
            ],
            "application/vnd.google.colaboratory.intrinsic+json": {
              "type": "string"
            }
          },
          "metadata": {},
          "execution_count": 45
        }
      ]
    },
    {
      "cell_type": "code",
      "source": [
        "max(lst1)"
      ],
      "metadata": {
        "colab": {
          "base_uri": "https://localhost:8080/",
          "height": 36
        },
        "id": "ReMIRZFyX336",
        "outputId": "9d7a6bdb-78bb-4e90-ec2c-fa81bcfe334b"
      },
      "execution_count": null,
      "outputs": [
        {
          "output_type": "execute_result",
          "data": {
            "text/plain": [
              "'happle'"
            ],
            "application/vnd.google.colaboratory.intrinsic+json": {
              "type": "string"
            }
          },
          "metadata": {},
          "execution_count": 46
        }
      ]
    },
    {
      "cell_type": "code",
      "source": [
        "flt1 = 4.567989\n",
        "print(round(flt1,4))"
      ],
      "metadata": {
        "colab": {
          "base_uri": "https://localhost:8080/"
        },
        "id": "1M_2NZcuX7GV",
        "outputId": "efc071f5-64e8-4ffb-f222-29b08d5e2bc5"
      },
      "execution_count": null,
      "outputs": [
        {
          "output_type": "stream",
          "name": "stdout",
          "text": [
            "4.568\n"
          ]
        }
      ]
    },
    {
      "cell_type": "code",
      "source": [
        "lst1 = [1,1.307,1.2,1.09,1.5,1.11,1.306,1.305,1.6,1.1]\n",
        "#sorted(lst1)\n",
        "lst1.sort()\n",
        "lst1"
      ],
      "metadata": {
        "colab": {
          "base_uri": "https://localhost:8080/"
        },
        "id": "rqHqTFtAYFZD",
        "outputId": "15664182-2b7a-4616-dd04-2108a551f4e8"
      },
      "execution_count": null,
      "outputs": [
        {
          "output_type": "execute_result",
          "data": {
            "text/plain": [
              "[1, 1.09, 1.1, 1.11, 1.2, 1.305, 1.306, 1.307, 1.5, 1.6]"
            ]
          },
          "metadata": {},
          "execution_count": 49
        }
      ]
    },
    {
      "cell_type": "code",
      "source": [
        "lst1 = [\"Biinaiam\", 'Berhe', \"Hagas\" , \"Barentu\", \"Assab\"]\n",
        "\n",
        "lst1.sort()\n",
        "lst1"
      ],
      "metadata": {
        "colab": {
          "base_uri": "https://localhost:8080/"
        },
        "id": "JxF0RoHKYVog",
        "outputId": "46a6cac8-fd73-4302-ef0f-e52ed2e1b0c1"
      },
      "execution_count": null,
      "outputs": [
        {
          "output_type": "execute_result",
          "data": {
            "text/plain": [
              "['Assab', 'Barentu', 'Berhe', 'Biinaiam', 'Hagas']"
            ]
          },
          "metadata": {},
          "execution_count": 50
        }
      ]
    },
    {
      "cell_type": "markdown",
      "source": [
        "## Tuesday Dec 12, 2023"
      ],
      "metadata": {
        "id": "cB3OALT4acqO"
      }
    },
    {
      "cell_type": "markdown",
      "source": [
        "```\n",
        "python user define function\n",
        "\n",
        "```"
      ],
      "metadata": {
        "id": "I8t14qnraju_"
      }
    },
    {
      "cell_type": "code",
      "source": [
        "def welcom_world():\n",
        "  print('Welcome to the BootCamp 2023')"
      ],
      "metadata": {
        "id": "yr89TsYpYiYj"
      },
      "execution_count": null,
      "outputs": []
    },
    {
      "cell_type": "code",
      "source": [
        "welcom_world()"
      ],
      "metadata": {
        "colab": {
          "base_uri": "https://localhost:8080/"
        },
        "id": "EawGG0hNa3R_",
        "outputId": "5468e811-44d1-4fdf-c0b6-0fff322117d3"
      },
      "execution_count": null,
      "outputs": [
        {
          "output_type": "stream",
          "name": "stdout",
          "text": [
            "Welcome to the BootCamp 2023\n"
          ]
        }
      ]
    },
    {
      "cell_type": "code",
      "source": [
        "def add_3(a,b,c):\n",
        "  return(a+b+c)"
      ],
      "metadata": {
        "id": "VU1RKPisa_QB"
      },
      "execution_count": null,
      "outputs": []
    },
    {
      "cell_type": "code",
      "source": [
        "add_3(3,4,5)"
      ],
      "metadata": {
        "colab": {
          "base_uri": "https://localhost:8080/"
        },
        "id": "JXDtIjehbI4k",
        "outputId": "be3719b4-c1c6-404b-b35c-504f872462e6"
      },
      "execution_count": null,
      "outputs": [
        {
          "output_type": "execute_result",
          "data": {
            "text/plain": [
              "12"
            ]
          },
          "metadata": {},
          "execution_count": 2
        }
      ]
    },
    {
      "cell_type": "code",
      "source": [
        "add_3(True,False,False)"
      ],
      "metadata": {
        "colab": {
          "base_uri": "https://localhost:8080/"
        },
        "id": "BcorG5NbbPHc",
        "outputId": "a8ab1237-ef10-43e8-b72c-3015ccef1d34"
      },
      "execution_count": null,
      "outputs": [
        {
          "output_type": "execute_result",
          "data": {
            "text/plain": [
              "1"
            ]
          },
          "metadata": {},
          "execution_count": 3
        }
      ]
    },
    {
      "cell_type": "code",
      "source": [
        "def operation(a,b,c):\n",
        "  print(\"Addition: \", a+b+c)\n",
        "  print(\"Subtraction: \", a-b-c)\n",
        "  print(\"Multiplication: \", a*b*c)\n",
        "  print(\"Divison: \", a/b/c)"
      ],
      "metadata": {
        "id": "WR8oUHcbi242"
      },
      "execution_count": null,
      "outputs": []
    },
    {
      "cell_type": "code",
      "source": [
        "operation(12.4,34.6,11)"
      ],
      "metadata": {
        "colab": {
          "base_uri": "https://localhost:8080/"
        },
        "id": "usgc88cOkAE6",
        "outputId": "17e333c7-9225-4af6-ad7c-5853340482a2"
      },
      "execution_count": null,
      "outputs": [
        {
          "output_type": "stream",
          "name": "stdout",
          "text": [
            "Addition:  58.0\n",
            "Subtraction:  -33.2\n",
            "Multiplication:  4719.4400000000005\n",
            "Divison:  0.0325801366263794\n"
          ]
        }
      ]
    },
    {
      "cell_type": "code",
      "source": [
        "def create_email(a,b):\n",
        "    print(a,'.',b,'@junkmail.com')"
      ],
      "metadata": {
        "id": "9Z6wWsh5kGEP"
      },
      "execution_count": null,
      "outputs": []
    },
    {
      "cell_type": "code",
      "source": [
        "create_email('biniam','mehari')"
      ],
      "metadata": {
        "colab": {
          "base_uri": "https://localhost:8080/"
        },
        "id": "2RPdqA5fkb48",
        "outputId": "ff265145-f9b4-40db-f498-b40fc52c9ea3"
      },
      "execution_count": null,
      "outputs": [
        {
          "output_type": "stream",
          "name": "stdout",
          "text": [
            "biniam . mehari @junkmail.com\n"
          ]
        }
      ]
    },
    {
      "cell_type": "code",
      "source": [
        "def odd_even(a):\n",
        "    if a%2==0:\n",
        "        print(f'This number {a} is even')\n",
        "    else:\n",
        "        print(f'This number {a} is odd')"
      ],
      "metadata": {
        "id": "fIYS6d4Pke9I"
      },
      "execution_count": null,
      "outputs": []
    },
    {
      "cell_type": "code",
      "source": [
        "odd_even(3)"
      ],
      "metadata": {
        "colab": {
          "base_uri": "https://localhost:8080/"
        },
        "id": "sX3BQpKfo2vo",
        "outputId": "76a7e469-1b39-4fb8-fdf5-9a769fd3ba6c"
      },
      "execution_count": null,
      "outputs": [
        {
          "output_type": "stream",
          "name": "stdout",
          "text": [
            "This number 3 is odd\n"
          ]
        }
      ]
    },
    {
      "cell_type": "code",
      "source": [
        "odd_even(12)"
      ],
      "metadata": {
        "colab": {
          "base_uri": "https://localhost:8080/"
        },
        "id": "F9IhFzIlo5uP",
        "outputId": "36873286-45b7-4d5f-ee85-62f4180800f9"
      },
      "execution_count": null,
      "outputs": [
        {
          "output_type": "stream",
          "name": "stdout",
          "text": [
            "This number 12 is even\n"
          ]
        }
      ]
    },
    {
      "cell_type": "code",
      "source": [
        "odd_even(0)"
      ],
      "metadata": {
        "colab": {
          "base_uri": "https://localhost:8080/"
        },
        "id": "ZxlrFNnfo7p-",
        "outputId": "7f46f660-2893-4b3f-dc4e-731c9a231b15"
      },
      "execution_count": null,
      "outputs": [
        {
          "output_type": "stream",
          "name": "stdout",
          "text": [
            "This number 0 is even\n"
          ]
        }
      ]
    },
    {
      "cell_type": "code",
      "source": [
        "odd_even(1)"
      ],
      "metadata": {
        "colab": {
          "base_uri": "https://localhost:8080/"
        },
        "id": "LPda7rr9o9p7",
        "outputId": "c70234c3-f41a-47ad-9572-36f0b42127e6"
      },
      "execution_count": null,
      "outputs": [
        {
          "output_type": "stream",
          "name": "stdout",
          "text": [
            "This number 1 is odd\n"
          ]
        }
      ]
    },
    {
      "cell_type": "code",
      "source": [
        " dict1 = {'Aam': 56, 'Bam': 67, 'Cam': 78, 'Dam': 89, 'Eam': 90, 'Fam': 91, 'Gam': 34, 'Ham': 32, 'Iam': 33, 'Jam': 54, 'Kam': 57}"
      ],
      "metadata": {
        "id": "CPanfFzipA4d"
      },
      "execution_count": null,
      "outputs": []
    },
    {
      "cell_type": "code",
      "source": [
        "dict1"
      ],
      "metadata": {
        "colab": {
          "base_uri": "https://localhost:8080/"
        },
        "id": "UwnBRPNYp2Fd",
        "outputId": "77486a09-2cf1-4870-8dbc-4226c97c60cf"
      },
      "execution_count": null,
      "outputs": [
        {
          "output_type": "execute_result",
          "data": {
            "text/plain": [
              "{'Aam': 56,\n",
              " 'Bam': 67,\n",
              " 'Cam': 78,\n",
              " 'Dam': 89,\n",
              " 'Eam': 90,\n",
              " 'Fam': 91,\n",
              " 'Gam': 34,\n",
              " 'Ham': 32,\n",
              " 'Iam': 33,\n",
              " 'Jam': 54,\n",
              " 'Kam': 57}"
            ]
          },
          "metadata": {},
          "execution_count": 16
        }
      ]
    },
    {
      "cell_type": "code",
      "source": [
        "def eval_1(p):\n",
        "  for key , val in p.items():\n",
        "    if val>=85:\n",
        "      print(f'{key} is a first class distinction student')\n",
        "    elif val>=60:\n",
        "      print(f'{key} is a first calss student')\n",
        "    elif val>=40:\n",
        "      print(f'{key} is a second class student')\n",
        "    elif val>=35:\n",
        "      print(f'{key} is a third class student')\n",
        "    else:\n",
        "      print(f'Better Luck next time {key}')"
      ],
      "metadata": {
        "id": "KH3U5z6z8TaD"
      },
      "execution_count": null,
      "outputs": []
    },
    {
      "cell_type": "code",
      "source": [
        "eval_1(dict1)"
      ],
      "metadata": {
        "colab": {
          "base_uri": "https://localhost:8080/"
        },
        "id": "ExNYVFPp9yEZ",
        "outputId": "b6daf8ca-fec1-4464-921b-4c03230bf571"
      },
      "execution_count": null,
      "outputs": [
        {
          "output_type": "stream",
          "name": "stdout",
          "text": [
            "Aam is a second class student\n",
            "Bam is a first calss student\n",
            "Cam is a first calss student\n",
            "Dam is a first class distinction student\n",
            "Eam is a first class distinction student\n",
            "Fam is a first class distinction student\n",
            "Better Luck next time Gam\n",
            "Better Luck next time Ham\n",
            "Better Luck next time Iam\n",
            "Jam is a second class student\n",
            "Kam is a second class student\n"
          ]
        }
      ]
    },
    {
      "cell_type": "code",
      "source": [
        "def any_argument(*args):\n",
        "    return args"
      ],
      "metadata": {
        "id": "kYqCHc8wp5G5"
      },
      "execution_count": null,
      "outputs": []
    },
    {
      "cell_type": "code",
      "source": [
        "any_argument(12,13,45,56,78)"
      ],
      "metadata": {
        "colab": {
          "base_uri": "https://localhost:8080/"
        },
        "id": "QExjPeRRr6nI",
        "outputId": "6bb3f573-37d4-48b3-c479-d1a90ee8060b"
      },
      "execution_count": null,
      "outputs": [
        {
          "output_type": "execute_result",
          "data": {
            "text/plain": [
              "(12, 13, 45, 56, 78)"
            ]
          },
          "metadata": {},
          "execution_count": 18
        }
      ]
    },
    {
      "cell_type": "code",
      "source": [
        "any_argument()"
      ],
      "metadata": {
        "colab": {
          "base_uri": "https://localhost:8080/"
        },
        "id": "6OI20P-cr8wI",
        "outputId": "aeda703c-a037-401d-db82-779a437cce44"
      },
      "execution_count": null,
      "outputs": [
        {
          "output_type": "execute_result",
          "data": {
            "text/plain": [
              "()"
            ]
          },
          "metadata": {},
          "execution_count": 19
        }
      ]
    },
    {
      "cell_type": "code",
      "source": [
        "any_argument(12,'Fish',\"Bianiam\")"
      ],
      "metadata": {
        "colab": {
          "base_uri": "https://localhost:8080/"
        },
        "id": "-BfK_hddsArn",
        "outputId": "195247df-8cdd-4f5e-ea3b-cf660246b4c5"
      },
      "execution_count": null,
      "outputs": [
        {
          "output_type": "execute_result",
          "data": {
            "text/plain": [
              "(12, 'Fish', 'Bianiam')"
            ]
          },
          "metadata": {},
          "execution_count": 20
        }
      ]
    },
    {
      "cell_type": "code",
      "source": [
        "def any_kwargument(**kwargs):\n",
        "    return kwargs"
      ],
      "metadata": {
        "id": "M7d-xgccsDRs"
      },
      "execution_count": null,
      "outputs": []
    },
    {
      "cell_type": "code",
      "source": [
        "any_kwargument(name ='Anurag')"
      ],
      "metadata": {
        "colab": {
          "base_uri": "https://localhost:8080/"
        },
        "id": "BZF9y8ucsFYh",
        "outputId": "2430dff5-57e6-4ab1-c797-c4f9c258f970"
      },
      "execution_count": null,
      "outputs": [
        {
          "output_type": "execute_result",
          "data": {
            "text/plain": [
              "{'name': 'Anurag'}"
            ]
          },
          "metadata": {},
          "execution_count": 22
        }
      ]
    },
    {
      "cell_type": "code",
      "source": [
        "any_kwargument(name= 'Biniam', mname='Oqbay')"
      ],
      "metadata": {
        "colab": {
          "base_uri": "https://localhost:8080/"
        },
        "id": "hDk4cOEqsIXT",
        "outputId": "76167f6d-5e0d-44ec-a04b-5ffe5c0666e8"
      },
      "execution_count": null,
      "outputs": [
        {
          "output_type": "execute_result",
          "data": {
            "text/plain": [
              "{'name': 'Biniam', 'mname': 'Oqbay'}"
            ]
          },
          "metadata": {},
          "execution_count": 23
        }
      ]
    },
    {
      "cell_type": "markdown",
      "source": [
        "### Wednesday December 13"
      ],
      "metadata": {
        "id": "aRyPABWasMhV"
      }
    },
    {
      "cell_type": "markdown",
      "source": [
        "```\n",
        "*args\n",
        "\n",
        "In Python, *args is used to pass a variable number of positional arguments to a function. The *args parameter allows a function to accept any number of positional arguments, which are then treated as a tuple within the function.\n",
        "\n",
        "Here's a basic example:\n",
        "\n",
        "def my_function(*args):\n",
        "    for arg in args:\n",
        "        print(arg)\n",
        "\n",
        "my_function('Hello', 'World', 'Python')\n",
        "In this example, *args collects all the positional arguments passed to my_function into a tuple named args. The function then iterates through this tuple and prints each argument.\n",
        "\n",
        "You can use any name instead of args, but the * before the parameter name is what allows it to accept multiple positional arguments.\n",
        "\n",
        "It's important to note that *args must be placed as the last positional parameter in the function definition. This is because it collects all remaining positional arguments.\n",
        "\n",
        "Here's an example where *args is used along with other regular parameters:\n",
        "\n",
        "def my_function(name, *args):\n",
        "    print(\"Name:\", name)\n",
        "    for arg in args:\n",
        "        print(\"Additional argument:\", arg)\n",
        "\n",
        "my_function('Alice', 'Hello', 'World', 'Python')\n",
        "In this case, the first argument (name) is assigned to the parameter name, and the rest of the arguments are collected into the args tuple.\n",
        "\n",
        "Using *args provides flexibility when you're unsure about the number of arguments that will be passed to a function, allowing you to handle a variable number of arguments without explicitly defining them in the function signature.\n",
        "```"
      ],
      "metadata": {
        "id": "XmQHVv7_3t-y"
      }
    },
    {
      "cell_type": "code",
      "source": [
        "def my_args1(*fish):\n",
        "    return fish"
      ],
      "metadata": {
        "id": "QODKW8fdsRKG"
      },
      "execution_count": null,
      "outputs": []
    },
    {
      "cell_type": "code",
      "source": [
        "my_args1(12,13,14,18.5, 12-13j,True, False,'What is your name', [12,13,'MOM','Hiwet',13.5],('hi',56.9,'Asmara'),{1,2,4,\"What\"},{'Asmara':12000000, \"Dekemhar\": 4500000})"
      ],
      "metadata": {
        "colab": {
          "base_uri": "https://localhost:8080/"
        },
        "id": "MHdDbmDhsTcw",
        "outputId": "826339eb-119f-4e94-96ba-cf92199c54e5"
      },
      "execution_count": null,
      "outputs": [
        {
          "output_type": "execute_result",
          "data": {
            "text/plain": [
              "(12,\n",
              " 13,\n",
              " 14,\n",
              " 18.5,\n",
              " (12-13j),\n",
              " True,\n",
              " False,\n",
              " 'What is your name',\n",
              " [12, 13, 'MOM', 'Hiwet', 13.5],\n",
              " ('hi', 56.9, 'Asmara'),\n",
              " {1, 2, 4, 'What'},\n",
              " {'Asmara': 12000000, 'Dekemhar': 4500000})"
            ]
          },
          "metadata": {},
          "execution_count": 25
        }
      ]
    },
    {
      "cell_type": "markdown",
      "source": [
        "```\n",
        "In Python, **kwargs allows you to pass a variable number of keyword arguments to a function. The **kwargs parameter collects these keyword arguments into a dictionary within the function.\n",
        "\n",
        "Here's an example:\n",
        "\n",
        "\n",
        "def my_function(**kwargs):\n",
        "    for key, value in kwargs.items():\n",
        "        print(f\"{key}: {value}\")\n",
        "\n",
        "my_function(name='Alice', age=30, country='Wonderland')\n",
        "In this example, **kwargs collects the keyword arguments passed to my_function into a dictionary named kwargs. Inside the function, you can iterate through this dictionary to access the keys and their corresponding values.\n",
        "\n",
        "Similarly to *args, you can use any name instead of kwargs, but the ** before the parameter name is what allows it to accept multiple keyword arguments.\n",
        "\n",
        "You can mix *args and **kwargs in a function definition. In such cases, *args collects positional arguments into a tuple, while **kwargs collects keyword arguments into a dictionary.\n",
        "\n",
        "\n",
        "def example_function(*args, **kwargs):\n",
        "    print(\"Positional arguments:\")\n",
        "    for arg in args:\n",
        "        print(arg)\n",
        "    \n",
        "    print(\"\\nKeyword arguments:\")\n",
        "    for key, value in kwargs.items():\n",
        "        print(f\"{key}: {value}\")\n",
        "\n",
        "example_function('Hello', 'World', name='Alice', age=30)\n",
        "In this case, the positional arguments ('Hello', 'World') are collected into args as a tuple, and the keyword arguments (name='Alice', age=30) are collected into kwargs as a dictionary.\n",
        "\n",
        "Using **kwargs is helpful when you need to handle a variable number of keyword arguments in a function, providing flexibility and allowing functions to receive and process different sets of named parameters.\n",
        "\n",
        "```"
      ],
      "metadata": {
        "id": "dpzo2nZgALJI"
      }
    },
    {
      "cell_type": "code",
      "source": [
        "def my_kwargs(**fish):\n",
        "    return fish"
      ],
      "metadata": {
        "id": "9zy655TfsZVs"
      },
      "execution_count": null,
      "outputs": []
    },
    {
      "cell_type": "code",
      "source": [
        "my_kwargs(a= 12,\n",
        "b= -23,\n",
        "c= 34.45,\n",
        "d= -45.56,\n",
        "e= (12+23j),\n",
        "f= (-32-43j),\n",
        "g= True,\n",
        "h= False,\n",
        "i= 'Python',\n",
        "j= 'programming',\n",
        "k= [1, 2, 3, 4, 5],\n",
        "l= (12, 23, 34, 45, 56),\n",
        "m= {1, 2, 3, 4, 5, 6, 7, 8, 9, 10, 11},\n",
        "n= {'a': 'apple', 'b': 'ball', 'c': 'cat', 'd': 'dog'},\n",
        "a1= 12,\n",
        "b1= -23,\n",
        "c1= 34.45,\n",
        "d1= -45.56,\n",
        "e1= (12+23j),\n",
        "f1= (-32-43j),\n",
        "g1= True,\n",
        "h1= False,\n",
        "i1= 'Python',\n",
        "j1= 'programming',\n",
        "k1= [1, 2, 3, 4, 5],\n",
        "l1= (12, 23, 34, 45, 56),\n",
        "m1= {1, 2, 3, 4, 5, 6, 7, 8, 9, 10, 11},\n",
        "n1= {'a': 'apple', 'b': 'ball', 'c': 'cat', 'd': 'dog'})"
      ],
      "metadata": {
        "colab": {
          "base_uri": "https://localhost:8080/"
        },
        "id": "DQUSGQw9AkIL",
        "outputId": "caf597df-2dc6-42cb-cf52-878c31bd9c35"
      },
      "execution_count": null,
      "outputs": [
        {
          "output_type": "execute_result",
          "data": {
            "text/plain": [
              "{'a': 12,\n",
              " 'b': -23,\n",
              " 'c': 34.45,\n",
              " 'd': -45.56,\n",
              " 'e': (12+23j),\n",
              " 'f': (-32-43j),\n",
              " 'g': True,\n",
              " 'h': False,\n",
              " 'i': 'Python',\n",
              " 'j': 'programming',\n",
              " 'k': [1, 2, 3, 4, 5],\n",
              " 'l': (12, 23, 34, 45, 56),\n",
              " 'm': {1, 2, 3, 4, 5, 6, 7, 8, 9, 10, 11},\n",
              " 'n': {'a': 'apple', 'b': 'ball', 'c': 'cat', 'd': 'dog'},\n",
              " 'a1': 12,\n",
              " 'b1': -23,\n",
              " 'c1': 34.45,\n",
              " 'd1': -45.56,\n",
              " 'e1': (12+23j),\n",
              " 'f1': (-32-43j),\n",
              " 'g1': True,\n",
              " 'h1': False,\n",
              " 'i1': 'Python',\n",
              " 'j1': 'programming',\n",
              " 'k1': [1, 2, 3, 4, 5],\n",
              " 'l1': (12, 23, 34, 45, 56),\n",
              " 'm1': {1, 2, 3, 4, 5, 6, 7, 8, 9, 10, 11},\n",
              " 'n1': {'a': 'apple', 'b': 'ball', 'c': 'cat', 'd': 'dog'}}"
            ]
          },
          "metadata": {},
          "execution_count": 42
        }
      ]
    },
    {
      "cell_type": "code",
      "source": [
        "my_kwargs(name='fish', haregu = 13)"
      ],
      "metadata": {
        "colab": {
          "base_uri": "https://localhost:8080/"
        },
        "id": "UHpT4RLysdY_",
        "outputId": "d084a2d3-7388-4805-cdda-269dc732a9b5"
      },
      "execution_count": null,
      "outputs": [
        {
          "output_type": "execute_result",
          "data": {
            "text/plain": [
              "{'name': 'fish', 'haregu': 13}"
            ]
          },
          "metadata": {},
          "execution_count": 27
        }
      ]
    },
    {
      "cell_type": "code",
      "source": [
        "\n",
        "def my_all_param(a,*y,**x):\n",
        "    return a,y,x\n"
      ],
      "metadata": {
        "id": "440cOMIasf-w"
      },
      "execution_count": null,
      "outputs": []
    },
    {
      "cell_type": "code",
      "source": [
        "my_all_param(2,12,13,14,15,name='Biniam',mname='Okbay',lname='Haile')"
      ],
      "metadata": {
        "id": "E83yU_-JsjSN",
        "outputId": "0ea29d67-ede2-4f6c-b8bc-2f34d654fb5f",
        "colab": {
          "base_uri": "https://localhost:8080/"
        }
      },
      "execution_count": null,
      "outputs": [
        {
          "output_type": "execute_result",
          "data": {
            "text/plain": [
              "(2, (12, 13, 14, 15), {'name': 'Biniam', 'mname': 'Okbay', 'lname': 'Haile'})"
            ]
          },
          "metadata": {},
          "execution_count": 30
        }
      ]
    },
    {
      "cell_type": "code",
      "source": [
        "def my_all_param_change(a,**x,*y):\n",
        "    return a,x,y"
      ],
      "metadata": {
        "id": "dqMWvJ6Wsnqd",
        "colab": {
          "base_uri": "https://localhost:8080/",
          "height": 145
        },
        "outputId": "84397fab-cdbc-472e-c4ba-cf8be4feb21d"
      },
      "execution_count": null,
      "outputs": [
        {
          "output_type": "error",
          "ename": "SyntaxError",
          "evalue": "ignored",
          "traceback": [
            "\u001b[0;36m  File \u001b[0;32m\"<ipython-input-32-a98b83ea0668>\"\u001b[0;36m, line \u001b[0;32m1\u001b[0m\n\u001b[0;31m    def my_all_param_change(a,**x,*y):\u001b[0m\n\u001b[0m                                  ^\u001b[0m\n\u001b[0;31mSyntaxError\u001b[0m\u001b[0;31m:\u001b[0m invalid syntax\n"
          ]
        }
      ]
    },
    {
      "cell_type": "code",
      "source": [
        "def my_all_param_change(a,*y,**x):\n",
        "    return a,x,y"
      ],
      "metadata": {
        "id": "mU60HAgDw8ia"
      },
      "execution_count": null,
      "outputs": []
    },
    {
      "cell_type": "code",
      "source": [
        "my_all_param_change(12,'Abrham','Mike',12.4,[12,'BNM',1.5],(12,13),{'Hi','No'},name='H', mname='me',lname= 'S')"
      ],
      "metadata": {
        "colab": {
          "base_uri": "https://localhost:8080/"
        },
        "id": "a0DpfgXcxAa2",
        "outputId": "60aca8b2-837a-4165-9085-86db0df2f1a8"
      },
      "execution_count": null,
      "outputs": [
        {
          "output_type": "execute_result",
          "data": {
            "text/plain": [
              "(12,\n",
              " {'name': 'H', 'mname': 'me', 'lname': 'S'},\n",
              " ('Abrham', 'Mike', 12.4, [12, 'BNM', 1.5], (12, 13), {'Hi', 'No'}))"
            ]
          },
          "metadata": {},
          "execution_count": 34
        }
      ]
    },
    {
      "cell_type": "markdown",
      "source": [
        "```\n",
        "Lambda\n",
        "\n",
        "```"
      ],
      "metadata": {
        "id": "dMO9ayT7xFL-"
      }
    },
    {
      "cell_type": "markdown",
      "source": [
        "```\n",
        "\n",
        "Lambda functions in Python are anonymous, small, and typically one-liner functions that can take any number of arguments but can only have one expression. They are defined using the lambda keyword. Here's a basic example:\n",
        "\n",
        "# Regular function\n",
        "def add(a, b):\n",
        "    return a + b\n",
        "\n",
        "# Equivalent lambda function\n",
        "add_lambda = lambda a, b: a + b\n",
        "\n",
        "# Using the lambda function\n",
        "result = add_lambda(3, 5)\n",
        "print(result)  # Output will be 8\n",
        "Lambda functions are often used in situations where you need a small function for a short period and don't want to define a full-fledged function using def. They are commonly used with higher-order functions like map(), filter(), and reduce(), or in cases where you need to pass a function as an argument to another function.\n",
        "\n",
        "For instance:\n",
        "\n",
        "# Using lambda with map()\n",
        "numbers = [1, 2, 3, 4, 5]\n",
        "squared = list(map(lambda x: x**2, numbers))\n",
        "print(squared)  # Output will be [1, 4, 9, 16, 25]\n",
        "This lambda function squares each element in the numbers list when used with map().\n",
        "\n",
        "Remember that while lambda functions can be useful for simple operations, it's often recommended to use regular functions for more complex logic to improve readability and maintainability.\n",
        "\n",
        "```"
      ],
      "metadata": {
        "id": "kMo4aFHXA2ep"
      }
    },
    {
      "cell_type": "code",
      "source": [
        "x = lambda a : a+12\n",
        "\n",
        "print(x(123))"
      ],
      "metadata": {
        "colab": {
          "base_uri": "https://localhost:8080/"
        },
        "id": "7ZBDoQmoxDXW",
        "outputId": "42dc184f-7ecd-4783-82a9-0a3645494a8b"
      },
      "execution_count": null,
      "outputs": [
        {
          "output_type": "stream",
          "name": "stdout",
          "text": [
            "135\n"
          ]
        }
      ]
    },
    {
      "cell_type": "code",
      "source": [
        "z = lambda a,b : a*b\n",
        "\n",
        "print(z(12,10))"
      ],
      "metadata": {
        "colab": {
          "base_uri": "https://localhost:8080/"
        },
        "id": "iM3SYSkExUC4",
        "outputId": "fced0a3e-9fae-4820-f3af-ebd2db930cf0"
      },
      "execution_count": null,
      "outputs": [
        {
          "output_type": "stream",
          "name": "stdout",
          "text": [
            "120\n"
          ]
        }
      ]
    },
    {
      "cell_type": "code",
      "source": [
        "y = lambda a,b,c : a+b-c\n",
        "print(y(34,-23,45))"
      ],
      "metadata": {
        "colab": {
          "base_uri": "https://localhost:8080/"
        },
        "id": "NGHnoJPKxXfB",
        "outputId": "fca815b0-f7fc-4a35-adcc-5dad249e8e15"
      },
      "execution_count": null,
      "outputs": [
        {
          "output_type": "stream",
          "name": "stdout",
          "text": [
            "-34\n"
          ]
        }
      ]
    },
    {
      "cell_type": "code",
      "source": [
        "g = lambda a , b, c, d: a+b-c*d\n",
        "print(g(12,45,67,11))"
      ],
      "metadata": {
        "colab": {
          "base_uri": "https://localhost:8080/"
        },
        "id": "vLty6PWQxaKQ",
        "outputId": "86e4ea6b-1667-432a-92d4-8d579599d53d"
      },
      "execution_count": null,
      "outputs": [
        {
          "output_type": "stream",
          "name": "stdout",
          "text": [
            "-680\n"
          ]
        }
      ]
    },
    {
      "cell_type": "markdown",
      "source": [
        "### Thursday December 14"
      ],
      "metadata": {
        "id": "iuNSZnmgMlUB"
      }
    },
    {
      "cell_type": "code",
      "source": [
        "set1 = {2,4,'Bin','hi'}"
      ],
      "metadata": {
        "id": "ak2w_ApYxd6f"
      },
      "execution_count": null,
      "outputs": []
    },
    {
      "cell_type": "code",
      "source": [
        "for mem in set1:\n",
        "  print(mem)"
      ],
      "metadata": {
        "colab": {
          "base_uri": "https://localhost:8080/"
        },
        "id": "R_B9WMziM-r8",
        "outputId": "24651655-3fd2-4ffd-a2e5-42721253f731"
      },
      "execution_count": null,
      "outputs": [
        {
          "output_type": "stream",
          "name": "stdout",
          "text": [
            "hi\n",
            "Bin\n",
            "2\n",
            "4\n"
          ]
        }
      ]
    },
    {
      "cell_type": "code",
      "source": [
        "for i in range(10):\n",
        "  for j in range(10):\n",
        "    print('*',end=' ')\n",
        "  print()"
      ],
      "metadata": {
        "colab": {
          "base_uri": "https://localhost:8080/"
        },
        "id": "L0CfSgYvNJEW",
        "outputId": "4ed4d90d-713e-484d-a222-d457951411f2"
      },
      "execution_count": null,
      "outputs": [
        {
          "output_type": "stream",
          "name": "stdout",
          "text": [
            "* * * * * * * * * * \n",
            "* * * * * * * * * * \n",
            "* * * * * * * * * * \n",
            "* * * * * * * * * * \n",
            "* * * * * * * * * * \n",
            "* * * * * * * * * * \n",
            "* * * * * * * * * * \n",
            "* * * * * * * * * * \n",
            "* * * * * * * * * * \n",
            "* * * * * * * * * * \n"
          ]
        }
      ]
    },
    {
      "cell_type": "code",
      "source": [
        "for i in range(5):\n",
        "  for j in range(6):\n",
        "    print(i+j, end='')\n"
      ],
      "metadata": {
        "colab": {
          "base_uri": "https://localhost:8080/"
        },
        "id": "bRxi-lI3USbi",
        "outputId": "11dc08dc-7917-46cc-83df-0e690c85a959"
      },
      "execution_count": null,
      "outputs": [
        {
          "output_type": "stream",
          "name": "stdout",
          "text": [
            "012345123456234567345678456789"
          ]
        }
      ]
    },
    {
      "cell_type": "code",
      "source": [
        "for i in range(10):\n",
        "  for j in range(10,i,-1):\n",
        "    print('',end=' ')\n",
        "  for k in range(0, i+1,1):\n",
        "    print('*', end= ' ')\n",
        "  print()"
      ],
      "metadata": {
        "colab": {
          "base_uri": "https://localhost:8080/"
        },
        "id": "5YRsErorWvyE",
        "outputId": "9b5378ce-9f84-436a-eae5-11b6ce3c88c7"
      },
      "execution_count": null,
      "outputs": [
        {
          "output_type": "stream",
          "name": "stdout",
          "text": [
            "          * \n",
            "         * * \n",
            "        * * * \n",
            "       * * * * \n",
            "      * * * * * \n",
            "     * * * * * * \n",
            "    * * * * * * * \n",
            "   * * * * * * * * \n",
            "  * * * * * * * * * \n",
            " * * * * * * * * * * \n"
          ]
        }
      ]
    },
    {
      "cell_type": "code",
      "source": [
        "for i in range(10):\n",
        "  for k in range(0, i+1,1):\n",
        "    print('', end= ' ')\n",
        "  for j in range(10,i,-1):\n",
        "    print('*',end=' ')\n",
        "  print()"
      ],
      "metadata": {
        "colab": {
          "base_uri": "https://localhost:8080/"
        },
        "id": "Ginz4jQSYvv3",
        "outputId": "4b8d0673-d30e-435d-a1b8-40c1f7b1bd3c"
      },
      "execution_count": null,
      "outputs": [
        {
          "output_type": "stream",
          "name": "stdout",
          "text": [
            " * * * * * * * * * * \n",
            "  * * * * * * * * * \n",
            "   * * * * * * * * \n",
            "    * * * * * * * \n",
            "     * * * * * * \n",
            "      * * * * * \n",
            "       * * * * \n",
            "        * * * \n",
            "         * * \n",
            "          * \n"
          ]
        }
      ]
    },
    {
      "cell_type": "code",
      "source": [
        "a = 200\n",
        "\n",
        "while a >40:\n",
        "  print(\"Value of a: \", a)\n",
        "  a-=25"
      ],
      "metadata": {
        "colab": {
          "base_uri": "https://localhost:8080/"
        },
        "id": "xkl46GJOY-vI",
        "outputId": "500e7d43-a391-450a-835a-5ce9c2b09189"
      },
      "execution_count": null,
      "outputs": [
        {
          "output_type": "stream",
          "name": "stdout",
          "text": [
            "Value of a:  200\n",
            "Value of a:  175\n",
            "Value of a:  150\n",
            "Value of a:  125\n",
            "Value of a:  100\n",
            "Value of a:  75\n",
            "Value of a:  50\n"
          ]
        }
      ]
    },
    {
      "cell_type": "code",
      "source": [
        "a = 130\n",
        "\n",
        "while a > 75:\n",
        "  print(f'Value of a={a}')\n",
        "  b= 10\n",
        "  while b< 35:\n",
        "    print(f'Value of b={b}')\n",
        "    b+=5\n",
        "  a-=30"
      ],
      "metadata": {
        "colab": {
          "base_uri": "https://localhost:8080/"
        },
        "id": "zuLGIJgrhClD",
        "outputId": "c0ce9b39-3a5c-40ab-a249-c94e6732d16f"
      },
      "execution_count": null,
      "outputs": [
        {
          "output_type": "stream",
          "name": "stdout",
          "text": [
            "Value of a=130\n",
            "Value of b=10\n",
            "Value of b=15\n",
            "Value of b=20\n",
            "Value of b=25\n",
            "Value of b=30\n",
            "Value of a=100\n",
            "Value of b=10\n",
            "Value of b=15\n",
            "Value of b=20\n",
            "Value of b=25\n",
            "Value of b=30\n"
          ]
        }
      ]
    },
    {
      "cell_type": "markdown",
      "source": [
        "### Takeo Assignment-01"
      ],
      "metadata": {
        "id": "Ad5cW-tW3tAo"
      }
    },
    {
      "cell_type": "code",
      "source": [
        "# Define a function that accepts a variable number of arguments\n",
        "def add_numbers(*args):\n",
        "  result =0\n",
        "  # print(args)\n",
        "  for num in args:\n",
        "    result+=num\n",
        "  return result"
      ],
      "metadata": {
        "id": "Ev7WUoyD3sWn"
      },
      "execution_count": null,
      "outputs": []
    },
    {
      "cell_type": "code",
      "source": [
        "# Use the function with different numbers of arguments\n",
        "\n",
        "print(add_numbers(1,2,3))"
      ],
      "metadata": {
        "colab": {
          "base_uri": "https://localhost:8080/"
        },
        "id": "huih1XGX5B4p",
        "outputId": "c7945c7e-a629-4ba3-b28e-e1ff6a03a324"
      },
      "execution_count": null,
      "outputs": [
        {
          "output_type": "stream",
          "name": "stdout",
          "text": [
            "6\n"
          ]
        }
      ]
    },
    {
      "cell_type": "code",
      "source": [
        "print(add_numbers(5,10,15,20))"
      ],
      "metadata": {
        "colab": {
          "base_uri": "https://localhost:8080/"
        },
        "id": "Ww06bxq75iMn",
        "outputId": "30a2e4d2-5422-4b22-aa59-7d8e4cefe5c6"
      },
      "execution_count": null,
      "outputs": [
        {
          "output_type": "stream",
          "name": "stdout",
          "text": [
            "50\n"
          ]
        }
      ]
    },
    {
      "cell_type": "code",
      "source": [
        "print(add_numbers(2,4,6,8,10))"
      ],
      "metadata": {
        "colab": {
          "base_uri": "https://localhost:8080/"
        },
        "id": "avtrX7rQ5qpr",
        "outputId": "0ba875c9-9b96-4837-fb1b-c4e5ab67abfa"
      },
      "execution_count": null,
      "outputs": [
        {
          "output_type": "stream",
          "name": "stdout",
          "text": [
            "30\n"
          ]
        }
      ]
    },
    {
      "cell_type": "code",
      "source": [
        "# problem 1: write a python program using function and *args; it can perform all tasks of arthemetic operation in python (addition, subtraction, division, multiplication, floor division, modulus, exponential)\n",
        "\n",
        "def all_operations(*a):\n",
        "  resu_a = 0\n",
        "  resu_s =0\n",
        "  resu_m =a[0]\n",
        "  resu_d =a[0]\n",
        "  resu_fd=a[0]\n",
        "  resu_mo=a[0]\n",
        "  resu_exp= a[0]\n",
        "  for num in a:\n",
        "    resu_a+=num\n",
        "    resu_s-=num\n",
        "    resu_m*=num\n",
        "    resu_d/=num\n",
        "    resu_fd//=num\n",
        "    resu_mo%=num\n",
        "    resu_exp**=num\n",
        "\n",
        "  return resu_a, resu_s, resu_m, resu_d, resu_fd, resu_mo, resu_exp\n"
      ],
      "metadata": {
        "id": "zGeuHaZJ5zEx"
      },
      "execution_count": null,
      "outputs": []
    },
    {
      "cell_type": "code",
      "source": [
        "print(all_operations(2,4,6,8,10))"
      ],
      "metadata": {
        "colab": {
          "base_uri": "https://localhost:8080/"
        },
        "id": "u-NlK9KiBH0_",
        "outputId": "90a0ea24-76e3-4f3a-9655-5cd650223d5b"
      },
      "execution_count": null,
      "outputs": [
        {
          "output_type": "stream",
          "name": "stdout",
          "text": [
            "(30, -30, 7680, 0.0005208333333333333, 0, 0, 9019518416950528558373478086511232658951474842525520401496114928154304263954966638953020103274038169821978036310387105187439981983038679543190552246151273693942430142430214083685203206060500793611640634047888641084801170845605063334103743639179436252101154643375533557849579891726251950146428978850105516362034204960607121369958942503226437204196452448471269253300696978879636095437453409277681885696982308658433120767281076066105051771156066244607221345945266065486445664418226651139092674586681359212098059833861221228710626721320869724746184863955622162546234638825771342548855451709230916475881564603234959416156932444801211659142200921408360597108039135985669806212057156206663539212378905677937882406546561037396635425165843343857133953586158290319569289376437788637610819165094090272546217161805776234786903154610120291328498719159205664801129636695538349715728280593823253491223728898318034697583114552626234434370877814140762055366083260852745620423716424511260012738181745813374647152733067517775871845874530787928515094116349419316639753203075339289947427722432809910728602878067223827332337510877965115796034585470544985654584014864170694475776)\n"
          ]
        }
      ]
    },
    {
      "cell_type": "code",
      "source": [
        "# example\n",
        "\n",
        "def print_details(**kwargs):\n",
        "  for key, value in kwargs.items():\n",
        "    print(f'{key}:{value}')\n",
        "\n",
        "print_details(name='Alice', age=30, city= \"New York\")"
      ],
      "metadata": {
        "colab": {
          "base_uri": "https://localhost:8080/"
        },
        "id": "BAyBN-AoBeNo",
        "outputId": "01072d37-c294-4e19-859f-680d0f62e841"
      },
      "execution_count": null,
      "outputs": [
        {
          "output_type": "stream",
          "name": "stdout",
          "text": [
            "name:Alice\n",
            "age:30\n",
            "city:New York\n"
          ]
        }
      ]
    },
    {
      "cell_type": "code",
      "source": [
        "print_details(product=\"Laptop\",brand=\"Dell\", price=1200)"
      ],
      "metadata": {
        "colab": {
          "base_uri": "https://localhost:8080/"
        },
        "id": "Bv_Giq5rCOoU",
        "outputId": "164fc5fb-9272-4b16-d706-c72d9fc38af5"
      },
      "execution_count": null,
      "outputs": [
        {
          "output_type": "stream",
          "name": "stdout",
          "text": [
            "product:Laptop\n",
            "brand:Dell\n",
            "price:1200\n"
          ]
        }
      ]
    },
    {
      "cell_type": "markdown",
      "source": [
        "```\n",
        "Write a Python Program using Function and **kwargs\n",
        "```"
      ],
      "metadata": {
        "id": "i3Y05Qm4NKpd"
      }
    },
    {
      "cell_type": "code",
      "source": [
        "def total_price(**fish):\n",
        "  tot=0\n",
        "  for item , price in fish.items():\n",
        "    tot+=price\n",
        "  return tot\n",
        "\n",
        "\n",
        "price_in_total = total_price(Onion= 1.25, Orange = 2.25 , Mango = 3.25, Popato = 1.05)\n",
        "\n",
        "print(f'Total Calculated Price: ${price_in_total}')"
      ],
      "metadata": {
        "colab": {
          "base_uri": "https://localhost:8080/"
        },
        "id": "14xSmJqXNRXu",
        "outputId": "a3b40093-13b8-49ed-b92d-bc2cb2a5ed63"
      },
      "execution_count": null,
      "outputs": [
        {
          "output_type": "stream",
          "name": "stdout",
          "text": [
            "Total Calculated Price: $7.8\n"
          ]
        }
      ]
    },
    {
      "cell_type": "code",
      "source": [
        "# Calculate the absolute valu of a number\n",
        "\n",
        "num = -5\n",
        "\n",
        "abs_num = abs(num)\n",
        "print(f'The absolute valu of {num} is {abs_num}')"
      ],
      "metadata": {
        "colab": {
          "base_uri": "https://localhost:8080/"
        },
        "id": "LWMB5kT-P58o",
        "outputId": "500c94c4-bd2a-477d-de90-64f979a6fb20"
      },
      "execution_count": null,
      "outputs": [
        {
          "output_type": "stream",
          "name": "stdout",
          "text": [
            "The absolute valu of -5 is 5\n"
          ]
        }
      ]
    },
    {
      "cell_type": "code",
      "source": [
        "# Check if all elements in the List are True\n",
        "\n",
        "my_list = [True, True, False , True]\n",
        "\n",
        "result = all(my_list)\n",
        "print(f'All elements in the list are true: {result}')"
      ],
      "metadata": {
        "colab": {
          "base_uri": "https://localhost:8080/"
        },
        "id": "IwJM2_WTPawv",
        "outputId": "25c31f47-e595-4bc5-f4d8-18d05735e0ea"
      },
      "execution_count": null,
      "outputs": [
        {
          "output_type": "stream",
          "name": "stdout",
          "text": [
            "All elements in the list are true: False\n"
          ]
        }
      ]
    },
    {
      "cell_type": "code",
      "source": [
        "# Check if any element in the list are True\n",
        "\n",
        "my_list = [False, False , True, False]\n",
        "\n",
        "result = any(my_list)\n",
        "print(f'At least one element in the list is True: {result}')"
      ],
      "metadata": {
        "colab": {
          "base_uri": "https://localhost:8080/"
        },
        "id": "caU8JO_ORR1f",
        "outputId": "c749af11-cc9e-4365-b166-c11c45a787f8"
      },
      "execution_count": null,
      "outputs": [
        {
          "output_type": "stream",
          "name": "stdout",
          "text": [
            "At least one element in the list is True: True\n"
          ]
        }
      ]
    },
    {
      "cell_type": "code",
      "source": [
        "# Convert a number to binary\n",
        "\n",
        "num = 10\n",
        "\n",
        "binary_num = bin(num)\n",
        "print(f'Binary representation of {num} is {binary_num}')"
      ],
      "metadata": {
        "colab": {
          "base_uri": "https://localhost:8080/"
        },
        "id": "z85m8YuXTjSm",
        "outputId": "b67274e7-58c0-42ec-8b63-19250da15e7e"
      },
      "execution_count": null,
      "outputs": [
        {
          "output_type": "stream",
          "name": "stdout",
          "text": [
            "Binary representation of 10 is 0b1010\n"
          ]
        }
      ]
    },
    {
      "cell_type": "code",
      "source": [
        "# Convert a string in to an integer\n",
        "\n",
        "str_num = '45'\n",
        "\n",
        "int_num = int(str_num)\n",
        "print(f'Integer representation of {str_num} is {int_num}')"
      ],
      "metadata": {
        "colab": {
          "base_uri": "https://localhost:8080/"
        },
        "id": "RcKJkP0ST_HR",
        "outputId": "e0e2d0e7-d3d0-49cf-a45e-3bef65712143"
      },
      "execution_count": null,
      "outputs": [
        {
          "output_type": "stream",
          "name": "stdout",
          "text": [
            "Integer representation of 45 is 45\n"
          ]
        }
      ]
    },
    {
      "cell_type": "markdown",
      "source": [
        "```\n",
        "if condition1:\n",
        "    # Execute if condition1 is true\n",
        "    if condition2:\n",
        "        # Execute if both condition1 and condition2 are true\n",
        "    else:\n",
        "        # Execute if condition1 is true but condition2 is false\n",
        "else:\n",
        "    # Execute if condition1 is false\n",
        "\n",
        "# Example 1 : Number checker\n",
        "num = 5\n",
        "\n",
        "if num > 0:\n",
        "    print(\"The number is positive.\")\n",
        "else:\n",
        "    if num < 0:\n",
        "        print(\"The number is negative.\")\n",
        "    else:\n",
        "        print(\"The number is zero.\")\n",
        "\n",
        "```"
      ],
      "metadata": {
        "id": "6iEcBySBj0DJ"
      }
    },
    {
      "cell_type": "code",
      "source": [
        "# syntax of nested if else\n",
        "\n",
        "num =5\n",
        "\n",
        "if num>0:\n",
        "  print(\"The number is postive\")\n",
        "else:\n",
        "  if num<0:\n",
        "    print(\"The number is negative\")\n",
        "  else:\n",
        "    print(\"The number is zero.\")\n",
        "\n",
        "\n",
        " # Example 2: Age classifier\n",
        "\n",
        " age =35\n",
        "\n",
        "if age >=60:\n",
        "  print(\"You are a senior citizen\")\n",
        "else:\n",
        "  if age >=18:\n",
        "    print()\n",
        "\n",
        "\n",
        "\n"
      ],
      "metadata": {
        "id": "4IyMlsMWCa3E"
      },
      "execution_count": null,
      "outputs": []
    },
    {
      "cell_type": "markdown",
      "source": [
        "## Monday December 18, 2023"
      ],
      "metadata": {
        "id": "tYqZ6c_d8gUx"
      }
    },
    {
      "cell_type": "code",
      "source": [
        "numerator =3\n",
        "\n",
        "denomerator = 0\n",
        "\n",
        "divi = numerator/denomerator"
      ],
      "metadata": {
        "colab": {
          "base_uri": "https://localhost:8080/",
          "height": 210
        },
        "id": "YKDuBwBq8fcq",
        "outputId": "d815063c-4dfb-42ed-fd88-107e1445fa72"
      },
      "execution_count": null,
      "outputs": [
        {
          "output_type": "error",
          "ename": "ZeroDivisionError",
          "evalue": "ignored",
          "traceback": [
            "\u001b[0;31m---------------------------------------------------------------------------\u001b[0m",
            "\u001b[0;31mZeroDivisionError\u001b[0m                         Traceback (most recent call last)",
            "\u001b[0;32m<ipython-input-3-79b156b01f82>\u001b[0m in \u001b[0;36m<cell line: 5>\u001b[0;34m()\u001b[0m\n\u001b[1;32m      3\u001b[0m \u001b[0mdenomerator\u001b[0m \u001b[0;34m=\u001b[0m \u001b[0;36m0\u001b[0m\u001b[0;34m\u001b[0m\u001b[0;34m\u001b[0m\u001b[0m\n\u001b[1;32m      4\u001b[0m \u001b[0;34m\u001b[0m\u001b[0m\n\u001b[0;32m----> 5\u001b[0;31m \u001b[0mdivi\u001b[0m \u001b[0;34m=\u001b[0m \u001b[0mnumerator\u001b[0m\u001b[0;34m/\u001b[0m\u001b[0mdenomerator\u001b[0m\u001b[0;34m\u001b[0m\u001b[0;34m\u001b[0m\u001b[0m\n\u001b[0m",
            "\u001b[0;31mZeroDivisionError\u001b[0m: division by zero"
          ]
        }
      ]
    },
    {
      "cell_type": "code",
      "source": [
        "def divi(a,b):\n",
        "  return a/b"
      ],
      "metadata": {
        "id": "Ir7W6sAC86A-"
      },
      "execution_count": null,
      "outputs": []
    },
    {
      "cell_type": "code",
      "source": [
        "divi(5,0)"
      ],
      "metadata": {
        "colab": {
          "base_uri": "https://localhost:8080/",
          "height": 245
        },
        "id": "wEwj4b5-9GTN",
        "outputId": "f2486aee-8e85-429d-885d-f6111beba3b4"
      },
      "execution_count": null,
      "outputs": [
        {
          "output_type": "error",
          "ename": "ZeroDivisionError",
          "evalue": "ignored",
          "traceback": [
            "\u001b[0;31m---------------------------------------------------------------------------\u001b[0m",
            "\u001b[0;31mZeroDivisionError\u001b[0m                         Traceback (most recent call last)",
            "\u001b[0;32m<ipython-input-5-fb748b92ef48>\u001b[0m in \u001b[0;36m<cell line: 1>\u001b[0;34m()\u001b[0m\n\u001b[0;32m----> 1\u001b[0;31m \u001b[0mdivi\u001b[0m\u001b[0;34m(\u001b[0m\u001b[0;36m5\u001b[0m\u001b[0;34m,\u001b[0m\u001b[0;36m0\u001b[0m\u001b[0;34m)\u001b[0m\u001b[0;34m\u001b[0m\u001b[0;34m\u001b[0m\u001b[0m\n\u001b[0m",
            "\u001b[0;32m<ipython-input-4-b269ff9a5d64>\u001b[0m in \u001b[0;36mdivi\u001b[0;34m(a, b)\u001b[0m\n\u001b[1;32m      1\u001b[0m \u001b[0;32mdef\u001b[0m \u001b[0mdivi\u001b[0m\u001b[0;34m(\u001b[0m\u001b[0ma\u001b[0m\u001b[0;34m,\u001b[0m\u001b[0mb\u001b[0m\u001b[0;34m)\u001b[0m\u001b[0;34m:\u001b[0m\u001b[0;34m\u001b[0m\u001b[0;34m\u001b[0m\u001b[0m\n\u001b[0;32m----> 2\u001b[0;31m   \u001b[0;32mreturn\u001b[0m \u001b[0ma\u001b[0m\u001b[0;34m/\u001b[0m\u001b[0mb\u001b[0m\u001b[0;34m\u001b[0m\u001b[0;34m\u001b[0m\u001b[0m\n\u001b[0m",
            "\u001b[0;31mZeroDivisionError\u001b[0m: division by zero"
          ]
        }
      ]
    },
    {
      "cell_type": "code",
      "source": [
        "def squart_fun(a):\n",
        "  return a**0.5\n",
        "\n"
      ],
      "metadata": {
        "id": "x1fU3XSu9L4v"
      },
      "execution_count": null,
      "outputs": []
    },
    {
      "cell_type": "code",
      "source": [
        "squart_fun(-2)"
      ],
      "metadata": {
        "colab": {
          "base_uri": "https://localhost:8080/"
        },
        "id": "BXmRvYyD94Sg",
        "outputId": "bd6b2839-30b8-4e45-f9bc-fe79676a13ea"
      },
      "execution_count": null,
      "outputs": [
        {
          "output_type": "execute_result",
          "data": {
            "text/plain": [
              "(8.659560562354934e-17+1.4142135623730951j)"
            ]
          },
          "metadata": {},
          "execution_count": 10
        }
      ]
    },
    {
      "cell_type": "code",
      "source": [
        "principal = float(input(\"insert principal\"))\n",
        "rate = float(input(\"Insert a rate\"))\n"
      ],
      "metadata": {
        "id": "xlzJ9j2p-HIS"
      },
      "execution_count": null,
      "outputs": []
    },
    {
      "cell_type": "code",
      "source": [
        "tuple1 = ('a','b','c','d')\n",
        "\n",
        "try:\n",
        "  tuple1.append('f')\n",
        "except Exception as ae:\n",
        "  print(\"Universla exception \",ae)\n",
        "\n",
        "print(tuple1)"
      ],
      "metadata": {
        "colab": {
          "base_uri": "https://localhost:8080/"
        },
        "id": "WlkKfKMhCau9",
        "outputId": "53979f48-39ad-485d-9732-37cd2407ec4f"
      },
      "execution_count": null,
      "outputs": [
        {
          "output_type": "stream",
          "name": "stdout",
          "text": [
            "Universla exception  'tuple' object has no attribute 'append'\n",
            "('a', 'b', 'c', 'd')\n"
          ]
        }
      ]
    },
    {
      "cell_type": "code",
      "source": [
        "my_tupe =(\"Asmara\", 'Dekemhare','Massawa', 'Keren', 'Mendefera', 'Barentu')\n",
        "\n",
        "try:\n",
        "  my_tupe[2] = 'Nakfa'\n",
        "except Exception as nm:\n",
        "  print('Universal exception ',nm)\n",
        "print(my_tupe)"
      ],
      "metadata": {
        "colab": {
          "base_uri": "https://localhost:8080/"
        },
        "id": "yqXYvGJ4C6lY",
        "outputId": "ed1362aa-1463-4515-ab2a-e8ea3440d183"
      },
      "execution_count": null,
      "outputs": [
        {
          "output_type": "stream",
          "name": "stdout",
          "text": [
            "Universal exception  'tuple' object does not support item assignment\n",
            "('Asmara', 'Dekemhare', 'Massawa', 'Keren', 'Mendefera', 'Barentu')\n"
          ]
        }
      ]
    },
    {
      "cell_type": "code",
      "source": [
        "def my_db(**nakfa):\n",
        "   try:\n",
        "    return nakfa\n",
        "   except Exception as ok:\n",
        "     print(\"Universal exception \", ok)\n",
        "\n"
      ],
      "metadata": {
        "id": "T0ysiTwtD9gR"
      },
      "execution_count": null,
      "outputs": []
    },
    {
      "cell_type": "code",
      "source": [
        "my_db([1,2,3])"
      ],
      "metadata": {
        "colab": {
          "base_uri": "https://localhost:8080/",
          "height": 175
        },
        "id": "K6T6IzMtFe0M",
        "outputId": "30a39f7b-9fca-4511-fc10-6e29a4cee0d0"
      },
      "execution_count": null,
      "outputs": [
        {
          "output_type": "error",
          "ename": "TypeError",
          "evalue": "ignored",
          "traceback": [
            "\u001b[0;31m---------------------------------------------------------------------------\u001b[0m",
            "\u001b[0;31mTypeError\u001b[0m                                 Traceback (most recent call last)",
            "\u001b[0;32m<ipython-input-22-84fa7131a5ba>\u001b[0m in \u001b[0;36m<cell line: 1>\u001b[0;34m()\u001b[0m\n\u001b[0;32m----> 1\u001b[0;31m \u001b[0mmy_db\u001b[0m\u001b[0;34m(\u001b[0m\u001b[0;34m[\u001b[0m\u001b[0;36m1\u001b[0m\u001b[0;34m,\u001b[0m\u001b[0;36m2\u001b[0m\u001b[0;34m,\u001b[0m\u001b[0;36m3\u001b[0m\u001b[0;34m]\u001b[0m\u001b[0;34m)\u001b[0m\u001b[0;34m\u001b[0m\u001b[0;34m\u001b[0m\u001b[0m\n\u001b[0m",
            "\u001b[0;31mTypeError\u001b[0m: my_db() takes 0 positional arguments but 1 was given"
          ]
        }
      ]
    },
    {
      "cell_type": "markdown",
      "source": [
        "### Tuesday December 19, 2023"
      ],
      "metadata": {
        "id": "4e1E09FipyhA"
      }
    },
    {
      "cell_type": "code",
      "source": [
        "a= 10 # 'a' is an object ; this is instance of class 'int'\n",
        "print(type(a))"
      ],
      "metadata": {
        "id": "NKfuNN-dHAQK",
        "colab": {
          "base_uri": "https://localhost:8080/"
        },
        "outputId": "8c82a864-5fb3-458c-86ae-7bcbf1761fab"
      },
      "execution_count": null,
      "outputs": [
        {
          "output_type": "stream",
          "name": "stdout",
          "text": [
            "<class 'int'>\n"
          ]
        }
      ]
    },
    {
      "cell_type": "code",
      "source": [
        "str1= 'Python programming'  # 'str1' is an object ; this is instance of class 'str'\n",
        "print(type(str1))"
      ],
      "metadata": {
        "colab": {
          "base_uri": "https://localhost:8080/"
        },
        "id": "Z2-IX_P0p8tu",
        "outputId": "6c7db66c-2e62-4fed-f636-a1e0040f69e8"
      },
      "execution_count": null,
      "outputs": [
        {
          "output_type": "stream",
          "name": "stdout",
          "text": [
            "<class 'str'>\n"
          ]
        }
      ]
    },
    {
      "cell_type": "code",
      "source": [
        "lst1= [1,2,3,4,5,6,7,8,9,10]\n",
        "\n",
        "print(type(lst1))"
      ],
      "metadata": {
        "colab": {
          "base_uri": "https://localhost:8080/"
        },
        "id": "fxAAgh43qAMe",
        "outputId": "b3bea785-10f5-4fc0-eaeb-90429be51119"
      },
      "execution_count": null,
      "outputs": [
        {
          "output_type": "stream",
          "name": "stdout",
          "text": [
            "<class 'list'>\n"
          ]
        }
      ]
    },
    {
      "cell_type": "code",
      "source": [
        "class Honda:\n",
        "    pass"
      ],
      "metadata": {
        "id": "9ujK1eH7qGTJ"
      },
      "execution_count": null,
      "outputs": []
    },
    {
      "cell_type": "code",
      "source": [
        "obj1_Honda = Honda()"
      ],
      "metadata": {
        "id": "tB8dnpfOqKoB"
      },
      "execution_count": null,
      "outputs": []
    },
    {
      "cell_type": "code",
      "source": [
        "print(type(obj1_Honda))"
      ],
      "metadata": {
        "colab": {
          "base_uri": "https://localhost:8080/"
        },
        "id": "PijbGylBqOc3",
        "outputId": "62601325-c0d4-435b-e225-154b8af32c52"
      },
      "execution_count": null,
      "outputs": [
        {
          "output_type": "stream",
          "name": "stdout",
          "text": [
            "<class '__main__.Honda'>\n"
          ]
        }
      ]
    },
    {
      "cell_type": "code",
      "source": [
        "obj2_Honda = Honda()\n",
        "obj3_Honda = Honda()\n",
        "obj4_Honda = Honda()\n",
        "obj5_Honda = Honda()\n",
        "obj6_Honda = Honda()\n",
        "obj7_Honda = Honda()\n",
        "obj8_Honda = Honda()"
      ],
      "metadata": {
        "id": "M4wGwX-rqP4n"
      },
      "execution_count": null,
      "outputs": []
    },
    {
      "cell_type": "code",
      "source": [
        "print(type(obj2_Honda))\n",
        "print(type(obj3_Honda))\n",
        "print(type(obj4_Honda))\n",
        "print(type(obj5_Honda))\n",
        "print(type(obj6_Honda))\n",
        "print(type(obj7_Honda))\n",
        "print(type(obj8_Honda))"
      ],
      "metadata": {
        "colab": {
          "base_uri": "https://localhost:8080/"
        },
        "id": "9sxpPj4UqS1D",
        "outputId": "53515e54-28ba-4e95-a66a-566dfd2bd2ad"
      },
      "execution_count": null,
      "outputs": [
        {
          "output_type": "stream",
          "name": "stdout",
          "text": [
            "<class '__main__.Honda'>\n",
            "<class '__main__.Honda'>\n",
            "<class '__main__.Honda'>\n",
            "<class '__main__.Honda'>\n",
            "<class '__main__.Honda'>\n",
            "<class '__main__.Honda'>\n",
            "<class '__main__.Honda'>\n"
          ]
        }
      ]
    },
    {
      "cell_type": "code",
      "source": [
        "class Honda:\n",
        "   model = 'model-1'\n",
        "   year = '2018'\n",
        "   color = 'Red'\n",
        "   fuel_type = 'Gas'\n",
        "   mileage = '161112'"
      ],
      "metadata": {
        "id": "8TT51ku3qVVW"
      },
      "execution_count": null,
      "outputs": []
    },
    {
      "cell_type": "code",
      "source": [
        "\n",
        "obj2_Honda = Honda()\n",
        "obj3_Honda = Honda()\n",
        "obj4_Honda = Honda()\n",
        "obj5_Honda = Honda()\n",
        "obj6_Honda = Honda()\n",
        "obj7_Honda = Honda()\n",
        "obj8_Honda = Honda()\n"
      ],
      "metadata": {
        "id": "U5TIqvwzqXoI"
      },
      "execution_count": null,
      "outputs": []
    },
    {
      "cell_type": "code",
      "source": [
        "print(type(obj2_Honda))\n",
        "print(type(obj3_Honda))\n",
        "print(type(obj4_Honda))\n",
        "print(type(obj5_Honda))\n",
        "print(type(obj6_Honda))\n",
        "print(type(obj7_Honda))\n",
        "print(type(obj8_Honda))"
      ],
      "metadata": {
        "colab": {
          "base_uri": "https://localhost:8080/"
        },
        "id": "497nkJQ1qaRS",
        "outputId": "a351bfdc-a904-4f43-9946-b53144a7ba9c"
      },
      "execution_count": null,
      "outputs": [
        {
          "output_type": "stream",
          "name": "stdout",
          "text": [
            "<class '__main__.Honda'>\n",
            "<class '__main__.Honda'>\n",
            "<class '__main__.Honda'>\n",
            "<class '__main__.Honda'>\n",
            "<class '__main__.Honda'>\n",
            "<class '__main__.Honda'>\n",
            "<class '__main__.Honda'>\n"
          ]
        }
      ]
    },
    {
      "cell_type": "code",
      "source": [
        "obj2_Honda.model"
      ],
      "metadata": {
        "colab": {
          "base_uri": "https://localhost:8080/",
          "height": 35
        },
        "id": "jMfP8SS9qecm",
        "outputId": "a55c5bfc-4106-4261-8140-ce0330c6c282"
      },
      "execution_count": null,
      "outputs": [
        {
          "output_type": "execute_result",
          "data": {
            "text/plain": [
              "'model-1'"
            ],
            "application/vnd.google.colaboratory.intrinsic+json": {
              "type": "string"
            }
          },
          "metadata": {},
          "execution_count": 13
        }
      ]
    },
    {
      "cell_type": "code",
      "source": [
        "obj2_Honda.year"
      ],
      "metadata": {
        "colab": {
          "base_uri": "https://localhost:8080/",
          "height": 35
        },
        "id": "WiF5IrUwqxJJ",
        "outputId": "1bdf95fa-c8d8-43b2-c60d-ecce9baabf90"
      },
      "execution_count": null,
      "outputs": [
        {
          "output_type": "execute_result",
          "data": {
            "text/plain": [
              "'2018'"
            ],
            "application/vnd.google.colaboratory.intrinsic+json": {
              "type": "string"
            }
          },
          "metadata": {},
          "execution_count": 14
        }
      ]
    },
    {
      "cell_type": "code",
      "source": [
        "obj3_Honda.fuel_type"
      ],
      "metadata": {
        "colab": {
          "base_uri": "https://localhost:8080/",
          "height": 35
        },
        "id": "jJR6uTLWqz8C",
        "outputId": "d1d65b6b-709c-4a36-cb71-b013df28c115"
      },
      "execution_count": null,
      "outputs": [
        {
          "output_type": "execute_result",
          "data": {
            "text/plain": [
              "'Gas'"
            ],
            "application/vnd.google.colaboratory.intrinsic+json": {
              "type": "string"
            }
          },
          "metadata": {},
          "execution_count": 15
        }
      ]
    },
    {
      "cell_type": "code",
      "source": [
        "obj4_Honda.color"
      ],
      "metadata": {
        "colab": {
          "base_uri": "https://localhost:8080/",
          "height": 35
        },
        "id": "jfEZVFqVq9hc",
        "outputId": "d3cc5af7-40d2-4d40-da2a-f61fa7f109a5"
      },
      "execution_count": null,
      "outputs": [
        {
          "output_type": "execute_result",
          "data": {
            "text/plain": [
              "'Red'"
            ],
            "application/vnd.google.colaboratory.intrinsic+json": {
              "type": "string"
            }
          },
          "metadata": {},
          "execution_count": 16
        }
      ]
    },
    {
      "cell_type": "code",
      "source": [
        "obj5_Honda.mileage"
      ],
      "metadata": {
        "colab": {
          "base_uri": "https://localhost:8080/",
          "height": 35
        },
        "id": "jQT86tU9rBJk",
        "outputId": "5810a3c8-1640-4f64-af82-0f422433846f"
      },
      "execution_count": null,
      "outputs": [
        {
          "output_type": "execute_result",
          "data": {
            "text/plain": [
              "'161112'"
            ],
            "application/vnd.google.colaboratory.intrinsic+json": {
              "type": "string"
            }
          },
          "metadata": {},
          "execution_count": 18
        }
      ]
    },
    {
      "cell_type": "code",
      "source": [
        "class Car:\n",
        "  def __init__(self,make,model,year,color):\n",
        "    self.make= make\n",
        "    self.model= model\n",
        "    self.year= year\n",
        "    self.color= color\n",
        "    self.speed=0\n",
        "  def accelerate(self,mph):\n",
        "    self.speed+=mph\n",
        "\n",
        "  def brake(self,mph):\n",
        "    if mph<= self.speed:\n",
        "      self.speed-=mph\n",
        "    else:\n",
        "      self.speed =0\n",
        "  def honk(self):\n",
        "    print(f'{self.make} {self.model} says \"Honk-Honk!\"')\n",
        "\n",
        "  def get_speed(self):\n",
        "    return self.speed\n",
        "\n",
        "  def __str__(self):\n",
        "    return f'{self.year} {self.make} {self.model} in {self.model}'\n",
        "\n"
      ],
      "metadata": {
        "id": "R7wJQCbrrRuu"
      },
      "execution_count": null,
      "outputs": []
    },
    {
      "cell_type": "code",
      "source": [
        "my_car = Car(\"Toyota\", \"Camry\", 2022, \"Blue\")\n",
        "print(my_car)\n",
        "\n",
        "my_car.accelerate(30)\n",
        "print(f'Current speed: {my_car.get_speed()} mph')\n",
        "\n",
        "\n",
        "my_car.brake(10)\n",
        "print(f\"Current speed: {my_car.get_speed()} mph\")\n",
        "\n",
        "my_car.honk()"
      ],
      "metadata": {
        "colab": {
          "base_uri": "https://localhost:8080/"
        },
        "id": "WMAzgwEKvMv9",
        "outputId": "7d15b9d2-f715-4b7c-a647-0a477191fda5"
      },
      "execution_count": null,
      "outputs": [
        {
          "output_type": "stream",
          "name": "stdout",
          "text": [
            "2022 Toyota Camry in Camry\n",
            "Current speed: 30 mph\n",
            "Current speed: 20 mph\n",
            "Toyota Camry says \"Honk-Honk!\"\n"
          ]
        }
      ]
    },
    {
      "cell_type": "markdown",
      "source": [
        "##**Wednesday December 20, 2023**"
      ],
      "metadata": {
        "id": "jXoexYS4EDul"
      }
    },
    {
      "cell_type": "code",
      "source": [
        "class student:\n",
        "    def __init__(self, stu_name , stu_lname, stu_age, stu_gender, stu_mobile, stu_email):\n",
        "        self.student_fname= stu_name\n",
        "        self.student_lname= stu_lname\n",
        "        slef.student_age = stu_age\n",
        "        self.student_mobile= stu_mobile\n",
        "        self.student_email= stu_email"
      ],
      "metadata": {
        "id": "48IkYO30w3lM"
      },
      "execution_count": null,
      "outputs": []
    },
    {
      "cell_type": "code",
      "source": [
        "class student:\n",
        "\n",
        "    def __init__(self, stu_name , stu_lname, stu_age, stu_gender, stu_mobile, stu_email):\n",
        "        self.student_fname= stu_name\n",
        "        self.student_lname= stu_lname\n",
        "        self.student_age = stu_age\n",
        "        self.student_mobile= stu_mobile\n",
        "        self.student_email= stu_email\n",
        "    def display_values(self):\n",
        "        print(self.student_fname, self.student_lname,self.student_age, self.student_mobile, self.student_email)"
      ],
      "metadata": {
        "id": "3gUSvylAYgvz"
      },
      "execution_count": null,
      "outputs": []
    },
    {
      "cell_type": "code",
      "source": [
        "obj1_stu1 = student(\"Fish\", \"Berhane\",45,'M',6788489494, 'gags.gfhgh@gmail.com')"
      ],
      "metadata": {
        "id": "TaozcM-GEXWC"
      },
      "execution_count": null,
      "outputs": []
    },
    {
      "cell_type": "code",
      "source": [
        "obj1_stu1.display_values()"
      ],
      "metadata": {
        "colab": {
          "base_uri": "https://localhost:8080/"
        },
        "id": "f8eEXXjAEbvs",
        "outputId": "d4447ad8-7d3d-40ae-ed0a-bf9a59e22c73"
      },
      "execution_count": null,
      "outputs": [
        {
          "output_type": "stream",
          "name": "stdout",
          "text": [
            "Fish Berhane 45 6788489494 gags.gfhgh@gmail.com\n"
          ]
        }
      ]
    },
    {
      "cell_type": "code",
      "source": [
        "class Car:\n",
        "  def __init__(self,make,model,year,color):\n",
        "    self.make= make\n",
        "    self.model= model\n",
        "    self.year= year\n",
        "    self.color= color\n",
        "  def display_values(self):\n",
        "    print(self.make, self.model, self.year, self.color)"
      ],
      "metadata": {
        "id": "JLHbYh63Eg5M"
      },
      "execution_count": null,
      "outputs": []
    },
    {
      "cell_type": "code",
      "source": [
        "obj1_car = Car('Honda', 'Civic', 2018, 'white')"
      ],
      "metadata": {
        "id": "ZSNq7ysREiLl"
      },
      "execution_count": null,
      "outputs": []
    },
    {
      "cell_type": "code",
      "source": [
        "obj1_car.display_values()"
      ],
      "metadata": {
        "colab": {
          "base_uri": "https://localhost:8080/"
        },
        "id": "lic2RUMsEsgu",
        "outputId": "a1b3f910-f5fc-4ad1-b619-6123e4345b32"
      },
      "execution_count": null,
      "outputs": [
        {
          "output_type": "stream",
          "name": "stdout",
          "text": [
            "Honda Civic 2018 white\n"
          ]
        }
      ]
    },
    {
      "cell_type": "code",
      "source": [
        "class Car:\n",
        "  def __init__(self,make,model,year,color):\n",
        "    self.make= make\n",
        "    self.model= model\n",
        "    self.year= year\n",
        "    self.color= color\n",
        "  def display_values(self):\n",
        "    print(f'{self.make} \" \" {self.model} \" \" {self.year}\" \"{self.color}')"
      ],
      "metadata": {
        "id": "Dnof7VLREvb_"
      },
      "execution_count": null,
      "outputs": []
    },
    {
      "cell_type": "code",
      "source": [
        "obj1_car = Car('Honda', 'Civic', 2018, 'white')"
      ],
      "metadata": {
        "id": "cG_WzBVDEwNa"
      },
      "execution_count": null,
      "outputs": []
    },
    {
      "cell_type": "code",
      "source": [
        "obj1_car.display_values()"
      ],
      "metadata": {
        "colab": {
          "base_uri": "https://localhost:8080/"
        },
        "id": "jYPEfs5RE5B9",
        "outputId": "7d1cb413-a190-468e-e7e6-0aa10e2c0786"
      },
      "execution_count": null,
      "outputs": [
        {
          "output_type": "stream",
          "name": "stdout",
          "text": [
            "Honda \" \" Civic \" \" 2018\" \"white\n"
          ]
        }
      ]
    },
    {
      "cell_type": "markdown",
      "source": [
        "##**Inheritance**"
      ],
      "metadata": {
        "id": "oPAu9Bg-E-0z"
      }
    },
    {
      "cell_type": "code",
      "source": [
        "class Samsung_Note_7:\n",
        "    pass\n",
        "class Samsung_Note_8(Samsung_Note_7):\n",
        "    pass\n",
        "class Samsung_Note_9(Samsung_Note_8):\n",
        "    pass\n",
        "class Samsung_Note_10(Samsung_Note_9):\n",
        "    pass\n",
        "class Samsung_Note_20(Samsung_Note_10):\n",
        "    pass"
      ],
      "metadata": {
        "id": "iKtsaQ7lE7gM"
      },
      "execution_count": null,
      "outputs": []
    },
    {
      "cell_type": "markdown",
      "source": [
        "##**Thursday December 21 , 2023**"
      ],
      "metadata": {
        "id": "_7mchvzqFHZT"
      }
    },
    {
      "cell_type": "code",
      "source": [
        "class Parent:\n",
        "  def __init__(self, name, lname, gender, age, location):\n"
      ],
      "metadata": {
        "id": "AEtTLZ1qFEMS"
      },
      "execution_count": null,
      "outputs": []
    },
    {
      "cell_type": "code",
      "source": [
        "class Computer:\n",
        "  def __init__(self, cpu, ram, hard_disk, screen_size, screen_resolution):\n",
        "    self.cpu = cpu\n",
        "    self.ram =ram\n",
        "    self.hard_disk= hard_disk\n",
        "    self.screen_size = screen_size\n",
        "    self.screen_resolution = screen_resolution\n",
        "\n",
        "  def display(self):\n",
        "    print(f'This Pc has cpu: {self.cpu} , ram : {self.ram} , hard disk: {self.hard_disk} , screen size: {self.screen_size} , screen resolution: {self.screen_resolution} ')\n",
        "\n",
        "class Laptop(Computer):\n",
        "  pass"
      ],
      "metadata": {
        "id": "Lh0vYg8LFzzG"
      },
      "execution_count": null,
      "outputs": []
    },
    {
      "cell_type": "code",
      "source": [
        "obj1_laptop = Laptop('intel', '6Gb', '1Tb', '15-inch', '4k')"
      ],
      "metadata": {
        "id": "mDSTzSXWH1ZM"
      },
      "execution_count": null,
      "outputs": []
    },
    {
      "cell_type": "code",
      "source": [
        "obj1_laptop.display()"
      ],
      "metadata": {
        "colab": {
          "base_uri": "https://localhost:8080/"
        },
        "id": "mOnXi3b_ITEd",
        "outputId": "e788fec4-fa6c-4a1d-b67c-d91ff63a3213"
      },
      "execution_count": null,
      "outputs": [
        {
          "output_type": "stream",
          "name": "stdout",
          "text": [
            "This Pc has cpu: intel , ram : 6Gb , hard disk: 1Tb , screen size: 15-inch , screen resolution: 4k \n"
          ]
        }
      ]
    },
    {
      "cell_type": "code",
      "source": [
        "class Computer:\n",
        "  def __init__(self, cpu, ram):\n",
        "    self.cpu = cpu\n",
        "    self.ram =ram\n",
        "  def display(self):\n",
        "    print(f'This Pc has cpu: {self.cpu} , ram : {self.ram} ')"
      ],
      "metadata": {
        "id": "tdxfqcxlIdWc"
      },
      "execution_count": null,
      "outputs": []
    },
    {
      "cell_type": "code",
      "source": [
        "class Laptop(Computer):\n",
        "  def __init__(self, cpu, ram , name):\n",
        "    self.name = name\n",
        "    super().__init__(cpu, ram)\n",
        "  def Lname(slef):\n",
        "    print(f'This Laptop is {self.name}')"
      ],
      "metadata": {
        "id": "VXlWZzwLND5s"
      },
      "execution_count": null,
      "outputs": []
    },
    {
      "cell_type": "code",
      "source": [
        "obj1_laptop = Laptop('intel', '6Gb')\n",
        "\n",
        "obj1_laptop.display()\n"
      ],
      "metadata": {
        "colab": {
          "base_uri": "https://localhost:8080/"
        },
        "id": "JpAf04-HOLMh",
        "outputId": "e992cddc-c9cb-49a7-9a51-b1bdd30eeb67"
      },
      "execution_count": null,
      "outputs": [
        {
          "output_type": "stream",
          "name": "stdout",
          "text": [
            "This Pc has cpu: intel , ram : 6Gb \n"
          ]
        }
      ]
    },
    {
      "cell_type": "code",
      "source": [
        "obj1_laptop = Laptop('intel', '6Gb' , 'Lenovo')"
      ],
      "metadata": {
        "id": "BdN7nsb5QumZ"
      },
      "execution_count": null,
      "outputs": []
    },
    {
      "cell_type": "code",
      "source": [
        "obj1_laptop.Lname()\n"
      ],
      "metadata": {
        "colab": {
          "base_uri": "https://localhost:8080/",
          "height": 262
        },
        "id": "HRuCGUQRQ18v",
        "outputId": "d0504ac1-946b-4e6b-880c-f6827f682f14"
      },
      "execution_count": null,
      "outputs": [
        {
          "output_type": "error",
          "ename": "NameError",
          "evalue": "ignored",
          "traceback": [
            "\u001b[0;31m---------------------------------------------------------------------------\u001b[0m",
            "\u001b[0;31mNameError\u001b[0m                                 Traceback (most recent call last)",
            "\u001b[0;32m<ipython-input-37-c530bda7999b>\u001b[0m in \u001b[0;36m<cell line: 1>\u001b[0;34m()\u001b[0m\n\u001b[0;32m----> 1\u001b[0;31m \u001b[0mobj1_laptop\u001b[0m\u001b[0;34m.\u001b[0m\u001b[0mLname\u001b[0m\u001b[0;34m(\u001b[0m\u001b[0;34m)\u001b[0m\u001b[0;34m\u001b[0m\u001b[0;34m\u001b[0m\u001b[0m\n\u001b[0m",
            "\u001b[0;32m<ipython-input-35-f48ff43ad0c3>\u001b[0m in \u001b[0;36mLname\u001b[0;34m(slef)\u001b[0m\n\u001b[1;32m      4\u001b[0m     \u001b[0msuper\u001b[0m\u001b[0;34m(\u001b[0m\u001b[0;34m)\u001b[0m\u001b[0;34m.\u001b[0m\u001b[0m__init__\u001b[0m\u001b[0;34m(\u001b[0m\u001b[0mcpu\u001b[0m\u001b[0;34m,\u001b[0m \u001b[0mram\u001b[0m\u001b[0;34m)\u001b[0m\u001b[0;34m\u001b[0m\u001b[0;34m\u001b[0m\u001b[0m\n\u001b[1;32m      5\u001b[0m   \u001b[0;32mdef\u001b[0m \u001b[0mLname\u001b[0m\u001b[0;34m(\u001b[0m\u001b[0mslef\u001b[0m\u001b[0;34m)\u001b[0m\u001b[0;34m:\u001b[0m\u001b[0;34m\u001b[0m\u001b[0;34m\u001b[0m\u001b[0m\n\u001b[0;32m----> 6\u001b[0;31m     \u001b[0mprint\u001b[0m\u001b[0;34m(\u001b[0m\u001b[0;34mf'This Laptop is {self.name}'\u001b[0m\u001b[0;34m)\u001b[0m\u001b[0;34m\u001b[0m\u001b[0;34m\u001b[0m\u001b[0m\n\u001b[0m",
            "\u001b[0;31mNameError\u001b[0m: name 'self' is not defined"
          ]
        }
      ]
    },
    {
      "cell_type": "markdown",
      "source": [
        "#**Friday December 22 2023**"
      ],
      "metadata": {
        "id": "Mw93IFInNLiy"
      }
    },
    {
      "cell_type": "code",
      "source": [
        "class car:\n",
        "  def __init__(self, brand, model):\n",
        "    self.brand = brand\n",
        "    self.model = model\n",
        "\n",
        "  def move(self):\n",
        "    print('Drive!!')\n",
        "\n",
        "class boat:\n",
        "  def __init__(self, brand, model):\n",
        "    self.brand = brand\n",
        "    self.model = model\n",
        "  def move(self):\n",
        "    print('Sale!!')\n",
        "\n",
        "class plane:\n",
        "  def __init__(self, brand, model):\n",
        "    self.brand = brand\n",
        "    self.model = model\n",
        "  def move(self):\n",
        "    print('Fly!!')"
      ],
      "metadata": {
        "id": "7og_lNa7Q8Ri"
      },
      "execution_count": null,
      "outputs": []
    },
    {
      "cell_type": "code",
      "source": [
        "obj_car1 = car('Honda', '2022')\n",
        "obj_boar1 = boat('Yamaha', '2023')\n",
        "obj_plane1 = plane('Suzi', '2021')"
      ],
      "metadata": {
        "id": "F-UuzU07PV1m"
      },
      "execution_count": null,
      "outputs": []
    },
    {
      "cell_type": "code",
      "source": [
        "for i in (obj_car1, obj_boar1, obj_plane1):\n",
        "  i.move()"
      ],
      "metadata": {
        "colab": {
          "base_uri": "https://localhost:8080/"
        },
        "id": "oNKL-wxCPr5K",
        "outputId": "8b515a30-42ea-4a5a-b474-c6047938282d"
      },
      "execution_count": null,
      "outputs": [
        {
          "output_type": "stream",
          "name": "stdout",
          "text": [
            "Drive!!\n",
            "Sale!!\n",
            "Fly!!\n"
          ]
        }
      ]
    },
    {
      "cell_type": "code",
      "source": [
        "class Hp:\n",
        "  def __init__(self, ram, cpu):\n",
        "    self.ram = ram\n",
        "    self.cpu = cpu\n",
        "\n",
        "  def brand(self):\n",
        "    print('HP')\n",
        "  def model(self):\n",
        "    print('pavilon')\n",
        "class Lenovo:\n",
        "  def __init__(self, ram, cpu):\n",
        "    self.ram = ram\n",
        "    self.cpu = cpu\n",
        "  def brand(self):\n",
        "    print('Lenovo')\n",
        "  def model(self):\n",
        "    print('yoga')\n",
        "\n",
        "class Dell:\n",
        "  def __init__(self, ram, cpu):\n",
        "    self.ram = ram\n",
        "    self.cpu = cpu\n",
        "  def brand(self):\n",
        "    print('Dell')\n",
        "  def model(self):\n",
        "    print('inspiron')"
      ],
      "metadata": {
        "id": "PDFIdgugSoYb"
      },
      "execution_count": null,
      "outputs": []
    },
    {
      "cell_type": "code",
      "source": [
        "obj_hp1= Hp('6Gb', 'i5')\n",
        "obj_lenovo1 = Lenovo('8Gb', 'i7')\n",
        "obj_dell1 = Dell('4Gb', 'i3')"
      ],
      "metadata": {
        "id": "j79TeZ2zTdYd"
      },
      "execution_count": null,
      "outputs": []
    },
    {
      "cell_type": "code",
      "source": [
        "for i in (obj_hp1 , obj_lenovo1, obj_dell1):\n",
        "  i.brand()\n",
        "  i.model()"
      ],
      "metadata": {
        "colab": {
          "base_uri": "https://localhost:8080/"
        },
        "id": "wIf_NYS7TvAV",
        "outputId": "422db8e7-8d00-4346-bc09-e43f57b08b3c"
      },
      "execution_count": null,
      "outputs": [
        {
          "output_type": "stream",
          "name": "stdout",
          "text": [
            "HP\n",
            "pavilon\n",
            "Lenovo\n",
            "yoga\n",
            "Dell\n",
            "inspiron\n"
          ]
        }
      ]
    },
    {
      "cell_type": "markdown",
      "source": [
        "#**Tuesday December 26 , 2023**"
      ],
      "metadata": {
        "id": "o86n1gSK7Z2X"
      }
    },
    {
      "cell_type": "markdown",
      "source": [
        "### Encapsulation"
      ],
      "metadata": {
        "id": "Eme4Cjx37wEp"
      }
    },
    {
      "cell_type": "code",
      "source": [
        "class Car:\n",
        "    #class varibale\n",
        "    total_cars = 0\n",
        "\n",
        "    def __init__(self, make, model):\n",
        "        # Instance variable\n",
        "        self.make = make\n",
        "        self.model = model\n",
        "        # Increment the class variable when a new instance is created\n",
        "        Car.total_cars+=1\n",
        "\n",
        "    def display_info(self):\n",
        "        print(f'Make: {self.make}, Model: {self.model}')\n",
        "# Creating instance of the Car class\n",
        "\n",
        "car1 = Car('Toyota', 'Camry')\n",
        "\n",
        "car2 = Car('Honda', 'Accord')\n",
        "\n",
        "# Displaying information about the cars\n",
        "\n",
        "print('Car 1:')\n",
        "car1.display_info()\n",
        "print('Car 2:')\n",
        "car2.display_info()\n",
        "\n",
        "# Displaying the total number of cars\n",
        "print(f\"Total Cars: {Car.total_cars}\")"
      ],
      "metadata": {
        "colab": {
          "base_uri": "https://localhost:8080/"
        },
        "id": "K-bQxWX37TJc",
        "outputId": "237ab053-24b4-47dc-a513-1ec6f1b1d4ef"
      },
      "execution_count": 1,
      "outputs": [
        {
          "output_type": "stream",
          "name": "stdout",
          "text": [
            "Car 1:\n",
            "Make: Toyota, Model: Camry\n",
            "Car 2:\n",
            "Make: Honda, Model: Accord\n",
            "Total Cars: 2\n"
          ]
        }
      ]
    },
    {
      "cell_type": "markdown",
      "source": [
        "#**Wednesday December 27 , 2023**"
      ],
      "metadata": {
        "id": "uc0NKAyY79Hv"
      }
    },
    {
      "cell_type": "code",
      "source": [
        "# operator Overloading\n",
        "\n",
        "class Vector:\n",
        "    def __init__(self,x,y):\n",
        "        self.x= x\n",
        "        self.y = y\n",
        "    def __add__(self,other):\n",
        "        return Vector(self.x +other.x, self.y+other.y)"
      ],
      "metadata": {
        "id": "3WsY_fdSUYTQ"
      },
      "execution_count": 3,
      "outputs": []
    },
    {
      "cell_type": "code",
      "source": [
        "# Polymorphism Function\n",
        "\n",
        "def sound(animal):\n",
        "    return animal.make_sound()\n",
        "\n",
        "class Dog:\n",
        "    def make_sound(self):\n",
        "        return \"woof!\"\n",
        "class Cat:\n",
        "    def make_sound(slef):\n",
        "        return \"Mew!\"\n",
        "\n",
        "dog = Dog()\n",
        "cat = Cat()\n",
        "\n",
        "print(sound(dog))  # outputs: Woof!\n",
        "print(sound(cat))  # outputs: Meow!"
      ],
      "metadata": {
        "colab": {
          "base_uri": "https://localhost:8080/"
        },
        "id": "iEdvibny7gaZ",
        "outputId": "31cf9533-97b9-403c-f9b9-1821c7d74b6b"
      },
      "execution_count": 4,
      "outputs": [
        {
          "output_type": "stream",
          "name": "stdout",
          "text": [
            "woof!\n",
            "Mew!\n"
          ]
        }
      ]
    },
    {
      "cell_type": "code",
      "source": [
        "# polymorphism method\n",
        "\n",
        "class Shape:\n",
        "    def draw(slef):\n",
        "        pass\n",
        "class Circle(Shape):\n",
        "    def draw(self):\n",
        "        return \"Drawing a Circle\"\n",
        "\n",
        "class Rectangle(Shape):\n",
        "    def draw(self):\n",
        "        return \" Draw a rectangle\"\n",
        "\n",
        "shapes = [Circle(), Rectangle()]\n",
        "\n",
        "for shape in shapes:\n",
        "    print(shape.draw())"
      ],
      "metadata": {
        "colab": {
          "base_uri": "https://localhost:8080/"
        },
        "id": "o31CtYa88RaT",
        "outputId": "6cae99f3-5f7e-414d-a8a4-87539695ae41"
      },
      "execution_count": 5,
      "outputs": [
        {
          "output_type": "stream",
          "name": "stdout",
          "text": [
            "Drawing a Circle\n",
            " Draw a rectangle\n"
          ]
        }
      ]
    },
    {
      "cell_type": "code",
      "source": [
        "# Polymorphic inheritance\n",
        "\n",
        "class Animal:\n",
        "    def Speak(self):\n",
        "        pass\n",
        "class Dog(Animal):\n",
        "    def speak(self):\n",
        "        return \"Woof!\"\n",
        "class Cat(Animal):\n",
        "    def speak(self):\n",
        "        return \"Meow!\"\n",
        "pets = [Dog(), Cat()]\n",
        "\n",
        "for pet in pets:\n",
        "    print(pet.speak())"
      ],
      "metadata": {
        "colab": {
          "base_uri": "https://localhost:8080/"
        },
        "id": "XWzg_9xW8VV7",
        "outputId": "27aa8bfc-4b4d-4ae1-df33-0371220bc953"
      },
      "execution_count": 6,
      "outputs": [
        {
          "output_type": "stream",
          "name": "stdout",
          "text": [
            "Woof!\n",
            "Meow!\n"
          ]
        }
      ]
    },
    {
      "cell_type": "code",
      "source": [
        "# Function of Polymorphism with default Arguments\n",
        "\n",
        "def area(length,width= None):\n",
        "    if width is None:\n",
        "        return length * length\n",
        "    else:\n",
        "        return length * width"
      ],
      "metadata": {
        "id": "lpb4NNzq8XCI"
      },
      "execution_count": 7,
      "outputs": []
    },
    {
      "cell_type": "code",
      "source": [
        "# Polymorphism Function with variable arguments\n",
        "\n",
        "def display(*args):\n",
        "    for arg in args:\n",
        "        print(arg)\n",
        "display(1, \"Hello\", [1,3,4,5])"
      ],
      "metadata": {
        "colab": {
          "base_uri": "https://localhost:8080/"
        },
        "id": "SV_gtSDq8bob",
        "outputId": "0fb1a6de-d5ac-4fb6-90f6-6479cfe06df7"
      },
      "execution_count": 8,
      "outputs": [
        {
          "output_type": "stream",
          "name": "stdout",
          "text": [
            "1\n",
            "Hello\n",
            "[1, 3, 4, 5]\n"
          ]
        }
      ]
    },
    {
      "cell_type": "code",
      "source": [
        "# Basic Encapsulation\n",
        "\n",
        "\n",
        "class Person:\n",
        "    def __init__(self, name, age):\n",
        "        self._name = name  # protected attribute\n",
        "        self._age = age    # protected attribute\n",
        "\n",
        "    def display_info(self):\n",
        "        print(f\"Name: {self._name}, Age: {self._age}\")\n",
        "\n",
        "person = Person(\"John\", 25)\n",
        "person.display_info()  # Accessing attributes through a method"
      ],
      "metadata": {
        "colab": {
          "base_uri": "https://localhost:8080/"
        },
        "id": "VPD4TeFo8dK4",
        "outputId": "62ea98b0-ce6d-4fe8-f9b9-faa08de1839c"
      },
      "execution_count": 9,
      "outputs": [
        {
          "output_type": "stream",
          "name": "stdout",
          "text": [
            "Name: John, Age: 25\n"
          ]
        }
      ]
    },
    {
      "cell_type": "code",
      "source": [
        "# Private Attributes\n",
        "\n",
        "class BankAccount:\n",
        "    def __init__(self, balance):\n",
        "        self.__balance = balance  # private attribute\n",
        "\n",
        "    def get_balance(self):\n",
        "        return self.__balance\n",
        "\n",
        "    def deposit(self, amount):\n",
        "        self.__balance += amount\n",
        "\n",
        "    def withdraw(self, amount):\n",
        "        if amount <= self.__balance:\n",
        "            self.__balance -= amount\n",
        "        else:\n",
        "            print(\"Insufficient funds\")\n",
        "\n",
        "account = BankAccount(1000)\n",
        "print(account.get_balance())  # Accessing private attribute through a method"
      ],
      "metadata": {
        "colab": {
          "base_uri": "https://localhost:8080/"
        },
        "id": "AiRXzkKH8hZH",
        "outputId": "98cd2a65-1b37-4917-dc14-ce694edfc04a"
      },
      "execution_count": 10,
      "outputs": [
        {
          "output_type": "stream",
          "name": "stdout",
          "text": [
            "1000\n"
          ]
        }
      ]
    },
    {
      "cell_type": "code",
      "source": [
        "account.deposit(500)\n",
        "account.withdraw(200)\n",
        "print(account.get_balance())"
      ],
      "metadata": {
        "colab": {
          "base_uri": "https://localhost:8080/"
        },
        "id": "5LRp7tpZ8owZ",
        "outputId": "5db114d2-75f6-4252-dd7f-8c755004ed4c"
      },
      "execution_count": 11,
      "outputs": [
        {
          "output_type": "stream",
          "name": "stdout",
          "text": [
            "1300\n"
          ]
        }
      ]
    },
    {
      "cell_type": "code",
      "source": [
        "class my_exception1(Exception):\n",
        "    def __init__(self, value):\n",
        "        self.value= value\n",
        "    def __str__(self):\n",
        "        return (self.value)"
      ],
      "metadata": {
        "id": "uMDWESMS8q8u"
      },
      "execution_count": 12,
      "outputs": []
    },
    {
      "cell_type": "code",
      "source": [
        "try:\n",
        "    raise my_exception1(13*5)\n",
        "except my_exception1 as fi:\n",
        "    print(f'my exception user defined exception occured {fi.value}')"
      ],
      "metadata": {
        "colab": {
          "base_uri": "https://localhost:8080/"
        },
        "id": "QZ81_VgL81OI",
        "outputId": "93e4c398-3cc0-4783-feea-32839be1eadf"
      },
      "execution_count": 14,
      "outputs": [
        {
          "output_type": "stream",
          "name": "stdout",
          "text": [
            "my exception user defined exception occured 65\n"
          ]
        }
      ]
    },
    {
      "cell_type": "markdown",
      "source": [
        "```\n",
        "1. import Libraries\n",
        "2. import Dataset\n",
        "3. Read Dataset\n",
        "4.\n",
        "\n",
        "\n",
        "\n",
        "\n",
        "```"
      ],
      "metadata": {
        "id": "vAi7hl8k9A8Q"
      }
    },
    {
      "cell_type": "markdown",
      "source": [
        "#**Thursday December 28-2023**"
      ],
      "metadata": {
        "id": "M5b4DXSo9EQH"
      }
    },
    {
      "cell_type": "markdown",
      "source": [
        "**python user Defined Exception**"
      ],
      "metadata": {
        "id": "lqX9LwCI9Nfk"
      }
    },
    {
      "cell_type": "code",
      "source": [
        "class Pass_exam(Exception):\n",
        "    \"Raise when the input value is less than 50\"\n",
        "    pass\n",
        "score = 50\n",
        "\n",
        "try:\n",
        "    input_score = int(input('Enter your exam score:'))\n",
        "    if input_score < score:\n",
        "        raise Pass_exam\n",
        "    else:\n",
        "        print('You pass the exam')\n",
        "except Pass_exam:\n",
        "    print('The score is below the required and try the exam again')\n",
        "except Exception:\n",
        "    print('Uknown Exception, Handle by Universal Exception')\n",
        ""
      ],
      "metadata": {
        "colab": {
          "base_uri": "https://localhost:8080/"
        },
        "id": "HmZJL5zX82yE",
        "outputId": "6fb50bad-f6bb-4832-80a7-f7d3808eb355"
      },
      "execution_count": 16,
      "outputs": [
        {
          "output_type": "stream",
          "name": "stdout",
          "text": [
            "Enter your exam score:40\n",
            "The score is below the required and try the exam again\n"
          ]
        }
      ]
    },
    {
      "cell_type": "code",
      "source": [
        "class Sum_is_Prime(Exception):\n",
        "    \"Raise when the value is incorrect\"\n",
        "    pass\n",
        "\n",
        "def is_prime(number):\n",
        "    if number<=1:\n",
        "        return False\n",
        "    if number <=3:\n",
        "        return True\n",
        "    if number%2 ==0 or number%3 ==0:\n",
        "        return False\n",
        "    i =5\n",
        "    while i*i <= number:\n",
        "        if number % i ==0 or number % (i+2) ==0:\n",
        "            return False\n",
        "        i+=6\n",
        "    return True\n",
        "try:\n",
        "    a= int(input('Enter a number \"a\": '))\n",
        "    b= int(input('Enter a number \"b\": '))\n",
        "    c= int(input('Enter a number \"c\": '))\n",
        "    if is_prime((a+b+c)):\n",
        "        print(f'the sume is {a+b+c} prime')\n",
        "    else:\n",
        "        raise Sum_is_Prime\n",
        "except Sum_is_Prime:\n",
        "    print('Incorrect sum - Sum_is_prime')"
      ],
      "metadata": {
        "colab": {
          "base_uri": "https://localhost:8080/"
        },
        "id": "8mrJc5_Q9bit",
        "outputId": "6c4a6cd2-5d5e-432b-c3e2-faa9145b4bc5"
      },
      "execution_count": 17,
      "outputs": [
        {
          "output_type": "stream",
          "name": "stdout",
          "text": [
            "Enter a number \"a\": 34\n",
            "Enter a number \"b\": 35\n",
            "Enter a number \"c\": 3\n",
            "Incorrect sum - Sum_is_prime\n"
          ]
        }
      ]
    },
    {
      "cell_type": "markdown",
      "source": [
        "##Python Pandas Library"
      ],
      "metadata": {
        "id": "8vcLvUfE9lxB"
      }
    },
    {
      "cell_type": "code",
      "source": [
        "import pandas as pd\n",
        "import io"
      ],
      "metadata": {
        "id": "YucMKkAQ9iuu"
      },
      "execution_count": 23,
      "outputs": []
    },
    {
      "cell_type": "code",
      "source": [
        "from google.colab import files\n",
        "uploaded = files.upload()"
      ],
      "metadata": {
        "colab": {
          "base_uri": "https://localhost:8080/",
          "height": 73
        },
        "id": "Fxbi4jT6-Ed3",
        "outputId": "3759714c-d9bb-4dd5-ba23-9a355e62f68b"
      },
      "execution_count": 20,
      "outputs": [
        {
          "output_type": "display_data",
          "data": {
            "text/plain": [
              "<IPython.core.display.HTML object>"
            ],
            "text/html": [
              "\n",
              "     <input type=\"file\" id=\"files-3f875fd0-ffeb-4123-8156-ed25c94000d3\" name=\"files[]\" multiple disabled\n",
              "        style=\"border:none\" />\n",
              "     <output id=\"result-3f875fd0-ffeb-4123-8156-ed25c94000d3\">\n",
              "      Upload widget is only available when the cell has been executed in the\n",
              "      current browser session. Please rerun this cell to enable.\n",
              "      </output>\n",
              "      <script>// Copyright 2017 Google LLC\n",
              "//\n",
              "// Licensed under the Apache License, Version 2.0 (the \"License\");\n",
              "// you may not use this file except in compliance with the License.\n",
              "// You may obtain a copy of the License at\n",
              "//\n",
              "//      http://www.apache.org/licenses/LICENSE-2.0\n",
              "//\n",
              "// Unless required by applicable law or agreed to in writing, software\n",
              "// distributed under the License is distributed on an \"AS IS\" BASIS,\n",
              "// WITHOUT WARRANTIES OR CONDITIONS OF ANY KIND, either express or implied.\n",
              "// See the License for the specific language governing permissions and\n",
              "// limitations under the License.\n",
              "\n",
              "/**\n",
              " * @fileoverview Helpers for google.colab Python module.\n",
              " */\n",
              "(function(scope) {\n",
              "function span(text, styleAttributes = {}) {\n",
              "  const element = document.createElement('span');\n",
              "  element.textContent = text;\n",
              "  for (const key of Object.keys(styleAttributes)) {\n",
              "    element.style[key] = styleAttributes[key];\n",
              "  }\n",
              "  return element;\n",
              "}\n",
              "\n",
              "// Max number of bytes which will be uploaded at a time.\n",
              "const MAX_PAYLOAD_SIZE = 100 * 1024;\n",
              "\n",
              "function _uploadFiles(inputId, outputId) {\n",
              "  const steps = uploadFilesStep(inputId, outputId);\n",
              "  const outputElement = document.getElementById(outputId);\n",
              "  // Cache steps on the outputElement to make it available for the next call\n",
              "  // to uploadFilesContinue from Python.\n",
              "  outputElement.steps = steps;\n",
              "\n",
              "  return _uploadFilesContinue(outputId);\n",
              "}\n",
              "\n",
              "// This is roughly an async generator (not supported in the browser yet),\n",
              "// where there are multiple asynchronous steps and the Python side is going\n",
              "// to poll for completion of each step.\n",
              "// This uses a Promise to block the python side on completion of each step,\n",
              "// then passes the result of the previous step as the input to the next step.\n",
              "function _uploadFilesContinue(outputId) {\n",
              "  const outputElement = document.getElementById(outputId);\n",
              "  const steps = outputElement.steps;\n",
              "\n",
              "  const next = steps.next(outputElement.lastPromiseValue);\n",
              "  return Promise.resolve(next.value.promise).then((value) => {\n",
              "    // Cache the last promise value to make it available to the next\n",
              "    // step of the generator.\n",
              "    outputElement.lastPromiseValue = value;\n",
              "    return next.value.response;\n",
              "  });\n",
              "}\n",
              "\n",
              "/**\n",
              " * Generator function which is called between each async step of the upload\n",
              " * process.\n",
              " * @param {string} inputId Element ID of the input file picker element.\n",
              " * @param {string} outputId Element ID of the output display.\n",
              " * @return {!Iterable<!Object>} Iterable of next steps.\n",
              " */\n",
              "function* uploadFilesStep(inputId, outputId) {\n",
              "  const inputElement = document.getElementById(inputId);\n",
              "  inputElement.disabled = false;\n",
              "\n",
              "  const outputElement = document.getElementById(outputId);\n",
              "  outputElement.innerHTML = '';\n",
              "\n",
              "  const pickedPromise = new Promise((resolve) => {\n",
              "    inputElement.addEventListener('change', (e) => {\n",
              "      resolve(e.target.files);\n",
              "    });\n",
              "  });\n",
              "\n",
              "  const cancel = document.createElement('button');\n",
              "  inputElement.parentElement.appendChild(cancel);\n",
              "  cancel.textContent = 'Cancel upload';\n",
              "  const cancelPromise = new Promise((resolve) => {\n",
              "    cancel.onclick = () => {\n",
              "      resolve(null);\n",
              "    };\n",
              "  });\n",
              "\n",
              "  // Wait for the user to pick the files.\n",
              "  const files = yield {\n",
              "    promise: Promise.race([pickedPromise, cancelPromise]),\n",
              "    response: {\n",
              "      action: 'starting',\n",
              "    }\n",
              "  };\n",
              "\n",
              "  cancel.remove();\n",
              "\n",
              "  // Disable the input element since further picks are not allowed.\n",
              "  inputElement.disabled = true;\n",
              "\n",
              "  if (!files) {\n",
              "    return {\n",
              "      response: {\n",
              "        action: 'complete',\n",
              "      }\n",
              "    };\n",
              "  }\n",
              "\n",
              "  for (const file of files) {\n",
              "    const li = document.createElement('li');\n",
              "    li.append(span(file.name, {fontWeight: 'bold'}));\n",
              "    li.append(span(\n",
              "        `(${file.type || 'n/a'}) - ${file.size} bytes, ` +\n",
              "        `last modified: ${\n",
              "            file.lastModifiedDate ? file.lastModifiedDate.toLocaleDateString() :\n",
              "                                    'n/a'} - `));\n",
              "    const percent = span('0% done');\n",
              "    li.appendChild(percent);\n",
              "\n",
              "    outputElement.appendChild(li);\n",
              "\n",
              "    const fileDataPromise = new Promise((resolve) => {\n",
              "      const reader = new FileReader();\n",
              "      reader.onload = (e) => {\n",
              "        resolve(e.target.result);\n",
              "      };\n",
              "      reader.readAsArrayBuffer(file);\n",
              "    });\n",
              "    // Wait for the data to be ready.\n",
              "    let fileData = yield {\n",
              "      promise: fileDataPromise,\n",
              "      response: {\n",
              "        action: 'continue',\n",
              "      }\n",
              "    };\n",
              "\n",
              "    // Use a chunked sending to avoid message size limits. See b/62115660.\n",
              "    let position = 0;\n",
              "    do {\n",
              "      const length = Math.min(fileData.byteLength - position, MAX_PAYLOAD_SIZE);\n",
              "      const chunk = new Uint8Array(fileData, position, length);\n",
              "      position += length;\n",
              "\n",
              "      const base64 = btoa(String.fromCharCode.apply(null, chunk));\n",
              "      yield {\n",
              "        response: {\n",
              "          action: 'append',\n",
              "          file: file.name,\n",
              "          data: base64,\n",
              "        },\n",
              "      };\n",
              "\n",
              "      let percentDone = fileData.byteLength === 0 ?\n",
              "          100 :\n",
              "          Math.round((position / fileData.byteLength) * 100);\n",
              "      percent.textContent = `${percentDone}% done`;\n",
              "\n",
              "    } while (position < fileData.byteLength);\n",
              "  }\n",
              "\n",
              "  // All done.\n",
              "  yield {\n",
              "    response: {\n",
              "      action: 'complete',\n",
              "    }\n",
              "  };\n",
              "}\n",
              "\n",
              "scope.google = scope.google || {};\n",
              "scope.google.colab = scope.google.colab || {};\n",
              "scope.google.colab._files = {\n",
              "  _uploadFiles,\n",
              "  _uploadFilesContinue,\n",
              "};\n",
              "})(self);\n",
              "</script> "
            ]
          },
          "metadata": {}
        },
        {
          "output_type": "stream",
          "name": "stdout",
          "text": [
            "Saving 50_Startups.csv to 50_Startups.csv\n"
          ]
        }
      ]
    },
    {
      "cell_type": "code",
      "source": [
        "filename = next(iter(uploaded))"
      ],
      "metadata": {
        "id": "RcwA_WbL-LOH"
      },
      "execution_count": 21,
      "outputs": []
    },
    {
      "cell_type": "code",
      "source": [
        "df = pd.read_csv(filename)"
      ],
      "metadata": {
        "id": "YR52Fkrt-qlb"
      },
      "execution_count": 32,
      "outputs": []
    },
    {
      "cell_type": "code",
      "source": [
        "df.head()"
      ],
      "metadata": {
        "colab": {
          "base_uri": "https://localhost:8080/",
          "height": 206
        },
        "id": "aMetK2PZ-x7g",
        "outputId": "6071363f-7a29-4fc2-bbc2-ac23060403bb"
      },
      "execution_count": 34,
      "outputs": [
        {
          "output_type": "execute_result",
          "data": {
            "text/plain": [
              "   R&D Spend  Administration  Marketing Spend       State     Profit\n",
              "0  165349.20       136897.80        471784.10    New York  192261.83\n",
              "1  162597.70       151377.59        443898.53  California  191792.06\n",
              "2  153441.51       101145.55        407934.54     Florida  191050.39\n",
              "3  144372.41       118671.85        383199.62    New York  182901.99\n",
              "4  142107.34        91391.77        366168.42     Florida  166187.94"
            ],
            "text/html": [
              "\n",
              "  <div id=\"df-18b41c16-bb41-481f-8f25-0a05b66ec95f\" class=\"colab-df-container\">\n",
              "    <div>\n",
              "<style scoped>\n",
              "    .dataframe tbody tr th:only-of-type {\n",
              "        vertical-align: middle;\n",
              "    }\n",
              "\n",
              "    .dataframe tbody tr th {\n",
              "        vertical-align: top;\n",
              "    }\n",
              "\n",
              "    .dataframe thead th {\n",
              "        text-align: right;\n",
              "    }\n",
              "</style>\n",
              "<table border=\"1\" class=\"dataframe\">\n",
              "  <thead>\n",
              "    <tr style=\"text-align: right;\">\n",
              "      <th></th>\n",
              "      <th>R&amp;D Spend</th>\n",
              "      <th>Administration</th>\n",
              "      <th>Marketing Spend</th>\n",
              "      <th>State</th>\n",
              "      <th>Profit</th>\n",
              "    </tr>\n",
              "  </thead>\n",
              "  <tbody>\n",
              "    <tr>\n",
              "      <th>0</th>\n",
              "      <td>165349.20</td>\n",
              "      <td>136897.80</td>\n",
              "      <td>471784.10</td>\n",
              "      <td>New York</td>\n",
              "      <td>192261.83</td>\n",
              "    </tr>\n",
              "    <tr>\n",
              "      <th>1</th>\n",
              "      <td>162597.70</td>\n",
              "      <td>151377.59</td>\n",
              "      <td>443898.53</td>\n",
              "      <td>California</td>\n",
              "      <td>191792.06</td>\n",
              "    </tr>\n",
              "    <tr>\n",
              "      <th>2</th>\n",
              "      <td>153441.51</td>\n",
              "      <td>101145.55</td>\n",
              "      <td>407934.54</td>\n",
              "      <td>Florida</td>\n",
              "      <td>191050.39</td>\n",
              "    </tr>\n",
              "    <tr>\n",
              "      <th>3</th>\n",
              "      <td>144372.41</td>\n",
              "      <td>118671.85</td>\n",
              "      <td>383199.62</td>\n",
              "      <td>New York</td>\n",
              "      <td>182901.99</td>\n",
              "    </tr>\n",
              "    <tr>\n",
              "      <th>4</th>\n",
              "      <td>142107.34</td>\n",
              "      <td>91391.77</td>\n",
              "      <td>366168.42</td>\n",
              "      <td>Florida</td>\n",
              "      <td>166187.94</td>\n",
              "    </tr>\n",
              "  </tbody>\n",
              "</table>\n",
              "</div>\n",
              "    <div class=\"colab-df-buttons\">\n",
              "\n",
              "  <div class=\"colab-df-container\">\n",
              "    <button class=\"colab-df-convert\" onclick=\"convertToInteractive('df-18b41c16-bb41-481f-8f25-0a05b66ec95f')\"\n",
              "            title=\"Convert this dataframe to an interactive table.\"\n",
              "            style=\"display:none;\">\n",
              "\n",
              "  <svg xmlns=\"http://www.w3.org/2000/svg\" height=\"24px\" viewBox=\"0 -960 960 960\">\n",
              "    <path d=\"M120-120v-720h720v720H120Zm60-500h600v-160H180v160Zm220 220h160v-160H400v160Zm0 220h160v-160H400v160ZM180-400h160v-160H180v160Zm440 0h160v-160H620v160ZM180-180h160v-160H180v160Zm440 0h160v-160H620v160Z\"/>\n",
              "  </svg>\n",
              "    </button>\n",
              "\n",
              "  <style>\n",
              "    .colab-df-container {\n",
              "      display:flex;\n",
              "      gap: 12px;\n",
              "    }\n",
              "\n",
              "    .colab-df-convert {\n",
              "      background-color: #E8F0FE;\n",
              "      border: none;\n",
              "      border-radius: 50%;\n",
              "      cursor: pointer;\n",
              "      display: none;\n",
              "      fill: #1967D2;\n",
              "      height: 32px;\n",
              "      padding: 0 0 0 0;\n",
              "      width: 32px;\n",
              "    }\n",
              "\n",
              "    .colab-df-convert:hover {\n",
              "      background-color: #E2EBFA;\n",
              "      box-shadow: 0px 1px 2px rgba(60, 64, 67, 0.3), 0px 1px 3px 1px rgba(60, 64, 67, 0.15);\n",
              "      fill: #174EA6;\n",
              "    }\n",
              "\n",
              "    .colab-df-buttons div {\n",
              "      margin-bottom: 4px;\n",
              "    }\n",
              "\n",
              "    [theme=dark] .colab-df-convert {\n",
              "      background-color: #3B4455;\n",
              "      fill: #D2E3FC;\n",
              "    }\n",
              "\n",
              "    [theme=dark] .colab-df-convert:hover {\n",
              "      background-color: #434B5C;\n",
              "      box-shadow: 0px 1px 3px 1px rgba(0, 0, 0, 0.15);\n",
              "      filter: drop-shadow(0px 1px 2px rgba(0, 0, 0, 0.3));\n",
              "      fill: #FFFFFF;\n",
              "    }\n",
              "  </style>\n",
              "\n",
              "    <script>\n",
              "      const buttonEl =\n",
              "        document.querySelector('#df-18b41c16-bb41-481f-8f25-0a05b66ec95f button.colab-df-convert');\n",
              "      buttonEl.style.display =\n",
              "        google.colab.kernel.accessAllowed ? 'block' : 'none';\n",
              "\n",
              "      async function convertToInteractive(key) {\n",
              "        const element = document.querySelector('#df-18b41c16-bb41-481f-8f25-0a05b66ec95f');\n",
              "        const dataTable =\n",
              "          await google.colab.kernel.invokeFunction('convertToInteractive',\n",
              "                                                    [key], {});\n",
              "        if (!dataTable) return;\n",
              "\n",
              "        const docLinkHtml = 'Like what you see? Visit the ' +\n",
              "          '<a target=\"_blank\" href=https://colab.research.google.com/notebooks/data_table.ipynb>data table notebook</a>'\n",
              "          + ' to learn more about interactive tables.';\n",
              "        element.innerHTML = '';\n",
              "        dataTable['output_type'] = 'display_data';\n",
              "        await google.colab.output.renderOutput(dataTable, element);\n",
              "        const docLink = document.createElement('div');\n",
              "        docLink.innerHTML = docLinkHtml;\n",
              "        element.appendChild(docLink);\n",
              "      }\n",
              "    </script>\n",
              "  </div>\n",
              "\n",
              "\n",
              "<div id=\"df-e120409d-5276-4503-8f4d-c327a364cde9\">\n",
              "  <button class=\"colab-df-quickchart\" onclick=\"quickchart('df-e120409d-5276-4503-8f4d-c327a364cde9')\"\n",
              "            title=\"Suggest charts\"\n",
              "            style=\"display:none;\">\n",
              "\n",
              "<svg xmlns=\"http://www.w3.org/2000/svg\" height=\"24px\"viewBox=\"0 0 24 24\"\n",
              "     width=\"24px\">\n",
              "    <g>\n",
              "        <path d=\"M19 3H5c-1.1 0-2 .9-2 2v14c0 1.1.9 2 2 2h14c1.1 0 2-.9 2-2V5c0-1.1-.9-2-2-2zM9 17H7v-7h2v7zm4 0h-2V7h2v10zm4 0h-2v-4h2v4z\"/>\n",
              "    </g>\n",
              "</svg>\n",
              "  </button>\n",
              "\n",
              "<style>\n",
              "  .colab-df-quickchart {\n",
              "      --bg-color: #E8F0FE;\n",
              "      --fill-color: #1967D2;\n",
              "      --hover-bg-color: #E2EBFA;\n",
              "      --hover-fill-color: #174EA6;\n",
              "      --disabled-fill-color: #AAA;\n",
              "      --disabled-bg-color: #DDD;\n",
              "  }\n",
              "\n",
              "  [theme=dark] .colab-df-quickchart {\n",
              "      --bg-color: #3B4455;\n",
              "      --fill-color: #D2E3FC;\n",
              "      --hover-bg-color: #434B5C;\n",
              "      --hover-fill-color: #FFFFFF;\n",
              "      --disabled-bg-color: #3B4455;\n",
              "      --disabled-fill-color: #666;\n",
              "  }\n",
              "\n",
              "  .colab-df-quickchart {\n",
              "    background-color: var(--bg-color);\n",
              "    border: none;\n",
              "    border-radius: 50%;\n",
              "    cursor: pointer;\n",
              "    display: none;\n",
              "    fill: var(--fill-color);\n",
              "    height: 32px;\n",
              "    padding: 0;\n",
              "    width: 32px;\n",
              "  }\n",
              "\n",
              "  .colab-df-quickchart:hover {\n",
              "    background-color: var(--hover-bg-color);\n",
              "    box-shadow: 0 1px 2px rgba(60, 64, 67, 0.3), 0 1px 3px 1px rgba(60, 64, 67, 0.15);\n",
              "    fill: var(--button-hover-fill-color);\n",
              "  }\n",
              "\n",
              "  .colab-df-quickchart-complete:disabled,\n",
              "  .colab-df-quickchart-complete:disabled:hover {\n",
              "    background-color: var(--disabled-bg-color);\n",
              "    fill: var(--disabled-fill-color);\n",
              "    box-shadow: none;\n",
              "  }\n",
              "\n",
              "  .colab-df-spinner {\n",
              "    border: 2px solid var(--fill-color);\n",
              "    border-color: transparent;\n",
              "    border-bottom-color: var(--fill-color);\n",
              "    animation:\n",
              "      spin 1s steps(1) infinite;\n",
              "  }\n",
              "\n",
              "  @keyframes spin {\n",
              "    0% {\n",
              "      border-color: transparent;\n",
              "      border-bottom-color: var(--fill-color);\n",
              "      border-left-color: var(--fill-color);\n",
              "    }\n",
              "    20% {\n",
              "      border-color: transparent;\n",
              "      border-left-color: var(--fill-color);\n",
              "      border-top-color: var(--fill-color);\n",
              "    }\n",
              "    30% {\n",
              "      border-color: transparent;\n",
              "      border-left-color: var(--fill-color);\n",
              "      border-top-color: var(--fill-color);\n",
              "      border-right-color: var(--fill-color);\n",
              "    }\n",
              "    40% {\n",
              "      border-color: transparent;\n",
              "      border-right-color: var(--fill-color);\n",
              "      border-top-color: var(--fill-color);\n",
              "    }\n",
              "    60% {\n",
              "      border-color: transparent;\n",
              "      border-right-color: var(--fill-color);\n",
              "    }\n",
              "    80% {\n",
              "      border-color: transparent;\n",
              "      border-right-color: var(--fill-color);\n",
              "      border-bottom-color: var(--fill-color);\n",
              "    }\n",
              "    90% {\n",
              "      border-color: transparent;\n",
              "      border-bottom-color: var(--fill-color);\n",
              "    }\n",
              "  }\n",
              "</style>\n",
              "\n",
              "  <script>\n",
              "    async function quickchart(key) {\n",
              "      const quickchartButtonEl =\n",
              "        document.querySelector('#' + key + ' button');\n",
              "      quickchartButtonEl.disabled = true;  // To prevent multiple clicks.\n",
              "      quickchartButtonEl.classList.add('colab-df-spinner');\n",
              "      try {\n",
              "        const charts = await google.colab.kernel.invokeFunction(\n",
              "            'suggestCharts', [key], {});\n",
              "      } catch (error) {\n",
              "        console.error('Error during call to suggestCharts:', error);\n",
              "      }\n",
              "      quickchartButtonEl.classList.remove('colab-df-spinner');\n",
              "      quickchartButtonEl.classList.add('colab-df-quickchart-complete');\n",
              "    }\n",
              "    (() => {\n",
              "      let quickchartButtonEl =\n",
              "        document.querySelector('#df-e120409d-5276-4503-8f4d-c327a364cde9 button');\n",
              "      quickchartButtonEl.style.display =\n",
              "        google.colab.kernel.accessAllowed ? 'block' : 'none';\n",
              "    })();\n",
              "  </script>\n",
              "</div>\n",
              "\n",
              "    </div>\n",
              "  </div>\n"
            ]
          },
          "metadata": {},
          "execution_count": 34
        }
      ]
    },
    {
      "cell_type": "code",
      "source": [
        "# df = pd.read_csv(io.BytesIO(uploaded[filename]))"
      ],
      "metadata": {
        "id": "XzdlLZVA-YFW"
      },
      "execution_count": 26,
      "outputs": []
    },
    {
      "cell_type": "code",
      "source": [
        "# .dtypes shows us what datatype each column conatins\n",
        "\n",
        "df.dtypes"
      ],
      "metadata": {
        "colab": {
          "base_uri": "https://localhost:8080/"
        },
        "id": "rDxILRxO-jd1",
        "outputId": "ce57a91e-0599-472a-dfdd-c4edefc2d826"
      },
      "execution_count": 36,
      "outputs": [
        {
          "output_type": "execute_result",
          "data": {
            "text/plain": [
              "R&D Spend          float64\n",
              "Administration     float64\n",
              "Marketing Spend    float64\n",
              "State               object\n",
              "Profit             float64\n",
              "dtype: object"
            ]
          },
          "metadata": {},
          "execution_count": 36
        }
      ]
    },
    {
      "cell_type": "code",
      "source": [
        "# .describe() gives you a quick statistical overview of the numerical columns\n",
        "df.describe()"
      ],
      "metadata": {
        "colab": {
          "base_uri": "https://localhost:8080/",
          "height": 300
        },
        "id": "w1Bqffzf_PW3",
        "outputId": "7d8c25c6-15c4-4436-a0f5-d29adce511d1"
      },
      "execution_count": 37,
      "outputs": [
        {
          "output_type": "execute_result",
          "data": {
            "text/plain": [
              "           R&D Spend  Administration  Marketing Spend         Profit\n",
              "count      50.000000       50.000000        50.000000      50.000000\n",
              "mean    73721.615600   121344.639600    211025.097800  112012.639200\n",
              "std     45902.256482    28017.802755    122290.310726   40306.180338\n",
              "min         0.000000    51283.140000         0.000000   14681.400000\n",
              "25%     39936.370000   103730.875000    129300.132500   90138.902500\n",
              "50%     73051.080000   122699.795000    212716.240000  107978.190000\n",
              "75%    101602.800000   144842.180000    299469.085000  139765.977500\n",
              "max    165349.200000   182645.560000    471784.100000  192261.830000"
            ],
            "text/html": [
              "\n",
              "  <div id=\"df-0caf8af8-e240-4f21-82d8-79b5cf819e7c\" class=\"colab-df-container\">\n",
              "    <div>\n",
              "<style scoped>\n",
              "    .dataframe tbody tr th:only-of-type {\n",
              "        vertical-align: middle;\n",
              "    }\n",
              "\n",
              "    .dataframe tbody tr th {\n",
              "        vertical-align: top;\n",
              "    }\n",
              "\n",
              "    .dataframe thead th {\n",
              "        text-align: right;\n",
              "    }\n",
              "</style>\n",
              "<table border=\"1\" class=\"dataframe\">\n",
              "  <thead>\n",
              "    <tr style=\"text-align: right;\">\n",
              "      <th></th>\n",
              "      <th>R&amp;D Spend</th>\n",
              "      <th>Administration</th>\n",
              "      <th>Marketing Spend</th>\n",
              "      <th>Profit</th>\n",
              "    </tr>\n",
              "  </thead>\n",
              "  <tbody>\n",
              "    <tr>\n",
              "      <th>count</th>\n",
              "      <td>50.000000</td>\n",
              "      <td>50.000000</td>\n",
              "      <td>50.000000</td>\n",
              "      <td>50.000000</td>\n",
              "    </tr>\n",
              "    <tr>\n",
              "      <th>mean</th>\n",
              "      <td>73721.615600</td>\n",
              "      <td>121344.639600</td>\n",
              "      <td>211025.097800</td>\n",
              "      <td>112012.639200</td>\n",
              "    </tr>\n",
              "    <tr>\n",
              "      <th>std</th>\n",
              "      <td>45902.256482</td>\n",
              "      <td>28017.802755</td>\n",
              "      <td>122290.310726</td>\n",
              "      <td>40306.180338</td>\n",
              "    </tr>\n",
              "    <tr>\n",
              "      <th>min</th>\n",
              "      <td>0.000000</td>\n",
              "      <td>51283.140000</td>\n",
              "      <td>0.000000</td>\n",
              "      <td>14681.400000</td>\n",
              "    </tr>\n",
              "    <tr>\n",
              "      <th>25%</th>\n",
              "      <td>39936.370000</td>\n",
              "      <td>103730.875000</td>\n",
              "      <td>129300.132500</td>\n",
              "      <td>90138.902500</td>\n",
              "    </tr>\n",
              "    <tr>\n",
              "      <th>50%</th>\n",
              "      <td>73051.080000</td>\n",
              "      <td>122699.795000</td>\n",
              "      <td>212716.240000</td>\n",
              "      <td>107978.190000</td>\n",
              "    </tr>\n",
              "    <tr>\n",
              "      <th>75%</th>\n",
              "      <td>101602.800000</td>\n",
              "      <td>144842.180000</td>\n",
              "      <td>299469.085000</td>\n",
              "      <td>139765.977500</td>\n",
              "    </tr>\n",
              "    <tr>\n",
              "      <th>max</th>\n",
              "      <td>165349.200000</td>\n",
              "      <td>182645.560000</td>\n",
              "      <td>471784.100000</td>\n",
              "      <td>192261.830000</td>\n",
              "    </tr>\n",
              "  </tbody>\n",
              "</table>\n",
              "</div>\n",
              "    <div class=\"colab-df-buttons\">\n",
              "\n",
              "  <div class=\"colab-df-container\">\n",
              "    <button class=\"colab-df-convert\" onclick=\"convertToInteractive('df-0caf8af8-e240-4f21-82d8-79b5cf819e7c')\"\n",
              "            title=\"Convert this dataframe to an interactive table.\"\n",
              "            style=\"display:none;\">\n",
              "\n",
              "  <svg xmlns=\"http://www.w3.org/2000/svg\" height=\"24px\" viewBox=\"0 -960 960 960\">\n",
              "    <path d=\"M120-120v-720h720v720H120Zm60-500h600v-160H180v160Zm220 220h160v-160H400v160Zm0 220h160v-160H400v160ZM180-400h160v-160H180v160Zm440 0h160v-160H620v160ZM180-180h160v-160H180v160Zm440 0h160v-160H620v160Z\"/>\n",
              "  </svg>\n",
              "    </button>\n",
              "\n",
              "  <style>\n",
              "    .colab-df-container {\n",
              "      display:flex;\n",
              "      gap: 12px;\n",
              "    }\n",
              "\n",
              "    .colab-df-convert {\n",
              "      background-color: #E8F0FE;\n",
              "      border: none;\n",
              "      border-radius: 50%;\n",
              "      cursor: pointer;\n",
              "      display: none;\n",
              "      fill: #1967D2;\n",
              "      height: 32px;\n",
              "      padding: 0 0 0 0;\n",
              "      width: 32px;\n",
              "    }\n",
              "\n",
              "    .colab-df-convert:hover {\n",
              "      background-color: #E2EBFA;\n",
              "      box-shadow: 0px 1px 2px rgba(60, 64, 67, 0.3), 0px 1px 3px 1px rgba(60, 64, 67, 0.15);\n",
              "      fill: #174EA6;\n",
              "    }\n",
              "\n",
              "    .colab-df-buttons div {\n",
              "      margin-bottom: 4px;\n",
              "    }\n",
              "\n",
              "    [theme=dark] .colab-df-convert {\n",
              "      background-color: #3B4455;\n",
              "      fill: #D2E3FC;\n",
              "    }\n",
              "\n",
              "    [theme=dark] .colab-df-convert:hover {\n",
              "      background-color: #434B5C;\n",
              "      box-shadow: 0px 1px 3px 1px rgba(0, 0, 0, 0.15);\n",
              "      filter: drop-shadow(0px 1px 2px rgba(0, 0, 0, 0.3));\n",
              "      fill: #FFFFFF;\n",
              "    }\n",
              "  </style>\n",
              "\n",
              "    <script>\n",
              "      const buttonEl =\n",
              "        document.querySelector('#df-0caf8af8-e240-4f21-82d8-79b5cf819e7c button.colab-df-convert');\n",
              "      buttonEl.style.display =\n",
              "        google.colab.kernel.accessAllowed ? 'block' : 'none';\n",
              "\n",
              "      async function convertToInteractive(key) {\n",
              "        const element = document.querySelector('#df-0caf8af8-e240-4f21-82d8-79b5cf819e7c');\n",
              "        const dataTable =\n",
              "          await google.colab.kernel.invokeFunction('convertToInteractive',\n",
              "                                                    [key], {});\n",
              "        if (!dataTable) return;\n",
              "\n",
              "        const docLinkHtml = 'Like what you see? Visit the ' +\n",
              "          '<a target=\"_blank\" href=https://colab.research.google.com/notebooks/data_table.ipynb>data table notebook</a>'\n",
              "          + ' to learn more about interactive tables.';\n",
              "        element.innerHTML = '';\n",
              "        dataTable['output_type'] = 'display_data';\n",
              "        await google.colab.output.renderOutput(dataTable, element);\n",
              "        const docLink = document.createElement('div');\n",
              "        docLink.innerHTML = docLinkHtml;\n",
              "        element.appendChild(docLink);\n",
              "      }\n",
              "    </script>\n",
              "  </div>\n",
              "\n",
              "\n",
              "<div id=\"df-ff1bb3dd-3b6f-4e97-8220-eb5d859e2192\">\n",
              "  <button class=\"colab-df-quickchart\" onclick=\"quickchart('df-ff1bb3dd-3b6f-4e97-8220-eb5d859e2192')\"\n",
              "            title=\"Suggest charts\"\n",
              "            style=\"display:none;\">\n",
              "\n",
              "<svg xmlns=\"http://www.w3.org/2000/svg\" height=\"24px\"viewBox=\"0 0 24 24\"\n",
              "     width=\"24px\">\n",
              "    <g>\n",
              "        <path d=\"M19 3H5c-1.1 0-2 .9-2 2v14c0 1.1.9 2 2 2h14c1.1 0 2-.9 2-2V5c0-1.1-.9-2-2-2zM9 17H7v-7h2v7zm4 0h-2V7h2v10zm4 0h-2v-4h2v4z\"/>\n",
              "    </g>\n",
              "</svg>\n",
              "  </button>\n",
              "\n",
              "<style>\n",
              "  .colab-df-quickchart {\n",
              "      --bg-color: #E8F0FE;\n",
              "      --fill-color: #1967D2;\n",
              "      --hover-bg-color: #E2EBFA;\n",
              "      --hover-fill-color: #174EA6;\n",
              "      --disabled-fill-color: #AAA;\n",
              "      --disabled-bg-color: #DDD;\n",
              "  }\n",
              "\n",
              "  [theme=dark] .colab-df-quickchart {\n",
              "      --bg-color: #3B4455;\n",
              "      --fill-color: #D2E3FC;\n",
              "      --hover-bg-color: #434B5C;\n",
              "      --hover-fill-color: #FFFFFF;\n",
              "      --disabled-bg-color: #3B4455;\n",
              "      --disabled-fill-color: #666;\n",
              "  }\n",
              "\n",
              "  .colab-df-quickchart {\n",
              "    background-color: var(--bg-color);\n",
              "    border: none;\n",
              "    border-radius: 50%;\n",
              "    cursor: pointer;\n",
              "    display: none;\n",
              "    fill: var(--fill-color);\n",
              "    height: 32px;\n",
              "    padding: 0;\n",
              "    width: 32px;\n",
              "  }\n",
              "\n",
              "  .colab-df-quickchart:hover {\n",
              "    background-color: var(--hover-bg-color);\n",
              "    box-shadow: 0 1px 2px rgba(60, 64, 67, 0.3), 0 1px 3px 1px rgba(60, 64, 67, 0.15);\n",
              "    fill: var(--button-hover-fill-color);\n",
              "  }\n",
              "\n",
              "  .colab-df-quickchart-complete:disabled,\n",
              "  .colab-df-quickchart-complete:disabled:hover {\n",
              "    background-color: var(--disabled-bg-color);\n",
              "    fill: var(--disabled-fill-color);\n",
              "    box-shadow: none;\n",
              "  }\n",
              "\n",
              "  .colab-df-spinner {\n",
              "    border: 2px solid var(--fill-color);\n",
              "    border-color: transparent;\n",
              "    border-bottom-color: var(--fill-color);\n",
              "    animation:\n",
              "      spin 1s steps(1) infinite;\n",
              "  }\n",
              "\n",
              "  @keyframes spin {\n",
              "    0% {\n",
              "      border-color: transparent;\n",
              "      border-bottom-color: var(--fill-color);\n",
              "      border-left-color: var(--fill-color);\n",
              "    }\n",
              "    20% {\n",
              "      border-color: transparent;\n",
              "      border-left-color: var(--fill-color);\n",
              "      border-top-color: var(--fill-color);\n",
              "    }\n",
              "    30% {\n",
              "      border-color: transparent;\n",
              "      border-left-color: var(--fill-color);\n",
              "      border-top-color: var(--fill-color);\n",
              "      border-right-color: var(--fill-color);\n",
              "    }\n",
              "    40% {\n",
              "      border-color: transparent;\n",
              "      border-right-color: var(--fill-color);\n",
              "      border-top-color: var(--fill-color);\n",
              "    }\n",
              "    60% {\n",
              "      border-color: transparent;\n",
              "      border-right-color: var(--fill-color);\n",
              "    }\n",
              "    80% {\n",
              "      border-color: transparent;\n",
              "      border-right-color: var(--fill-color);\n",
              "      border-bottom-color: var(--fill-color);\n",
              "    }\n",
              "    90% {\n",
              "      border-color: transparent;\n",
              "      border-bottom-color: var(--fill-color);\n",
              "    }\n",
              "  }\n",
              "</style>\n",
              "\n",
              "  <script>\n",
              "    async function quickchart(key) {\n",
              "      const quickchartButtonEl =\n",
              "        document.querySelector('#' + key + ' button');\n",
              "      quickchartButtonEl.disabled = true;  // To prevent multiple clicks.\n",
              "      quickchartButtonEl.classList.add('colab-df-spinner');\n",
              "      try {\n",
              "        const charts = await google.colab.kernel.invokeFunction(\n",
              "            'suggestCharts', [key], {});\n",
              "      } catch (error) {\n",
              "        console.error('Error during call to suggestCharts:', error);\n",
              "      }\n",
              "      quickchartButtonEl.classList.remove('colab-df-spinner');\n",
              "      quickchartButtonEl.classList.add('colab-df-quickchart-complete');\n",
              "    }\n",
              "    (() => {\n",
              "      let quickchartButtonEl =\n",
              "        document.querySelector('#df-ff1bb3dd-3b6f-4e97-8220-eb5d859e2192 button');\n",
              "      quickchartButtonEl.style.display =\n",
              "        google.colab.kernel.accessAllowed ? 'block' : 'none';\n",
              "    })();\n",
              "  </script>\n",
              "</div>\n",
              "\n",
              "    </div>\n",
              "  </div>\n"
            ]
          },
          "metadata": {},
          "execution_count": 37
        }
      ]
    },
    {
      "cell_type": "markdown",
      "source": [
        "\n",
        ".info() shows a handful of useful information about a DataFrame such as:\n",
        "\n",
        "How many entries (rows) there are\n",
        "Whether there are missing values (if a columns non-null value is less than the number of entries, it has missing values)\n",
        "The datatypes of each column\n"
      ],
      "metadata": {
        "id": "r4dvyxkX_WQD"
      }
    },
    {
      "cell_type": "code",
      "source": [
        "df.info()"
      ],
      "metadata": {
        "colab": {
          "base_uri": "https://localhost:8080/"
        },
        "id": "n-koBNJJ_TT2",
        "outputId": "58e4c580-6360-4e4b-e39d-cc657e96bf64"
      },
      "execution_count": 38,
      "outputs": [
        {
          "output_type": "stream",
          "name": "stdout",
          "text": [
            "<class 'pandas.core.frame.DataFrame'>\n",
            "RangeIndex: 50 entries, 0 to 49\n",
            "Data columns (total 5 columns):\n",
            " #   Column           Non-Null Count  Dtype  \n",
            "---  ------           --------------  -----  \n",
            " 0   R&D Spend        50 non-null     float64\n",
            " 1   Administration   50 non-null     float64\n",
            " 2   Marketing Spend  50 non-null     float64\n",
            " 3   State            50 non-null     object \n",
            " 4   Profit           50 non-null     float64\n",
            "dtypes: float64(4), object(1)\n",
            "memory usage: 2.1+ KB\n"
          ]
        }
      ]
    },
    {
      "cell_type": "code",
      "source": [
        "# convert df to excel\n",
        "\n",
        "df.to_excel('50_Startups_xlsx.xlsx')"
      ],
      "metadata": {
        "id": "j33A86FVALAB"
      },
      "execution_count": 39,
      "outputs": []
    },
    {
      "cell_type": "code",
      "source": [
        "# convert df to html\n",
        "\n",
        "df.to_html('50_startups.html')"
      ],
      "metadata": {
        "id": "eB_LfA0BCVhc"
      },
      "execution_count": 40,
      "outputs": []
    },
    {
      "cell_type": "code",
      "source": [
        "# convert to jason\n",
        "\n",
        "df.to_json('50_startups.json')"
      ],
      "metadata": {
        "id": "SJDnzVLfCaTy"
      },
      "execution_count": 41,
      "outputs": []
    },
    {
      "cell_type": "code",
      "source": [
        "df_excel= pd.read_excel('/content/50_Startups_xlsx.xlsx')"
      ],
      "metadata": {
        "id": "QtjK1LR1CiXX"
      },
      "execution_count": 43,
      "outputs": []
    },
    {
      "cell_type": "code",
      "source": [
        "df_excel.head()"
      ],
      "metadata": {
        "colab": {
          "base_uri": "https://localhost:8080/",
          "height": 206
        },
        "id": "6QASmCA8C9if",
        "outputId": "549d7a45-5452-494b-84dd-2e2ca0952968"
      },
      "execution_count": 45,
      "outputs": [
        {
          "output_type": "execute_result",
          "data": {
            "text/plain": [
              "   Unnamed: 0  R&D Spend  Administration  Marketing Spend       State  \\\n",
              "0           0  165349.20       136897.80        471784.10    New York   \n",
              "1           1  162597.70       151377.59        443898.53  California   \n",
              "2           2  153441.51       101145.55        407934.54     Florida   \n",
              "3           3  144372.41       118671.85        383199.62    New York   \n",
              "4           4  142107.34        91391.77        366168.42     Florida   \n",
              "\n",
              "      Profit  \n",
              "0  192261.83  \n",
              "1  191792.06  \n",
              "2  191050.39  \n",
              "3  182901.99  \n",
              "4  166187.94  "
            ],
            "text/html": [
              "\n",
              "  <div id=\"df-f39c805e-1ea4-4876-b61d-d34d13690eca\" class=\"colab-df-container\">\n",
              "    <div>\n",
              "<style scoped>\n",
              "    .dataframe tbody tr th:only-of-type {\n",
              "        vertical-align: middle;\n",
              "    }\n",
              "\n",
              "    .dataframe tbody tr th {\n",
              "        vertical-align: top;\n",
              "    }\n",
              "\n",
              "    .dataframe thead th {\n",
              "        text-align: right;\n",
              "    }\n",
              "</style>\n",
              "<table border=\"1\" class=\"dataframe\">\n",
              "  <thead>\n",
              "    <tr style=\"text-align: right;\">\n",
              "      <th></th>\n",
              "      <th>Unnamed: 0</th>\n",
              "      <th>R&amp;D Spend</th>\n",
              "      <th>Administration</th>\n",
              "      <th>Marketing Spend</th>\n",
              "      <th>State</th>\n",
              "      <th>Profit</th>\n",
              "    </tr>\n",
              "  </thead>\n",
              "  <tbody>\n",
              "    <tr>\n",
              "      <th>0</th>\n",
              "      <td>0</td>\n",
              "      <td>165349.20</td>\n",
              "      <td>136897.80</td>\n",
              "      <td>471784.10</td>\n",
              "      <td>New York</td>\n",
              "      <td>192261.83</td>\n",
              "    </tr>\n",
              "    <tr>\n",
              "      <th>1</th>\n",
              "      <td>1</td>\n",
              "      <td>162597.70</td>\n",
              "      <td>151377.59</td>\n",
              "      <td>443898.53</td>\n",
              "      <td>California</td>\n",
              "      <td>191792.06</td>\n",
              "    </tr>\n",
              "    <tr>\n",
              "      <th>2</th>\n",
              "      <td>2</td>\n",
              "      <td>153441.51</td>\n",
              "      <td>101145.55</td>\n",
              "      <td>407934.54</td>\n",
              "      <td>Florida</td>\n",
              "      <td>191050.39</td>\n",
              "    </tr>\n",
              "    <tr>\n",
              "      <th>3</th>\n",
              "      <td>3</td>\n",
              "      <td>144372.41</td>\n",
              "      <td>118671.85</td>\n",
              "      <td>383199.62</td>\n",
              "      <td>New York</td>\n",
              "      <td>182901.99</td>\n",
              "    </tr>\n",
              "    <tr>\n",
              "      <th>4</th>\n",
              "      <td>4</td>\n",
              "      <td>142107.34</td>\n",
              "      <td>91391.77</td>\n",
              "      <td>366168.42</td>\n",
              "      <td>Florida</td>\n",
              "      <td>166187.94</td>\n",
              "    </tr>\n",
              "  </tbody>\n",
              "</table>\n",
              "</div>\n",
              "    <div class=\"colab-df-buttons\">\n",
              "\n",
              "  <div class=\"colab-df-container\">\n",
              "    <button class=\"colab-df-convert\" onclick=\"convertToInteractive('df-f39c805e-1ea4-4876-b61d-d34d13690eca')\"\n",
              "            title=\"Convert this dataframe to an interactive table.\"\n",
              "            style=\"display:none;\">\n",
              "\n",
              "  <svg xmlns=\"http://www.w3.org/2000/svg\" height=\"24px\" viewBox=\"0 -960 960 960\">\n",
              "    <path d=\"M120-120v-720h720v720H120Zm60-500h600v-160H180v160Zm220 220h160v-160H400v160Zm0 220h160v-160H400v160ZM180-400h160v-160H180v160Zm440 0h160v-160H620v160ZM180-180h160v-160H180v160Zm440 0h160v-160H620v160Z\"/>\n",
              "  </svg>\n",
              "    </button>\n",
              "\n",
              "  <style>\n",
              "    .colab-df-container {\n",
              "      display:flex;\n",
              "      gap: 12px;\n",
              "    }\n",
              "\n",
              "    .colab-df-convert {\n",
              "      background-color: #E8F0FE;\n",
              "      border: none;\n",
              "      border-radius: 50%;\n",
              "      cursor: pointer;\n",
              "      display: none;\n",
              "      fill: #1967D2;\n",
              "      height: 32px;\n",
              "      padding: 0 0 0 0;\n",
              "      width: 32px;\n",
              "    }\n",
              "\n",
              "    .colab-df-convert:hover {\n",
              "      background-color: #E2EBFA;\n",
              "      box-shadow: 0px 1px 2px rgba(60, 64, 67, 0.3), 0px 1px 3px 1px rgba(60, 64, 67, 0.15);\n",
              "      fill: #174EA6;\n",
              "    }\n",
              "\n",
              "    .colab-df-buttons div {\n",
              "      margin-bottom: 4px;\n",
              "    }\n",
              "\n",
              "    [theme=dark] .colab-df-convert {\n",
              "      background-color: #3B4455;\n",
              "      fill: #D2E3FC;\n",
              "    }\n",
              "\n",
              "    [theme=dark] .colab-df-convert:hover {\n",
              "      background-color: #434B5C;\n",
              "      box-shadow: 0px 1px 3px 1px rgba(0, 0, 0, 0.15);\n",
              "      filter: drop-shadow(0px 1px 2px rgba(0, 0, 0, 0.3));\n",
              "      fill: #FFFFFF;\n",
              "    }\n",
              "  </style>\n",
              "\n",
              "    <script>\n",
              "      const buttonEl =\n",
              "        document.querySelector('#df-f39c805e-1ea4-4876-b61d-d34d13690eca button.colab-df-convert');\n",
              "      buttonEl.style.display =\n",
              "        google.colab.kernel.accessAllowed ? 'block' : 'none';\n",
              "\n",
              "      async function convertToInteractive(key) {\n",
              "        const element = document.querySelector('#df-f39c805e-1ea4-4876-b61d-d34d13690eca');\n",
              "        const dataTable =\n",
              "          await google.colab.kernel.invokeFunction('convertToInteractive',\n",
              "                                                    [key], {});\n",
              "        if (!dataTable) return;\n",
              "\n",
              "        const docLinkHtml = 'Like what you see? Visit the ' +\n",
              "          '<a target=\"_blank\" href=https://colab.research.google.com/notebooks/data_table.ipynb>data table notebook</a>'\n",
              "          + ' to learn more about interactive tables.';\n",
              "        element.innerHTML = '';\n",
              "        dataTable['output_type'] = 'display_data';\n",
              "        await google.colab.output.renderOutput(dataTable, element);\n",
              "        const docLink = document.createElement('div');\n",
              "        docLink.innerHTML = docLinkHtml;\n",
              "        element.appendChild(docLink);\n",
              "      }\n",
              "    </script>\n",
              "  </div>\n",
              "\n",
              "\n",
              "<div id=\"df-819addc3-f1db-4717-82c0-231509c28d72\">\n",
              "  <button class=\"colab-df-quickchart\" onclick=\"quickchart('df-819addc3-f1db-4717-82c0-231509c28d72')\"\n",
              "            title=\"Suggest charts\"\n",
              "            style=\"display:none;\">\n",
              "\n",
              "<svg xmlns=\"http://www.w3.org/2000/svg\" height=\"24px\"viewBox=\"0 0 24 24\"\n",
              "     width=\"24px\">\n",
              "    <g>\n",
              "        <path d=\"M19 3H5c-1.1 0-2 .9-2 2v14c0 1.1.9 2 2 2h14c1.1 0 2-.9 2-2V5c0-1.1-.9-2-2-2zM9 17H7v-7h2v7zm4 0h-2V7h2v10zm4 0h-2v-4h2v4z\"/>\n",
              "    </g>\n",
              "</svg>\n",
              "  </button>\n",
              "\n",
              "<style>\n",
              "  .colab-df-quickchart {\n",
              "      --bg-color: #E8F0FE;\n",
              "      --fill-color: #1967D2;\n",
              "      --hover-bg-color: #E2EBFA;\n",
              "      --hover-fill-color: #174EA6;\n",
              "      --disabled-fill-color: #AAA;\n",
              "      --disabled-bg-color: #DDD;\n",
              "  }\n",
              "\n",
              "  [theme=dark] .colab-df-quickchart {\n",
              "      --bg-color: #3B4455;\n",
              "      --fill-color: #D2E3FC;\n",
              "      --hover-bg-color: #434B5C;\n",
              "      --hover-fill-color: #FFFFFF;\n",
              "      --disabled-bg-color: #3B4455;\n",
              "      --disabled-fill-color: #666;\n",
              "  }\n",
              "\n",
              "  .colab-df-quickchart {\n",
              "    background-color: var(--bg-color);\n",
              "    border: none;\n",
              "    border-radius: 50%;\n",
              "    cursor: pointer;\n",
              "    display: none;\n",
              "    fill: var(--fill-color);\n",
              "    height: 32px;\n",
              "    padding: 0;\n",
              "    width: 32px;\n",
              "  }\n",
              "\n",
              "  .colab-df-quickchart:hover {\n",
              "    background-color: var(--hover-bg-color);\n",
              "    box-shadow: 0 1px 2px rgba(60, 64, 67, 0.3), 0 1px 3px 1px rgba(60, 64, 67, 0.15);\n",
              "    fill: var(--button-hover-fill-color);\n",
              "  }\n",
              "\n",
              "  .colab-df-quickchart-complete:disabled,\n",
              "  .colab-df-quickchart-complete:disabled:hover {\n",
              "    background-color: var(--disabled-bg-color);\n",
              "    fill: var(--disabled-fill-color);\n",
              "    box-shadow: none;\n",
              "  }\n",
              "\n",
              "  .colab-df-spinner {\n",
              "    border: 2px solid var(--fill-color);\n",
              "    border-color: transparent;\n",
              "    border-bottom-color: var(--fill-color);\n",
              "    animation:\n",
              "      spin 1s steps(1) infinite;\n",
              "  }\n",
              "\n",
              "  @keyframes spin {\n",
              "    0% {\n",
              "      border-color: transparent;\n",
              "      border-bottom-color: var(--fill-color);\n",
              "      border-left-color: var(--fill-color);\n",
              "    }\n",
              "    20% {\n",
              "      border-color: transparent;\n",
              "      border-left-color: var(--fill-color);\n",
              "      border-top-color: var(--fill-color);\n",
              "    }\n",
              "    30% {\n",
              "      border-color: transparent;\n",
              "      border-left-color: var(--fill-color);\n",
              "      border-top-color: var(--fill-color);\n",
              "      border-right-color: var(--fill-color);\n",
              "    }\n",
              "    40% {\n",
              "      border-color: transparent;\n",
              "      border-right-color: var(--fill-color);\n",
              "      border-top-color: var(--fill-color);\n",
              "    }\n",
              "    60% {\n",
              "      border-color: transparent;\n",
              "      border-right-color: var(--fill-color);\n",
              "    }\n",
              "    80% {\n",
              "      border-color: transparent;\n",
              "      border-right-color: var(--fill-color);\n",
              "      border-bottom-color: var(--fill-color);\n",
              "    }\n",
              "    90% {\n",
              "      border-color: transparent;\n",
              "      border-bottom-color: var(--fill-color);\n",
              "    }\n",
              "  }\n",
              "</style>\n",
              "\n",
              "  <script>\n",
              "    async function quickchart(key) {\n",
              "      const quickchartButtonEl =\n",
              "        document.querySelector('#' + key + ' button');\n",
              "      quickchartButtonEl.disabled = true;  // To prevent multiple clicks.\n",
              "      quickchartButtonEl.classList.add('colab-df-spinner');\n",
              "      try {\n",
              "        const charts = await google.colab.kernel.invokeFunction(\n",
              "            'suggestCharts', [key], {});\n",
              "      } catch (error) {\n",
              "        console.error('Error during call to suggestCharts:', error);\n",
              "      }\n",
              "      quickchartButtonEl.classList.remove('colab-df-spinner');\n",
              "      quickchartButtonEl.classList.add('colab-df-quickchart-complete');\n",
              "    }\n",
              "    (() => {\n",
              "      let quickchartButtonEl =\n",
              "        document.querySelector('#df-819addc3-f1db-4717-82c0-231509c28d72 button');\n",
              "      quickchartButtonEl.style.display =\n",
              "        google.colab.kernel.accessAllowed ? 'block' : 'none';\n",
              "    })();\n",
              "  </script>\n",
              "</div>\n",
              "\n",
              "    </div>\n",
              "  </div>\n"
            ]
          },
          "metadata": {},
          "execution_count": 45
        }
      ]
    },
    {
      "cell_type": "code",
      "source": [
        "df_html= pd.read_html('/content/50_startups.html')"
      ],
      "metadata": {
        "id": "mHTr94LBDCeo"
      },
      "execution_count": 46,
      "outputs": []
    },
    {
      "cell_type": "code",
      "source": [
        "df_html"
      ],
      "metadata": {
        "colab": {
          "base_uri": "https://localhost:8080/"
        },
        "id": "D8mhzlsWDZiS",
        "outputId": "147c6865-77c4-4750-b758-fd84343d55e4"
      },
      "execution_count": 50,
      "outputs": [
        {
          "output_type": "execute_result",
          "data": {
            "text/plain": [
              "[    Unnamed: 0  R&D Spend  Administration  Marketing Spend       State  \\\n",
              " 0            0  165349.20       136897.80        471784.10    New York   \n",
              " 1            1  162597.70       151377.59        443898.53  California   \n",
              " 2            2  153441.51       101145.55        407934.54     Florida   \n",
              " 3            3  144372.41       118671.85        383199.62    New York   \n",
              " 4            4  142107.34        91391.77        366168.42     Florida   \n",
              " 5            5  131876.90        99814.71        362861.36    New York   \n",
              " 6            6  134615.46       147198.87        127716.82  California   \n",
              " 7            7  130298.13       145530.06        323876.68     Florida   \n",
              " 8            8  120542.52       148718.95        311613.29    New York   \n",
              " 9            9  123334.88       108679.17        304981.62  California   \n",
              " 10          10  101913.08       110594.11        229160.95     Florida   \n",
              " 11          11  100671.96        91790.61        249744.55  California   \n",
              " 12          12   93863.75       127320.38        249839.44     Florida   \n",
              " 13          13   91992.39       135495.07        252664.93  California   \n",
              " 14          14  119943.24       156547.42        256512.92     Florida   \n",
              " 15          15  114523.61       122616.84        261776.23    New York   \n",
              " 16          16   78013.11       121597.55        264346.06  California   \n",
              " 17          17   94657.16       145077.58        282574.31    New York   \n",
              " 18          18   91749.16       114175.79        294919.57     Florida   \n",
              " 19          19   86419.70       153514.11             0.00    New York   \n",
              " 20          20   76253.86       113867.30        298664.47  California   \n",
              " 21          21   78389.47       153773.43        299737.29    New York   \n",
              " 22          22   73994.56       122782.75        303319.26     Florida   \n",
              " 23          23   67532.53       105751.03        304768.73     Florida   \n",
              " 24          24   77044.01        99281.34        140574.81    New York   \n",
              " 25          25   64664.71       139553.16        137962.62  California   \n",
              " 26          26   75328.87       144135.98        134050.07     Florida   \n",
              " 27          27   72107.60       127864.55        353183.81    New York   \n",
              " 28          28   66051.52       182645.56        118148.20     Florida   \n",
              " 29          29   65605.48       153032.06        107138.38    New York   \n",
              " 30          30   61994.48       115641.28         91131.24     Florida   \n",
              " 31          31   61136.38       152701.92         88218.23    New York   \n",
              " 32          32   63408.86       129219.61         46085.25  California   \n",
              " 33          33   55493.95       103057.49        214634.81     Florida   \n",
              " 34          34   46426.07       157693.92        210797.67  California   \n",
              " 35          35   46014.02        85047.44        205517.64    New York   \n",
              " 36          36   28663.76       127056.21        201126.82     Florida   \n",
              " 37          37   44069.95        51283.14        197029.42  California   \n",
              " 38          38   20229.59        65947.93        185265.10    New York   \n",
              " 39          39   38558.51        82982.09        174999.30  California   \n",
              " 40          40   28754.33       118546.05        172795.67  California   \n",
              " 41          41   27892.92        84710.77        164470.71     Florida   \n",
              " 42          42   23640.93        96189.63        148001.11  California   \n",
              " 43          43   15505.73       127382.30         35534.17    New York   \n",
              " 44          44   22177.74       154806.14         28334.72  California   \n",
              " 45          45    1000.23       124153.04          1903.93    New York   \n",
              " 46          46    1315.46       115816.21        297114.46     Florida   \n",
              " 47          47       0.00       135426.92             0.00  California   \n",
              " 48          48     542.05        51743.15             0.00    New York   \n",
              " 49          49       0.00       116983.80         45173.06  California   \n",
              " \n",
              "        Profit  \n",
              " 0   192261.83  \n",
              " 1   191792.06  \n",
              " 2   191050.39  \n",
              " 3   182901.99  \n",
              " 4   166187.94  \n",
              " 5   156991.12  \n",
              " 6   156122.51  \n",
              " 7   155752.60  \n",
              " 8   152211.77  \n",
              " 9   149759.96  \n",
              " 10  146121.95  \n",
              " 11  144259.40  \n",
              " 12  141585.52  \n",
              " 13  134307.35  \n",
              " 14  132602.65  \n",
              " 15  129917.04  \n",
              " 16  126992.93  \n",
              " 17  125370.37  \n",
              " 18  124266.90  \n",
              " 19  122776.86  \n",
              " 20  118474.03  \n",
              " 21  111313.02  \n",
              " 22  110352.25  \n",
              " 23  108733.99  \n",
              " 24  108552.04  \n",
              " 25  107404.34  \n",
              " 26  105733.54  \n",
              " 27  105008.31  \n",
              " 28  103282.38  \n",
              " 29  101004.64  \n",
              " 30   99937.59  \n",
              " 31   97483.56  \n",
              " 32   97427.84  \n",
              " 33   96778.92  \n",
              " 34   96712.80  \n",
              " 35   96479.51  \n",
              " 36   90708.19  \n",
              " 37   89949.14  \n",
              " 38   81229.06  \n",
              " 39   81005.76  \n",
              " 40   78239.91  \n",
              " 41   77798.83  \n",
              " 42   71498.49  \n",
              " 43   69758.98  \n",
              " 44   65200.33  \n",
              " 45   64926.08  \n",
              " 46   49490.75  \n",
              " 47   42559.73  \n",
              " 48   35673.41  \n",
              " 49   14681.40  ]"
            ]
          },
          "metadata": {},
          "execution_count": 50
        }
      ]
    },
    {
      "cell_type": "code",
      "source": [
        "df_json= pd.read_json('/content/50_startups.json')"
      ],
      "metadata": {
        "id": "bWpLjaViDdS9"
      },
      "execution_count": 51,
      "outputs": []
    },
    {
      "cell_type": "code",
      "source": [
        "df_json.head()"
      ],
      "metadata": {
        "colab": {
          "base_uri": "https://localhost:8080/",
          "height": 206
        },
        "id": "KGk2vjNkDvTe",
        "outputId": "77523b3d-e2dd-44b6-98e7-5881bcecbcb8"
      },
      "execution_count": 126,
      "outputs": [
        {
          "output_type": "execute_result",
          "data": {
            "text/plain": [
              "   R&D Spend  Administration  Marketing Spend       State     Profit\n",
              "0  165349.20       136897.80        471784.10    New York  192261.83\n",
              "1  162597.70       151377.59        443898.53  California  191792.06\n",
              "2  153441.51       101145.55        407934.54     Florida  191050.39\n",
              "3  144372.41       118671.85        383199.62    New York  182901.99\n",
              "4  142107.34        91391.77        366168.42     Florida  166187.94"
            ],
            "text/html": [
              "\n",
              "  <div id=\"df-b23b7c8d-df99-47d8-b14a-fd99efcba6ba\" class=\"colab-df-container\">\n",
              "    <div>\n",
              "<style scoped>\n",
              "    .dataframe tbody tr th:only-of-type {\n",
              "        vertical-align: middle;\n",
              "    }\n",
              "\n",
              "    .dataframe tbody tr th {\n",
              "        vertical-align: top;\n",
              "    }\n",
              "\n",
              "    .dataframe thead th {\n",
              "        text-align: right;\n",
              "    }\n",
              "</style>\n",
              "<table border=\"1\" class=\"dataframe\">\n",
              "  <thead>\n",
              "    <tr style=\"text-align: right;\">\n",
              "      <th></th>\n",
              "      <th>R&amp;D Spend</th>\n",
              "      <th>Administration</th>\n",
              "      <th>Marketing Spend</th>\n",
              "      <th>State</th>\n",
              "      <th>Profit</th>\n",
              "    </tr>\n",
              "  </thead>\n",
              "  <tbody>\n",
              "    <tr>\n",
              "      <th>0</th>\n",
              "      <td>165349.20</td>\n",
              "      <td>136897.80</td>\n",
              "      <td>471784.10</td>\n",
              "      <td>New York</td>\n",
              "      <td>192261.83</td>\n",
              "    </tr>\n",
              "    <tr>\n",
              "      <th>1</th>\n",
              "      <td>162597.70</td>\n",
              "      <td>151377.59</td>\n",
              "      <td>443898.53</td>\n",
              "      <td>California</td>\n",
              "      <td>191792.06</td>\n",
              "    </tr>\n",
              "    <tr>\n",
              "      <th>2</th>\n",
              "      <td>153441.51</td>\n",
              "      <td>101145.55</td>\n",
              "      <td>407934.54</td>\n",
              "      <td>Florida</td>\n",
              "      <td>191050.39</td>\n",
              "    </tr>\n",
              "    <tr>\n",
              "      <th>3</th>\n",
              "      <td>144372.41</td>\n",
              "      <td>118671.85</td>\n",
              "      <td>383199.62</td>\n",
              "      <td>New York</td>\n",
              "      <td>182901.99</td>\n",
              "    </tr>\n",
              "    <tr>\n",
              "      <th>4</th>\n",
              "      <td>142107.34</td>\n",
              "      <td>91391.77</td>\n",
              "      <td>366168.42</td>\n",
              "      <td>Florida</td>\n",
              "      <td>166187.94</td>\n",
              "    </tr>\n",
              "  </tbody>\n",
              "</table>\n",
              "</div>\n",
              "    <div class=\"colab-df-buttons\">\n",
              "\n",
              "  <div class=\"colab-df-container\">\n",
              "    <button class=\"colab-df-convert\" onclick=\"convertToInteractive('df-b23b7c8d-df99-47d8-b14a-fd99efcba6ba')\"\n",
              "            title=\"Convert this dataframe to an interactive table.\"\n",
              "            style=\"display:none;\">\n",
              "\n",
              "  <svg xmlns=\"http://www.w3.org/2000/svg\" height=\"24px\" viewBox=\"0 -960 960 960\">\n",
              "    <path d=\"M120-120v-720h720v720H120Zm60-500h600v-160H180v160Zm220 220h160v-160H400v160Zm0 220h160v-160H400v160ZM180-400h160v-160H180v160Zm440 0h160v-160H620v160ZM180-180h160v-160H180v160Zm440 0h160v-160H620v160Z\"/>\n",
              "  </svg>\n",
              "    </button>\n",
              "\n",
              "  <style>\n",
              "    .colab-df-container {\n",
              "      display:flex;\n",
              "      gap: 12px;\n",
              "    }\n",
              "\n",
              "    .colab-df-convert {\n",
              "      background-color: #E8F0FE;\n",
              "      border: none;\n",
              "      border-radius: 50%;\n",
              "      cursor: pointer;\n",
              "      display: none;\n",
              "      fill: #1967D2;\n",
              "      height: 32px;\n",
              "      padding: 0 0 0 0;\n",
              "      width: 32px;\n",
              "    }\n",
              "\n",
              "    .colab-df-convert:hover {\n",
              "      background-color: #E2EBFA;\n",
              "      box-shadow: 0px 1px 2px rgba(60, 64, 67, 0.3), 0px 1px 3px 1px rgba(60, 64, 67, 0.15);\n",
              "      fill: #174EA6;\n",
              "    }\n",
              "\n",
              "    .colab-df-buttons div {\n",
              "      margin-bottom: 4px;\n",
              "    }\n",
              "\n",
              "    [theme=dark] .colab-df-convert {\n",
              "      background-color: #3B4455;\n",
              "      fill: #D2E3FC;\n",
              "    }\n",
              "\n",
              "    [theme=dark] .colab-df-convert:hover {\n",
              "      background-color: #434B5C;\n",
              "      box-shadow: 0px 1px 3px 1px rgba(0, 0, 0, 0.15);\n",
              "      filter: drop-shadow(0px 1px 2px rgba(0, 0, 0, 0.3));\n",
              "      fill: #FFFFFF;\n",
              "    }\n",
              "  </style>\n",
              "\n",
              "    <script>\n",
              "      const buttonEl =\n",
              "        document.querySelector('#df-b23b7c8d-df99-47d8-b14a-fd99efcba6ba button.colab-df-convert');\n",
              "      buttonEl.style.display =\n",
              "        google.colab.kernel.accessAllowed ? 'block' : 'none';\n",
              "\n",
              "      async function convertToInteractive(key) {\n",
              "        const element = document.querySelector('#df-b23b7c8d-df99-47d8-b14a-fd99efcba6ba');\n",
              "        const dataTable =\n",
              "          await google.colab.kernel.invokeFunction('convertToInteractive',\n",
              "                                                    [key], {});\n",
              "        if (!dataTable) return;\n",
              "\n",
              "        const docLinkHtml = 'Like what you see? Visit the ' +\n",
              "          '<a target=\"_blank\" href=https://colab.research.google.com/notebooks/data_table.ipynb>data table notebook</a>'\n",
              "          + ' to learn more about interactive tables.';\n",
              "        element.innerHTML = '';\n",
              "        dataTable['output_type'] = 'display_data';\n",
              "        await google.colab.output.renderOutput(dataTable, element);\n",
              "        const docLink = document.createElement('div');\n",
              "        docLink.innerHTML = docLinkHtml;\n",
              "        element.appendChild(docLink);\n",
              "      }\n",
              "    </script>\n",
              "  </div>\n",
              "\n",
              "\n",
              "<div id=\"df-5f26bcfd-3a66-40ee-919a-3f38ef3d6726\">\n",
              "  <button class=\"colab-df-quickchart\" onclick=\"quickchart('df-5f26bcfd-3a66-40ee-919a-3f38ef3d6726')\"\n",
              "            title=\"Suggest charts\"\n",
              "            style=\"display:none;\">\n",
              "\n",
              "<svg xmlns=\"http://www.w3.org/2000/svg\" height=\"24px\"viewBox=\"0 0 24 24\"\n",
              "     width=\"24px\">\n",
              "    <g>\n",
              "        <path d=\"M19 3H5c-1.1 0-2 .9-2 2v14c0 1.1.9 2 2 2h14c1.1 0 2-.9 2-2V5c0-1.1-.9-2-2-2zM9 17H7v-7h2v7zm4 0h-2V7h2v10zm4 0h-2v-4h2v4z\"/>\n",
              "    </g>\n",
              "</svg>\n",
              "  </button>\n",
              "\n",
              "<style>\n",
              "  .colab-df-quickchart {\n",
              "      --bg-color: #E8F0FE;\n",
              "      --fill-color: #1967D2;\n",
              "      --hover-bg-color: #E2EBFA;\n",
              "      --hover-fill-color: #174EA6;\n",
              "      --disabled-fill-color: #AAA;\n",
              "      --disabled-bg-color: #DDD;\n",
              "  }\n",
              "\n",
              "  [theme=dark] .colab-df-quickchart {\n",
              "      --bg-color: #3B4455;\n",
              "      --fill-color: #D2E3FC;\n",
              "      --hover-bg-color: #434B5C;\n",
              "      --hover-fill-color: #FFFFFF;\n",
              "      --disabled-bg-color: #3B4455;\n",
              "      --disabled-fill-color: #666;\n",
              "  }\n",
              "\n",
              "  .colab-df-quickchart {\n",
              "    background-color: var(--bg-color);\n",
              "    border: none;\n",
              "    border-radius: 50%;\n",
              "    cursor: pointer;\n",
              "    display: none;\n",
              "    fill: var(--fill-color);\n",
              "    height: 32px;\n",
              "    padding: 0;\n",
              "    width: 32px;\n",
              "  }\n",
              "\n",
              "  .colab-df-quickchart:hover {\n",
              "    background-color: var(--hover-bg-color);\n",
              "    box-shadow: 0 1px 2px rgba(60, 64, 67, 0.3), 0 1px 3px 1px rgba(60, 64, 67, 0.15);\n",
              "    fill: var(--button-hover-fill-color);\n",
              "  }\n",
              "\n",
              "  .colab-df-quickchart-complete:disabled,\n",
              "  .colab-df-quickchart-complete:disabled:hover {\n",
              "    background-color: var(--disabled-bg-color);\n",
              "    fill: var(--disabled-fill-color);\n",
              "    box-shadow: none;\n",
              "  }\n",
              "\n",
              "  .colab-df-spinner {\n",
              "    border: 2px solid var(--fill-color);\n",
              "    border-color: transparent;\n",
              "    border-bottom-color: var(--fill-color);\n",
              "    animation:\n",
              "      spin 1s steps(1) infinite;\n",
              "  }\n",
              "\n",
              "  @keyframes spin {\n",
              "    0% {\n",
              "      border-color: transparent;\n",
              "      border-bottom-color: var(--fill-color);\n",
              "      border-left-color: var(--fill-color);\n",
              "    }\n",
              "    20% {\n",
              "      border-color: transparent;\n",
              "      border-left-color: var(--fill-color);\n",
              "      border-top-color: var(--fill-color);\n",
              "    }\n",
              "    30% {\n",
              "      border-color: transparent;\n",
              "      border-left-color: var(--fill-color);\n",
              "      border-top-color: var(--fill-color);\n",
              "      border-right-color: var(--fill-color);\n",
              "    }\n",
              "    40% {\n",
              "      border-color: transparent;\n",
              "      border-right-color: var(--fill-color);\n",
              "      border-top-color: var(--fill-color);\n",
              "    }\n",
              "    60% {\n",
              "      border-color: transparent;\n",
              "      border-right-color: var(--fill-color);\n",
              "    }\n",
              "    80% {\n",
              "      border-color: transparent;\n",
              "      border-right-color: var(--fill-color);\n",
              "      border-bottom-color: var(--fill-color);\n",
              "    }\n",
              "    90% {\n",
              "      border-color: transparent;\n",
              "      border-bottom-color: var(--fill-color);\n",
              "    }\n",
              "  }\n",
              "</style>\n",
              "\n",
              "  <script>\n",
              "    async function quickchart(key) {\n",
              "      const quickchartButtonEl =\n",
              "        document.querySelector('#' + key + ' button');\n",
              "      quickchartButtonEl.disabled = true;  // To prevent multiple clicks.\n",
              "      quickchartButtonEl.classList.add('colab-df-spinner');\n",
              "      try {\n",
              "        const charts = await google.colab.kernel.invokeFunction(\n",
              "            'suggestCharts', [key], {});\n",
              "      } catch (error) {\n",
              "        console.error('Error during call to suggestCharts:', error);\n",
              "      }\n",
              "      quickchartButtonEl.classList.remove('colab-df-spinner');\n",
              "      quickchartButtonEl.classList.add('colab-df-quickchart-complete');\n",
              "    }\n",
              "    (() => {\n",
              "      let quickchartButtonEl =\n",
              "        document.querySelector('#df-5f26bcfd-3a66-40ee-919a-3f38ef3d6726 button');\n",
              "      quickchartButtonEl.style.display =\n",
              "        google.colab.kernel.accessAllowed ? 'block' : 'none';\n",
              "    })();\n",
              "  </script>\n",
              "</div>\n",
              "\n",
              "    </div>\n",
              "  </div>\n"
            ]
          },
          "metadata": {},
          "execution_count": 126
        }
      ]
    },
    {
      "cell_type": "markdown",
      "source": [
        "#**Friday December 29, 2023**"
      ],
      "metadata": {
        "id": "wLDv0yfYPyBa"
      }
    },
    {
      "cell_type": "markdown",
      "source": [
        "**python Pandas**\n",
        "\n",
        "1. Series\n",
        "2. DataFrame"
      ],
      "metadata": {
        "id": "IshypvSFQmGo"
      }
    },
    {
      "cell_type": "markdown",
      "source": [
        "**pandas has two main datatypes, Series and DataFrame.**\n",
        "\n",
        "- pandas.Series - a 1-dimensional column of data.\n",
        "- pandas.DataFrame (most common) - a 2-dimesional table of data with rows and columns.\n",
        "- You can create a Series using pd.Series() and passing it a Python list."
      ],
      "metadata": {
        "id": "U8Qp2kUVUUAb"
      }
    },
    {
      "cell_type": "code",
      "source": [
        "import pandas as pd"
      ],
      "metadata": {
        "id": "V781h3QwRGK0"
      },
      "execution_count": 53,
      "outputs": []
    },
    {
      "cell_type": "code",
      "source": [
        "lst1= [11,22,23,34,45,56,67,78,89]\n",
        "S1= pd.Series(lst1)\n",
        "S1"
      ],
      "metadata": {
        "colab": {
          "base_uri": "https://localhost:8080/"
        },
        "id": "yPdkV2FPDy_5",
        "outputId": "e0267d1d-fdaa-4226-b8fc-4f196e5e828e"
      },
      "execution_count": 54,
      "outputs": [
        {
          "output_type": "execute_result",
          "data": {
            "text/plain": [
              "0    11\n",
              "1    22\n",
              "2    23\n",
              "3    34\n",
              "4    45\n",
              "5    56\n",
              "6    67\n",
              "7    78\n",
              "8    89\n",
              "dtype: int64"
            ]
          },
          "metadata": {},
          "execution_count": 54
        }
      ]
    },
    {
      "cell_type": "code",
      "source": [
        "tup1= ('a','b','c','d','e')\n",
        "S2 = pd.Series(tup1)\n",
        "S2"
      ],
      "metadata": {
        "colab": {
          "base_uri": "https://localhost:8080/"
        },
        "id": "Gr_q9oHkRS3J",
        "outputId": "4fb7cba1-8c8c-4d48-fab7-5e8c0eed5270"
      },
      "execution_count": 55,
      "outputs": [
        {
          "output_type": "execute_result",
          "data": {
            "text/plain": [
              "0    a\n",
              "1    b\n",
              "2    c\n",
              "3    d\n",
              "4    e\n",
              "dtype: object"
            ]
          },
          "metadata": {},
          "execution_count": 55
        }
      ]
    },
    {
      "cell_type": "code",
      "source": [
        "str1= 'Python Progrmming'\n",
        "S3 = pd.Series(str1)\n",
        "S3"
      ],
      "metadata": {
        "colab": {
          "base_uri": "https://localhost:8080/"
        },
        "id": "g_grYpHVR0ZC",
        "outputId": "4fa4f747-8cf1-48b8-ba8d-72ff2a05d060"
      },
      "execution_count": 56,
      "outputs": [
        {
          "output_type": "execute_result",
          "data": {
            "text/plain": [
              "0    Python Progrmming\n",
              "dtype: object"
            ]
          },
          "metadata": {},
          "execution_count": 56
        }
      ]
    },
    {
      "cell_type": "code",
      "source": [
        "set1= {1,d,4,[1,2,3],'Where','any'}\n",
        "\n",
        "S4 = pd.Series(set1)\n",
        "\n",
        "S4"
      ],
      "metadata": {
        "colab": {
          "base_uri": "https://localhost:8080/",
          "height": 245
        },
        "id": "nHqq_6WUSA_m",
        "outputId": "08a78424-1d0e-4c8f-92a4-a5ba6b5d391a"
      },
      "execution_count": 57,
      "outputs": [
        {
          "output_type": "error",
          "ename": "NameError",
          "evalue": "ignored",
          "traceback": [
            "\u001b[0;31m---------------------------------------------------------------------------\u001b[0m",
            "\u001b[0;31mNameError\u001b[0m                                 Traceback (most recent call last)",
            "\u001b[0;32m<ipython-input-57-490505abe686>\u001b[0m in \u001b[0;36m<cell line: 1>\u001b[0;34m()\u001b[0m\n\u001b[0;32m----> 1\u001b[0;31m \u001b[0mset1\u001b[0m\u001b[0;34m=\u001b[0m \u001b[0;34m{\u001b[0m\u001b[0;36m1\u001b[0m\u001b[0;34m,\u001b[0m\u001b[0md\u001b[0m\u001b[0;34m,\u001b[0m\u001b[0;36m4\u001b[0m\u001b[0;34m,\u001b[0m\u001b[0;34m[\u001b[0m\u001b[0;36m1\u001b[0m\u001b[0;34m,\u001b[0m\u001b[0;36m2\u001b[0m\u001b[0;34m,\u001b[0m\u001b[0;36m3\u001b[0m\u001b[0;34m]\u001b[0m\u001b[0;34m,\u001b[0m\u001b[0;34m'Where'\u001b[0m\u001b[0;34m,\u001b[0m\u001b[0;34m'any'\u001b[0m\u001b[0;34m}\u001b[0m\u001b[0;34m\u001b[0m\u001b[0;34m\u001b[0m\u001b[0m\n\u001b[0m\u001b[1;32m      2\u001b[0m \u001b[0;34m\u001b[0m\u001b[0m\n\u001b[1;32m      3\u001b[0m \u001b[0mS4\u001b[0m \u001b[0;34m=\u001b[0m \u001b[0mpd\u001b[0m\u001b[0;34m.\u001b[0m\u001b[0mSeries\u001b[0m\u001b[0;34m(\u001b[0m\u001b[0mset1\u001b[0m\u001b[0;34m)\u001b[0m\u001b[0;34m\u001b[0m\u001b[0;34m\u001b[0m\u001b[0m\n\u001b[1;32m      4\u001b[0m \u001b[0;34m\u001b[0m\u001b[0m\n\u001b[1;32m      5\u001b[0m \u001b[0mS4\u001b[0m\u001b[0;34m\u001b[0m\u001b[0;34m\u001b[0m\u001b[0m\n",
            "\u001b[0;31mNameError\u001b[0m: name 'd' is not defined"
          ]
        }
      ]
    },
    {
      "cell_type": "code",
      "source": [
        "dict1= {'a': 1, 'b': 'Bnana', 'c': 'Injera'}\n",
        "S5 = pd.Series(dict1)\n",
        "S5"
      ],
      "metadata": {
        "colab": {
          "base_uri": "https://localhost:8080/"
        },
        "id": "940eyj8ASZgv",
        "outputId": "8e9de75d-eacd-4b42-9ff7-c09b84fac16f"
      },
      "execution_count": 58,
      "outputs": [
        {
          "output_type": "execute_result",
          "data": {
            "text/plain": [
              "a         1\n",
              "b     Bnana\n",
              "c    Injera\n",
              "dtype: object"
            ]
          },
          "metadata": {},
          "execution_count": 58
        }
      ]
    },
    {
      "cell_type": "code",
      "source": [
        "S5.dtypes"
      ],
      "metadata": {
        "colab": {
          "base_uri": "https://localhost:8080/"
        },
        "id": "BW7HjZPHXoLG",
        "outputId": "25b2919b-1436-48d0-a9bc-a497b6c50839"
      },
      "execution_count": 67,
      "outputs": [
        {
          "output_type": "execute_result",
          "data": {
            "text/plain": [
              "dtype('O')"
            ]
          },
          "metadata": {},
          "execution_count": 67
        }
      ]
    },
    {
      "cell_type": "code",
      "source": [
        "S5.info()"
      ],
      "metadata": {
        "colab": {
          "base_uri": "https://localhost:8080/"
        },
        "id": "Or7rcIFcSziB",
        "outputId": "287d121c-19c9-4bf5-80ac-dae0c49967dd"
      },
      "execution_count": 59,
      "outputs": [
        {
          "output_type": "stream",
          "name": "stdout",
          "text": [
            "<class 'pandas.core.series.Series'>\n",
            "Index: 3 entries, a to c\n",
            "Series name: None\n",
            "Non-Null Count  Dtype \n",
            "--------------  ----- \n",
            "3 non-null      object\n",
            "dtypes: object(1)\n",
            "memory usage: 156.0+ bytes\n"
          ]
        }
      ]
    },
    {
      "cell_type": "code",
      "source": [
        "S5.describe"
      ],
      "metadata": {
        "colab": {
          "base_uri": "https://localhost:8080/"
        },
        "id": "hgJBp0u1Ut9P",
        "outputId": "702220e5-80e2-4c73-e67c-5068d4352e5d"
      },
      "execution_count": 60,
      "outputs": [
        {
          "output_type": "execute_result",
          "data": {
            "text/plain": [
              "<bound method NDFrame.describe of a         1\n",
              "b     Bnana\n",
              "c    Injera\n",
              "dtype: object>"
            ]
          },
          "metadata": {},
          "execution_count": 60
        }
      ]
    },
    {
      "cell_type": "code",
      "source": [
        "S5.ndim"
      ],
      "metadata": {
        "colab": {
          "base_uri": "https://localhost:8080/"
        },
        "id": "vFEip4M6U8oz",
        "outputId": "8efeefe1-238c-48f6-a305-7bd78ab58be2"
      },
      "execution_count": 61,
      "outputs": [
        {
          "output_type": "execute_result",
          "data": {
            "text/plain": [
              "1"
            ]
          },
          "metadata": {},
          "execution_count": 61
        }
      ]
    },
    {
      "cell_type": "code",
      "source": [
        "S6 = pd.Series([1,2,4,5,6])\n",
        "S6"
      ],
      "metadata": {
        "colab": {
          "base_uri": "https://localhost:8080/"
        },
        "id": "1H4ik2M7VYcG",
        "outputId": "4045eb29-2ace-42fd-9e6e-11a8ff2e07d2"
      },
      "execution_count": 64,
      "outputs": [
        {
          "output_type": "execute_result",
          "data": {
            "text/plain": [
              "0    1\n",
              "1    2\n",
              "2    4\n",
              "3    5\n",
              "4    6\n",
              "dtype: int64"
            ]
          },
          "metadata": {},
          "execution_count": 64
        }
      ]
    },
    {
      "cell_type": "code",
      "source": [
        "S6.dtypes"
      ],
      "metadata": {
        "colab": {
          "base_uri": "https://localhost:8080/"
        },
        "id": "eCEVKHbzXfUA",
        "outputId": "d9bb5fbd-2fb0-4afb-d5ba-eb47ef3d47e4"
      },
      "execution_count": 65,
      "outputs": [
        {
          "output_type": "execute_result",
          "data": {
            "text/plain": [
              "dtype('int64')"
            ]
          },
          "metadata": {},
          "execution_count": 65
        }
      ]
    },
    {
      "cell_type": "code",
      "source": [
        "S6.dtype"
      ],
      "metadata": {
        "colab": {
          "base_uri": "https://localhost:8080/"
        },
        "id": "obxOUDU0X3OT",
        "outputId": "494c65ab-bd35-4e36-e9ed-8c7d45d56ced"
      },
      "execution_count": 68,
      "outputs": [
        {
          "output_type": "execute_result",
          "data": {
            "text/plain": [
              "dtype('int64')"
            ]
          },
          "metadata": {},
          "execution_count": 68
        }
      ]
    },
    {
      "cell_type": "code",
      "source": [
        "S6.info()"
      ],
      "metadata": {
        "colab": {
          "base_uri": "https://localhost:8080/"
        },
        "id": "A2ifQFSnX7Fa",
        "outputId": "d35e7de6-2a10-4b60-f6d2-21ac5c285aa8"
      },
      "execution_count": 70,
      "outputs": [
        {
          "output_type": "stream",
          "name": "stdout",
          "text": [
            "<class 'pandas.core.series.Series'>\n",
            "RangeIndex: 5 entries, 0 to 4\n",
            "Series name: None\n",
            "Non-Null Count  Dtype\n",
            "--------------  -----\n",
            "5 non-null      int64\n",
            "dtypes: int64(1)\n",
            "memory usage: 168.0 bytes\n"
          ]
        }
      ]
    },
    {
      "cell_type": "code",
      "source": [
        "S6.describe"
      ],
      "metadata": {
        "colab": {
          "base_uri": "https://localhost:8080/"
        },
        "id": "EuqN83A0YGEz",
        "outputId": "1e3e73ba-f03e-4add-ab1e-a041fbf502d7"
      },
      "execution_count": 71,
      "outputs": [
        {
          "output_type": "execute_result",
          "data": {
            "text/plain": [
              "<bound method NDFrame.describe of 0    1\n",
              "1    2\n",
              "2    4\n",
              "3    5\n",
              "4    6\n",
              "dtype: int64>"
            ]
          },
          "metadata": {},
          "execution_count": 71
        }
      ]
    },
    {
      "cell_type": "code",
      "source": [
        "S6.ndim"
      ],
      "metadata": {
        "colab": {
          "base_uri": "https://localhost:8080/"
        },
        "id": "UP0LbYl_YQ1O",
        "outputId": "f428f628-997b-4e6f-b0e0-c56d079e1a64"
      },
      "execution_count": 72,
      "outputs": [
        {
          "output_type": "execute_result",
          "data": {
            "text/plain": [
              "1"
            ]
          },
          "metadata": {},
          "execution_count": 72
        }
      ]
    },
    {
      "cell_type": "markdown",
      "source": [
        "**Numpy**"
      ],
      "metadata": {
        "id": "T4A-Ljt5WVUq"
      }
    },
    {
      "cell_type": "code",
      "source": [
        "import  numpy as np"
      ],
      "metadata": {
        "id": "PtM3GAiSWOCo"
      },
      "execution_count": 73,
      "outputs": []
    },
    {
      "cell_type": "code",
      "source": [
        "ar1 = np.array(lst1)\n",
        "ar1"
      ],
      "metadata": {
        "colab": {
          "base_uri": "https://localhost:8080/"
        },
        "id": "R3Mbx61GYZtu",
        "outputId": "e091fcd6-54f1-4ea0-a4b9-d67a2274fe52"
      },
      "execution_count": 75,
      "outputs": [
        {
          "output_type": "execute_result",
          "data": {
            "text/plain": [
              "array([11, 22, 23, 34, 45, 56, 67, 78, 89])"
            ]
          },
          "metadata": {},
          "execution_count": 75
        }
      ]
    },
    {
      "cell_type": "code",
      "source": [
        "S7 = pd.Series(ar1)\n",
        "S7"
      ],
      "metadata": {
        "colab": {
          "base_uri": "https://localhost:8080/"
        },
        "id": "YgWpCwR2YhqS",
        "outputId": "3b930582-2c70-42db-c517-91ef62199262"
      },
      "execution_count": 77,
      "outputs": [
        {
          "output_type": "execute_result",
          "data": {
            "text/plain": [
              "0    11\n",
              "1    22\n",
              "2    23\n",
              "3    34\n",
              "4    45\n",
              "5    56\n",
              "6    67\n",
              "7    78\n",
              "8    89\n",
              "dtype: int64"
            ]
          },
          "metadata": {},
          "execution_count": 77
        }
      ]
    },
    {
      "cell_type": "code",
      "source": [
        "import pandas as pd\n",
        "import numpy as np"
      ],
      "metadata": {
        "id": "nqyiZbkEYqbB"
      },
      "execution_count": 78,
      "outputs": []
    },
    {
      "cell_type": "code",
      "source": [
        "lst1 = [0,1,2,3,4,5,6,7,8,9]\n",
        "df1 = pd.DataFrame(lst1)\n",
        "df1"
      ],
      "metadata": {
        "colab": {
          "base_uri": "https://localhost:8080/",
          "height": 363
        },
        "id": "sdHyAtHwZkdF",
        "outputId": "2b701844-1ed6-4b76-d654-9d700a490d33"
      },
      "execution_count": 79,
      "outputs": [
        {
          "output_type": "execute_result",
          "data": {
            "text/plain": [
              "   0\n",
              "0  0\n",
              "1  1\n",
              "2  2\n",
              "3  3\n",
              "4  4\n",
              "5  5\n",
              "6  6\n",
              "7  7\n",
              "8  8\n",
              "9  9"
            ],
            "text/html": [
              "\n",
              "  <div id=\"df-50651449-8ad0-40ba-839e-6dbc7fbc3cab\" class=\"colab-df-container\">\n",
              "    <div>\n",
              "<style scoped>\n",
              "    .dataframe tbody tr th:only-of-type {\n",
              "        vertical-align: middle;\n",
              "    }\n",
              "\n",
              "    .dataframe tbody tr th {\n",
              "        vertical-align: top;\n",
              "    }\n",
              "\n",
              "    .dataframe thead th {\n",
              "        text-align: right;\n",
              "    }\n",
              "</style>\n",
              "<table border=\"1\" class=\"dataframe\">\n",
              "  <thead>\n",
              "    <tr style=\"text-align: right;\">\n",
              "      <th></th>\n",
              "      <th>0</th>\n",
              "    </tr>\n",
              "  </thead>\n",
              "  <tbody>\n",
              "    <tr>\n",
              "      <th>0</th>\n",
              "      <td>0</td>\n",
              "    </tr>\n",
              "    <tr>\n",
              "      <th>1</th>\n",
              "      <td>1</td>\n",
              "    </tr>\n",
              "    <tr>\n",
              "      <th>2</th>\n",
              "      <td>2</td>\n",
              "    </tr>\n",
              "    <tr>\n",
              "      <th>3</th>\n",
              "      <td>3</td>\n",
              "    </tr>\n",
              "    <tr>\n",
              "      <th>4</th>\n",
              "      <td>4</td>\n",
              "    </tr>\n",
              "    <tr>\n",
              "      <th>5</th>\n",
              "      <td>5</td>\n",
              "    </tr>\n",
              "    <tr>\n",
              "      <th>6</th>\n",
              "      <td>6</td>\n",
              "    </tr>\n",
              "    <tr>\n",
              "      <th>7</th>\n",
              "      <td>7</td>\n",
              "    </tr>\n",
              "    <tr>\n",
              "      <th>8</th>\n",
              "      <td>8</td>\n",
              "    </tr>\n",
              "    <tr>\n",
              "      <th>9</th>\n",
              "      <td>9</td>\n",
              "    </tr>\n",
              "  </tbody>\n",
              "</table>\n",
              "</div>\n",
              "    <div class=\"colab-df-buttons\">\n",
              "\n",
              "  <div class=\"colab-df-container\">\n",
              "    <button class=\"colab-df-convert\" onclick=\"convertToInteractive('df-50651449-8ad0-40ba-839e-6dbc7fbc3cab')\"\n",
              "            title=\"Convert this dataframe to an interactive table.\"\n",
              "            style=\"display:none;\">\n",
              "\n",
              "  <svg xmlns=\"http://www.w3.org/2000/svg\" height=\"24px\" viewBox=\"0 -960 960 960\">\n",
              "    <path d=\"M120-120v-720h720v720H120Zm60-500h600v-160H180v160Zm220 220h160v-160H400v160Zm0 220h160v-160H400v160ZM180-400h160v-160H180v160Zm440 0h160v-160H620v160ZM180-180h160v-160H180v160Zm440 0h160v-160H620v160Z\"/>\n",
              "  </svg>\n",
              "    </button>\n",
              "\n",
              "  <style>\n",
              "    .colab-df-container {\n",
              "      display:flex;\n",
              "      gap: 12px;\n",
              "    }\n",
              "\n",
              "    .colab-df-convert {\n",
              "      background-color: #E8F0FE;\n",
              "      border: none;\n",
              "      border-radius: 50%;\n",
              "      cursor: pointer;\n",
              "      display: none;\n",
              "      fill: #1967D2;\n",
              "      height: 32px;\n",
              "      padding: 0 0 0 0;\n",
              "      width: 32px;\n",
              "    }\n",
              "\n",
              "    .colab-df-convert:hover {\n",
              "      background-color: #E2EBFA;\n",
              "      box-shadow: 0px 1px 2px rgba(60, 64, 67, 0.3), 0px 1px 3px 1px rgba(60, 64, 67, 0.15);\n",
              "      fill: #174EA6;\n",
              "    }\n",
              "\n",
              "    .colab-df-buttons div {\n",
              "      margin-bottom: 4px;\n",
              "    }\n",
              "\n",
              "    [theme=dark] .colab-df-convert {\n",
              "      background-color: #3B4455;\n",
              "      fill: #D2E3FC;\n",
              "    }\n",
              "\n",
              "    [theme=dark] .colab-df-convert:hover {\n",
              "      background-color: #434B5C;\n",
              "      box-shadow: 0px 1px 3px 1px rgba(0, 0, 0, 0.15);\n",
              "      filter: drop-shadow(0px 1px 2px rgba(0, 0, 0, 0.3));\n",
              "      fill: #FFFFFF;\n",
              "    }\n",
              "  </style>\n",
              "\n",
              "    <script>\n",
              "      const buttonEl =\n",
              "        document.querySelector('#df-50651449-8ad0-40ba-839e-6dbc7fbc3cab button.colab-df-convert');\n",
              "      buttonEl.style.display =\n",
              "        google.colab.kernel.accessAllowed ? 'block' : 'none';\n",
              "\n",
              "      async function convertToInteractive(key) {\n",
              "        const element = document.querySelector('#df-50651449-8ad0-40ba-839e-6dbc7fbc3cab');\n",
              "        const dataTable =\n",
              "          await google.colab.kernel.invokeFunction('convertToInteractive',\n",
              "                                                    [key], {});\n",
              "        if (!dataTable) return;\n",
              "\n",
              "        const docLinkHtml = 'Like what you see? Visit the ' +\n",
              "          '<a target=\"_blank\" href=https://colab.research.google.com/notebooks/data_table.ipynb>data table notebook</a>'\n",
              "          + ' to learn more about interactive tables.';\n",
              "        element.innerHTML = '';\n",
              "        dataTable['output_type'] = 'display_data';\n",
              "        await google.colab.output.renderOutput(dataTable, element);\n",
              "        const docLink = document.createElement('div');\n",
              "        docLink.innerHTML = docLinkHtml;\n",
              "        element.appendChild(docLink);\n",
              "      }\n",
              "    </script>\n",
              "  </div>\n",
              "\n",
              "\n",
              "<div id=\"df-f1c4b56f-86a0-4140-b71c-01dd6487adde\">\n",
              "  <button class=\"colab-df-quickchart\" onclick=\"quickchart('df-f1c4b56f-86a0-4140-b71c-01dd6487adde')\"\n",
              "            title=\"Suggest charts\"\n",
              "            style=\"display:none;\">\n",
              "\n",
              "<svg xmlns=\"http://www.w3.org/2000/svg\" height=\"24px\"viewBox=\"0 0 24 24\"\n",
              "     width=\"24px\">\n",
              "    <g>\n",
              "        <path d=\"M19 3H5c-1.1 0-2 .9-2 2v14c0 1.1.9 2 2 2h14c1.1 0 2-.9 2-2V5c0-1.1-.9-2-2-2zM9 17H7v-7h2v7zm4 0h-2V7h2v10zm4 0h-2v-4h2v4z\"/>\n",
              "    </g>\n",
              "</svg>\n",
              "  </button>\n",
              "\n",
              "<style>\n",
              "  .colab-df-quickchart {\n",
              "      --bg-color: #E8F0FE;\n",
              "      --fill-color: #1967D2;\n",
              "      --hover-bg-color: #E2EBFA;\n",
              "      --hover-fill-color: #174EA6;\n",
              "      --disabled-fill-color: #AAA;\n",
              "      --disabled-bg-color: #DDD;\n",
              "  }\n",
              "\n",
              "  [theme=dark] .colab-df-quickchart {\n",
              "      --bg-color: #3B4455;\n",
              "      --fill-color: #D2E3FC;\n",
              "      --hover-bg-color: #434B5C;\n",
              "      --hover-fill-color: #FFFFFF;\n",
              "      --disabled-bg-color: #3B4455;\n",
              "      --disabled-fill-color: #666;\n",
              "  }\n",
              "\n",
              "  .colab-df-quickchart {\n",
              "    background-color: var(--bg-color);\n",
              "    border: none;\n",
              "    border-radius: 50%;\n",
              "    cursor: pointer;\n",
              "    display: none;\n",
              "    fill: var(--fill-color);\n",
              "    height: 32px;\n",
              "    padding: 0;\n",
              "    width: 32px;\n",
              "  }\n",
              "\n",
              "  .colab-df-quickchart:hover {\n",
              "    background-color: var(--hover-bg-color);\n",
              "    box-shadow: 0 1px 2px rgba(60, 64, 67, 0.3), 0 1px 3px 1px rgba(60, 64, 67, 0.15);\n",
              "    fill: var(--button-hover-fill-color);\n",
              "  }\n",
              "\n",
              "  .colab-df-quickchart-complete:disabled,\n",
              "  .colab-df-quickchart-complete:disabled:hover {\n",
              "    background-color: var(--disabled-bg-color);\n",
              "    fill: var(--disabled-fill-color);\n",
              "    box-shadow: none;\n",
              "  }\n",
              "\n",
              "  .colab-df-spinner {\n",
              "    border: 2px solid var(--fill-color);\n",
              "    border-color: transparent;\n",
              "    border-bottom-color: var(--fill-color);\n",
              "    animation:\n",
              "      spin 1s steps(1) infinite;\n",
              "  }\n",
              "\n",
              "  @keyframes spin {\n",
              "    0% {\n",
              "      border-color: transparent;\n",
              "      border-bottom-color: var(--fill-color);\n",
              "      border-left-color: var(--fill-color);\n",
              "    }\n",
              "    20% {\n",
              "      border-color: transparent;\n",
              "      border-left-color: var(--fill-color);\n",
              "      border-top-color: var(--fill-color);\n",
              "    }\n",
              "    30% {\n",
              "      border-color: transparent;\n",
              "      border-left-color: var(--fill-color);\n",
              "      border-top-color: var(--fill-color);\n",
              "      border-right-color: var(--fill-color);\n",
              "    }\n",
              "    40% {\n",
              "      border-color: transparent;\n",
              "      border-right-color: var(--fill-color);\n",
              "      border-top-color: var(--fill-color);\n",
              "    }\n",
              "    60% {\n",
              "      border-color: transparent;\n",
              "      border-right-color: var(--fill-color);\n",
              "    }\n",
              "    80% {\n",
              "      border-color: transparent;\n",
              "      border-right-color: var(--fill-color);\n",
              "      border-bottom-color: var(--fill-color);\n",
              "    }\n",
              "    90% {\n",
              "      border-color: transparent;\n",
              "      border-bottom-color: var(--fill-color);\n",
              "    }\n",
              "  }\n",
              "</style>\n",
              "\n",
              "  <script>\n",
              "    async function quickchart(key) {\n",
              "      const quickchartButtonEl =\n",
              "        document.querySelector('#' + key + ' button');\n",
              "      quickchartButtonEl.disabled = true;  // To prevent multiple clicks.\n",
              "      quickchartButtonEl.classList.add('colab-df-spinner');\n",
              "      try {\n",
              "        const charts = await google.colab.kernel.invokeFunction(\n",
              "            'suggestCharts', [key], {});\n",
              "      } catch (error) {\n",
              "        console.error('Error during call to suggestCharts:', error);\n",
              "      }\n",
              "      quickchartButtonEl.classList.remove('colab-df-spinner');\n",
              "      quickchartButtonEl.classList.add('colab-df-quickchart-complete');\n",
              "    }\n",
              "    (() => {\n",
              "      let quickchartButtonEl =\n",
              "        document.querySelector('#df-f1c4b56f-86a0-4140-b71c-01dd6487adde button');\n",
              "      quickchartButtonEl.style.display =\n",
              "        google.colab.kernel.accessAllowed ? 'block' : 'none';\n",
              "    })();\n",
              "  </script>\n",
              "</div>\n",
              "\n",
              "  <div id=\"id_c8425770-ffb0-4ca6-b493-4983890e0acd\">\n",
              "    <style>\n",
              "      .colab-df-generate {\n",
              "        background-color: #E8F0FE;\n",
              "        border: none;\n",
              "        border-radius: 50%;\n",
              "        cursor: pointer;\n",
              "        display: none;\n",
              "        fill: #1967D2;\n",
              "        height: 32px;\n",
              "        padding: 0 0 0 0;\n",
              "        width: 32px;\n",
              "      }\n",
              "\n",
              "      .colab-df-generate:hover {\n",
              "        background-color: #E2EBFA;\n",
              "        box-shadow: 0px 1px 2px rgba(60, 64, 67, 0.3), 0px 1px 3px 1px rgba(60, 64, 67, 0.15);\n",
              "        fill: #174EA6;\n",
              "      }\n",
              "\n",
              "      [theme=dark] .colab-df-generate {\n",
              "        background-color: #3B4455;\n",
              "        fill: #D2E3FC;\n",
              "      }\n",
              "\n",
              "      [theme=dark] .colab-df-generate:hover {\n",
              "        background-color: #434B5C;\n",
              "        box-shadow: 0px 1px 3px 1px rgba(0, 0, 0, 0.15);\n",
              "        filter: drop-shadow(0px 1px 2px rgba(0, 0, 0, 0.3));\n",
              "        fill: #FFFFFF;\n",
              "      }\n",
              "    </style>\n",
              "    <button class=\"colab-df-generate\" onclick=\"generateWithVariable('df1')\"\n",
              "            title=\"Generate code using this dataframe.\"\n",
              "            style=\"display:none;\">\n",
              "\n",
              "  <svg xmlns=\"http://www.w3.org/2000/svg\" height=\"24px\"viewBox=\"0 0 24 24\"\n",
              "       width=\"24px\">\n",
              "    <path d=\"M7,19H8.4L18.45,9,17,7.55,7,17.6ZM5,21V16.75L18.45,3.32a2,2,0,0,1,2.83,0l1.4,1.43a1.91,1.91,0,0,1,.58,1.4,1.91,1.91,0,0,1-.58,1.4L9.25,21ZM18.45,9,17,7.55Zm-12,3A5.31,5.31,0,0,0,4.9,8.1,5.31,5.31,0,0,0,1,6.5,5.31,5.31,0,0,0,4.9,4.9,5.31,5.31,0,0,0,6.5,1,5.31,5.31,0,0,0,8.1,4.9,5.31,5.31,0,0,0,12,6.5,5.46,5.46,0,0,0,6.5,12Z\"/>\n",
              "  </svg>\n",
              "    </button>\n",
              "    <script>\n",
              "      (() => {\n",
              "      const buttonEl =\n",
              "        document.querySelector('#id_c8425770-ffb0-4ca6-b493-4983890e0acd button.colab-df-generate');\n",
              "      buttonEl.style.display =\n",
              "        google.colab.kernel.accessAllowed ? 'block' : 'none';\n",
              "\n",
              "      buttonEl.onclick = () => {\n",
              "        google.colab.notebook.generateWithVariable('df1');\n",
              "      }\n",
              "      })();\n",
              "    </script>\n",
              "  </div>\n",
              "\n",
              "    </div>\n",
              "  </div>\n"
            ]
          },
          "metadata": {},
          "execution_count": 79
        }
      ]
    },
    {
      "cell_type": "code",
      "source": [
        "df1.size"
      ],
      "metadata": {
        "colab": {
          "base_uri": "https://localhost:8080/"
        },
        "id": "CaWlvJVaZzSX",
        "outputId": "7fb384d5-1ded-46d3-a767-0c8fe8261203"
      },
      "execution_count": 80,
      "outputs": [
        {
          "output_type": "execute_result",
          "data": {
            "text/plain": [
              "10"
            ]
          },
          "metadata": {},
          "execution_count": 80
        }
      ]
    },
    {
      "cell_type": "code",
      "source": [
        "df1.shape"
      ],
      "metadata": {
        "colab": {
          "base_uri": "https://localhost:8080/"
        },
        "id": "IzuvLX0tZ8J3",
        "outputId": "41331f9c-4623-4e70-f005-43c6be24fbbd"
      },
      "execution_count": 81,
      "outputs": [
        {
          "output_type": "execute_result",
          "data": {
            "text/plain": [
              "(10, 1)"
            ]
          },
          "metadata": {},
          "execution_count": 81
        }
      ]
    },
    {
      "cell_type": "code",
      "source": [
        "df1.ndim"
      ],
      "metadata": {
        "colab": {
          "base_uri": "https://localhost:8080/"
        },
        "id": "4t4zg75OaAJa",
        "outputId": "4a60e8f0-2abb-44c3-8834-a124bfa68b8f"
      },
      "execution_count": 82,
      "outputs": [
        {
          "output_type": "execute_result",
          "data": {
            "text/plain": [
              "2"
            ]
          },
          "metadata": {},
          "execution_count": 82
        }
      ]
    },
    {
      "cell_type": "code",
      "source": [
        "tup1 = ('a','b','c','d','e','f','g','h','i','j')"
      ],
      "metadata": {
        "id": "6pRK9j18aP3e"
      },
      "execution_count": 86,
      "outputs": []
    },
    {
      "cell_type": "code",
      "source": [
        "df1[1]= tup1"
      ],
      "metadata": {
        "id": "v8n-tuZhaZps"
      },
      "execution_count": 87,
      "outputs": []
    },
    {
      "cell_type": "code",
      "source": [
        "df1"
      ],
      "metadata": {
        "colab": {
          "base_uri": "https://localhost:8080/",
          "height": 363
        },
        "id": "Kbbws-r8ahbG",
        "outputId": "4d162528-0366-42e2-cc3a-0c718475350c"
      },
      "execution_count": 88,
      "outputs": [
        {
          "output_type": "execute_result",
          "data": {
            "text/plain": [
              "   0  1\n",
              "0  0  a\n",
              "1  1  b\n",
              "2  2  c\n",
              "3  3  d\n",
              "4  4  e\n",
              "5  5  f\n",
              "6  6  g\n",
              "7  7  h\n",
              "8  8  i\n",
              "9  9  j"
            ],
            "text/html": [
              "\n",
              "  <div id=\"df-fa9e7213-0982-4535-85e3-46aa68e64b29\" class=\"colab-df-container\">\n",
              "    <div>\n",
              "<style scoped>\n",
              "    .dataframe tbody tr th:only-of-type {\n",
              "        vertical-align: middle;\n",
              "    }\n",
              "\n",
              "    .dataframe tbody tr th {\n",
              "        vertical-align: top;\n",
              "    }\n",
              "\n",
              "    .dataframe thead th {\n",
              "        text-align: right;\n",
              "    }\n",
              "</style>\n",
              "<table border=\"1\" class=\"dataframe\">\n",
              "  <thead>\n",
              "    <tr style=\"text-align: right;\">\n",
              "      <th></th>\n",
              "      <th>0</th>\n",
              "      <th>1</th>\n",
              "    </tr>\n",
              "  </thead>\n",
              "  <tbody>\n",
              "    <tr>\n",
              "      <th>0</th>\n",
              "      <td>0</td>\n",
              "      <td>a</td>\n",
              "    </tr>\n",
              "    <tr>\n",
              "      <th>1</th>\n",
              "      <td>1</td>\n",
              "      <td>b</td>\n",
              "    </tr>\n",
              "    <tr>\n",
              "      <th>2</th>\n",
              "      <td>2</td>\n",
              "      <td>c</td>\n",
              "    </tr>\n",
              "    <tr>\n",
              "      <th>3</th>\n",
              "      <td>3</td>\n",
              "      <td>d</td>\n",
              "    </tr>\n",
              "    <tr>\n",
              "      <th>4</th>\n",
              "      <td>4</td>\n",
              "      <td>e</td>\n",
              "    </tr>\n",
              "    <tr>\n",
              "      <th>5</th>\n",
              "      <td>5</td>\n",
              "      <td>f</td>\n",
              "    </tr>\n",
              "    <tr>\n",
              "      <th>6</th>\n",
              "      <td>6</td>\n",
              "      <td>g</td>\n",
              "    </tr>\n",
              "    <tr>\n",
              "      <th>7</th>\n",
              "      <td>7</td>\n",
              "      <td>h</td>\n",
              "    </tr>\n",
              "    <tr>\n",
              "      <th>8</th>\n",
              "      <td>8</td>\n",
              "      <td>i</td>\n",
              "    </tr>\n",
              "    <tr>\n",
              "      <th>9</th>\n",
              "      <td>9</td>\n",
              "      <td>j</td>\n",
              "    </tr>\n",
              "  </tbody>\n",
              "</table>\n",
              "</div>\n",
              "    <div class=\"colab-df-buttons\">\n",
              "\n",
              "  <div class=\"colab-df-container\">\n",
              "    <button class=\"colab-df-convert\" onclick=\"convertToInteractive('df-fa9e7213-0982-4535-85e3-46aa68e64b29')\"\n",
              "            title=\"Convert this dataframe to an interactive table.\"\n",
              "            style=\"display:none;\">\n",
              "\n",
              "  <svg xmlns=\"http://www.w3.org/2000/svg\" height=\"24px\" viewBox=\"0 -960 960 960\">\n",
              "    <path d=\"M120-120v-720h720v720H120Zm60-500h600v-160H180v160Zm220 220h160v-160H400v160Zm0 220h160v-160H400v160ZM180-400h160v-160H180v160Zm440 0h160v-160H620v160ZM180-180h160v-160H180v160Zm440 0h160v-160H620v160Z\"/>\n",
              "  </svg>\n",
              "    </button>\n",
              "\n",
              "  <style>\n",
              "    .colab-df-container {\n",
              "      display:flex;\n",
              "      gap: 12px;\n",
              "    }\n",
              "\n",
              "    .colab-df-convert {\n",
              "      background-color: #E8F0FE;\n",
              "      border: none;\n",
              "      border-radius: 50%;\n",
              "      cursor: pointer;\n",
              "      display: none;\n",
              "      fill: #1967D2;\n",
              "      height: 32px;\n",
              "      padding: 0 0 0 0;\n",
              "      width: 32px;\n",
              "    }\n",
              "\n",
              "    .colab-df-convert:hover {\n",
              "      background-color: #E2EBFA;\n",
              "      box-shadow: 0px 1px 2px rgba(60, 64, 67, 0.3), 0px 1px 3px 1px rgba(60, 64, 67, 0.15);\n",
              "      fill: #174EA6;\n",
              "    }\n",
              "\n",
              "    .colab-df-buttons div {\n",
              "      margin-bottom: 4px;\n",
              "    }\n",
              "\n",
              "    [theme=dark] .colab-df-convert {\n",
              "      background-color: #3B4455;\n",
              "      fill: #D2E3FC;\n",
              "    }\n",
              "\n",
              "    [theme=dark] .colab-df-convert:hover {\n",
              "      background-color: #434B5C;\n",
              "      box-shadow: 0px 1px 3px 1px rgba(0, 0, 0, 0.15);\n",
              "      filter: drop-shadow(0px 1px 2px rgba(0, 0, 0, 0.3));\n",
              "      fill: #FFFFFF;\n",
              "    }\n",
              "  </style>\n",
              "\n",
              "    <script>\n",
              "      const buttonEl =\n",
              "        document.querySelector('#df-fa9e7213-0982-4535-85e3-46aa68e64b29 button.colab-df-convert');\n",
              "      buttonEl.style.display =\n",
              "        google.colab.kernel.accessAllowed ? 'block' : 'none';\n",
              "\n",
              "      async function convertToInteractive(key) {\n",
              "        const element = document.querySelector('#df-fa9e7213-0982-4535-85e3-46aa68e64b29');\n",
              "        const dataTable =\n",
              "          await google.colab.kernel.invokeFunction('convertToInteractive',\n",
              "                                                    [key], {});\n",
              "        if (!dataTable) return;\n",
              "\n",
              "        const docLinkHtml = 'Like what you see? Visit the ' +\n",
              "          '<a target=\"_blank\" href=https://colab.research.google.com/notebooks/data_table.ipynb>data table notebook</a>'\n",
              "          + ' to learn more about interactive tables.';\n",
              "        element.innerHTML = '';\n",
              "        dataTable['output_type'] = 'display_data';\n",
              "        await google.colab.output.renderOutput(dataTable, element);\n",
              "        const docLink = document.createElement('div');\n",
              "        docLink.innerHTML = docLinkHtml;\n",
              "        element.appendChild(docLink);\n",
              "      }\n",
              "    </script>\n",
              "  </div>\n",
              "\n",
              "\n",
              "<div id=\"df-516b7e23-d869-4a0c-b459-e47a9a88142c\">\n",
              "  <button class=\"colab-df-quickchart\" onclick=\"quickchart('df-516b7e23-d869-4a0c-b459-e47a9a88142c')\"\n",
              "            title=\"Suggest charts\"\n",
              "            style=\"display:none;\">\n",
              "\n",
              "<svg xmlns=\"http://www.w3.org/2000/svg\" height=\"24px\"viewBox=\"0 0 24 24\"\n",
              "     width=\"24px\">\n",
              "    <g>\n",
              "        <path d=\"M19 3H5c-1.1 0-2 .9-2 2v14c0 1.1.9 2 2 2h14c1.1 0 2-.9 2-2V5c0-1.1-.9-2-2-2zM9 17H7v-7h2v7zm4 0h-2V7h2v10zm4 0h-2v-4h2v4z\"/>\n",
              "    </g>\n",
              "</svg>\n",
              "  </button>\n",
              "\n",
              "<style>\n",
              "  .colab-df-quickchart {\n",
              "      --bg-color: #E8F0FE;\n",
              "      --fill-color: #1967D2;\n",
              "      --hover-bg-color: #E2EBFA;\n",
              "      --hover-fill-color: #174EA6;\n",
              "      --disabled-fill-color: #AAA;\n",
              "      --disabled-bg-color: #DDD;\n",
              "  }\n",
              "\n",
              "  [theme=dark] .colab-df-quickchart {\n",
              "      --bg-color: #3B4455;\n",
              "      --fill-color: #D2E3FC;\n",
              "      --hover-bg-color: #434B5C;\n",
              "      --hover-fill-color: #FFFFFF;\n",
              "      --disabled-bg-color: #3B4455;\n",
              "      --disabled-fill-color: #666;\n",
              "  }\n",
              "\n",
              "  .colab-df-quickchart {\n",
              "    background-color: var(--bg-color);\n",
              "    border: none;\n",
              "    border-radius: 50%;\n",
              "    cursor: pointer;\n",
              "    display: none;\n",
              "    fill: var(--fill-color);\n",
              "    height: 32px;\n",
              "    padding: 0;\n",
              "    width: 32px;\n",
              "  }\n",
              "\n",
              "  .colab-df-quickchart:hover {\n",
              "    background-color: var(--hover-bg-color);\n",
              "    box-shadow: 0 1px 2px rgba(60, 64, 67, 0.3), 0 1px 3px 1px rgba(60, 64, 67, 0.15);\n",
              "    fill: var(--button-hover-fill-color);\n",
              "  }\n",
              "\n",
              "  .colab-df-quickchart-complete:disabled,\n",
              "  .colab-df-quickchart-complete:disabled:hover {\n",
              "    background-color: var(--disabled-bg-color);\n",
              "    fill: var(--disabled-fill-color);\n",
              "    box-shadow: none;\n",
              "  }\n",
              "\n",
              "  .colab-df-spinner {\n",
              "    border: 2px solid var(--fill-color);\n",
              "    border-color: transparent;\n",
              "    border-bottom-color: var(--fill-color);\n",
              "    animation:\n",
              "      spin 1s steps(1) infinite;\n",
              "  }\n",
              "\n",
              "  @keyframes spin {\n",
              "    0% {\n",
              "      border-color: transparent;\n",
              "      border-bottom-color: var(--fill-color);\n",
              "      border-left-color: var(--fill-color);\n",
              "    }\n",
              "    20% {\n",
              "      border-color: transparent;\n",
              "      border-left-color: var(--fill-color);\n",
              "      border-top-color: var(--fill-color);\n",
              "    }\n",
              "    30% {\n",
              "      border-color: transparent;\n",
              "      border-left-color: var(--fill-color);\n",
              "      border-top-color: var(--fill-color);\n",
              "      border-right-color: var(--fill-color);\n",
              "    }\n",
              "    40% {\n",
              "      border-color: transparent;\n",
              "      border-right-color: var(--fill-color);\n",
              "      border-top-color: var(--fill-color);\n",
              "    }\n",
              "    60% {\n",
              "      border-color: transparent;\n",
              "      border-right-color: var(--fill-color);\n",
              "    }\n",
              "    80% {\n",
              "      border-color: transparent;\n",
              "      border-right-color: var(--fill-color);\n",
              "      border-bottom-color: var(--fill-color);\n",
              "    }\n",
              "    90% {\n",
              "      border-color: transparent;\n",
              "      border-bottom-color: var(--fill-color);\n",
              "    }\n",
              "  }\n",
              "</style>\n",
              "\n",
              "  <script>\n",
              "    async function quickchart(key) {\n",
              "      const quickchartButtonEl =\n",
              "        document.querySelector('#' + key + ' button');\n",
              "      quickchartButtonEl.disabled = true;  // To prevent multiple clicks.\n",
              "      quickchartButtonEl.classList.add('colab-df-spinner');\n",
              "      try {\n",
              "        const charts = await google.colab.kernel.invokeFunction(\n",
              "            'suggestCharts', [key], {});\n",
              "      } catch (error) {\n",
              "        console.error('Error during call to suggestCharts:', error);\n",
              "      }\n",
              "      quickchartButtonEl.classList.remove('colab-df-spinner');\n",
              "      quickchartButtonEl.classList.add('colab-df-quickchart-complete');\n",
              "    }\n",
              "    (() => {\n",
              "      let quickchartButtonEl =\n",
              "        document.querySelector('#df-516b7e23-d869-4a0c-b459-e47a9a88142c button');\n",
              "      quickchartButtonEl.style.display =\n",
              "        google.colab.kernel.accessAllowed ? 'block' : 'none';\n",
              "    })();\n",
              "  </script>\n",
              "</div>\n",
              "\n",
              "  <div id=\"id_60af84d5-cd1c-4f46-b53b-8dd369300ea7\">\n",
              "    <style>\n",
              "      .colab-df-generate {\n",
              "        background-color: #E8F0FE;\n",
              "        border: none;\n",
              "        border-radius: 50%;\n",
              "        cursor: pointer;\n",
              "        display: none;\n",
              "        fill: #1967D2;\n",
              "        height: 32px;\n",
              "        padding: 0 0 0 0;\n",
              "        width: 32px;\n",
              "      }\n",
              "\n",
              "      .colab-df-generate:hover {\n",
              "        background-color: #E2EBFA;\n",
              "        box-shadow: 0px 1px 2px rgba(60, 64, 67, 0.3), 0px 1px 3px 1px rgba(60, 64, 67, 0.15);\n",
              "        fill: #174EA6;\n",
              "      }\n",
              "\n",
              "      [theme=dark] .colab-df-generate {\n",
              "        background-color: #3B4455;\n",
              "        fill: #D2E3FC;\n",
              "      }\n",
              "\n",
              "      [theme=dark] .colab-df-generate:hover {\n",
              "        background-color: #434B5C;\n",
              "        box-shadow: 0px 1px 3px 1px rgba(0, 0, 0, 0.15);\n",
              "        filter: drop-shadow(0px 1px 2px rgba(0, 0, 0, 0.3));\n",
              "        fill: #FFFFFF;\n",
              "      }\n",
              "    </style>\n",
              "    <button class=\"colab-df-generate\" onclick=\"generateWithVariable('df1')\"\n",
              "            title=\"Generate code using this dataframe.\"\n",
              "            style=\"display:none;\">\n",
              "\n",
              "  <svg xmlns=\"http://www.w3.org/2000/svg\" height=\"24px\"viewBox=\"0 0 24 24\"\n",
              "       width=\"24px\">\n",
              "    <path d=\"M7,19H8.4L18.45,9,17,7.55,7,17.6ZM5,21V16.75L18.45,3.32a2,2,0,0,1,2.83,0l1.4,1.43a1.91,1.91,0,0,1,.58,1.4,1.91,1.91,0,0,1-.58,1.4L9.25,21ZM18.45,9,17,7.55Zm-12,3A5.31,5.31,0,0,0,4.9,8.1,5.31,5.31,0,0,0,1,6.5,5.31,5.31,0,0,0,4.9,4.9,5.31,5.31,0,0,0,6.5,1,5.31,5.31,0,0,0,8.1,4.9,5.31,5.31,0,0,0,12,6.5,5.46,5.46,0,0,0,6.5,12Z\"/>\n",
              "  </svg>\n",
              "    </button>\n",
              "    <script>\n",
              "      (() => {\n",
              "      const buttonEl =\n",
              "        document.querySelector('#id_60af84d5-cd1c-4f46-b53b-8dd369300ea7 button.colab-df-generate');\n",
              "      buttonEl.style.display =\n",
              "        google.colab.kernel.accessAllowed ? 'block' : 'none';\n",
              "\n",
              "      buttonEl.onclick = () => {\n",
              "        google.colab.notebook.generateWithVariable('df1');\n",
              "      }\n",
              "      })();\n",
              "    </script>\n",
              "  </div>\n",
              "\n",
              "    </div>\n",
              "  </div>\n"
            ]
          },
          "metadata": {},
          "execution_count": 88
        }
      ]
    },
    {
      "cell_type": "code",
      "source": [
        "S8 = pd.Series([10,20,30,40,50,60,70,80,90,100])"
      ],
      "metadata": {
        "id": "pFQAkmboa5gI"
      },
      "execution_count": 89,
      "outputs": []
    },
    {
      "cell_type": "code",
      "source": [
        "df1[2] = S8"
      ],
      "metadata": {
        "id": "S2KEIFqccJn5"
      },
      "execution_count": 90,
      "outputs": []
    },
    {
      "cell_type": "code",
      "source": [
        "df1"
      ],
      "metadata": {
        "colab": {
          "base_uri": "https://localhost:8080/",
          "height": 363
        },
        "id": "-4q034zPcOh7",
        "outputId": "6049e01d-b607-4f30-9a9c-d547fbe1e76a"
      },
      "execution_count": 91,
      "outputs": [
        {
          "output_type": "execute_result",
          "data": {
            "text/plain": [
              "   0  1    2\n",
              "0  0  a   10\n",
              "1  1  b   20\n",
              "2  2  c   30\n",
              "3  3  d   40\n",
              "4  4  e   50\n",
              "5  5  f   60\n",
              "6  6  g   70\n",
              "7  7  h   80\n",
              "8  8  i   90\n",
              "9  9  j  100"
            ],
            "text/html": [
              "\n",
              "  <div id=\"df-5e301cd3-2020-4220-8804-fffc1183cb0a\" class=\"colab-df-container\">\n",
              "    <div>\n",
              "<style scoped>\n",
              "    .dataframe tbody tr th:only-of-type {\n",
              "        vertical-align: middle;\n",
              "    }\n",
              "\n",
              "    .dataframe tbody tr th {\n",
              "        vertical-align: top;\n",
              "    }\n",
              "\n",
              "    .dataframe thead th {\n",
              "        text-align: right;\n",
              "    }\n",
              "</style>\n",
              "<table border=\"1\" class=\"dataframe\">\n",
              "  <thead>\n",
              "    <tr style=\"text-align: right;\">\n",
              "      <th></th>\n",
              "      <th>0</th>\n",
              "      <th>1</th>\n",
              "      <th>2</th>\n",
              "    </tr>\n",
              "  </thead>\n",
              "  <tbody>\n",
              "    <tr>\n",
              "      <th>0</th>\n",
              "      <td>0</td>\n",
              "      <td>a</td>\n",
              "      <td>10</td>\n",
              "    </tr>\n",
              "    <tr>\n",
              "      <th>1</th>\n",
              "      <td>1</td>\n",
              "      <td>b</td>\n",
              "      <td>20</td>\n",
              "    </tr>\n",
              "    <tr>\n",
              "      <th>2</th>\n",
              "      <td>2</td>\n",
              "      <td>c</td>\n",
              "      <td>30</td>\n",
              "    </tr>\n",
              "    <tr>\n",
              "      <th>3</th>\n",
              "      <td>3</td>\n",
              "      <td>d</td>\n",
              "      <td>40</td>\n",
              "    </tr>\n",
              "    <tr>\n",
              "      <th>4</th>\n",
              "      <td>4</td>\n",
              "      <td>e</td>\n",
              "      <td>50</td>\n",
              "    </tr>\n",
              "    <tr>\n",
              "      <th>5</th>\n",
              "      <td>5</td>\n",
              "      <td>f</td>\n",
              "      <td>60</td>\n",
              "    </tr>\n",
              "    <tr>\n",
              "      <th>6</th>\n",
              "      <td>6</td>\n",
              "      <td>g</td>\n",
              "      <td>70</td>\n",
              "    </tr>\n",
              "    <tr>\n",
              "      <th>7</th>\n",
              "      <td>7</td>\n",
              "      <td>h</td>\n",
              "      <td>80</td>\n",
              "    </tr>\n",
              "    <tr>\n",
              "      <th>8</th>\n",
              "      <td>8</td>\n",
              "      <td>i</td>\n",
              "      <td>90</td>\n",
              "    </tr>\n",
              "    <tr>\n",
              "      <th>9</th>\n",
              "      <td>9</td>\n",
              "      <td>j</td>\n",
              "      <td>100</td>\n",
              "    </tr>\n",
              "  </tbody>\n",
              "</table>\n",
              "</div>\n",
              "    <div class=\"colab-df-buttons\">\n",
              "\n",
              "  <div class=\"colab-df-container\">\n",
              "    <button class=\"colab-df-convert\" onclick=\"convertToInteractive('df-5e301cd3-2020-4220-8804-fffc1183cb0a')\"\n",
              "            title=\"Convert this dataframe to an interactive table.\"\n",
              "            style=\"display:none;\">\n",
              "\n",
              "  <svg xmlns=\"http://www.w3.org/2000/svg\" height=\"24px\" viewBox=\"0 -960 960 960\">\n",
              "    <path d=\"M120-120v-720h720v720H120Zm60-500h600v-160H180v160Zm220 220h160v-160H400v160Zm0 220h160v-160H400v160ZM180-400h160v-160H180v160Zm440 0h160v-160H620v160ZM180-180h160v-160H180v160Zm440 0h160v-160H620v160Z\"/>\n",
              "  </svg>\n",
              "    </button>\n",
              "\n",
              "  <style>\n",
              "    .colab-df-container {\n",
              "      display:flex;\n",
              "      gap: 12px;\n",
              "    }\n",
              "\n",
              "    .colab-df-convert {\n",
              "      background-color: #E8F0FE;\n",
              "      border: none;\n",
              "      border-radius: 50%;\n",
              "      cursor: pointer;\n",
              "      display: none;\n",
              "      fill: #1967D2;\n",
              "      height: 32px;\n",
              "      padding: 0 0 0 0;\n",
              "      width: 32px;\n",
              "    }\n",
              "\n",
              "    .colab-df-convert:hover {\n",
              "      background-color: #E2EBFA;\n",
              "      box-shadow: 0px 1px 2px rgba(60, 64, 67, 0.3), 0px 1px 3px 1px rgba(60, 64, 67, 0.15);\n",
              "      fill: #174EA6;\n",
              "    }\n",
              "\n",
              "    .colab-df-buttons div {\n",
              "      margin-bottom: 4px;\n",
              "    }\n",
              "\n",
              "    [theme=dark] .colab-df-convert {\n",
              "      background-color: #3B4455;\n",
              "      fill: #D2E3FC;\n",
              "    }\n",
              "\n",
              "    [theme=dark] .colab-df-convert:hover {\n",
              "      background-color: #434B5C;\n",
              "      box-shadow: 0px 1px 3px 1px rgba(0, 0, 0, 0.15);\n",
              "      filter: drop-shadow(0px 1px 2px rgba(0, 0, 0, 0.3));\n",
              "      fill: #FFFFFF;\n",
              "    }\n",
              "  </style>\n",
              "\n",
              "    <script>\n",
              "      const buttonEl =\n",
              "        document.querySelector('#df-5e301cd3-2020-4220-8804-fffc1183cb0a button.colab-df-convert');\n",
              "      buttonEl.style.display =\n",
              "        google.colab.kernel.accessAllowed ? 'block' : 'none';\n",
              "\n",
              "      async function convertToInteractive(key) {\n",
              "        const element = document.querySelector('#df-5e301cd3-2020-4220-8804-fffc1183cb0a');\n",
              "        const dataTable =\n",
              "          await google.colab.kernel.invokeFunction('convertToInteractive',\n",
              "                                                    [key], {});\n",
              "        if (!dataTable) return;\n",
              "\n",
              "        const docLinkHtml = 'Like what you see? Visit the ' +\n",
              "          '<a target=\"_blank\" href=https://colab.research.google.com/notebooks/data_table.ipynb>data table notebook</a>'\n",
              "          + ' to learn more about interactive tables.';\n",
              "        element.innerHTML = '';\n",
              "        dataTable['output_type'] = 'display_data';\n",
              "        await google.colab.output.renderOutput(dataTable, element);\n",
              "        const docLink = document.createElement('div');\n",
              "        docLink.innerHTML = docLinkHtml;\n",
              "        element.appendChild(docLink);\n",
              "      }\n",
              "    </script>\n",
              "  </div>\n",
              "\n",
              "\n",
              "<div id=\"df-a240ac7b-8ea3-4e1c-8f75-088123234707\">\n",
              "  <button class=\"colab-df-quickchart\" onclick=\"quickchart('df-a240ac7b-8ea3-4e1c-8f75-088123234707')\"\n",
              "            title=\"Suggest charts\"\n",
              "            style=\"display:none;\">\n",
              "\n",
              "<svg xmlns=\"http://www.w3.org/2000/svg\" height=\"24px\"viewBox=\"0 0 24 24\"\n",
              "     width=\"24px\">\n",
              "    <g>\n",
              "        <path d=\"M19 3H5c-1.1 0-2 .9-2 2v14c0 1.1.9 2 2 2h14c1.1 0 2-.9 2-2V5c0-1.1-.9-2-2-2zM9 17H7v-7h2v7zm4 0h-2V7h2v10zm4 0h-2v-4h2v4z\"/>\n",
              "    </g>\n",
              "</svg>\n",
              "  </button>\n",
              "\n",
              "<style>\n",
              "  .colab-df-quickchart {\n",
              "      --bg-color: #E8F0FE;\n",
              "      --fill-color: #1967D2;\n",
              "      --hover-bg-color: #E2EBFA;\n",
              "      --hover-fill-color: #174EA6;\n",
              "      --disabled-fill-color: #AAA;\n",
              "      --disabled-bg-color: #DDD;\n",
              "  }\n",
              "\n",
              "  [theme=dark] .colab-df-quickchart {\n",
              "      --bg-color: #3B4455;\n",
              "      --fill-color: #D2E3FC;\n",
              "      --hover-bg-color: #434B5C;\n",
              "      --hover-fill-color: #FFFFFF;\n",
              "      --disabled-bg-color: #3B4455;\n",
              "      --disabled-fill-color: #666;\n",
              "  }\n",
              "\n",
              "  .colab-df-quickchart {\n",
              "    background-color: var(--bg-color);\n",
              "    border: none;\n",
              "    border-radius: 50%;\n",
              "    cursor: pointer;\n",
              "    display: none;\n",
              "    fill: var(--fill-color);\n",
              "    height: 32px;\n",
              "    padding: 0;\n",
              "    width: 32px;\n",
              "  }\n",
              "\n",
              "  .colab-df-quickchart:hover {\n",
              "    background-color: var(--hover-bg-color);\n",
              "    box-shadow: 0 1px 2px rgba(60, 64, 67, 0.3), 0 1px 3px 1px rgba(60, 64, 67, 0.15);\n",
              "    fill: var(--button-hover-fill-color);\n",
              "  }\n",
              "\n",
              "  .colab-df-quickchart-complete:disabled,\n",
              "  .colab-df-quickchart-complete:disabled:hover {\n",
              "    background-color: var(--disabled-bg-color);\n",
              "    fill: var(--disabled-fill-color);\n",
              "    box-shadow: none;\n",
              "  }\n",
              "\n",
              "  .colab-df-spinner {\n",
              "    border: 2px solid var(--fill-color);\n",
              "    border-color: transparent;\n",
              "    border-bottom-color: var(--fill-color);\n",
              "    animation:\n",
              "      spin 1s steps(1) infinite;\n",
              "  }\n",
              "\n",
              "  @keyframes spin {\n",
              "    0% {\n",
              "      border-color: transparent;\n",
              "      border-bottom-color: var(--fill-color);\n",
              "      border-left-color: var(--fill-color);\n",
              "    }\n",
              "    20% {\n",
              "      border-color: transparent;\n",
              "      border-left-color: var(--fill-color);\n",
              "      border-top-color: var(--fill-color);\n",
              "    }\n",
              "    30% {\n",
              "      border-color: transparent;\n",
              "      border-left-color: var(--fill-color);\n",
              "      border-top-color: var(--fill-color);\n",
              "      border-right-color: var(--fill-color);\n",
              "    }\n",
              "    40% {\n",
              "      border-color: transparent;\n",
              "      border-right-color: var(--fill-color);\n",
              "      border-top-color: var(--fill-color);\n",
              "    }\n",
              "    60% {\n",
              "      border-color: transparent;\n",
              "      border-right-color: var(--fill-color);\n",
              "    }\n",
              "    80% {\n",
              "      border-color: transparent;\n",
              "      border-right-color: var(--fill-color);\n",
              "      border-bottom-color: var(--fill-color);\n",
              "    }\n",
              "    90% {\n",
              "      border-color: transparent;\n",
              "      border-bottom-color: var(--fill-color);\n",
              "    }\n",
              "  }\n",
              "</style>\n",
              "\n",
              "  <script>\n",
              "    async function quickchart(key) {\n",
              "      const quickchartButtonEl =\n",
              "        document.querySelector('#' + key + ' button');\n",
              "      quickchartButtonEl.disabled = true;  // To prevent multiple clicks.\n",
              "      quickchartButtonEl.classList.add('colab-df-spinner');\n",
              "      try {\n",
              "        const charts = await google.colab.kernel.invokeFunction(\n",
              "            'suggestCharts', [key], {});\n",
              "      } catch (error) {\n",
              "        console.error('Error during call to suggestCharts:', error);\n",
              "      }\n",
              "      quickchartButtonEl.classList.remove('colab-df-spinner');\n",
              "      quickchartButtonEl.classList.add('colab-df-quickchart-complete');\n",
              "    }\n",
              "    (() => {\n",
              "      let quickchartButtonEl =\n",
              "        document.querySelector('#df-a240ac7b-8ea3-4e1c-8f75-088123234707 button');\n",
              "      quickchartButtonEl.style.display =\n",
              "        google.colab.kernel.accessAllowed ? 'block' : 'none';\n",
              "    })();\n",
              "  </script>\n",
              "</div>\n",
              "\n",
              "  <div id=\"id_03c6a332-1cdd-4613-95ef-90ab14033042\">\n",
              "    <style>\n",
              "      .colab-df-generate {\n",
              "        background-color: #E8F0FE;\n",
              "        border: none;\n",
              "        border-radius: 50%;\n",
              "        cursor: pointer;\n",
              "        display: none;\n",
              "        fill: #1967D2;\n",
              "        height: 32px;\n",
              "        padding: 0 0 0 0;\n",
              "        width: 32px;\n",
              "      }\n",
              "\n",
              "      .colab-df-generate:hover {\n",
              "        background-color: #E2EBFA;\n",
              "        box-shadow: 0px 1px 2px rgba(60, 64, 67, 0.3), 0px 1px 3px 1px rgba(60, 64, 67, 0.15);\n",
              "        fill: #174EA6;\n",
              "      }\n",
              "\n",
              "      [theme=dark] .colab-df-generate {\n",
              "        background-color: #3B4455;\n",
              "        fill: #D2E3FC;\n",
              "      }\n",
              "\n",
              "      [theme=dark] .colab-df-generate:hover {\n",
              "        background-color: #434B5C;\n",
              "        box-shadow: 0px 1px 3px 1px rgba(0, 0, 0, 0.15);\n",
              "        filter: drop-shadow(0px 1px 2px rgba(0, 0, 0, 0.3));\n",
              "        fill: #FFFFFF;\n",
              "      }\n",
              "    </style>\n",
              "    <button class=\"colab-df-generate\" onclick=\"generateWithVariable('df1')\"\n",
              "            title=\"Generate code using this dataframe.\"\n",
              "            style=\"display:none;\">\n",
              "\n",
              "  <svg xmlns=\"http://www.w3.org/2000/svg\" height=\"24px\"viewBox=\"0 0 24 24\"\n",
              "       width=\"24px\">\n",
              "    <path d=\"M7,19H8.4L18.45,9,17,7.55,7,17.6ZM5,21V16.75L18.45,3.32a2,2,0,0,1,2.83,0l1.4,1.43a1.91,1.91,0,0,1,.58,1.4,1.91,1.91,0,0,1-.58,1.4L9.25,21ZM18.45,9,17,7.55Zm-12,3A5.31,5.31,0,0,0,4.9,8.1,5.31,5.31,0,0,0,1,6.5,5.31,5.31,0,0,0,4.9,4.9,5.31,5.31,0,0,0,6.5,1,5.31,5.31,0,0,0,8.1,4.9,5.31,5.31,0,0,0,12,6.5,5.46,5.46,0,0,0,6.5,12Z\"/>\n",
              "  </svg>\n",
              "    </button>\n",
              "    <script>\n",
              "      (() => {\n",
              "      const buttonEl =\n",
              "        document.querySelector('#id_03c6a332-1cdd-4613-95ef-90ab14033042 button.colab-df-generate');\n",
              "      buttonEl.style.display =\n",
              "        google.colab.kernel.accessAllowed ? 'block' : 'none';\n",
              "\n",
              "      buttonEl.onclick = () => {\n",
              "        google.colab.notebook.generateWithVariable('df1');\n",
              "      }\n",
              "      })();\n",
              "    </script>\n",
              "  </div>\n",
              "\n",
              "    </div>\n",
              "  </div>\n"
            ]
          },
          "metadata": {},
          "execution_count": 91
        }
      ]
    },
    {
      "cell_type": "code",
      "source": [
        "ar2 = np.array([11,22,33,44,55,66,77,88,99,111])"
      ],
      "metadata": {
        "id": "t9ZHCF_bcQJ3"
      },
      "execution_count": 92,
      "outputs": []
    },
    {
      "cell_type": "code",
      "source": [
        "df1[3]= ar2"
      ],
      "metadata": {
        "id": "GOTYs5kQcowI"
      },
      "execution_count": 93,
      "outputs": []
    },
    {
      "cell_type": "code",
      "source": [
        "df1"
      ],
      "metadata": {
        "colab": {
          "base_uri": "https://localhost:8080/",
          "height": 363
        },
        "id": "GlpU51ikctL8",
        "outputId": "f678da54-f25b-4441-a50c-f1dc0aa2ffcd"
      },
      "execution_count": 94,
      "outputs": [
        {
          "output_type": "execute_result",
          "data": {
            "text/plain": [
              "   0  1    2    3\n",
              "0  0  a   10   11\n",
              "1  1  b   20   22\n",
              "2  2  c   30   33\n",
              "3  3  d   40   44\n",
              "4  4  e   50   55\n",
              "5  5  f   60   66\n",
              "6  6  g   70   77\n",
              "7  7  h   80   88\n",
              "8  8  i   90   99\n",
              "9  9  j  100  111"
            ],
            "text/html": [
              "\n",
              "  <div id=\"df-8eb48dbf-cd2f-40a7-b719-ac4e3a9e2c0e\" class=\"colab-df-container\">\n",
              "    <div>\n",
              "<style scoped>\n",
              "    .dataframe tbody tr th:only-of-type {\n",
              "        vertical-align: middle;\n",
              "    }\n",
              "\n",
              "    .dataframe tbody tr th {\n",
              "        vertical-align: top;\n",
              "    }\n",
              "\n",
              "    .dataframe thead th {\n",
              "        text-align: right;\n",
              "    }\n",
              "</style>\n",
              "<table border=\"1\" class=\"dataframe\">\n",
              "  <thead>\n",
              "    <tr style=\"text-align: right;\">\n",
              "      <th></th>\n",
              "      <th>0</th>\n",
              "      <th>1</th>\n",
              "      <th>2</th>\n",
              "      <th>3</th>\n",
              "    </tr>\n",
              "  </thead>\n",
              "  <tbody>\n",
              "    <tr>\n",
              "      <th>0</th>\n",
              "      <td>0</td>\n",
              "      <td>a</td>\n",
              "      <td>10</td>\n",
              "      <td>11</td>\n",
              "    </tr>\n",
              "    <tr>\n",
              "      <th>1</th>\n",
              "      <td>1</td>\n",
              "      <td>b</td>\n",
              "      <td>20</td>\n",
              "      <td>22</td>\n",
              "    </tr>\n",
              "    <tr>\n",
              "      <th>2</th>\n",
              "      <td>2</td>\n",
              "      <td>c</td>\n",
              "      <td>30</td>\n",
              "      <td>33</td>\n",
              "    </tr>\n",
              "    <tr>\n",
              "      <th>3</th>\n",
              "      <td>3</td>\n",
              "      <td>d</td>\n",
              "      <td>40</td>\n",
              "      <td>44</td>\n",
              "    </tr>\n",
              "    <tr>\n",
              "      <th>4</th>\n",
              "      <td>4</td>\n",
              "      <td>e</td>\n",
              "      <td>50</td>\n",
              "      <td>55</td>\n",
              "    </tr>\n",
              "    <tr>\n",
              "      <th>5</th>\n",
              "      <td>5</td>\n",
              "      <td>f</td>\n",
              "      <td>60</td>\n",
              "      <td>66</td>\n",
              "    </tr>\n",
              "    <tr>\n",
              "      <th>6</th>\n",
              "      <td>6</td>\n",
              "      <td>g</td>\n",
              "      <td>70</td>\n",
              "      <td>77</td>\n",
              "    </tr>\n",
              "    <tr>\n",
              "      <th>7</th>\n",
              "      <td>7</td>\n",
              "      <td>h</td>\n",
              "      <td>80</td>\n",
              "      <td>88</td>\n",
              "    </tr>\n",
              "    <tr>\n",
              "      <th>8</th>\n",
              "      <td>8</td>\n",
              "      <td>i</td>\n",
              "      <td>90</td>\n",
              "      <td>99</td>\n",
              "    </tr>\n",
              "    <tr>\n",
              "      <th>9</th>\n",
              "      <td>9</td>\n",
              "      <td>j</td>\n",
              "      <td>100</td>\n",
              "      <td>111</td>\n",
              "    </tr>\n",
              "  </tbody>\n",
              "</table>\n",
              "</div>\n",
              "    <div class=\"colab-df-buttons\">\n",
              "\n",
              "  <div class=\"colab-df-container\">\n",
              "    <button class=\"colab-df-convert\" onclick=\"convertToInteractive('df-8eb48dbf-cd2f-40a7-b719-ac4e3a9e2c0e')\"\n",
              "            title=\"Convert this dataframe to an interactive table.\"\n",
              "            style=\"display:none;\">\n",
              "\n",
              "  <svg xmlns=\"http://www.w3.org/2000/svg\" height=\"24px\" viewBox=\"0 -960 960 960\">\n",
              "    <path d=\"M120-120v-720h720v720H120Zm60-500h600v-160H180v160Zm220 220h160v-160H400v160Zm0 220h160v-160H400v160ZM180-400h160v-160H180v160Zm440 0h160v-160H620v160ZM180-180h160v-160H180v160Zm440 0h160v-160H620v160Z\"/>\n",
              "  </svg>\n",
              "    </button>\n",
              "\n",
              "  <style>\n",
              "    .colab-df-container {\n",
              "      display:flex;\n",
              "      gap: 12px;\n",
              "    }\n",
              "\n",
              "    .colab-df-convert {\n",
              "      background-color: #E8F0FE;\n",
              "      border: none;\n",
              "      border-radius: 50%;\n",
              "      cursor: pointer;\n",
              "      display: none;\n",
              "      fill: #1967D2;\n",
              "      height: 32px;\n",
              "      padding: 0 0 0 0;\n",
              "      width: 32px;\n",
              "    }\n",
              "\n",
              "    .colab-df-convert:hover {\n",
              "      background-color: #E2EBFA;\n",
              "      box-shadow: 0px 1px 2px rgba(60, 64, 67, 0.3), 0px 1px 3px 1px rgba(60, 64, 67, 0.15);\n",
              "      fill: #174EA6;\n",
              "    }\n",
              "\n",
              "    .colab-df-buttons div {\n",
              "      margin-bottom: 4px;\n",
              "    }\n",
              "\n",
              "    [theme=dark] .colab-df-convert {\n",
              "      background-color: #3B4455;\n",
              "      fill: #D2E3FC;\n",
              "    }\n",
              "\n",
              "    [theme=dark] .colab-df-convert:hover {\n",
              "      background-color: #434B5C;\n",
              "      box-shadow: 0px 1px 3px 1px rgba(0, 0, 0, 0.15);\n",
              "      filter: drop-shadow(0px 1px 2px rgba(0, 0, 0, 0.3));\n",
              "      fill: #FFFFFF;\n",
              "    }\n",
              "  </style>\n",
              "\n",
              "    <script>\n",
              "      const buttonEl =\n",
              "        document.querySelector('#df-8eb48dbf-cd2f-40a7-b719-ac4e3a9e2c0e button.colab-df-convert');\n",
              "      buttonEl.style.display =\n",
              "        google.colab.kernel.accessAllowed ? 'block' : 'none';\n",
              "\n",
              "      async function convertToInteractive(key) {\n",
              "        const element = document.querySelector('#df-8eb48dbf-cd2f-40a7-b719-ac4e3a9e2c0e');\n",
              "        const dataTable =\n",
              "          await google.colab.kernel.invokeFunction('convertToInteractive',\n",
              "                                                    [key], {});\n",
              "        if (!dataTable) return;\n",
              "\n",
              "        const docLinkHtml = 'Like what you see? Visit the ' +\n",
              "          '<a target=\"_blank\" href=https://colab.research.google.com/notebooks/data_table.ipynb>data table notebook</a>'\n",
              "          + ' to learn more about interactive tables.';\n",
              "        element.innerHTML = '';\n",
              "        dataTable['output_type'] = 'display_data';\n",
              "        await google.colab.output.renderOutput(dataTable, element);\n",
              "        const docLink = document.createElement('div');\n",
              "        docLink.innerHTML = docLinkHtml;\n",
              "        element.appendChild(docLink);\n",
              "      }\n",
              "    </script>\n",
              "  </div>\n",
              "\n",
              "\n",
              "<div id=\"df-8844e759-c96f-4d60-aa04-06aebfc8705a\">\n",
              "  <button class=\"colab-df-quickchart\" onclick=\"quickchart('df-8844e759-c96f-4d60-aa04-06aebfc8705a')\"\n",
              "            title=\"Suggest charts\"\n",
              "            style=\"display:none;\">\n",
              "\n",
              "<svg xmlns=\"http://www.w3.org/2000/svg\" height=\"24px\"viewBox=\"0 0 24 24\"\n",
              "     width=\"24px\">\n",
              "    <g>\n",
              "        <path d=\"M19 3H5c-1.1 0-2 .9-2 2v14c0 1.1.9 2 2 2h14c1.1 0 2-.9 2-2V5c0-1.1-.9-2-2-2zM9 17H7v-7h2v7zm4 0h-2V7h2v10zm4 0h-2v-4h2v4z\"/>\n",
              "    </g>\n",
              "</svg>\n",
              "  </button>\n",
              "\n",
              "<style>\n",
              "  .colab-df-quickchart {\n",
              "      --bg-color: #E8F0FE;\n",
              "      --fill-color: #1967D2;\n",
              "      --hover-bg-color: #E2EBFA;\n",
              "      --hover-fill-color: #174EA6;\n",
              "      --disabled-fill-color: #AAA;\n",
              "      --disabled-bg-color: #DDD;\n",
              "  }\n",
              "\n",
              "  [theme=dark] .colab-df-quickchart {\n",
              "      --bg-color: #3B4455;\n",
              "      --fill-color: #D2E3FC;\n",
              "      --hover-bg-color: #434B5C;\n",
              "      --hover-fill-color: #FFFFFF;\n",
              "      --disabled-bg-color: #3B4455;\n",
              "      --disabled-fill-color: #666;\n",
              "  }\n",
              "\n",
              "  .colab-df-quickchart {\n",
              "    background-color: var(--bg-color);\n",
              "    border: none;\n",
              "    border-radius: 50%;\n",
              "    cursor: pointer;\n",
              "    display: none;\n",
              "    fill: var(--fill-color);\n",
              "    height: 32px;\n",
              "    padding: 0;\n",
              "    width: 32px;\n",
              "  }\n",
              "\n",
              "  .colab-df-quickchart:hover {\n",
              "    background-color: var(--hover-bg-color);\n",
              "    box-shadow: 0 1px 2px rgba(60, 64, 67, 0.3), 0 1px 3px 1px rgba(60, 64, 67, 0.15);\n",
              "    fill: var(--button-hover-fill-color);\n",
              "  }\n",
              "\n",
              "  .colab-df-quickchart-complete:disabled,\n",
              "  .colab-df-quickchart-complete:disabled:hover {\n",
              "    background-color: var(--disabled-bg-color);\n",
              "    fill: var(--disabled-fill-color);\n",
              "    box-shadow: none;\n",
              "  }\n",
              "\n",
              "  .colab-df-spinner {\n",
              "    border: 2px solid var(--fill-color);\n",
              "    border-color: transparent;\n",
              "    border-bottom-color: var(--fill-color);\n",
              "    animation:\n",
              "      spin 1s steps(1) infinite;\n",
              "  }\n",
              "\n",
              "  @keyframes spin {\n",
              "    0% {\n",
              "      border-color: transparent;\n",
              "      border-bottom-color: var(--fill-color);\n",
              "      border-left-color: var(--fill-color);\n",
              "    }\n",
              "    20% {\n",
              "      border-color: transparent;\n",
              "      border-left-color: var(--fill-color);\n",
              "      border-top-color: var(--fill-color);\n",
              "    }\n",
              "    30% {\n",
              "      border-color: transparent;\n",
              "      border-left-color: var(--fill-color);\n",
              "      border-top-color: var(--fill-color);\n",
              "      border-right-color: var(--fill-color);\n",
              "    }\n",
              "    40% {\n",
              "      border-color: transparent;\n",
              "      border-right-color: var(--fill-color);\n",
              "      border-top-color: var(--fill-color);\n",
              "    }\n",
              "    60% {\n",
              "      border-color: transparent;\n",
              "      border-right-color: var(--fill-color);\n",
              "    }\n",
              "    80% {\n",
              "      border-color: transparent;\n",
              "      border-right-color: var(--fill-color);\n",
              "      border-bottom-color: var(--fill-color);\n",
              "    }\n",
              "    90% {\n",
              "      border-color: transparent;\n",
              "      border-bottom-color: var(--fill-color);\n",
              "    }\n",
              "  }\n",
              "</style>\n",
              "\n",
              "  <script>\n",
              "    async function quickchart(key) {\n",
              "      const quickchartButtonEl =\n",
              "        document.querySelector('#' + key + ' button');\n",
              "      quickchartButtonEl.disabled = true;  // To prevent multiple clicks.\n",
              "      quickchartButtonEl.classList.add('colab-df-spinner');\n",
              "      try {\n",
              "        const charts = await google.colab.kernel.invokeFunction(\n",
              "            'suggestCharts', [key], {});\n",
              "      } catch (error) {\n",
              "        console.error('Error during call to suggestCharts:', error);\n",
              "      }\n",
              "      quickchartButtonEl.classList.remove('colab-df-spinner');\n",
              "      quickchartButtonEl.classList.add('colab-df-quickchart-complete');\n",
              "    }\n",
              "    (() => {\n",
              "      let quickchartButtonEl =\n",
              "        document.querySelector('#df-8844e759-c96f-4d60-aa04-06aebfc8705a button');\n",
              "      quickchartButtonEl.style.display =\n",
              "        google.colab.kernel.accessAllowed ? 'block' : 'none';\n",
              "    })();\n",
              "  </script>\n",
              "</div>\n",
              "\n",
              "  <div id=\"id_5ed1acc8-9bc5-4ace-b5c7-d102dbd1ef98\">\n",
              "    <style>\n",
              "      .colab-df-generate {\n",
              "        background-color: #E8F0FE;\n",
              "        border: none;\n",
              "        border-radius: 50%;\n",
              "        cursor: pointer;\n",
              "        display: none;\n",
              "        fill: #1967D2;\n",
              "        height: 32px;\n",
              "        padding: 0 0 0 0;\n",
              "        width: 32px;\n",
              "      }\n",
              "\n",
              "      .colab-df-generate:hover {\n",
              "        background-color: #E2EBFA;\n",
              "        box-shadow: 0px 1px 2px rgba(60, 64, 67, 0.3), 0px 1px 3px 1px rgba(60, 64, 67, 0.15);\n",
              "        fill: #174EA6;\n",
              "      }\n",
              "\n",
              "      [theme=dark] .colab-df-generate {\n",
              "        background-color: #3B4455;\n",
              "        fill: #D2E3FC;\n",
              "      }\n",
              "\n",
              "      [theme=dark] .colab-df-generate:hover {\n",
              "        background-color: #434B5C;\n",
              "        box-shadow: 0px 1px 3px 1px rgba(0, 0, 0, 0.15);\n",
              "        filter: drop-shadow(0px 1px 2px rgba(0, 0, 0, 0.3));\n",
              "        fill: #FFFFFF;\n",
              "      }\n",
              "    </style>\n",
              "    <button class=\"colab-df-generate\" onclick=\"generateWithVariable('df1')\"\n",
              "            title=\"Generate code using this dataframe.\"\n",
              "            style=\"display:none;\">\n",
              "\n",
              "  <svg xmlns=\"http://www.w3.org/2000/svg\" height=\"24px\"viewBox=\"0 0 24 24\"\n",
              "       width=\"24px\">\n",
              "    <path d=\"M7,19H8.4L18.45,9,17,7.55,7,17.6ZM5,21V16.75L18.45,3.32a2,2,0,0,1,2.83,0l1.4,1.43a1.91,1.91,0,0,1,.58,1.4,1.91,1.91,0,0,1-.58,1.4L9.25,21ZM18.45,9,17,7.55Zm-12,3A5.31,5.31,0,0,0,4.9,8.1,5.31,5.31,0,0,0,1,6.5,5.31,5.31,0,0,0,4.9,4.9,5.31,5.31,0,0,0,6.5,1,5.31,5.31,0,0,0,8.1,4.9,5.31,5.31,0,0,0,12,6.5,5.46,5.46,0,0,0,6.5,12Z\"/>\n",
              "  </svg>\n",
              "    </button>\n",
              "    <script>\n",
              "      (() => {\n",
              "      const buttonEl =\n",
              "        document.querySelector('#id_5ed1acc8-9bc5-4ace-b5c7-d102dbd1ef98 button.colab-df-generate');\n",
              "      buttonEl.style.display =\n",
              "        google.colab.kernel.accessAllowed ? 'block' : 'none';\n",
              "\n",
              "      buttonEl.onclick = () => {\n",
              "        google.colab.notebook.generateWithVariable('df1');\n",
              "      }\n",
              "      })();\n",
              "    </script>\n",
              "  </div>\n",
              "\n",
              "    </div>\n",
              "  </div>\n"
            ]
          },
          "metadata": {},
          "execution_count": 94
        }
      ]
    },
    {
      "cell_type": "code",
      "source": [
        "# creating the dictionary\n",
        "\n",
        "dic4 = {'a': 'Californai', 'b': 'Oregon', 'c': 'Washington', 'd': 'Texas', 'e': 'Georgia' , 'f': 'Florid'}"
      ],
      "metadata": {
        "id": "uyehgkUEcvFz"
      },
      "execution_count": 103,
      "outputs": []
    },
    {
      "cell_type": "code",
      "source": [
        "dic4"
      ],
      "metadata": {
        "colab": {
          "base_uri": "https://localhost:8080/"
        },
        "id": "BZh1gwq0fgN0",
        "outputId": "2a270d66-06dc-44c7-fb5e-83bf2c77be8a"
      },
      "execution_count": 104,
      "outputs": [
        {
          "output_type": "execute_result",
          "data": {
            "text/plain": [
              "{'a': 'Californai',\n",
              " 'b': 'Oregon',\n",
              " 'c': 'Washington',\n",
              " 'd': 'Texas',\n",
              " 'e': 'Georgia',\n",
              " 'f': 'Florid'}"
            ]
          },
          "metadata": {},
          "execution_count": 104
        }
      ]
    },
    {
      "cell_type": "code",
      "source": [
        "df4 = pd.DataFrame(dic4 , index= [0] )\n"
      ],
      "metadata": {
        "id": "jw5Jftjjey4z"
      },
      "execution_count": 114,
      "outputs": []
    },
    {
      "cell_type": "code",
      "source": [
        "df4"
      ],
      "metadata": {
        "colab": {
          "base_uri": "https://localhost:8080/",
          "height": 89
        },
        "id": "aOKcLeLdfA7R",
        "outputId": "39d377cf-594f-4727-d8f1-810649c7c62a"
      },
      "execution_count": 115,
      "outputs": [
        {
          "output_type": "execute_result",
          "data": {
            "text/plain": [
              "            a       b           c      d        e       f\n",
              "0  Californai  Oregon  Washington  Texas  Georgia  Florid"
            ],
            "text/html": [
              "\n",
              "  <div id=\"df-08e558d4-4d0d-45f0-a72f-99ea7ffc96da\" class=\"colab-df-container\">\n",
              "    <div>\n",
              "<style scoped>\n",
              "    .dataframe tbody tr th:only-of-type {\n",
              "        vertical-align: middle;\n",
              "    }\n",
              "\n",
              "    .dataframe tbody tr th {\n",
              "        vertical-align: top;\n",
              "    }\n",
              "\n",
              "    .dataframe thead th {\n",
              "        text-align: right;\n",
              "    }\n",
              "</style>\n",
              "<table border=\"1\" class=\"dataframe\">\n",
              "  <thead>\n",
              "    <tr style=\"text-align: right;\">\n",
              "      <th></th>\n",
              "      <th>a</th>\n",
              "      <th>b</th>\n",
              "      <th>c</th>\n",
              "      <th>d</th>\n",
              "      <th>e</th>\n",
              "      <th>f</th>\n",
              "    </tr>\n",
              "  </thead>\n",
              "  <tbody>\n",
              "    <tr>\n",
              "      <th>0</th>\n",
              "      <td>Californai</td>\n",
              "      <td>Oregon</td>\n",
              "      <td>Washington</td>\n",
              "      <td>Texas</td>\n",
              "      <td>Georgia</td>\n",
              "      <td>Florid</td>\n",
              "    </tr>\n",
              "  </tbody>\n",
              "</table>\n",
              "</div>\n",
              "    <div class=\"colab-df-buttons\">\n",
              "\n",
              "  <div class=\"colab-df-container\">\n",
              "    <button class=\"colab-df-convert\" onclick=\"convertToInteractive('df-08e558d4-4d0d-45f0-a72f-99ea7ffc96da')\"\n",
              "            title=\"Convert this dataframe to an interactive table.\"\n",
              "            style=\"display:none;\">\n",
              "\n",
              "  <svg xmlns=\"http://www.w3.org/2000/svg\" height=\"24px\" viewBox=\"0 -960 960 960\">\n",
              "    <path d=\"M120-120v-720h720v720H120Zm60-500h600v-160H180v160Zm220 220h160v-160H400v160Zm0 220h160v-160H400v160ZM180-400h160v-160H180v160Zm440 0h160v-160H620v160ZM180-180h160v-160H180v160Zm440 0h160v-160H620v160Z\"/>\n",
              "  </svg>\n",
              "    </button>\n",
              "\n",
              "  <style>\n",
              "    .colab-df-container {\n",
              "      display:flex;\n",
              "      gap: 12px;\n",
              "    }\n",
              "\n",
              "    .colab-df-convert {\n",
              "      background-color: #E8F0FE;\n",
              "      border: none;\n",
              "      border-radius: 50%;\n",
              "      cursor: pointer;\n",
              "      display: none;\n",
              "      fill: #1967D2;\n",
              "      height: 32px;\n",
              "      padding: 0 0 0 0;\n",
              "      width: 32px;\n",
              "    }\n",
              "\n",
              "    .colab-df-convert:hover {\n",
              "      background-color: #E2EBFA;\n",
              "      box-shadow: 0px 1px 2px rgba(60, 64, 67, 0.3), 0px 1px 3px 1px rgba(60, 64, 67, 0.15);\n",
              "      fill: #174EA6;\n",
              "    }\n",
              "\n",
              "    .colab-df-buttons div {\n",
              "      margin-bottom: 4px;\n",
              "    }\n",
              "\n",
              "    [theme=dark] .colab-df-convert {\n",
              "      background-color: #3B4455;\n",
              "      fill: #D2E3FC;\n",
              "    }\n",
              "\n",
              "    [theme=dark] .colab-df-convert:hover {\n",
              "      background-color: #434B5C;\n",
              "      box-shadow: 0px 1px 3px 1px rgba(0, 0, 0, 0.15);\n",
              "      filter: drop-shadow(0px 1px 2px rgba(0, 0, 0, 0.3));\n",
              "      fill: #FFFFFF;\n",
              "    }\n",
              "  </style>\n",
              "\n",
              "    <script>\n",
              "      const buttonEl =\n",
              "        document.querySelector('#df-08e558d4-4d0d-45f0-a72f-99ea7ffc96da button.colab-df-convert');\n",
              "      buttonEl.style.display =\n",
              "        google.colab.kernel.accessAllowed ? 'block' : 'none';\n",
              "\n",
              "      async function convertToInteractive(key) {\n",
              "        const element = document.querySelector('#df-08e558d4-4d0d-45f0-a72f-99ea7ffc96da');\n",
              "        const dataTable =\n",
              "          await google.colab.kernel.invokeFunction('convertToInteractive',\n",
              "                                                    [key], {});\n",
              "        if (!dataTable) return;\n",
              "\n",
              "        const docLinkHtml = 'Like what you see? Visit the ' +\n",
              "          '<a target=\"_blank\" href=https://colab.research.google.com/notebooks/data_table.ipynb>data table notebook</a>'\n",
              "          + ' to learn more about interactive tables.';\n",
              "        element.innerHTML = '';\n",
              "        dataTable['output_type'] = 'display_data';\n",
              "        await google.colab.output.renderOutput(dataTable, element);\n",
              "        const docLink = document.createElement('div');\n",
              "        docLink.innerHTML = docLinkHtml;\n",
              "        element.appendChild(docLink);\n",
              "      }\n",
              "    </script>\n",
              "  </div>\n",
              "\n",
              "\n",
              "  <div id=\"id_a436644d-55a7-41d0-80b8-f100d33e13e9\">\n",
              "    <style>\n",
              "      .colab-df-generate {\n",
              "        background-color: #E8F0FE;\n",
              "        border: none;\n",
              "        border-radius: 50%;\n",
              "        cursor: pointer;\n",
              "        display: none;\n",
              "        fill: #1967D2;\n",
              "        height: 32px;\n",
              "        padding: 0 0 0 0;\n",
              "        width: 32px;\n",
              "      }\n",
              "\n",
              "      .colab-df-generate:hover {\n",
              "        background-color: #E2EBFA;\n",
              "        box-shadow: 0px 1px 2px rgba(60, 64, 67, 0.3), 0px 1px 3px 1px rgba(60, 64, 67, 0.15);\n",
              "        fill: #174EA6;\n",
              "      }\n",
              "\n",
              "      [theme=dark] .colab-df-generate {\n",
              "        background-color: #3B4455;\n",
              "        fill: #D2E3FC;\n",
              "      }\n",
              "\n",
              "      [theme=dark] .colab-df-generate:hover {\n",
              "        background-color: #434B5C;\n",
              "        box-shadow: 0px 1px 3px 1px rgba(0, 0, 0, 0.15);\n",
              "        filter: drop-shadow(0px 1px 2px rgba(0, 0, 0, 0.3));\n",
              "        fill: #FFFFFF;\n",
              "      }\n",
              "    </style>\n",
              "    <button class=\"colab-df-generate\" onclick=\"generateWithVariable('df4')\"\n",
              "            title=\"Generate code using this dataframe.\"\n",
              "            style=\"display:none;\">\n",
              "\n",
              "  <svg xmlns=\"http://www.w3.org/2000/svg\" height=\"24px\"viewBox=\"0 0 24 24\"\n",
              "       width=\"24px\">\n",
              "    <path d=\"M7,19H8.4L18.45,9,17,7.55,7,17.6ZM5,21V16.75L18.45,3.32a2,2,0,0,1,2.83,0l1.4,1.43a1.91,1.91,0,0,1,.58,1.4,1.91,1.91,0,0,1-.58,1.4L9.25,21ZM18.45,9,17,7.55Zm-12,3A5.31,5.31,0,0,0,4.9,8.1,5.31,5.31,0,0,0,1,6.5,5.31,5.31,0,0,0,4.9,4.9,5.31,5.31,0,0,0,6.5,1,5.31,5.31,0,0,0,8.1,4.9,5.31,5.31,0,0,0,12,6.5,5.46,5.46,0,0,0,6.5,12Z\"/>\n",
              "  </svg>\n",
              "    </button>\n",
              "    <script>\n",
              "      (() => {\n",
              "      const buttonEl =\n",
              "        document.querySelector('#id_a436644d-55a7-41d0-80b8-f100d33e13e9 button.colab-df-generate');\n",
              "      buttonEl.style.display =\n",
              "        google.colab.kernel.accessAllowed ? 'block' : 'none';\n",
              "\n",
              "      buttonEl.onclick = () => {\n",
              "        google.colab.notebook.generateWithVariable('df4');\n",
              "      }\n",
              "      })();\n",
              "    </script>\n",
              "  </div>\n",
              "\n",
              "    </div>\n",
              "  </div>\n"
            ]
          },
          "metadata": {},
          "execution_count": 115
        }
      ]
    },
    {
      "cell_type": "code",
      "source": [
        "dict1 = {'CA':['Oakland','Santa-Rosa','Sacramento'],\n",
        "            'Oregon':['Portland','Salem','Eugeon'],\n",
        "            'Texas':['Dalas','Huston','Alta'],\n",
        "            'Washington':['Seattle','Olympia','Lynwood'],\n",
        "            'Florida':['Talahassie', 'Miami', 'Wiong']}\n",
        "df_dict = pd.DataFrame(dict1)\n",
        "df_dict"
      ],
      "metadata": {
        "colab": {
          "base_uri": "https://localhost:8080/",
          "height": 143
        },
        "id": "Qq4C_YrPhYla",
        "outputId": "6227da4a-0bea-41bc-bd46-f09ac5427770"
      },
      "execution_count": 116,
      "outputs": [
        {
          "output_type": "execute_result",
          "data": {
            "text/plain": [
              "           CA    Oregon   Texas Washington     Florida\n",
              "0     Oakland  Portland   Dalas    Seattle  Talahassie\n",
              "1  Santa-Rosa     Salem  Huston    Olympia       Miami\n",
              "2  Sacramento    Eugeon    Alta    Lynwood       Wiong"
            ],
            "text/html": [
              "\n",
              "  <div id=\"df-a7950e54-1994-415b-9d8d-65adc6ff34e7\" class=\"colab-df-container\">\n",
              "    <div>\n",
              "<style scoped>\n",
              "    .dataframe tbody tr th:only-of-type {\n",
              "        vertical-align: middle;\n",
              "    }\n",
              "\n",
              "    .dataframe tbody tr th {\n",
              "        vertical-align: top;\n",
              "    }\n",
              "\n",
              "    .dataframe thead th {\n",
              "        text-align: right;\n",
              "    }\n",
              "</style>\n",
              "<table border=\"1\" class=\"dataframe\">\n",
              "  <thead>\n",
              "    <tr style=\"text-align: right;\">\n",
              "      <th></th>\n",
              "      <th>CA</th>\n",
              "      <th>Oregon</th>\n",
              "      <th>Texas</th>\n",
              "      <th>Washington</th>\n",
              "      <th>Florida</th>\n",
              "    </tr>\n",
              "  </thead>\n",
              "  <tbody>\n",
              "    <tr>\n",
              "      <th>0</th>\n",
              "      <td>Oakland</td>\n",
              "      <td>Portland</td>\n",
              "      <td>Dalas</td>\n",
              "      <td>Seattle</td>\n",
              "      <td>Talahassie</td>\n",
              "    </tr>\n",
              "    <tr>\n",
              "      <th>1</th>\n",
              "      <td>Santa-Rosa</td>\n",
              "      <td>Salem</td>\n",
              "      <td>Huston</td>\n",
              "      <td>Olympia</td>\n",
              "      <td>Miami</td>\n",
              "    </tr>\n",
              "    <tr>\n",
              "      <th>2</th>\n",
              "      <td>Sacramento</td>\n",
              "      <td>Eugeon</td>\n",
              "      <td>Alta</td>\n",
              "      <td>Lynwood</td>\n",
              "      <td>Wiong</td>\n",
              "    </tr>\n",
              "  </tbody>\n",
              "</table>\n",
              "</div>\n",
              "    <div class=\"colab-df-buttons\">\n",
              "\n",
              "  <div class=\"colab-df-container\">\n",
              "    <button class=\"colab-df-convert\" onclick=\"convertToInteractive('df-a7950e54-1994-415b-9d8d-65adc6ff34e7')\"\n",
              "            title=\"Convert this dataframe to an interactive table.\"\n",
              "            style=\"display:none;\">\n",
              "\n",
              "  <svg xmlns=\"http://www.w3.org/2000/svg\" height=\"24px\" viewBox=\"0 -960 960 960\">\n",
              "    <path d=\"M120-120v-720h720v720H120Zm60-500h600v-160H180v160Zm220 220h160v-160H400v160Zm0 220h160v-160H400v160ZM180-400h160v-160H180v160Zm440 0h160v-160H620v160ZM180-180h160v-160H180v160Zm440 0h160v-160H620v160Z\"/>\n",
              "  </svg>\n",
              "    </button>\n",
              "\n",
              "  <style>\n",
              "    .colab-df-container {\n",
              "      display:flex;\n",
              "      gap: 12px;\n",
              "    }\n",
              "\n",
              "    .colab-df-convert {\n",
              "      background-color: #E8F0FE;\n",
              "      border: none;\n",
              "      border-radius: 50%;\n",
              "      cursor: pointer;\n",
              "      display: none;\n",
              "      fill: #1967D2;\n",
              "      height: 32px;\n",
              "      padding: 0 0 0 0;\n",
              "      width: 32px;\n",
              "    }\n",
              "\n",
              "    .colab-df-convert:hover {\n",
              "      background-color: #E2EBFA;\n",
              "      box-shadow: 0px 1px 2px rgba(60, 64, 67, 0.3), 0px 1px 3px 1px rgba(60, 64, 67, 0.15);\n",
              "      fill: #174EA6;\n",
              "    }\n",
              "\n",
              "    .colab-df-buttons div {\n",
              "      margin-bottom: 4px;\n",
              "    }\n",
              "\n",
              "    [theme=dark] .colab-df-convert {\n",
              "      background-color: #3B4455;\n",
              "      fill: #D2E3FC;\n",
              "    }\n",
              "\n",
              "    [theme=dark] .colab-df-convert:hover {\n",
              "      background-color: #434B5C;\n",
              "      box-shadow: 0px 1px 3px 1px rgba(0, 0, 0, 0.15);\n",
              "      filter: drop-shadow(0px 1px 2px rgba(0, 0, 0, 0.3));\n",
              "      fill: #FFFFFF;\n",
              "    }\n",
              "  </style>\n",
              "\n",
              "    <script>\n",
              "      const buttonEl =\n",
              "        document.querySelector('#df-a7950e54-1994-415b-9d8d-65adc6ff34e7 button.colab-df-convert');\n",
              "      buttonEl.style.display =\n",
              "        google.colab.kernel.accessAllowed ? 'block' : 'none';\n",
              "\n",
              "      async function convertToInteractive(key) {\n",
              "        const element = document.querySelector('#df-a7950e54-1994-415b-9d8d-65adc6ff34e7');\n",
              "        const dataTable =\n",
              "          await google.colab.kernel.invokeFunction('convertToInteractive',\n",
              "                                                    [key], {});\n",
              "        if (!dataTable) return;\n",
              "\n",
              "        const docLinkHtml = 'Like what you see? Visit the ' +\n",
              "          '<a target=\"_blank\" href=https://colab.research.google.com/notebooks/data_table.ipynb>data table notebook</a>'\n",
              "          + ' to learn more about interactive tables.';\n",
              "        element.innerHTML = '';\n",
              "        dataTable['output_type'] = 'display_data';\n",
              "        await google.colab.output.renderOutput(dataTable, element);\n",
              "        const docLink = document.createElement('div');\n",
              "        docLink.innerHTML = docLinkHtml;\n",
              "        element.appendChild(docLink);\n",
              "      }\n",
              "    </script>\n",
              "  </div>\n",
              "\n",
              "\n",
              "<div id=\"df-4a458bcd-aeea-4ca3-bdf7-7bfaaceea6c7\">\n",
              "  <button class=\"colab-df-quickchart\" onclick=\"quickchart('df-4a458bcd-aeea-4ca3-bdf7-7bfaaceea6c7')\"\n",
              "            title=\"Suggest charts\"\n",
              "            style=\"display:none;\">\n",
              "\n",
              "<svg xmlns=\"http://www.w3.org/2000/svg\" height=\"24px\"viewBox=\"0 0 24 24\"\n",
              "     width=\"24px\">\n",
              "    <g>\n",
              "        <path d=\"M19 3H5c-1.1 0-2 .9-2 2v14c0 1.1.9 2 2 2h14c1.1 0 2-.9 2-2V5c0-1.1-.9-2-2-2zM9 17H7v-7h2v7zm4 0h-2V7h2v10zm4 0h-2v-4h2v4z\"/>\n",
              "    </g>\n",
              "</svg>\n",
              "  </button>\n",
              "\n",
              "<style>\n",
              "  .colab-df-quickchart {\n",
              "      --bg-color: #E8F0FE;\n",
              "      --fill-color: #1967D2;\n",
              "      --hover-bg-color: #E2EBFA;\n",
              "      --hover-fill-color: #174EA6;\n",
              "      --disabled-fill-color: #AAA;\n",
              "      --disabled-bg-color: #DDD;\n",
              "  }\n",
              "\n",
              "  [theme=dark] .colab-df-quickchart {\n",
              "      --bg-color: #3B4455;\n",
              "      --fill-color: #D2E3FC;\n",
              "      --hover-bg-color: #434B5C;\n",
              "      --hover-fill-color: #FFFFFF;\n",
              "      --disabled-bg-color: #3B4455;\n",
              "      --disabled-fill-color: #666;\n",
              "  }\n",
              "\n",
              "  .colab-df-quickchart {\n",
              "    background-color: var(--bg-color);\n",
              "    border: none;\n",
              "    border-radius: 50%;\n",
              "    cursor: pointer;\n",
              "    display: none;\n",
              "    fill: var(--fill-color);\n",
              "    height: 32px;\n",
              "    padding: 0;\n",
              "    width: 32px;\n",
              "  }\n",
              "\n",
              "  .colab-df-quickchart:hover {\n",
              "    background-color: var(--hover-bg-color);\n",
              "    box-shadow: 0 1px 2px rgba(60, 64, 67, 0.3), 0 1px 3px 1px rgba(60, 64, 67, 0.15);\n",
              "    fill: var(--button-hover-fill-color);\n",
              "  }\n",
              "\n",
              "  .colab-df-quickchart-complete:disabled,\n",
              "  .colab-df-quickchart-complete:disabled:hover {\n",
              "    background-color: var(--disabled-bg-color);\n",
              "    fill: var(--disabled-fill-color);\n",
              "    box-shadow: none;\n",
              "  }\n",
              "\n",
              "  .colab-df-spinner {\n",
              "    border: 2px solid var(--fill-color);\n",
              "    border-color: transparent;\n",
              "    border-bottom-color: var(--fill-color);\n",
              "    animation:\n",
              "      spin 1s steps(1) infinite;\n",
              "  }\n",
              "\n",
              "  @keyframes spin {\n",
              "    0% {\n",
              "      border-color: transparent;\n",
              "      border-bottom-color: var(--fill-color);\n",
              "      border-left-color: var(--fill-color);\n",
              "    }\n",
              "    20% {\n",
              "      border-color: transparent;\n",
              "      border-left-color: var(--fill-color);\n",
              "      border-top-color: var(--fill-color);\n",
              "    }\n",
              "    30% {\n",
              "      border-color: transparent;\n",
              "      border-left-color: var(--fill-color);\n",
              "      border-top-color: var(--fill-color);\n",
              "      border-right-color: var(--fill-color);\n",
              "    }\n",
              "    40% {\n",
              "      border-color: transparent;\n",
              "      border-right-color: var(--fill-color);\n",
              "      border-top-color: var(--fill-color);\n",
              "    }\n",
              "    60% {\n",
              "      border-color: transparent;\n",
              "      border-right-color: var(--fill-color);\n",
              "    }\n",
              "    80% {\n",
              "      border-color: transparent;\n",
              "      border-right-color: var(--fill-color);\n",
              "      border-bottom-color: var(--fill-color);\n",
              "    }\n",
              "    90% {\n",
              "      border-color: transparent;\n",
              "      border-bottom-color: var(--fill-color);\n",
              "    }\n",
              "  }\n",
              "</style>\n",
              "\n",
              "  <script>\n",
              "    async function quickchart(key) {\n",
              "      const quickchartButtonEl =\n",
              "        document.querySelector('#' + key + ' button');\n",
              "      quickchartButtonEl.disabled = true;  // To prevent multiple clicks.\n",
              "      quickchartButtonEl.classList.add('colab-df-spinner');\n",
              "      try {\n",
              "        const charts = await google.colab.kernel.invokeFunction(\n",
              "            'suggestCharts', [key], {});\n",
              "      } catch (error) {\n",
              "        console.error('Error during call to suggestCharts:', error);\n",
              "      }\n",
              "      quickchartButtonEl.classList.remove('colab-df-spinner');\n",
              "      quickchartButtonEl.classList.add('colab-df-quickchart-complete');\n",
              "    }\n",
              "    (() => {\n",
              "      let quickchartButtonEl =\n",
              "        document.querySelector('#df-4a458bcd-aeea-4ca3-bdf7-7bfaaceea6c7 button');\n",
              "      quickchartButtonEl.style.display =\n",
              "        google.colab.kernel.accessAllowed ? 'block' : 'none';\n",
              "    })();\n",
              "  </script>\n",
              "</div>\n",
              "\n",
              "  <div id=\"id_20fdd0f5-cfa7-4db5-8a87-3a6c43a40be0\">\n",
              "    <style>\n",
              "      .colab-df-generate {\n",
              "        background-color: #E8F0FE;\n",
              "        border: none;\n",
              "        border-radius: 50%;\n",
              "        cursor: pointer;\n",
              "        display: none;\n",
              "        fill: #1967D2;\n",
              "        height: 32px;\n",
              "        padding: 0 0 0 0;\n",
              "        width: 32px;\n",
              "      }\n",
              "\n",
              "      .colab-df-generate:hover {\n",
              "        background-color: #E2EBFA;\n",
              "        box-shadow: 0px 1px 2px rgba(60, 64, 67, 0.3), 0px 1px 3px 1px rgba(60, 64, 67, 0.15);\n",
              "        fill: #174EA6;\n",
              "      }\n",
              "\n",
              "      [theme=dark] .colab-df-generate {\n",
              "        background-color: #3B4455;\n",
              "        fill: #D2E3FC;\n",
              "      }\n",
              "\n",
              "      [theme=dark] .colab-df-generate:hover {\n",
              "        background-color: #434B5C;\n",
              "        box-shadow: 0px 1px 3px 1px rgba(0, 0, 0, 0.15);\n",
              "        filter: drop-shadow(0px 1px 2px rgba(0, 0, 0, 0.3));\n",
              "        fill: #FFFFFF;\n",
              "      }\n",
              "    </style>\n",
              "    <button class=\"colab-df-generate\" onclick=\"generateWithVariable('df_dict')\"\n",
              "            title=\"Generate code using this dataframe.\"\n",
              "            style=\"display:none;\">\n",
              "\n",
              "  <svg xmlns=\"http://www.w3.org/2000/svg\" height=\"24px\"viewBox=\"0 0 24 24\"\n",
              "       width=\"24px\">\n",
              "    <path d=\"M7,19H8.4L18.45,9,17,7.55,7,17.6ZM5,21V16.75L18.45,3.32a2,2,0,0,1,2.83,0l1.4,1.43a1.91,1.91,0,0,1,.58,1.4,1.91,1.91,0,0,1-.58,1.4L9.25,21ZM18.45,9,17,7.55Zm-12,3A5.31,5.31,0,0,0,4.9,8.1,5.31,5.31,0,0,0,1,6.5,5.31,5.31,0,0,0,4.9,4.9,5.31,5.31,0,0,0,6.5,1,5.31,5.31,0,0,0,8.1,4.9,5.31,5.31,0,0,0,12,6.5,5.46,5.46,0,0,0,6.5,12Z\"/>\n",
              "  </svg>\n",
              "    </button>\n",
              "    <script>\n",
              "      (() => {\n",
              "      const buttonEl =\n",
              "        document.querySelector('#id_20fdd0f5-cfa7-4db5-8a87-3a6c43a40be0 button.colab-df-generate');\n",
              "      buttonEl.style.display =\n",
              "        google.colab.kernel.accessAllowed ? 'block' : 'none';\n",
              "\n",
              "      buttonEl.onclick = () => {\n",
              "        google.colab.notebook.generateWithVariable('df_dict');\n",
              "      }\n",
              "      })();\n",
              "    </script>\n",
              "  </div>\n",
              "\n",
              "    </div>\n",
              "  </div>\n"
            ]
          },
          "metadata": {},
          "execution_count": 116
        }
      ]
    },
    {
      "cell_type": "code",
      "source": [
        "df_dict.info()"
      ],
      "metadata": {
        "colab": {
          "base_uri": "https://localhost:8080/"
        },
        "id": "KuLGaaUgkdjQ",
        "outputId": "ffec6104-2707-47d1-85e9-100e00470ead"
      },
      "execution_count": 117,
      "outputs": [
        {
          "output_type": "stream",
          "name": "stdout",
          "text": [
            "<class 'pandas.core.frame.DataFrame'>\n",
            "RangeIndex: 3 entries, 0 to 2\n",
            "Data columns (total 5 columns):\n",
            " #   Column      Non-Null Count  Dtype \n",
            "---  ------      --------------  ----- \n",
            " 0   CA          3 non-null      object\n",
            " 1   Oregon      3 non-null      object\n",
            " 2   Texas       3 non-null      object\n",
            " 3   Washington  3 non-null      object\n",
            " 4   Florida     3 non-null      object\n",
            "dtypes: object(5)\n",
            "memory usage: 248.0+ bytes\n"
          ]
        }
      ]
    },
    {
      "cell_type": "code",
      "source": [
        "df_dict.ndim"
      ],
      "metadata": {
        "colab": {
          "base_uri": "https://localhost:8080/"
        },
        "id": "HHn0_P8tkpDN",
        "outputId": "25e106e2-395c-471c-d890-5ed09befce0e"
      },
      "execution_count": 118,
      "outputs": [
        {
          "output_type": "execute_result",
          "data": {
            "text/plain": [
              "2"
            ]
          },
          "metadata": {},
          "execution_count": 118
        }
      ]
    },
    {
      "cell_type": "code",
      "source": [
        "df_dict.size"
      ],
      "metadata": {
        "colab": {
          "base_uri": "https://localhost:8080/"
        },
        "id": "BaTx_Ki_kzug",
        "outputId": "aa85859d-e78c-4f0d-d331-b598c6430b60"
      },
      "execution_count": 119,
      "outputs": [
        {
          "output_type": "execute_result",
          "data": {
            "text/plain": [
              "15"
            ]
          },
          "metadata": {},
          "execution_count": 119
        }
      ]
    },
    {
      "cell_type": "code",
      "source": [
        "df_dict.shape"
      ],
      "metadata": {
        "colab": {
          "base_uri": "https://localhost:8080/"
        },
        "id": "lOV_jwrek8hX",
        "outputId": "22272552-a225-4e79-bc59-ab643af92cef"
      },
      "execution_count": 122,
      "outputs": [
        {
          "output_type": "execute_result",
          "data": {
            "text/plain": [
              "(3, 5)"
            ]
          },
          "metadata": {},
          "execution_count": 122
        }
      ]
    },
    {
      "cell_type": "code",
      "source": [
        "df_dict.describe"
      ],
      "metadata": {
        "colab": {
          "base_uri": "https://localhost:8080/"
        },
        "id": "pPQ0LkRrlEPM",
        "outputId": "159f8879-7611-478c-bfde-e70ced3def2e"
      },
      "execution_count": 124,
      "outputs": [
        {
          "output_type": "execute_result",
          "data": {
            "text/plain": [
              "<bound method NDFrame.describe of            CA    Oregon   Texas Washington     Florida\n",
              "0     Oakland  Portland   Dalas    Seattle  Talahassie\n",
              "1  Santa-Rosa     Salem  Huston    Olympia       Miami\n",
              "2  Sacramento    Eugeon    Alta    Lynwood       Wiong>"
            ]
          },
          "metadata": {},
          "execution_count": 124
        }
      ]
    },
    {
      "cell_type": "code",
      "source": [
        "df_dict.ndim"
      ],
      "metadata": {
        "colab": {
          "base_uri": "https://localhost:8080/"
        },
        "id": "qadQcTCslQRN",
        "outputId": "0033eb23-2040-46eb-9cdc-d8666e2e7589"
      },
      "execution_count": 125,
      "outputs": [
        {
          "output_type": "execute_result",
          "data": {
            "text/plain": [
              "2"
            ]
          },
          "metadata": {},
          "execution_count": 125
        }
      ]
    },
    {
      "cell_type": "code",
      "source": [],
      "metadata": {
        "id": "SYxZSfAFlbFS"
      },
      "execution_count": null,
      "outputs": []
    }
  ],
  "metadata": {
    "colab": {
      "provenance": [],
      "authorship_tag": "ABX9TyNmJsxQiaFRMibldcaPEk3e",
      "include_colab_link": true
    },
    "kernelspec": {
      "display_name": "Python 3",
      "name": "python3"
    },
    "language_info": {
      "name": "python"
    }
  },
  "nbformat": 4,
  "nbformat_minor": 0
}