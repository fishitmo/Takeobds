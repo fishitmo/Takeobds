{
  "nbformat": 4,
  "nbformat_minor": 0,
  "metadata": {
    "colab": {
      "provenance": [],
      "authorship_tag": "ABX9TyPoizjXm/3jygLp+jhd8OlN",
      "include_colab_link": true
    },
    "kernelspec": {
      "name": "python3",
      "display_name": "Python 3"
    },
    "language_info": {
      "name": "python"
    }
  },
  "cells": [
    {
      "cell_type": "markdown",
      "metadata": {
        "id": "view-in-github",
        "colab_type": "text"
      },
      "source": [
        "<a href=\"https://colab.research.google.com/github/fishitmo/Takeobds/blob/main/TAkeo_pytthon_practice.ipynb\" target=\"_parent\"><img src=\"https://colab.research.google.com/assets/colab-badge.svg\" alt=\"Open In Colab\"/></a>"
      ]
    },
    {
      "cell_type": "code",
      "execution_count": 1,
      "metadata": {
        "colab": {
          "base_uri": "https://localhost:8080/"
        },
        "id": "JLNAww7oF0_w",
        "outputId": "9f71b4b6-a1f1-4452-b26c-c7b7e9b7ac7f"
      },
      "outputs": [
        {
          "output_type": "stream",
          "name": "stdout",
          "text": [
            "a<b\n"
          ]
        }
      ],
      "source": [
        "a = 20\n",
        "b= 45\n",
        "c= 5\n",
        "\n",
        "if a < b:\n",
        "  print(\"a<b\")\n",
        "elif b<c:\n",
        "  print(\"b<c\")\n",
        "elif a<c:\n",
        "  print(\"a<c\")\n",
        "else:\n",
        "  print('we are in else part')\n"
      ]
    },
    {
      "cell_type": "code",
      "source": [],
      "metadata": {
        "id": "V269H_oRNFZz"
      },
      "execution_count": null,
      "outputs": []
    },
    {
      "cell_type": "code",
      "source": [
        "a= 90\n",
        "\n",
        "if a< 100:\n",
        "  print('a<100')\n",
        "  if a < 85:\n",
        "    print('a,85')\n",
        "    if a < 70:\n",
        "      print('a<70')\n",
        "      if a<55:\n",
        "        print('a<55')\n",
        "      else:\n",
        "        print('else a>55')\n",
        "    else:\n",
        "       print('else a>70')\n",
        "  else:\n",
        "    print(\"else a >85\")\n",
        "else:\n",
        "  print(\"else a>100\")\n"
      ],
      "metadata": {
        "colab": {
          "base_uri": "https://localhost:8080/"
        },
        "id": "xHUMpTZVHuTL",
        "outputId": "d8c6c616-97b6-474f-d9bd-9819f47c8504"
      },
      "execution_count": 3,
      "outputs": [
        {
          "output_type": "stream",
          "name": "stdout",
          "text": [
            "a<100\n",
            "else a >85\n"
          ]
        }
      ]
    },
    {
      "cell_type": "code",
      "source": [
        "a=0\n",
        "for i in range(1,101,1):\n",
        "  a += i\n",
        "print(a)"
      ],
      "metadata": {
        "colab": {
          "base_uri": "https://localhost:8080/"
        },
        "id": "hlLNENJNNHQy",
        "outputId": "717ea627-1919-4a5d-dee7-e3730b97e51d"
      },
      "execution_count": 8,
      "outputs": [
        {
          "output_type": "stream",
          "name": "stdout",
          "text": [
            "5050\n"
          ]
        }
      ]
    },
    {
      "cell_type": "code",
      "source": [
        "a =0\n",
        "i = 1\n",
        "while i <= 100:\n",
        "\n",
        "     a +=i\n",
        "     i += 1\n",
        "print(a)"
      ],
      "metadata": {
        "colab": {
          "base_uri": "https://localhost:8080/"
        },
        "id": "rtAmHRaYN6m7",
        "outputId": "0d0c88ca-c118-4aa0-943f-ed170ed4d152"
      },
      "execution_count": 15,
      "outputs": [
        {
          "output_type": "stream",
          "name": "stdout",
          "text": [
            "5050\n"
          ]
        }
      ]
    }
  ]
}