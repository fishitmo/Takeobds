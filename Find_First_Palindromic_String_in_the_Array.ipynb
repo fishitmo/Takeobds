{
  "nbformat": 4,
  "nbformat_minor": 0,
  "metadata": {
    "colab": {
      "provenance": [],
      "authorship_tag": "ABX9TyNbh1jCZc8DtdDYOVQ1/oTX",
      "include_colab_link": true
    },
    "kernelspec": {
      "name": "python3",
      "display_name": "Python 3"
    },
    "language_info": {
      "name": "python"
    }
  },
  "cells": [
    {
      "cell_type": "markdown",
      "metadata": {
        "id": "view-in-github",
        "colab_type": "text"
      },
      "source": [
        "<a href=\"https://colab.research.google.com/github/fishitmo/Takeobds/blob/main/Find_First_Palindromic_String_in_the_Array.ipynb\" target=\"_parent\"><img src=\"https://colab.research.google.com/assets/colab-badge.svg\" alt=\"Open In Colab\"/></a>"
      ]
    },
    {
      "cell_type": "code",
      "execution_count": 1,
      "metadata": {
        "colab": {
          "base_uri": "https://localhost:8080/"
        },
        "id": "A9-JeJpWC3WY",
        "outputId": "1f7fa936-a5a9-4d96-8d77-0a8bbbe903fe"
      },
      "outputs": [
        {
          "output_type": "stream",
          "name": "stdout",
          "text": [
            "level\n"
          ]
        }
      ],
      "source": [
        "from typing import List\n",
        "\n",
        "class Solution:\n",
        "    def firstPalindrome(self, words: List[str]) -> str:\n",
        "        for i in words:\n",
        "            if i == i[::-1]:\n",
        "                return i\n",
        "        return \"\"\n",
        "\n",
        "# Example usage\n",
        "solution = Solution()\n",
        "words = [\"hello\", \"level\", \"world\", \"deified\"]\n",
        "print(solution.firstPalindrome(words))\n"
      ]
    }
  ]
}