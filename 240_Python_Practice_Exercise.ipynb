{
  "nbformat": 4,
  "nbformat_minor": 0,
  "metadata": {
    "colab": {
      "provenance": [],
      "authorship_tag": "ABX9TyMp1pRTJ5uDazsUkFyNE/BL",
      "include_colab_link": true
    },
    "kernelspec": {
      "name": "python3",
      "display_name": "Python 3"
    },
    "language_info": {
      "name": "python"
    }
  },
  "cells": [
    {
      "cell_type": "markdown",
      "metadata": {
        "id": "view-in-github",
        "colab_type": "text"
      },
      "source": [
        "<a href=\"https://colab.research.google.com/github/fishitmo/Takeobds/blob/main/240_Python_Practice_Exercise.ipynb\" target=\"_parent\"><img src=\"https://colab.research.google.com/assets/colab-badge.svg\" alt=\"Open In Colab\"/></a>"
      ]
    },
    {
      "cell_type": "markdown",
      "source": [
        "```\n",
        "Milind Mali / Data Scientist\n",
        "#1.basic excercise for begineers\n",
        "#2.python input and output exercises\n",
        "#3.files and exception\n",
        "#4.python loop exercises\n",
        "#5.python function exercises\n",
        "#6.python string exercises\n",
        "#7.python data structure exercises\n",
        "#8.python list exercises\n",
        "#9.python dictionary exercises\n",
        "#10 python set exercises\n",
        "#11.python tuple exercises\n",
        "#12.python date and time exercises\n",
        "#13.python OOP exercises\n",
        "#14.python JSON exercises\n",
        "#15.python Numpy exercises\n",
        "#16.python pandas exercises\n",
        "#17.python matplotlib exercises\n",
        "#18.python random data generation exercises\n",
        "```"
      ],
      "metadata": {
        "id": "F5z4x2Z83tAB"
      }
    },
    {
      "cell_type": "code",
      "execution_count": 1,
      "metadata": {
        "colab": {
          "base_uri": "https://localhost:8080/"
        },
        "id": "CgRRM0NK3P6I",
        "outputId": "17039c98-24b0-45c6-c87a-9dbfdc7b73c6"
      },
      "outputs": [
        {
          "output_type": "stream",
          "name": "stdout",
          "text": [
            "enter the first number 2\n",
            "enter the Second number 6\n",
            "2 6\n",
            "6 2\n"
          ]
        }
      ],
      "source": [
        "x=int(input(\"enter the first number \"))\n",
        "y=int(input(\"enter the Second number \"))\n",
        "print(x,y)\n",
        "x=x+y\n",
        "y=x-y\n",
        "x=x-y\n",
        "print(x,y)\n"
      ]
    }
  ]
}