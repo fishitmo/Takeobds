{
  "nbformat": 4,
  "nbformat_minor": 0,
  "metadata": {
    "colab": {
      "provenance": [],
      "authorship_tag": "ABX9TyN7Cy7mVrJh8VRC1AgK3lmk",
      "include_colab_link": true
    },
    "kernelspec": {
      "name": "python3",
      "display_name": "Python 3"
    },
    "language_info": {
      "name": "python"
    }
  },
  "cells": [
    {
      "cell_type": "markdown",
      "metadata": {
        "id": "view-in-github",
        "colab_type": "text"
      },
      "source": [
        "<a href=\"https://colab.research.google.com/github/fishitmo/Takeobds/blob/main/Takeo_Assignment_1.ipynb\" target=\"_parent\"><img src=\"https://colab.research.google.com/assets/colab-badge.svg\" alt=\"Open In Colab\"/></a>"
      ]
    },
    {
      "cell_type": "code",
      "execution_count": null,
      "metadata": {
        "id": "EZwzgrigVVJv"
      },
      "outputs": [],
      "source": [
        "# Define a function that accepts a variable number of arguments\n",
        "def add_numbers(*args):\n",
        "  result =0\n",
        "  # print(args)\n",
        "  for num in args:\n",
        "    result+=num\n",
        "  return result"
      ]
    },
    {
      "cell_type": "code",
      "source": [
        "# Use the function with different numbers of arguments\n",
        "print(add_numbers(1,2,3))"
      ],
      "metadata": {
        "colab": {
          "base_uri": "https://localhost:8080/"
        },
        "id": "MRBFe597Vd76",
        "outputId": "c63c1284-1cd3-4022-9ef2-1d0bebbc2700"
      },
      "execution_count": null,
      "outputs": [
        {
          "output_type": "stream",
          "name": "stdout",
          "text": [
            "6\n"
          ]
        }
      ]
    },
    {
      "cell_type": "code",
      "source": [
        "print(add_numbers(5,10,15,20))"
      ],
      "metadata": {
        "colab": {
          "base_uri": "https://localhost:8080/"
        },
        "id": "MqxMGVCYVkfr",
        "outputId": "60b38056-de2d-40ae-9b2e-6b3bea5d94ea"
      },
      "execution_count": null,
      "outputs": [
        {
          "output_type": "stream",
          "name": "stdout",
          "text": [
            "50\n"
          ]
        }
      ]
    },
    {
      "cell_type": "code",
      "source": [
        "print(add_numbers(2,4,6,8,10))"
      ],
      "metadata": {
        "colab": {
          "base_uri": "https://localhost:8080/"
        },
        "id": "j9bTaKEDVo4H",
        "outputId": "35a4faeb-9715-4718-822f-40d3e601e6c8"
      },
      "execution_count": null,
      "outputs": [
        {
          "output_type": "stream",
          "name": "stdout",
          "text": [
            "30\n"
          ]
        }
      ]
    },
    {
      "cell_type": "code",
      "source": [
        "# problem 1: write a python program using function and *args; it can perform all tasks of arthemetic operation in python (addition, subtraction, division, multiplication, floor division, modulus, exponential)\n",
        "\n",
        "def all_operations(*a):\n",
        "  resu_a = 0\n",
        "  resu_s =0\n",
        "  resu_m =a[0]\n",
        "  resu_d =a[0]\n",
        "  resu_fd=a[0]\n",
        "  resu_mo=a[0]\n",
        "  resu_exp= a[0]\n",
        "  for num in a:\n",
        "    resu_a+=num\n",
        "    resu_s-=num\n",
        "    resu_m*=num\n",
        "    resu_d/=num\n",
        "    resu_fd//=num\n",
        "    resu_mo%=num\n",
        "    resu_exp**=num\n",
        "\n",
        "  return resu_a, resu_s, resu_m, resu_d, resu_fd, resu_mo, resu_exp"
      ],
      "metadata": {
        "id": "Du7VreXcVqsl"
      },
      "execution_count": null,
      "outputs": []
    },
    {
      "cell_type": "code",
      "source": [
        "print(all_operations(2,4,6,8,10))"
      ],
      "metadata": {
        "colab": {
          "base_uri": "https://localhost:8080/"
        },
        "id": "52u8jYO0VuRZ",
        "outputId": "aaa6f63c-dbbc-41de-9bf2-6295e7fe2e80"
      },
      "execution_count": null,
      "outputs": [
        {
          "output_type": "stream",
          "name": "stdout",
          "text": [
            "(30, -30, 7680, 0.0005208333333333333, 0, 0, 9019518416950528558373478086511232658951474842525520401496114928154304263954966638953020103274038169821978036310387105187439981983038679543190552246151273693942430142430214083685203206060500793611640634047888641084801170845605063334103743639179436252101154643375533557849579891726251950146428978850105516362034204960607121369958942503226437204196452448471269253300696978879636095437453409277681885696982308658433120767281076066105051771156066244607221345945266065486445664418226651139092674586681359212098059833861221228710626721320869724746184863955622162546234638825771342548855451709230916475881564603234959416156932444801211659142200921408360597108039135985669806212057156206663539212378905677937882406546561037396635425165843343857133953586158290319569289376437788637610819165094090272546217161805776234786903154610120291328498719159205664801129636695538349715728280593823253491223728898318034697583114552626234434370877814140762055366083260852745620423716424511260012738181745813374647152733067517775871845874530787928515094116349419316639753203075339289947427722432809910728602878067223827332337510877965115796034585470544985654584014864170694475776)\n"
          ]
        }
      ]
    },
    {
      "cell_type": "code",
      "source": [
        "# example\n",
        "\n",
        "def print_details(**kwargs):\n",
        "  for key, value in kwargs.items():\n",
        "    print(f'{key}:{value}')\n",
        "\n",
        "print_details(name='Alice', age=30, city= \"New York\")"
      ],
      "metadata": {
        "colab": {
          "base_uri": "https://localhost:8080/"
        },
        "id": "NTn7aEQKVwW3",
        "outputId": "0691373a-5916-474f-b306-c13a8bff985e"
      },
      "execution_count": null,
      "outputs": [
        {
          "output_type": "stream",
          "name": "stdout",
          "text": [
            "name:Alice\n",
            "age:30\n",
            "city:New York\n"
          ]
        }
      ]
    },
    {
      "cell_type": "code",
      "source": [
        "print_details(product=\"Laptop\",brand=\"Dell\", price=1200)"
      ],
      "metadata": {
        "colab": {
          "base_uri": "https://localhost:8080/"
        },
        "id": "zKaTq3C8VzLc",
        "outputId": "fe5f409b-cdce-4a34-a6f1-f1049a01a346"
      },
      "execution_count": null,
      "outputs": [
        {
          "output_type": "stream",
          "name": "stdout",
          "text": [
            "product:Laptop\n",
            "brand:Dell\n",
            "price:1200\n"
          ]
        }
      ]
    },
    {
      "cell_type": "code",
      "source": [
        "# Write a Python Program using Function and **kwargs\n",
        "\n",
        "def total_price(**fish):\n",
        "  tot=0\n",
        "  for item , price in fish.items():\n",
        "    tot+=price\n",
        "  return tot\n",
        "\n",
        "\n",
        "price_in_total = total_price(Onion= 1.25, Orange = 2.25 , Mango = 3.25, Popato = 1.05)\n",
        "\n",
        "print(f'Total Calculated Price: ${price_in_total}')"
      ],
      "metadata": {
        "colab": {
          "base_uri": "https://localhost:8080/"
        },
        "id": "3H5I-9d6V1cF",
        "outputId": "904b7c99-888b-4a82-c431-c9d85f8ec32b"
      },
      "execution_count": null,
      "outputs": [
        {
          "output_type": "stream",
          "name": "stdout",
          "text": [
            "Total Calculated Price: $7.8\n"
          ]
        }
      ]
    },
    {
      "cell_type": "code",
      "source": [
        "# Calculate the absolute valu of a number\n",
        "\n",
        "num = -5\n",
        "\n",
        "abs_num = abs(num)\n",
        "print(f'The absolute valu of {num} is {abs_num}')"
      ],
      "metadata": {
        "colab": {
          "base_uri": "https://localhost:8080/"
        },
        "id": "lPaZtHcCV80W",
        "outputId": "87fc5733-ba70-4cda-e5d0-f59ccc571247"
      },
      "execution_count": null,
      "outputs": [
        {
          "output_type": "stream",
          "name": "stdout",
          "text": [
            "The absolute valu of -5 is 5\n"
          ]
        }
      ]
    },
    {
      "cell_type": "code",
      "source": [
        "# Check if all elements in the List are True\n",
        "\n",
        "my_list = [True, True, False , True]\n",
        "\n",
        "result = all(my_list)\n",
        "print(f'All elements in the list are true: {result}')"
      ],
      "metadata": {
        "colab": {
          "base_uri": "https://localhost:8080/"
        },
        "id": "15_uzGdVWAs1",
        "outputId": "e0a54d56-cca0-4f48-8287-41f2cdda01f5"
      },
      "execution_count": null,
      "outputs": [
        {
          "output_type": "stream",
          "name": "stdout",
          "text": [
            "All elements in the list are true: False\n"
          ]
        }
      ]
    },
    {
      "cell_type": "code",
      "source": [
        "# Check if any element in the list are True\n",
        "\n",
        "my_list = [False, False , True, False]\n",
        "\n",
        "result = any(my_list)\n",
        "print(f'At least one element in the list is True: {result}')"
      ],
      "metadata": {
        "colab": {
          "base_uri": "https://localhost:8080/"
        },
        "id": "gbB6Q10vWBwu",
        "outputId": "c0414e78-6d72-423a-fd4c-aaab1b84e847"
      },
      "execution_count": null,
      "outputs": [
        {
          "output_type": "stream",
          "name": "stdout",
          "text": [
            "At least one element in the list is True: True\n"
          ]
        }
      ]
    },
    {
      "cell_type": "code",
      "source": [
        "# Convert a number to binary\n",
        "\n",
        "num = 10\n",
        "\n",
        "binary_num = bin(num)\n",
        "print(f'Binary representation of {num} is {binary_num}')"
      ],
      "metadata": {
        "colab": {
          "base_uri": "https://localhost:8080/"
        },
        "id": "vG461QfZWEcU",
        "outputId": "04bbdbf2-26b4-4a9e-e5ad-8e9e067afbe9"
      },
      "execution_count": null,
      "outputs": [
        {
          "output_type": "stream",
          "name": "stdout",
          "text": [
            "Binary representation of 10 is 0b1010\n"
          ]
        }
      ]
    },
    {
      "cell_type": "code",
      "source": [
        "# Convert a string in to an integer\n",
        "\n",
        "str_num = '45'\n",
        "\n",
        "int_num = int(str_num)\n",
        "print(f'Integer representation of {str_num} is {int_num}')"
      ],
      "metadata": {
        "colab": {
          "base_uri": "https://localhost:8080/"
        },
        "id": "ELV-cWJBWHE0",
        "outputId": "64057a7a-6185-4ac7-bda2-76ac5bed6542"
      },
      "execution_count": null,
      "outputs": [
        {
          "output_type": "stream",
          "name": "stdout",
          "text": [
            "Integer representation of 45 is 45\n"
          ]
        }
      ]
    },
    {
      "cell_type": "code",
      "source": [
        "# Convert to Boolean\n",
        "\n",
        "value =0\n",
        "boolean_value = bool(value)\n",
        "print(f'Boolean Vlaue of {value} is {boolean_value}')\n"
      ],
      "metadata": {
        "colab": {
          "base_uri": "https://localhost:8080/"
        },
        "id": "AI_Z2r__aqZa",
        "outputId": "6dff28ee-317f-4625-c93e-ae104d99a70a"
      },
      "execution_count": null,
      "outputs": [
        {
          "output_type": "stream",
          "name": "stdout",
          "text": [
            "Boolean Vlaue of 0 is False\n"
          ]
        }
      ]
    },
    {
      "cell_type": "code",
      "source": [
        "# create a complex number\n",
        "real_part = 3\n",
        "imaginary_part = 4\n",
        "complex_number = complex(real_part, imaginary_part)\n",
        "print(f'complex number: {complex_number}')"
      ],
      "metadata": {
        "colab": {
          "base_uri": "https://localhost:8080/"
        },
        "id": "yPYLm7L7bQP9",
        "outputId": "a01d1222-261f-42e5-c563-851ab206df4f"
      },
      "execution_count": null,
      "outputs": [
        {
          "output_type": "stream",
          "name": "stdout",
          "text": [
            "complex number: (3+4j)\n"
          ]
        }
      ]
    },
    {
      "cell_type": "code",
      "source": [
        "# create a dictionary\n",
        "\n",
        "my_dict = dict(key1= 'value1', key2= 'value2')\n",
        "print(f'Dictionary: {my_dict}')"
      ],
      "metadata": {
        "colab": {
          "base_uri": "https://localhost:8080/"
        },
        "id": "N0nj3TxUb3kN",
        "outputId": "a7e63e3c-d19a-46d6-819d-4bd9cc3caca9"
      },
      "execution_count": null,
      "outputs": [
        {
          "output_type": "stream",
          "name": "stdout",
          "text": [
            "Dictionary: {'key1': 'value1', 'key2': 'value2'}\n"
          ]
        }
      ]
    },
    {
      "cell_type": "code",
      "source": [
        "# enumerated List\n",
        "\n",
        "my_list = ['apple', 'banana', 'cherry']\n",
        "enum_obj = enumerate(my_list)\n",
        "enum_list = list(enum_obj)\n",
        "print(f'Enumerated List: {enum_list}')\n",
        "print(f'Enumerated object: {enum_obj}')"
      ],
      "metadata": {
        "colab": {
          "base_uri": "https://localhost:8080/"
        },
        "id": "I_vDswBicMq8",
        "outputId": "7c078c3c-75ce-460b-eeda-8e9d5b779979"
      },
      "execution_count": null,
      "outputs": [
        {
          "output_type": "stream",
          "name": "stdout",
          "text": [
            "Enumerated List: [(0, 'apple'), (1, 'banana'), (2, 'cherry')]\n",
            "Enumerated object: <enumerate object at 0x7d0a3022d6c0>\n"
          ]
        }
      ]
    },
    {
      "cell_type": "code",
      "source": [
        "# Evluate an Expresssion\n",
        "expression = '2+3*5'\n",
        "result= eval(expression)\n",
        "print(f'Evaluation of \"{expression}\" is {result}')"
      ],
      "metadata": {
        "colab": {
          "base_uri": "https://localhost:8080/"
        },
        "id": "QHnv_rGXdF9B",
        "outputId": "1d5793b1-092e-4c79-a8b3-f50a36f9dc37"
      },
      "execution_count": null,
      "outputs": [
        {
          "output_type": "stream",
          "name": "stdout",
          "text": [
            "Evaluation of \"2+3*5\" is 17\n"
          ]
        }
      ]
    },
    {
      "cell_type": "code",
      "source": [
        "# Filter out Even numbers from the list\n",
        "number = [1,2,3,4,5,6,7,8,9,10]\n",
        "filtered_numbers = list(filter(lambda x: x%2 !=0, number))\n",
        "print(filtered_numbers)"
      ],
      "metadata": {
        "colab": {
          "base_uri": "https://localhost:8080/"
        },
        "id": "WadoKY742joB",
        "outputId": "527d8702-1900-46df-d0af-2776f583e45e"
      },
      "execution_count": null,
      "outputs": [
        {
          "output_type": "stream",
          "name": "stdout",
          "text": [
            "[1, 3, 5, 7, 9]\n"
          ]
        }
      ]
    },
    {
      "cell_type": "code",
      "source": [
        "# convert a string to a float\n",
        "\n",
        "num_str = '3.14159'"
      ],
      "metadata": {
        "id": "Kvk7rQxo5ATp"
      },
      "execution_count": null,
      "outputs": []
    },
    {
      "cell_type": "code",
      "source": [
        "# define the list\n",
        "\n",
        "my_list = [1,2,3,4,5,6,7,8,9]\n",
        "\n",
        "# create an iteration object from the list\n",
        "my_iter = iter(my_list)\n",
        "\n",
        "# iterate over the list using next()\n",
        "\n",
        "# print(next(my_iter))    # output : 1\n",
        "# print(next(my_iter))    # output : 2\n",
        "# print(next(my_iter))\n",
        "# print(next(my_iter))\n",
        "# print(next(my_iter))\n",
        "# print(next(my_iter))\n",
        "# print(next(my_iter))\n",
        "# print(next(my_iter))\n",
        "# print(next(my_iter))\n",
        "for i in my_iter:\n",
        "  print(i)"
      ],
      "metadata": {
        "colab": {
          "base_uri": "https://localhost:8080/"
        },
        "id": "cJjORwVLRqYT",
        "outputId": "a6c4c623-b614-4b7d-d52b-5c0eec8f8356"
      },
      "execution_count": 7,
      "outputs": [
        {
          "output_type": "stream",
          "name": "stdout",
          "text": [
            "1\n",
            "2\n",
            "3\n",
            "4\n",
            "5\n",
            "6\n",
            "7\n",
            "8\n",
            "9\n"
          ]
        }
      ]
    },
    {
      "cell_type": "markdown",
      "source": [
        "```\n",
        "if condition1:\n",
        "    # Execute if condition1 is true\n",
        "    if condition2:\n",
        "        # Execute if both condition1 and condition2 are true\n",
        "    else:\n",
        "        # Execute if condition1 is true but condition2 is false\n",
        "else:\n",
        "    # Execute if condition1 is false\n",
        "\n",
        "# Example 1 : Number checker\n",
        "num = 5\n",
        "\n",
        "if num > 0:\n",
        "    print(\"The number is positive.\")\n",
        "else:\n",
        "    if num < 0:\n",
        "        print(\"The number is negative.\")\n",
        "    else:\n",
        "        print(\"The number is zero.\")\n",
        "\n",
        "```"
      ],
      "metadata": {
        "id": "zg_vN4BQWPTq"
      }
    },
    {
      "cell_type": "code",
      "source": [
        "if num>0:\n",
        "  print(\"The number is postive\")\n",
        "else:\n",
        "  if num<0:\n",
        "    print(\"The number is negative\")\n",
        "  else:\n",
        "    print(\"The number is zero.\")\n",
        "\n",
        "\n",
        " # Example 2: Age classifier\n",
        "\n",
        " age =35\n",
        "\n",
        "if age >=60:\n",
        "  print(\"You are a senior citizen\")\n",
        "else:\n",
        "  if age >=18:\n",
        "    print()\n"
      ],
      "metadata": {
        "colab": {
          "base_uri": "https://localhost:8080/",
          "height": 141
        },
        "id": "67f3T3qHWNoe",
        "outputId": "71d644c8-7849-42a5-e249-c832783c0d2b"
      },
      "execution_count": null,
      "outputs": [
        {
          "output_type": "error",
          "ename": "IndentationError",
          "evalue": "ignored",
          "traceback": [
            "\u001b[0;36m  File \u001b[0;32m\"<tokenize>\"\u001b[0;36m, line \u001b[0;32m12\u001b[0m\n\u001b[0;31m    age =35\u001b[0m\n\u001b[0m    ^\u001b[0m\n\u001b[0;31mIndentationError\u001b[0m\u001b[0;31m:\u001b[0m unindent does not match any outer indentation level\n"
          ]
        }
      ]
    }
  ]
}